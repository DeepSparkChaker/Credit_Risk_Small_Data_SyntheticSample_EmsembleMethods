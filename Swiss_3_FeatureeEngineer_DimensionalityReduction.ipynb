{
 "cells": [
  {
   "cell_type": "markdown",
   "metadata": {},
   "source": [
    "# Data Preparation\n",
    "Tasks\n",
    "\n",
    "    1.Data selection\n",
    "\n",
    "    2.Data preprocessing\n",
    "\n",
    "    3.Feature engineering\n",
    "\n",
    "    4.Dimensionality reduction"
   ]
  },
  {
   "cell_type": "code",
   "execution_count": 84,
   "metadata": {},
   "outputs": [],
   "source": [
    "#Load the librarys\n",
    "import pandas as pd #To work with dataset\n",
    "import numpy as np #Math library\n",
    "import seaborn as sns #Graph library that use matplot in background\n",
    "import matplotlib.pyplot as plt #to plot some parameters in seaborn\n",
    "import warnings\n",
    "from sklearn.preprocessing import LabelEncoder\n",
    "from sklearn.neighbors import KNeighborsClassifier\n",
    "# Import StandardScaler from scikit-learn\n",
    "from sklearn.preprocessing import StandardScaler,RobustScaler\n",
    "from sklearn.impute import SimpleImputer\n",
    "from sklearn.preprocessing import OneHotEncoder\n",
    "from sklearn.feature_extraction.text import CountVectorizer\n",
    "from sklearn.compose import make_column_transformer\n",
    "from sklearn.pipeline import make_pipeline, Pipeline\n",
    "from sklearn.preprocessing import FunctionTransformer\n",
    "from sklearn.ensemble import RandomForestClassifier\n",
    "from sklearn.ensemble import GradientBoostingRegressor\n",
    "from sklearn.manifold import TSNE\n",
    "from datetime import datetime, date\n",
    "from sklearn.metrics import  accuracy_score\n",
    "from sklearn.model_selection import train_test_split\n",
    "from sklearn.linear_model import ElasticNet, Lasso,  BayesianRidge, LassoLarsIC\n",
    "warnings.filterwarnings('ignore')"
   ]
  },
  {
   "cell_type": "markdown",
   "metadata": {},
   "source": [
    "\n",
    "    \n",
    "## 1.Clean_Preprocess_selection Data"
   ]
  },
  {
   "cell_type": "code",
   "execution_count": 85,
   "metadata": {},
   "outputs": [],
   "source": [
    "# Read spreadsheet and assign it to swiss_loan\n",
    "swiss_loan= pd.read_excel('C:/Users/rzouga/Desktop/ALLINHERE/Assignement/ATUCE_Case_study_data_2021.xlsx')\n",
    "# Create a boolean mask on whether each feature less than 40% missing values.\n",
    "mask = swiss_loan.isna().sum() / len(swiss_loan) < 0.4\n",
    "# Create a reduced dataset by applying the mask\n",
    "reduced_df =swiss_loan.loc[:, mask]\n",
    "\n",
    "# drop ID\n",
    "reduced_df.drop('ID', axis=1, inplace=True)\n",
    "reduced_df['Pays_corr']=reduced_df['Pays'].str.strip()\n",
    "reduced_df['Taux_corr']=reduced_df['Taux'].str.replace('%','').str.strip().str.replace(',','.').str.extract(r'(\\d+.\\d+)')\n",
    "reduced_df['Taux_corr'] = np.where(reduced_df['Taux_corr'].isnull(), 0, reduced_df['Taux_corr'])\n",
    "reduced_df['Taux_corr'] = pd.to_numeric(reduced_df['Taux_corr'], errors='coerce')\n",
    "# Specify the boundaries of the bins\n",
    "bins = [-np.inf,5.5,  6.5, 10]\n",
    "# Bin labels\n",
    "labels = [ 'Low', 'Medium', 'High']\n",
    "# Bin the continuous variable ConvertedSalary using these boundaries\n",
    "reduced_df['Taux_corr_binned'] = pd.cut(reduced_df['Taux_corr'], \n",
    "                                         bins=bins,labels=labels )\n",
    "# Print the first 5 rows of the boundary_binned column\n",
    "reduced_df['Montant_corr']=reduced_df['Montant'].str.replace('€','').str.replace('\\xa0','').str.strip().str.replace('\\s+','')\n",
    "reduced_df['Montant_corr'] = np.where(reduced_df['Montant_corr'].isnull(), 0, reduced_df['Montant_corr'])\n",
    "reduced_df['Montant_corr'] = pd.to_numeric(reduced_df['Montant_corr'], errors='coerce')\n",
    "reduced_df['Niveau_risque_corr']=reduced_df['Niveau de risque'].str.rstrip().str.replace('\\s+','')\n",
    "Emprunteurs = reduced_df['Emprunteur']\n",
    "\n",
    "\n",
    "Emprunteurs_counts = Emprunteurs.value_counts()\n",
    "\n",
    "# Create a mask for only categories that occur less than 5 times\n",
    "mask = Emprunteurs.isin(Emprunteurs_counts[Emprunteurs_counts<5].index)\n",
    "# Label all other categories as Other\n",
    "reduced_df['Emprunteur'][mask] = 'Other'\n",
    "reduced_df['capital_social_corr']=reduced_df['capital social'].str.replace('€','').str.replace('\\xa0','').str.strip().str.replace('\\s+','')\n",
    "reduced_df['capital_social_corr'] = np.where(reduced_df['capital_social_corr'].isnull(), 0, reduced_df['capital_social_corr'])\n",
    "reduced_df['capital_social_corr'] = pd.to_numeric(reduced_df['capital_social_corr'], errors='coerce')\n",
    "\n",
    "reduced_df['Effectifse_corr']=reduced_df['effectifs'].str.rstrip().str.replace('\\s+','')\n",
    "reduced_df['Effectifse_corr'][reduced_df['Effectifse_corr'] == '-'] = np.nan\n",
    "\n",
    "reduced_df['Nombre_mois_période16_corr']=reduced_df['Nombre de mois de la période 16'].str.rstrip().str.replace('mois','').str.replace(',','.').str.replace('\\s+','').str.extract(r\"(\\d+\\.\\d+|\\d+)\")\n",
    "reduced_df['Nombre_mois_période16_corr'][reduced_df['Nombre_mois_période16_corr'] == '-'] = np.nan\n",
    "reduced_df['Nombre_mois_période16_corr'] = pd.to_numeric(reduced_df['Nombre_mois_période16_corr'], errors='coerce')\n",
    "\n",
    "reduced_df['Chiffre_Affaires_16_corr']=reduced_df.iloc[:,12].str.replace('\\xa0','').str.strip().str.replace('\\s+','')\n",
    "reduced_df['Chiffre_Affaires_16_corr'] = pd.to_numeric(reduced_df['Chiffre_Affaires_16_corr'], errors='coerce')\n",
    "\n",
    "reduced_df['Total_Bilan_16_corr']= reduced_df['Total Bilan 16'].str.replace('\\xa0','').str.strip().str.replace('\\s+','').str.extract(r\"([-+]?\\d*\\.*\\d+|\\d+)\")\n",
    "reduced_df['Total_Bilan_16_corr']= pd.to_numeric(reduced_df['Total_Bilan_16_corr'], errors='coerce')\n",
    "\n",
    "reduced_df['Capacité_remboursement_FCCR_16_corr']= reduced_df['Capacité de remboursement (FCCR) 16'].str.replace('\\xa0','').str.strip().str.replace('\\s+','').str.replace(',','.').str.extract(r\"([-+]?\\d*\\.*\\d+|\\d+)\")\n",
    "reduced_df['Capacité_remboursement_FCCR_16_corr']= pd.to_numeric(reduced_df['Capacité_remboursement_FCCR_16_corr'], errors='coerce')\n",
    "\n",
    "\n",
    "reduced_df['Fonds_Propres_16_corr']= reduced_df['Fonds Propres 16'].str.replace('\\xa0','').str.strip().str.replace('\\s+','').str.replace(',','.').str.extract(r\"([-+]?\\d*\\.*\\d+|\\d+)\")\n",
    "reduced_df['Fonds_Propres_16_corr']= pd.to_numeric(reduced_df['Fonds_Propres_16_corr'], errors='coerce')\n",
    "\n",
    "reduced_df['Fonds_Propres_Total_Bilan_corr']= reduced_df['Fonds Propres / Total Bilan 16'].str.replace('\\xa0','').str.strip().str.replace('\\s+','').str.replace(',','.').str.replace('%','').str.extract(r\"([-+]?\\d*\\.*\\d+|\\d+)\")\n",
    "reduced_df['Fonds_Propres_Total_Bilan_corr']= pd.to_numeric(reduced_df['Fonds_Propres_Total_Bilan_corr'], errors='coerce')\n",
    "\n",
    "reduced_df['Dettes_Nettes_EBE_16_corr']= reduced_df['Dettes Nettes / EBE(* années) 16'].str.replace('\\xa0','').str.strip().str.replace('\\s+','').str.replace(',','.').str.replace('*','').str.extract(r\"([-+]?\\d*\\.*\\d+|\\d+)\")\n",
    "reduced_df['Dettes_Nettes_EBE_16_corr']= pd.to_numeric(reduced_df['Dettes_Nettes_EBE_16_corr'], errors='coerce')\n",
    "\n",
    "reduced_df['DettesNettes_Fonds_propres_16_corr']= reduced_df['Dettes Nettes / Fonds propres 16'].str.replace('\\xa0','').str.strip().str.replace('\\s+','').str.replace(',','.').str.replace('%','').str.extract(r\"([-+]?\\d*\\.*\\d+|\\d+)\")\n",
    "reduced_df['DettesNettes_Fonds_propres_16_corr']= pd.to_numeric(reduced_df['DettesNettes_Fonds_propres_16_corr'], errors='coerce')"
   ]
  },
  {
   "cell_type": "code",
   "execution_count": 86,
   "metadata": {},
   "outputs": [
    {
     "data": {
      "text/plain": [
       "Index(['Pays', 'Taux', 'Mois', 'Montant', 'Niveau de risque', 'Emprunteur',\n",
       "       'capital social', 'année de création', 'Antériorité', 'effectifs',\n",
       "       'Nombre de mois de la période 16', 'Chiffre d'Affaires 16',\n",
       "       'EBE(retraité des loyers de leasing) 16', 'Resultat Net 16',\n",
       "       'Total Bilan 16', 'Capacité de remboursement (FCCR) 16',\n",
       "       'Fonds Propres 16', 'Fonds Propres / Total Bilan 16',\n",
       "       'Dettes Nettes / EBE(* années) 16', 'Dettes Nettes / Fonds propres 16',\n",
       "       'Pays_corr', 'Taux_corr', 'Taux_corr_binned', 'Montant_corr',\n",
       "       'Niveau_risque_corr', 'capital_social_corr', 'Effectifse_corr',\n",
       "       'Nombre_mois_période16_corr', 'Chiffre_Affaires_16_corr',\n",
       "       'Total_Bilan_16_corr', 'Capacité_remboursement_FCCR_16_corr',\n",
       "       'Fonds_Propres_16_corr', 'Fonds_Propres_Total_Bilan_corr',\n",
       "       'Dettes_Nettes_EBE_16_corr', 'DettesNettes_Fonds_propres_16_corr'],\n",
       "      dtype='object')"
      ]
     },
     "execution_count": 86,
     "metadata": {},
     "output_type": "execute_result"
    }
   ],
   "source": [
    "reduced_df.columns"
   ]
  },
  {
   "cell_type": "markdown",
   "metadata": {},
   "source": [
    "## Keep clean columns :"
   ]
  },
  {
   "cell_type": "code",
   "execution_count": 87,
   "metadata": {},
   "outputs": [],
   "source": [
    "list_to_keep= [ 'Pays_corr','Mois', 'Taux_corr', 'Taux_corr_binned', 'Montant_corr',\n",
    "       'Niveau_risque_corr','Emprunteur', 'capital_social_corr', 'Effectifse_corr','année de création',\n",
    "       'Nombre_mois_période16_corr', 'Chiffre_Affaires_16_corr',\n",
    "       'Total_Bilan_16_corr', 'Capacité_remboursement_FCCR_16_corr',\n",
    "       'Fonds_Propres_16_corr', 'Fonds_Propres_Total_Bilan_corr',\n",
    "       'Dettes_Nettes_EBE_16_corr', 'DettesNettes_Fonds_propres_16_corr']"
   ]
  },
  {
   "cell_type": "code",
   "execution_count": 88,
   "metadata": {},
   "outputs": [
    {
     "data": {
      "text/plain": [
       "(688, 18)"
      ]
     },
     "execution_count": 88,
     "metadata": {},
     "output_type": "execute_result"
    }
   ],
   "source": [
    "clean_reduced_df= reduced_df[list_to_keep].copy()\n",
    "clean_reduced_df.shape"
   ]
  },
  {
   "cell_type": "markdown",
   "metadata": {},
   "source": [
    "# EDA After Cleaning :\n"
   ]
  },
  {
   "cell_type": "code",
   "execution_count": 89,
   "metadata": {
    "scrolled": true
   },
   "outputs": [
    {
     "data": {
      "text/html": [
       "<div>\n",
       "<style scoped>\n",
       "    .dataframe tbody tr th:only-of-type {\n",
       "        vertical-align: middle;\n",
       "    }\n",
       "\n",
       "    .dataframe tbody tr th {\n",
       "        vertical-align: top;\n",
       "    }\n",
       "\n",
       "    .dataframe thead th {\n",
       "        text-align: right;\n",
       "    }\n",
       "</style>\n",
       "<table border=\"1\" class=\"dataframe\">\n",
       "  <thead>\n",
       "    <tr style=\"text-align: right;\">\n",
       "      <th></th>\n",
       "      <th>Pays_corr</th>\n",
       "      <th>Mois</th>\n",
       "      <th>Taux_corr</th>\n",
       "      <th>Taux_corr_binned</th>\n",
       "      <th>Montant_corr</th>\n",
       "      <th>Niveau_risque_corr</th>\n",
       "      <th>Emprunteur</th>\n",
       "      <th>capital_social_corr</th>\n",
       "      <th>Effectifse_corr</th>\n",
       "      <th>année de création</th>\n",
       "      <th>Nombre_mois_période16_corr</th>\n",
       "      <th>Chiffre_Affaires_16_corr</th>\n",
       "      <th>Total_Bilan_16_corr</th>\n",
       "      <th>Capacité_remboursement_FCCR_16_corr</th>\n",
       "      <th>Fonds_Propres_16_corr</th>\n",
       "      <th>Fonds_Propres_Total_Bilan_corr</th>\n",
       "      <th>Dettes_Nettes_EBE_16_corr</th>\n",
       "      <th>DettesNettes_Fonds_propres_16_corr</th>\n",
       "    </tr>\n",
       "  </thead>\n",
       "  <tbody>\n",
       "    <tr>\n",
       "      <th>0</th>\n",
       "      <td>France</td>\n",
       "      <td>48</td>\n",
       "      <td>5.85</td>\n",
       "      <td>Medium</td>\n",
       "      <td>1100000</td>\n",
       "      <td>B</td>\n",
       "      <td>Other</td>\n",
       "      <td>3058500.0</td>\n",
       "      <td>11à50</td>\n",
       "      <td>1962</td>\n",
       "      <td>NaN</td>\n",
       "      <td>NaN</td>\n",
       "      <td>NaN</td>\n",
       "      <td>0.52</td>\n",
       "      <td>NaN</td>\n",
       "      <td>42.92</td>\n",
       "      <td>12.74</td>\n",
       "      <td>125.88</td>\n",
       "    </tr>\n",
       "    <tr>\n",
       "      <th>1</th>\n",
       "      <td>Espagne</td>\n",
       "      <td>48</td>\n",
       "      <td>5.50</td>\n",
       "      <td>Low</td>\n",
       "      <td>310000</td>\n",
       "      <td>B+</td>\n",
       "      <td>Other</td>\n",
       "      <td>396072.0</td>\n",
       "      <td>11à50</td>\n",
       "      <td>1985</td>\n",
       "      <td>NaN</td>\n",
       "      <td>NaN</td>\n",
       "      <td>NaN</td>\n",
       "      <td>0.23</td>\n",
       "      <td>NaN</td>\n",
       "      <td>38.70</td>\n",
       "      <td>0.47</td>\n",
       "      <td>21.51</td>\n",
       "    </tr>\n",
       "    <tr>\n",
       "      <th>2</th>\n",
       "      <td>Pays-Bas</td>\n",
       "      <td>48</td>\n",
       "      <td>6.45</td>\n",
       "      <td>Medium</td>\n",
       "      <td>165000</td>\n",
       "      <td>B</td>\n",
       "      <td>Other</td>\n",
       "      <td>0.0</td>\n",
       "      <td>1à10</td>\n",
       "      <td>2016</td>\n",
       "      <td>NaN</td>\n",
       "      <td>NaN</td>\n",
       "      <td>NaN</td>\n",
       "      <td>8.94</td>\n",
       "      <td>NaN</td>\n",
       "      <td>1.82</td>\n",
       "      <td>1.02</td>\n",
       "      <td>2870.00</td>\n",
       "    </tr>\n",
       "  </tbody>\n",
       "</table>\n",
       "</div>"
      ],
      "text/plain": [
       "  Pays_corr  Mois  Taux_corr Taux_corr_binned  Montant_corr  \\\n",
       "0    France    48       5.85           Medium       1100000   \n",
       "1   Espagne    48       5.50              Low        310000   \n",
       "2  Pays-Bas    48       6.45           Medium        165000   \n",
       "\n",
       "  Niveau_risque_corr Emprunteur  capital_social_corr Effectifse_corr  \\\n",
       "0                  B      Other            3058500.0           11à50   \n",
       "1                 B+      Other             396072.0           11à50   \n",
       "2                  B      Other                  0.0            1à10   \n",
       "\n",
       "   année de création  Nombre_mois_période16_corr  Chiffre_Affaires_16_corr  \\\n",
       "0               1962                         NaN                       NaN   \n",
       "1               1985                         NaN                       NaN   \n",
       "2               2016                         NaN                       NaN   \n",
       "\n",
       "   Total_Bilan_16_corr  Capacité_remboursement_FCCR_16_corr  \\\n",
       "0                  NaN                                 0.52   \n",
       "1                  NaN                                 0.23   \n",
       "2                  NaN                                 8.94   \n",
       "\n",
       "   Fonds_Propres_16_corr  Fonds_Propres_Total_Bilan_corr  \\\n",
       "0                    NaN                           42.92   \n",
       "1                    NaN                           38.70   \n",
       "2                    NaN                            1.82   \n",
       "\n",
       "   Dettes_Nettes_EBE_16_corr  DettesNettes_Fonds_propres_16_corr  \n",
       "0                      12.74                              125.88  \n",
       "1                       0.47                               21.51  \n",
       "2                       1.02                             2870.00  "
      ]
     },
     "execution_count": 89,
     "metadata": {},
     "output_type": "execute_result"
    }
   ],
   "source": [
    "clean_reduced_df.head(3)"
   ]
  },
  {
   "cell_type": "code",
   "execution_count": 90,
   "metadata": {},
   "outputs": [
    {
     "name": "stdout",
     "output_type": "stream",
     "text": [
      "<class 'pandas.core.frame.DataFrame'>\n",
      "RangeIndex: 688 entries, 0 to 687\n",
      "Data columns (total 18 columns):\n",
      " #   Column                               Non-Null Count  Dtype   \n",
      "---  ------                               --------------  -----   \n",
      " 0   Pays_corr                            688 non-null    object  \n",
      " 1   Mois                                 688 non-null    int64   \n",
      " 2   Taux_corr                            688 non-null    float64 \n",
      " 3   Taux_corr_binned                     688 non-null    category\n",
      " 4   Montant_corr                         688 non-null    int64   \n",
      " 5   Niveau_risque_corr                   688 non-null    object  \n",
      " 6   Emprunteur                           688 non-null    object  \n",
      " 7   capital_social_corr                  684 non-null    float64 \n",
      " 8   Effectifse_corr                      681 non-null    object  \n",
      " 9   année de création                    688 non-null    int64   \n",
      " 10  Nombre_mois_période16_corr           247 non-null    float64 \n",
      " 11  Chiffre_Affaires_16_corr             56 non-null     float64 \n",
      " 12  Total_Bilan_16_corr                  200 non-null    float64 \n",
      " 13  Capacité_remboursement_FCCR_16_corr  441 non-null    float64 \n",
      " 14  Fonds_Propres_16_corr                130 non-null    float64 \n",
      " 15  Fonds_Propres_Total_Bilan_corr       451 non-null    float64 \n",
      " 16  Dettes_Nettes_EBE_16_corr            466 non-null    float64 \n",
      " 17  DettesNettes_Fonds_propres_16_corr   418 non-null    float64 \n",
      "dtypes: category(1), float64(10), int64(3), object(4)\n",
      "memory usage: 92.3+ KB\n"
     ]
    }
   ],
   "source": [
    "clean_reduced_df.info()"
   ]
  },
  {
   "cell_type": "code",
   "execution_count": 91,
   "metadata": {
    "scrolled": true
   },
   "outputs": [
    {
     "data": {
      "text/html": [
       "<div>\n",
       "<style scoped>\n",
       "    .dataframe tbody tr th:only-of-type {\n",
       "        vertical-align: middle;\n",
       "    }\n",
       "\n",
       "    .dataframe tbody tr th {\n",
       "        vertical-align: top;\n",
       "    }\n",
       "\n",
       "    .dataframe thead th {\n",
       "        text-align: right;\n",
       "    }\n",
       "</style>\n",
       "<table border=\"1\" class=\"dataframe\">\n",
       "  <thead>\n",
       "    <tr style=\"text-align: right;\">\n",
       "      <th></th>\n",
       "      <th>Mois</th>\n",
       "      <th>Taux_corr</th>\n",
       "      <th>Montant_corr</th>\n",
       "      <th>capital_social_corr</th>\n",
       "      <th>année de création</th>\n",
       "      <th>Nombre_mois_période16_corr</th>\n",
       "      <th>Chiffre_Affaires_16_corr</th>\n",
       "      <th>Total_Bilan_16_corr</th>\n",
       "      <th>Capacité_remboursement_FCCR_16_corr</th>\n",
       "      <th>Fonds_Propres_16_corr</th>\n",
       "      <th>Fonds_Propres_Total_Bilan_corr</th>\n",
       "      <th>Dettes_Nettes_EBE_16_corr</th>\n",
       "      <th>DettesNettes_Fonds_propres_16_corr</th>\n",
       "    </tr>\n",
       "  </thead>\n",
       "  <tbody>\n",
       "    <tr>\n",
       "      <th>count</th>\n",
       "      <td>688.000000</td>\n",
       "      <td>688.000000</td>\n",
       "      <td>6.880000e+02</td>\n",
       "      <td>6.840000e+02</td>\n",
       "      <td>688.000000</td>\n",
       "      <td>247.000000</td>\n",
       "      <td>5.600000e+01</td>\n",
       "      <td>2.000000e+02</td>\n",
       "      <td>441.000000</td>\n",
       "      <td>1.300000e+02</td>\n",
       "      <td>451.000000</td>\n",
       "      <td>466.000000</td>\n",
       "      <td>418.000000</td>\n",
       "    </tr>\n",
       "    <tr>\n",
       "      <th>mean</th>\n",
       "      <td>45.594477</td>\n",
       "      <td>4.406599</td>\n",
       "      <td>4.886634e+05</td>\n",
       "      <td>1.331022e+07</td>\n",
       "      <td>2001.841570</td>\n",
       "      <td>12.018219</td>\n",
       "      <td>4.867236e+04</td>\n",
       "      <td>2.648892e+05</td>\n",
       "      <td>16.706757</td>\n",
       "      <td>6.200382e+04</td>\n",
       "      <td>48.376563</td>\n",
       "      <td>5.721652</td>\n",
       "      <td>65.119115</td>\n",
       "    </tr>\n",
       "    <tr>\n",
       "      <th>std</th>\n",
       "      <td>16.310660</td>\n",
       "      <td>2.831213</td>\n",
       "      <td>6.119570e+05</td>\n",
       "      <td>1.460673e+08</td>\n",
       "      <td>17.602175</td>\n",
       "      <td>1.201571</td>\n",
       "      <td>3.271763e+05</td>\n",
       "      <td>3.380872e+06</td>\n",
       "      <td>244.441467</td>\n",
       "      <td>5.812463e+05</td>\n",
       "      <td>324.776421</td>\n",
       "      <td>78.180867</td>\n",
       "      <td>215.297909</td>\n",
       "    </tr>\n",
       "    <tr>\n",
       "      <th>min</th>\n",
       "      <td>3.000000</td>\n",
       "      <td>0.000000</td>\n",
       "      <td>2.000000e+04</td>\n",
       "      <td>0.000000e+00</td>\n",
       "      <td>1712.000000</td>\n",
       "      <td>6.000000</td>\n",
       "      <td>1.037000e+03</td>\n",
       "      <td>2.890000e+02</td>\n",
       "      <td>-29.440000</td>\n",
       "      <td>-2.240000e+01</td>\n",
       "      <td>-336.840000</td>\n",
       "      <td>-15.450000</td>\n",
       "      <td>-1232.890000</td>\n",
       "    </tr>\n",
       "    <tr>\n",
       "      <th>25%</th>\n",
       "      <td>36.000000</td>\n",
       "      <td>0.000000</td>\n",
       "      <td>1.000000e+05</td>\n",
       "      <td>1.000000e+04</td>\n",
       "      <td>1994.000000</td>\n",
       "      <td>12.000000</td>\n",
       "      <td>1.898000e+03</td>\n",
       "      <td>2.594000e+03</td>\n",
       "      <td>1.190000</td>\n",
       "      <td>2.050000e+03</td>\n",
       "      <td>17.085000</td>\n",
       "      <td>0.110000</td>\n",
       "      <td>-0.530000</td>\n",
       "    </tr>\n",
       "    <tr>\n",
       "      <th>50%</th>\n",
       "      <td>48.000000</td>\n",
       "      <td>5.500000</td>\n",
       "      <td>2.500000e+05</td>\n",
       "      <td>7.700000e+04</td>\n",
       "      <td>2006.000000</td>\n",
       "      <td>12.000000</td>\n",
       "      <td>3.113500e+03</td>\n",
       "      <td>7.568000e+03</td>\n",
       "      <td>1.820000</td>\n",
       "      <td>4.898500e+03</td>\n",
       "      <td>28.100000</td>\n",
       "      <td>1.300000</td>\n",
       "      <td>28.490000</td>\n",
       "    </tr>\n",
       "    <tr>\n",
       "      <th>75%</th>\n",
       "      <td>60.000000</td>\n",
       "      <td>6.500000</td>\n",
       "      <td>6.000000e+05</td>\n",
       "      <td>5.712575e+05</td>\n",
       "      <td>2012.000000</td>\n",
       "      <td>12.000000</td>\n",
       "      <td>6.070000e+03</td>\n",
       "      <td>2.813500e+04</td>\n",
       "      <td>3.390000</td>\n",
       "      <td>1.284275e+04</td>\n",
       "      <td>43.700000</td>\n",
       "      <td>2.657500</td>\n",
       "      <td>96.050000</td>\n",
       "    </tr>\n",
       "    <tr>\n",
       "      <th>max</th>\n",
       "      <td>84.000000</td>\n",
       "      <td>9.900000</td>\n",
       "      <td>5.000000e+06</td>\n",
       "      <td>2.485450e+09</td>\n",
       "      <td>2019.000000</td>\n",
       "      <td>23.000000</td>\n",
       "      <td>2.453000e+06</td>\n",
       "      <td>4.783400e+07</td>\n",
       "      <td>5122.730000</td>\n",
       "      <td>6.634000e+06</td>\n",
       "      <td>6789.000000</td>\n",
       "      <td>1682.000000</td>\n",
       "      <td>2870.000000</td>\n",
       "    </tr>\n",
       "  </tbody>\n",
       "</table>\n",
       "</div>"
      ],
      "text/plain": [
       "             Mois   Taux_corr  Montant_corr  capital_social_corr  \\\n",
       "count  688.000000  688.000000  6.880000e+02         6.840000e+02   \n",
       "mean    45.594477    4.406599  4.886634e+05         1.331022e+07   \n",
       "std     16.310660    2.831213  6.119570e+05         1.460673e+08   \n",
       "min      3.000000    0.000000  2.000000e+04         0.000000e+00   \n",
       "25%     36.000000    0.000000  1.000000e+05         1.000000e+04   \n",
       "50%     48.000000    5.500000  2.500000e+05         7.700000e+04   \n",
       "75%     60.000000    6.500000  6.000000e+05         5.712575e+05   \n",
       "max     84.000000    9.900000  5.000000e+06         2.485450e+09   \n",
       "\n",
       "       année de création  Nombre_mois_période16_corr  \\\n",
       "count         688.000000                  247.000000   \n",
       "mean         2001.841570                   12.018219   \n",
       "std            17.602175                    1.201571   \n",
       "min          1712.000000                    6.000000   \n",
       "25%          1994.000000                   12.000000   \n",
       "50%          2006.000000                   12.000000   \n",
       "75%          2012.000000                   12.000000   \n",
       "max          2019.000000                   23.000000   \n",
       "\n",
       "       Chiffre_Affaires_16_corr  Total_Bilan_16_corr  \\\n",
       "count              5.600000e+01         2.000000e+02   \n",
       "mean               4.867236e+04         2.648892e+05   \n",
       "std                3.271763e+05         3.380872e+06   \n",
       "min                1.037000e+03         2.890000e+02   \n",
       "25%                1.898000e+03         2.594000e+03   \n",
       "50%                3.113500e+03         7.568000e+03   \n",
       "75%                6.070000e+03         2.813500e+04   \n",
       "max                2.453000e+06         4.783400e+07   \n",
       "\n",
       "       Capacité_remboursement_FCCR_16_corr  Fonds_Propres_16_corr  \\\n",
       "count                           441.000000           1.300000e+02   \n",
       "mean                             16.706757           6.200382e+04   \n",
       "std                             244.441467           5.812463e+05   \n",
       "min                             -29.440000          -2.240000e+01   \n",
       "25%                               1.190000           2.050000e+03   \n",
       "50%                               1.820000           4.898500e+03   \n",
       "75%                               3.390000           1.284275e+04   \n",
       "max                            5122.730000           6.634000e+06   \n",
       "\n",
       "       Fonds_Propres_Total_Bilan_corr  Dettes_Nettes_EBE_16_corr  \\\n",
       "count                      451.000000                 466.000000   \n",
       "mean                        48.376563                   5.721652   \n",
       "std                        324.776421                  78.180867   \n",
       "min                       -336.840000                 -15.450000   \n",
       "25%                         17.085000                   0.110000   \n",
       "50%                         28.100000                   1.300000   \n",
       "75%                         43.700000                   2.657500   \n",
       "max                       6789.000000                1682.000000   \n",
       "\n",
       "       DettesNettes_Fonds_propres_16_corr  \n",
       "count                          418.000000  \n",
       "mean                            65.119115  \n",
       "std                            215.297909  \n",
       "min                          -1232.890000  \n",
       "25%                             -0.530000  \n",
       "50%                             28.490000  \n",
       "75%                             96.050000  \n",
       "max                           2870.000000  "
      ]
     },
     "execution_count": 91,
     "metadata": {},
     "output_type": "execute_result"
    }
   ],
   "source": [
    "clean_reduced_df.describe()"
   ]
  },
  {
   "cell_type": "markdown",
   "metadata": {},
   "source": [
    "# 2.Data preprocessing\n",
    "## Log normalization\n",
    "\n",
    "Transformation Normally distributed features are an assumption in Statistical algorithms. Deep learning & Regression-type algorithms also benefit from normally distributed data. Transformation is required to treat the skewed features and make them normally distributed. Right skewed features can be transformed to normality with Square Root/ Cube Root/ Logarithm transformation.\n",
    "Helps with skewness No predetermined range for scaled data Useful only **on non-zero, non-negative data**\n"
   ]
  },
  {
   "cell_type": "code",
   "execution_count": 92,
   "metadata": {},
   "outputs": [
    {
     "data": {
      "text/plain": [
       "Mois                                   2.660376e+02\n",
       "Taux_corr                              8.015765e+00\n",
       "Montant_corr                           3.744913e+11\n",
       "capital_social_corr                    2.133567e+16\n",
       "année de création                      3.098366e+02\n",
       "Nombre_mois_période16_corr             1.443772e+00\n",
       "Chiffre_Affaires_16_corr               1.070443e+11\n",
       "Total_Bilan_16_corr                    1.143029e+13\n",
       "Capacité_remboursement_FCCR_16_corr    5.975163e+04\n",
       "Fonds_Propres_16_corr                  3.378473e+11\n",
       "Fonds_Propres_Total_Bilan_corr         1.054797e+05\n",
       "Dettes_Nettes_EBE_16_corr              6.112248e+03\n",
       "DettesNettes_Fonds_propres_16_corr     4.635319e+04\n",
       "dtype: float64"
      ]
     },
     "execution_count": 92,
     "metadata": {},
     "output_type": "execute_result"
    }
   ],
   "source": [
    "clean_reduced_df.var(skipna = True)"
   ]
  },
  {
   "cell_type": "markdown",
   "metadata": {},
   "source": [
    "### Those 2 columns have big varinace let's see if we can reduce the variance  \n",
    "    Montant_corr  var:                         3.744913e+11\n",
    "    capital_social_corr  var :                 2.133567e+16\n",
    "    Chiffre_Affaires_16_corr var:              1.070443e+11"
   ]
  },
  {
   "cell_type": "markdown",
   "metadata": {},
   "source": [
    "#### Montant_corr_log"
   ]
  },
  {
   "cell_type": "code",
   "execution_count": 93,
   "metadata": {},
   "outputs": [
    {
     "data": {
      "image/png": "[encoded data removed]",
      "text/plain": [
       "<Figure size 432x288 with 1 Axes>"
      ]
     },
     "metadata": {
      "needs_background": "light"
     },
     "output_type": "display_data"
    }
   ],
   "source": [
    "ax = sns.distplot(clean_reduced_df[\"Montant_corr\"])"
   ]
  },
  {
   "cell_type": "code",
   "execution_count": 94,
   "metadata": {},
   "outputs": [
    {
     "name": "stdout",
     "output_type": "stream",
     "text": [
      "374491335433.83527\n",
      "1.3603689005002353\n"
     ]
    }
   ],
   "source": [
    "# Print out the variance \n",
    "print(clean_reduced_df['Montant_corr'].var())\n",
    "\n",
    "# Apply the log normalization function \n",
    "clean_reduced_df['Montant_corr_log'] = np.log(clean_reduced_df['Montant_corr'])\n",
    "\n",
    "# Check the variance of the normalized \n",
    "print(clean_reduced_df['Montant_corr_log'].var())"
   ]
  },
  {
   "cell_type": "code",
   "execution_count": 95,
   "metadata": {
    "scrolled": true
   },
   "outputs": [
    {
     "data": {
      "image/png": "[encoded data removed]",
      "text/plain": [
       "<Figure size 432x288 with 1 Axes>"
      ]
     },
     "metadata": {
      "needs_background": "light"
     },
     "output_type": "display_data"
    }
   ],
   "source": [
    "ax = sns.distplot(clean_reduced_df['Montant_corr_log'])"
   ]
  },
  {
   "cell_type": "markdown",
   "metadata": {},
   "source": [
    "#### Chiffre_Affaires_16_corr_log"
   ]
  },
  {
   "cell_type": "code",
   "execution_count": 96,
   "metadata": {},
   "outputs": [
    {
     "data": {
      "image/png": "[encoded data removed]",
      "text/plain": [
       "<Figure size 432x288 with 1 Axes>"
      ]
     },
     "metadata": {
      "needs_background": "light"
     },
     "output_type": "display_data"
    }
   ],
   "source": [
    "ax = sns.distplot(clean_reduced_df[\"Chiffre_Affaires_16_corr\"])"
   ]
  },
  {
   "cell_type": "code",
   "execution_count": 97,
   "metadata": {},
   "outputs": [
    {
     "name": "stdout",
     "output_type": "stream",
     "text": [
      "107044335091.32458\n",
      "1.4420801759163155\n"
     ]
    }
   ],
   "source": [
    "# Print out the variance \n",
    "print(clean_reduced_df['Chiffre_Affaires_16_corr'].var())\n",
    "\n",
    "# Apply the log normalization function \n",
    "clean_reduced_df['Chiffre_Affaires_16_corr_log'] = np.log(clean_reduced_df['Chiffre_Affaires_16_corr'])\n",
    "\n",
    "# Check the variance of the normalized \n",
    "print(clean_reduced_df['Chiffre_Affaires_16_corr_log'].var())"
   ]
  },
  {
   "cell_type": "code",
   "execution_count": 98,
   "metadata": {},
   "outputs": [
    {
     "data": {
      "image/png": "[encoded data removed]",
      "text/plain": [
       "<Figure size 432x288 with 1 Axes>"
      ]
     },
     "metadata": {
      "needs_background": "light"
     },
     "output_type": "display_data"
    }
   ],
   "source": [
    "ax = sns.distplot(clean_reduced_df['Chiffre_Affaires_16_corr_log'])"
   ]
  },
  {
   "cell_type": "markdown",
   "metadata": {},
   "source": [
    "#### capital_social_corr_log"
   ]
  },
  {
   "cell_type": "code",
   "execution_count": 99,
   "metadata": {},
   "outputs": [
    {
     "data": {
      "image/png": "[encoded data removed]",
      "text/plain": [
       "<Figure size 432x288 with 1 Axes>"
      ]
     },
     "metadata": {
      "needs_background": "light"
     },
     "output_type": "display_data"
    }
   ],
   "source": [
    "ax = sns.distplot(clean_reduced_df[\"capital_social_corr\"])"
   ]
  },
  {
   "cell_type": "code",
   "execution_count": 100,
   "metadata": {},
   "outputs": [
    {
     "name": "stdout",
     "output_type": "stream",
     "text": [
      "2.133566624374514e+16\n",
      "9.845596672361404\n"
     ]
    }
   ],
   "source": [
    "# Print out the variance\n",
    "print(clean_reduced_df['capital_social_corr'].var())\n",
    "\n",
    "# Apply the log normalization function t\n",
    "clean_reduced_df['capital_social_corr_log'] = np.log(clean_reduced_df['capital_social_corr']+1)\n",
    "\n",
    "# Check the variance of the normalized \n",
    "print(clean_reduced_df['capital_social_corr_log'].var())"
   ]
  },
  {
   "cell_type": "code",
   "execution_count": 101,
   "metadata": {
    "scrolled": false
   },
   "outputs": [
    {
     "data": {
      "image/png": "[encoded data removed]",
      "text/plain": [
       "<Figure size 432x288 with 1 Axes>"
      ]
     },
     "metadata": {
      "needs_background": "light"
     },
     "output_type": "display_data"
    }
   ],
   "source": [
    "ax = sns.distplot(clean_reduced_df[\"capital_social_corr\"])"
   ]
  },
  {
   "cell_type": "code",
   "execution_count": 102,
   "metadata": {},
   "outputs": [
    {
     "data": {
      "image/png": "[encoded data removed]",
      "text/plain": [
       "<Figure size 432x288 with 1 Axes>"
      ]
     },
     "metadata": {
      "needs_background": "light"
     },
     "output_type": "display_data"
    },
    {
     "data": {
      "image/png": "[encoded data removed]",
      "text/plain": [
       "<Figure size 432x288 with 1 Axes>"
      ]
     },
     "metadata": {
      "needs_background": "light"
     },
     "output_type": "display_data"
    },
    {
     "data": {
      "image/png": "[encoded data removed]",
      "text/plain": [
       "<Figure size 432x288 with 1 Axes>"
      ]
     },
     "metadata": {
      "needs_background": "light"
     },
     "output_type": "display_data"
    },
    {
     "data": {
      "image/png": "[encoded data removed]",
      "text/plain": [
       "<Figure size 432x288 with 1 Axes>"
      ]
     },
     "metadata": {
      "needs_background": "light"
     },
     "output_type": "display_data"
    },
    {
     "data": {
      "image/png": "[encoded data removed]",
      "text/plain": [
       "<Figure size 432x288 with 1 Axes>"
      ]
     },
     "metadata": {
      "needs_background": "light"
     },
     "output_type": "display_data"
    },
    {
     "data": {
      "image/png": "[encoded data removed]",
      "text/plain": [
       "<Figure size 432x288 with 1 Axes>"
      ]
     },
     "metadata": {
      "needs_background": "light"
     },
     "output_type": "display_data"
    },
    {
     "data": {
      "image/png": "[encoded data removed]",
      "text/plain": [
       "<Figure size 432x288 with 1 Axes>"
      ]
     },
     "metadata": {
      "needs_background": "light"
     },
     "output_type": "display_data"
    },
    {
     "data": {
      "image/png": "[encoded data removed]",
      "text/plain": [
       "<Figure size 432x288 with 1 Axes>"
      ]
     },
     "metadata": {
      "needs_background": "light"
     },
     "output_type": "display_data"
    },
    {
     "data": {
      "image/png": "[encoded data removed]",
      "text/plain": [
       "<Figure size 432x288 with 1 Axes>"
      ]
     },
     "metadata": {
      "needs_background": "light"
     },
     "output_type": "display_data"
    },
    {
     "data": {
      "image/png": "[encoded data removed]",
      "text/plain": [
       "<Figure size 432x288 with 1 Axes>"
      ]
     },
     "metadata": {
      "needs_background": "light"
     },
     "output_type": "display_data"
    },
    {
     "data": {
      "image/png": "[encoded data removed]",
      "text/plain": [
       "<Figure size 432x288 with 1 Axes>"
      ]
     },
     "metadata": {
      "needs_background": "light"
     },
     "output_type": "display_data"
    },
    {
     "data": {
      "image/png": "[encoded data removed]",
      "text/plain": [
       "<Figure size 432x288 with 1 Axes>"
      ]
     },
     "metadata": {
      "needs_background": "light"
     },
     "output_type": "display_data"
    },
    {
     "data": {
      "image/png": "[encoded data removed]",
      "text/plain": [
       "<Figure size 432x288 with 1 Axes>"
      ]
     },
     "metadata": {
      "needs_background": "light"
     },
     "output_type": "display_data"
    },
    {
     "data": {
      "image/png": "[encoded data removed]",
      "text/plain": [
       "<Figure size 432x288 with 1 Axes>"
      ]
     },
     "metadata": {
      "needs_background": "light"
     },
     "output_type": "display_data"
    },
    {
     "data": {
      "image/png": "[encoded data removed]",
      "text/plain": [
       "<Figure size 432x288 with 1 Axes>"
      ]
     },
     "metadata": {
      "needs_background": "light"
     },
     "output_type": "display_data"
    },
    {
     "data": {
      "image/png": "[encoded data removed]",
      "text/plain": [
       "<Figure size 432x288 with 1 Axes>"
      ]
     },
     "metadata": {
      "needs_background": "light"
     },
     "output_type": "display_data"
    }
   ],
   "source": [
    "# select the float columns\n",
    "num_columns = clean_reduced_df.select_dtypes(include=['int64','float64']).columns\n",
    "# Create a histogram\n",
    "# create distplots\n",
    "for column in num_columns:\n",
    "    plt.figure()         \n",
    "    sns.distplot(clean_reduced_df[column])"
   ]
  },
  {
   "cell_type": "markdown",
   "metadata": {},
   "source": [
    "# 3.Feature Engineering\n",
    "Feature engineering is the act of taking raw data and extracting features from it that are suitable for tasks like machine learning\n",
    "## Encoding categorical variables\n",
    "     Pays_corr  \n",
    "     Taux_corr_binned \n",
    "     Niveau_risque_corr \n",
    "     Emprunteur \n",
    "     Effectifse_corr "
   ]
  },
  {
   "cell_type": "code",
   "execution_count": 103,
   "metadata": {
    "scrolled": false
   },
   "outputs": [
    {
     "data": {
      "text/plain": [
       "Index(['Pays_corr', 'Taux_corr_binned', 'Niveau_risque_corr', 'Emprunteur',\n",
       "       'Effectifse_corr'],\n",
       "      dtype='object')"
      ]
     },
     "execution_count": 103,
     "metadata": {},
     "output_type": "execute_result"
    }
   ],
   "source": [
    "# select non-numeric columns\n",
    "cat_columns = clean_reduced_df.select_dtypes(exclude=['int64','float64']).columns\n",
    "cat_columns"
   ]
  },
  {
   "cell_type": "markdown",
   "metadata": {},
   "source": [
    "# Create pipeline :Cat colmuns "
   ]
  },
  {
   "cell_type": "code",
   "execution_count": 104,
   "metadata": {},
   "outputs": [
    {
     "name": "stdout",
     "output_type": "stream",
     "text": [
      "C'est bon\n"
     ]
    }
   ],
   "source": [
    "fill_missing_then_one_hot_encoder = make_pipeline(\n",
    "    SimpleImputer(strategy='constant', fill_value='manquante',add_indicator=True),\n",
    "    OneHotEncoder(handle_unknown='ignore')\n",
    ")\n",
    "\n",
    "fill_missing_then_one_hot_encoder.fit(clean_reduced_df[cat_columns])\n",
    "\n",
    "x_encoded =fill_missing_then_one_hot_encoder.transform(clean_reduced_df[cat_columns])\n",
    "\n",
    "print('C\\'est bon')"
   ]
  },
  {
   "cell_type": "code",
   "execution_count": 105,
   "metadata": {},
   "outputs": [
    {
     "data": {
      "text/plain": [
       "array([[0., 1., 0., ..., 0., 1., 0.],\n",
       "       [1., 0., 0., ..., 0., 1., 0.],\n",
       "       [0., 0., 0., ..., 0., 1., 0.],\n",
       "       ...,\n",
       "       [1., 0., 0., ..., 0., 1., 0.],\n",
       "       [1., 0., 0., ..., 0., 1., 0.],\n",
       "       [1., 0., 0., ..., 0., 1., 0.]])"
      ]
     },
     "execution_count": 105,
     "metadata": {},
     "output_type": "execute_result"
    }
   ],
   "source": [
    "x_encoded.toarray()"
   ]
  },
  {
   "cell_type": "markdown",
   "metadata": {},
   "source": [
    "# Create new cloumn age of the company :\n"
   ]
  },
  {
   "cell_type": "code",
   "execution_count": 106,
   "metadata": {},
   "outputs": [
    {
     "data": {
      "text/html": [
       "<div>\n",
       "<style scoped>\n",
       "    .dataframe tbody tr th:only-of-type {\n",
       "        vertical-align: middle;\n",
       "    }\n",
       "\n",
       "    .dataframe tbody tr th {\n",
       "        vertical-align: top;\n",
       "    }\n",
       "\n",
       "    .dataframe thead th {\n",
       "        text-align: right;\n",
       "    }\n",
       "</style>\n",
       "<table border=\"1\" class=\"dataframe\">\n",
       "  <thead>\n",
       "    <tr style=\"text-align: right;\">\n",
       "      <th></th>\n",
       "      <th>Age</th>\n",
       "      <th>année de création</th>\n",
       "    </tr>\n",
       "  </thead>\n",
       "  <tbody>\n",
       "    <tr>\n",
       "      <th>0</th>\n",
       "      <td>59</td>\n",
       "      <td>1962</td>\n",
       "    </tr>\n",
       "    <tr>\n",
       "      <th>1</th>\n",
       "      <td>36</td>\n",
       "      <td>1985</td>\n",
       "    </tr>\n",
       "    <tr>\n",
       "      <th>2</th>\n",
       "      <td>5</td>\n",
       "      <td>2016</td>\n",
       "    </tr>\n",
       "    <tr>\n",
       "      <th>3</th>\n",
       "      <td>5</td>\n",
       "      <td>2016</td>\n",
       "    </tr>\n",
       "    <tr>\n",
       "      <th>4</th>\n",
       "      <td>18</td>\n",
       "      <td>2003</td>\n",
       "    </tr>\n",
       "    <tr>\n",
       "      <th>...</th>\n",
       "      <td>...</td>\n",
       "      <td>...</td>\n",
       "    </tr>\n",
       "    <tr>\n",
       "      <th>683</th>\n",
       "      <td>6</td>\n",
       "      <td>2015</td>\n",
       "    </tr>\n",
       "    <tr>\n",
       "      <th>684</th>\n",
       "      <td>14</td>\n",
       "      <td>2007</td>\n",
       "    </tr>\n",
       "    <tr>\n",
       "      <th>685</th>\n",
       "      <td>22</td>\n",
       "      <td>1999</td>\n",
       "    </tr>\n",
       "    <tr>\n",
       "      <th>686</th>\n",
       "      <td>28</td>\n",
       "      <td>1993</td>\n",
       "    </tr>\n",
       "    <tr>\n",
       "      <th>687</th>\n",
       "      <td>19</td>\n",
       "      <td>2002</td>\n",
       "    </tr>\n",
       "  </tbody>\n",
       "</table>\n",
       "<p>688 rows × 2 columns</p>\n",
       "</div>"
      ],
      "text/plain": [
       "     Age  année de création\n",
       "0     59               1962\n",
       "1     36               1985\n",
       "2      5               2016\n",
       "3      5               2016\n",
       "4     18               2003\n",
       "..   ...                ...\n",
       "683    6               2015\n",
       "684   14               2007\n",
       "685   22               1999\n",
       "686   28               1993\n",
       "687   19               2002\n",
       "\n",
       "[688 rows x 2 columns]"
      ]
     },
     "execution_count": 106,
     "metadata": {},
     "output_type": "execute_result"
    }
   ],
   "source": [
    "# This function converts given date to age\n",
    "def age(creation):\n",
    "    born = int(creation)\n",
    "    today = date.today()\n",
    "    return today.year - born\n",
    "  \n",
    "clean_reduced_df['Age'] = clean_reduced_df['année de création'].apply(age)\n",
    "clean_reduced_df[['Age','année de création']]"
   ]
  },
  {
   "cell_type": "markdown",
   "metadata": {},
   "source": [
    "# Put all preprocess tasks "
   ]
  },
  {
   "cell_type": "code",
   "execution_count": 107,
   "metadata": {},
   "outputs": [
    {
     "data": {
      "text/plain": [
       "(688, 18)"
      ]
     },
     "execution_count": 107,
     "metadata": {},
     "output_type": "execute_result"
    }
   ],
   "source": [
    "# Create a boolean mask on whether each feature less than 40% missing values.\n",
    "mask = swiss_loan.isna().sum() / len(swiss_loan) < 0.4\n",
    "# Create a reduced dataset by applying the mask\n",
    "reduced_df =swiss_loan.loc[:, mask]\n",
    "\n",
    "# drop ID\n",
    "reduced_df.drop('ID', axis=1, inplace=True)\n",
    "reduced_df['Pays_corr']=reduced_df['Pays'].str.strip()\n",
    "reduced_df['Taux_corr']=reduced_df['Taux'].str.replace('%','').str.strip().str.replace(',','.').str.extract(r'(\\d+.\\d+)')\n",
    "reduced_df['Taux_corr'] = np.where(reduced_df['Taux_corr'].isnull(), 0.1, reduced_df['Taux_corr'])\n",
    "reduced_df['Taux_corr'] = pd.to_numeric(reduced_df['Taux_corr'], errors='coerce')\n",
    "# Specify the boundaries of the bins\n",
    "bins = [0.01,5.5,  6.5, 10]\n",
    "# Bin labels\n",
    "labels = [ 'Low', 'Medium', 'High']\n",
    "# Bin the continuous variable ConvertedSalary using these boundaries\n",
    "reduced_df['Taux_corr_binned'] = pd.cut(reduced_df['Taux_corr'], \n",
    "                                         bins=bins,labels=labels )\n",
    "# Print the first 5 rows of the boundary_binned column\n",
    "reduced_df['Montant_corr']=reduced_df['Montant'].str.replace('€','').str.replace('\\xa0','').str.strip().str.replace('\\s+','')\n",
    "reduced_df['Montant_corr'] = np.where(reduced_df['Montant_corr'].isnull(), 0.1, reduced_df['Montant_corr'])\n",
    "reduced_df['Montant_corr'] = pd.to_numeric(reduced_df['Montant_corr'], errors='coerce')\n",
    "reduced_df['Niveau_risque_corr']=reduced_df['Niveau de risque'].str.rstrip().str.replace('\\s+','')\n",
    "Emprunteurs = reduced_df['Emprunteur']\n",
    "\n",
    "\n",
    "Emprunteurs_counts = Emprunteurs.value_counts()\n",
    "\n",
    "# Create a mask for only categories that occur less than 5 times\n",
    "mask = Emprunteurs.isin(Emprunteurs_counts[Emprunteurs_counts<5].index)\n",
    "# Label all other categories as Other\n",
    "reduced_df['Emprunteur'][mask] = 'Other'\n",
    "reduced_df['capital_social_corr']=reduced_df['capital social'].str.replace('€','').str.replace('\\xa0','').str.strip().str.replace('\\s+','')\n",
    "reduced_df['capital_social_corr'] = np.where(reduced_df['capital_social_corr'].isnull(), 0.1, reduced_df['capital_social_corr'])\n",
    "reduced_df['capital_social_corr'] = pd.to_numeric(reduced_df['capital_social_corr'], errors='coerce')\n",
    "\n",
    "reduced_df['Effectifse_corr']=reduced_df['effectifs'].str.rstrip().str.replace('\\s+','')\n",
    "reduced_df['Effectifse_corr'][reduced_df['Effectifse_corr'] == '-'] = np.nan\n",
    "\n",
    "reduced_df['Nombre_mois_période16_corr']=reduced_df['Nombre de mois de la période 16'].str.rstrip().str.replace('mois','').str.replace(',','.').str.replace('\\s+','').str.extract(r\"(\\d+\\.\\d+|\\d+)\")\n",
    "reduced_df['Nombre_mois_période16_corr'][reduced_df['Nombre_mois_période16_corr'] == '-'] = np.nan\n",
    "reduced_df['Nombre_mois_période16_corr'] = pd.to_numeric(reduced_df['Nombre_mois_période16_corr'], errors='coerce')\n",
    "\n",
    "reduced_df['Chiffre_Affaires_16_corr']=reduced_df.iloc[:,12].str.replace('\\xa0','').str.strip().str.replace('\\s+','')\n",
    "reduced_df['Chiffre_Affaires_16_corr'] = pd.to_numeric(reduced_df['Chiffre_Affaires_16_corr'], errors='coerce')\n",
    "\n",
    "reduced_df['Total_Bilan_16_corr']= reduced_df['Total Bilan 16'].str.replace('\\xa0','').str.strip().str.replace('\\s+','').str.extract(r\"([-+]?\\d*\\.*\\d+|\\d+)\")\n",
    "reduced_df['Total_Bilan_16_corr']= pd.to_numeric(reduced_df['Total_Bilan_16_corr'], errors='coerce')\n",
    "\n",
    "reduced_df['Capacité_remboursement_FCCR_16_corr']= reduced_df['Capacité de remboursement (FCCR) 16'].str.replace('\\xa0','').str.strip().str.replace('\\s+','').str.replace(',','.').str.extract(r\"([-+]?\\d*\\.*\\d+|\\d+)\")\n",
    "reduced_df['Capacité_remboursement_FCCR_16_corr']= pd.to_numeric(reduced_df['Capacité_remboursement_FCCR_16_corr'], errors='coerce')\n",
    "\n",
    "\n",
    "reduced_df['Fonds_Propres_16_corr']= reduced_df['Fonds Propres 16'].str.replace('\\xa0','').str.strip().str.replace('\\s+','').str.replace(',','.').str.extract(r\"([-+]?\\d*\\.*\\d+|\\d+)\")\n",
    "reduced_df['Fonds_Propres_16_corr']= pd.to_numeric(reduced_df['Fonds_Propres_16_corr'], errors='coerce')\n",
    "\n",
    "reduced_df['Fonds_Propres_Total_Bilan_corr']= reduced_df['Fonds Propres / Total Bilan 16'].str.replace('\\xa0','').str.strip().str.replace('\\s+','').str.replace(',','.').str.replace('%','').str.extract(r\"([-+]?\\d*\\.*\\d+|\\d+)\")\n",
    "reduced_df['Fonds_Propres_Total_Bilan_corr']= pd.to_numeric(reduced_df['Fonds_Propres_Total_Bilan_corr'], errors='coerce')\n",
    "\n",
    "reduced_df['Dettes_Nettes_EBE_16_corr']= reduced_df['Dettes Nettes / EBE(* années) 16'].str.replace('\\xa0','').str.strip().str.replace('\\s+','').str.replace(',','.').str.replace('*','').str.extract(r\"([-+]?\\d*\\.*\\d+|\\d+)\")\n",
    "reduced_df['Dettes_Nettes_EBE_16_corr']= pd.to_numeric(reduced_df['Dettes_Nettes_EBE_16_corr'], errors='coerce')\n",
    "\n",
    "reduced_df['DettesNettes_Fonds_propres_16_corr']= reduced_df['Dettes Nettes / Fonds propres 16'].str.replace('\\xa0','').str.strip().str.replace('\\s+','').str.replace(',','.').str.replace('%','').str.extract(r\"([-+]?\\d*\\.*\\d+|\\d+)\")\n",
    "reduced_df['DettesNettes_Fonds_propres_16_corr']= pd.to_numeric(reduced_df['DettesNettes_Fonds_propres_16_corr'], errors='coerce')\n",
    "\n",
    "\n",
    "# Apply the log normalization function \n",
    "reduced_df['Montant_corr_log'] = np.log(reduced_df['Montant_corr'])\n",
    "\n",
    "# Apply the log normalization function \n",
    "reduced_df['Chiffre_Affaires_16_corr_log'] = np.log(reduced_df['Chiffre_Affaires_16_corr'])\n",
    "# Apply the log normalization function t\n",
    "reduced_df['capital_social_corr_log'] = np.log(reduced_df['capital_social_corr']+1)\n",
    "# This function converts given date to age\n",
    "def age(creation):\n",
    "    born = int(creation)\n",
    "    today = date.today()\n",
    "    return today.year - born\n",
    "  \n",
    "reduced_df['Age'] = reduced_df['année de création'].apply(age)\n",
    "list_to_keep= [ 'Pays_corr','Mois','Age' ,'Taux_corr', 'Taux_corr_binned', 'Montant_corr_log',\n",
    "       'Niveau_risque_corr','Emprunteur', 'capital_social_corr_log', 'Effectifse_corr',\n",
    "       'Nombre_mois_période16_corr', \n",
    "       'Total_Bilan_16_corr', 'Capacité_remboursement_FCCR_16_corr',\n",
    "       'Fonds_Propres_16_corr', 'Fonds_Propres_Total_Bilan_corr',\n",
    "       'Dettes_Nettes_EBE_16_corr', 'DettesNettes_Fonds_propres_16_corr','Chiffre_Affaires_16_corr_log']\n",
    "clean_reduced_df= reduced_df[list_to_keep].copy()\n",
    "clean_reduced_df.shape\n"
   ]
  },
  {
   "cell_type": "code",
   "execution_count": 108,
   "metadata": {},
   "outputs": [
    {
     "name": "stdout",
     "output_type": "stream",
     "text": [
      "<class 'pandas.core.frame.DataFrame'>\n",
      "RangeIndex: 688 entries, 0 to 687\n",
      "Data columns (total 18 columns):\n",
      " #   Column                               Non-Null Count  Dtype   \n",
      "---  ------                               --------------  -----   \n",
      " 0   Pays_corr                            688 non-null    object  \n",
      " 1   Mois                                 688 non-null    int64   \n",
      " 2   Age                                  688 non-null    int64   \n",
      " 3   Taux_corr                            688 non-null    float64 \n",
      " 4   Taux_corr_binned                     688 non-null    category\n",
      " 5   Montant_corr_log                     688 non-null    float64 \n",
      " 6   Niveau_risque_corr                   688 non-null    object  \n",
      " 7   Emprunteur                           688 non-null    object  \n",
      " 8   capital_social_corr_log              684 non-null    float64 \n",
      " 9   Effectifse_corr                      681 non-null    object  \n",
      " 10  Nombre_mois_période16_corr           247 non-null    float64 \n",
      " 11  Total_Bilan_16_corr                  200 non-null    float64 \n",
      " 12  Capacité_remboursement_FCCR_16_corr  441 non-null    float64 \n",
      " 13  Fonds_Propres_16_corr                130 non-null    float64 \n",
      " 14  Fonds_Propres_Total_Bilan_corr       451 non-null    float64 \n",
      " 15  Dettes_Nettes_EBE_16_corr            466 non-null    float64 \n",
      " 16  DettesNettes_Fonds_propres_16_corr   418 non-null    float64 \n",
      " 17  Chiffre_Affaires_16_corr_log         56 non-null     float64 \n",
      "dtypes: category(1), float64(11), int64(2), object(4)\n",
      "memory usage: 92.3+ KB\n"
     ]
    }
   ],
   "source": [
    "clean_reduced_df.info()"
   ]
  },
  {
   "cell_type": "code",
   "execution_count": 109,
   "metadata": {},
   "outputs": [
    {
     "data": {
      "text/plain": [
       "Pays_corr                                0\n",
       "Mois                                     0\n",
       "Age                                      0\n",
       "Taux_corr                                0\n",
       "Taux_corr_binned                         0\n",
       "Montant_corr_log                         0\n",
       "Niveau_risque_corr                       0\n",
       "Emprunteur                               0\n",
       "capital_social_corr_log                  4\n",
       "Effectifse_corr                          7\n",
       "Nombre_mois_période16_corr             441\n",
       "Total_Bilan_16_corr                    488\n",
       "Capacité_remboursement_FCCR_16_corr    247\n",
       "Fonds_Propres_16_corr                  558\n",
       "Fonds_Propres_Total_Bilan_corr         237\n",
       "Dettes_Nettes_EBE_16_corr              222\n",
       "DettesNettes_Fonds_propres_16_corr     270\n",
       "Chiffre_Affaires_16_corr_log           632\n",
       "dtype: int64"
      ]
     },
     "execution_count": 109,
     "metadata": {},
     "output_type": "execute_result"
    }
   ],
   "source": [
    "clean_reduced_df.isnull().sum()"
   ]
  },
  {
   "cell_type": "markdown",
   "metadata": {},
   "source": [
    "# Target vs predictors \n"
   ]
  },
  {
   "cell_type": "code",
   "execution_count": 110,
   "metadata": {},
   "outputs": [
    {
     "name": "stdout",
     "output_type": "stream",
     "text": [
      "69 rows in test set vs. 619 in training set. 16 Features.\n"
     ]
    }
   ],
   "source": [
    "# Create arrays for the features and the response variable\n",
    "classification_cible = \"Taux_corr_binned\"\n",
    "regresiion_cible= \"Taux_corr\"\n",
    "y = clean_reduced_df['Taux_corr_binned']\n",
    "X = clean_reduced_df.drop(['Taux_corr','Taux_corr_binned'], axis=1)\n",
    "# Split the dataset and labels into training and test sets\n",
    "X_train, X_test, y_train, y_test = train_test_split(X, y, test_size=0.1)\n",
    "print(\"{} rows in test set vs. {} in training set. {} Features.\".format(X_test.shape[0], X_train.shape[0], X_test.shape[1]))"
   ]
  },
  {
   "cell_type": "markdown",
   "metadata": {},
   "source": [
    "## Num Vs cat columns "
   ]
  },
  {
   "cell_type": "code",
   "execution_count": 111,
   "metadata": {},
   "outputs": [],
   "source": [
    "# select the float columns\n",
    "num_columns = X.select_dtypes(include=['int64','float64']).columns\n",
    "# select non-numeric columns\n",
    "cat_columns = X.select_dtypes(exclude=['int64','float64']).columns"
   ]
  },
  {
   "cell_type": "markdown",
   "metadata": {},
   "source": [
    "##  Handle  Outliers : num_clumns \n",
    "### Percentage based outlier removal\n",
    "\n",
    "One way to ensure a small portion of data is not having an overly adverse effect is by removing a certain percentage of the largest and/or smallest values in the column. This can be achieved by finding the relevant quantile and trimming the data using it with a mask. This approach is particularly useful if you are concerned that the highest values in your dataset should be avoided. When using this approach, you must remember that even if there are no outliers, this will still remove the same top N percentage from the dataset."
   ]
  },
  {
   "cell_type": "code",
   "execution_count": 112,
   "metadata": {
    "scrolled": true
   },
   "outputs": [
    {
     "data": {
      "text/html": [
       "<div>\n",
       "<style scoped>\n",
       "    .dataframe tbody tr th:only-of-type {\n",
       "        vertical-align: middle;\n",
       "    }\n",
       "\n",
       "    .dataframe tbody tr th {\n",
       "        vertical-align: top;\n",
       "    }\n",
       "\n",
       "    .dataframe thead th {\n",
       "        text-align: right;\n",
       "    }\n",
       "</style>\n",
       "<table border=\"1\" class=\"dataframe\">\n",
       "  <thead>\n",
       "    <tr style=\"text-align: right;\">\n",
       "      <th></th>\n",
       "      <th>Mois</th>\n",
       "      <th>Age</th>\n",
       "      <th>Montant_corr_log</th>\n",
       "      <th>capital_social_corr_log</th>\n",
       "      <th>Nombre_mois_période16_corr</th>\n",
       "      <th>Total_Bilan_16_corr</th>\n",
       "      <th>Capacité_remboursement_FCCR_16_corr</th>\n",
       "      <th>Fonds_Propres_16_corr</th>\n",
       "      <th>Fonds_Propres_Total_Bilan_corr</th>\n",
       "      <th>Dettes_Nettes_EBE_16_corr</th>\n",
       "      <th>DettesNettes_Fonds_propres_16_corr</th>\n",
       "      <th>Chiffre_Affaires_16_corr_log</th>\n",
       "    </tr>\n",
       "  </thead>\n",
       "  <tbody>\n",
       "    <tr>\n",
       "      <th>count</th>\n",
       "      <td>688.000000</td>\n",
       "      <td>688.000000</td>\n",
       "      <td>688.000000</td>\n",
       "      <td>684.000000</td>\n",
       "      <td>247.000000</td>\n",
       "      <td>2.000000e+02</td>\n",
       "      <td>441.000000</td>\n",
       "      <td>1.300000e+02</td>\n",
       "      <td>451.000000</td>\n",
       "      <td>466.000000</td>\n",
       "      <td>418.000000</td>\n",
       "      <td>56.000000</td>\n",
       "    </tr>\n",
       "    <tr>\n",
       "      <th>mean</th>\n",
       "      <td>45.594477</td>\n",
       "      <td>19.158430</td>\n",
       "      <td>12.444557</td>\n",
       "      <td>11.291858</td>\n",
       "      <td>12.018219</td>\n",
       "      <td>2.648892e+05</td>\n",
       "      <td>16.706757</td>\n",
       "      <td>6.200382e+04</td>\n",
       "      <td>48.376563</td>\n",
       "      <td>5.721652</td>\n",
       "      <td>65.119115</td>\n",
       "      <td>8.246944</td>\n",
       "    </tr>\n",
       "    <tr>\n",
       "      <th>std</th>\n",
       "      <td>16.310660</td>\n",
       "      <td>17.602175</td>\n",
       "      <td>1.166349</td>\n",
       "      <td>3.130761</td>\n",
       "      <td>1.201571</td>\n",
       "      <td>3.380872e+06</td>\n",
       "      <td>244.441467</td>\n",
       "      <td>5.812463e+05</td>\n",
       "      <td>324.776421</td>\n",
       "      <td>78.180867</td>\n",
       "      <td>215.297909</td>\n",
       "      <td>1.200866</td>\n",
       "    </tr>\n",
       "    <tr>\n",
       "      <th>min</th>\n",
       "      <td>3.000000</td>\n",
       "      <td>2.000000</td>\n",
       "      <td>9.903488</td>\n",
       "      <td>0.095310</td>\n",
       "      <td>6.000000</td>\n",
       "      <td>2.890000e+02</td>\n",
       "      <td>-29.440000</td>\n",
       "      <td>-2.240000e+01</td>\n",
       "      <td>-336.840000</td>\n",
       "      <td>-15.450000</td>\n",
       "      <td>-1232.890000</td>\n",
       "      <td>6.944087</td>\n",
       "    </tr>\n",
       "    <tr>\n",
       "      <th>25%</th>\n",
       "      <td>36.000000</td>\n",
       "      <td>9.000000</td>\n",
       "      <td>11.512925</td>\n",
       "      <td>9.210440</td>\n",
       "      <td>12.000000</td>\n",
       "      <td>2.594000e+03</td>\n",
       "      <td>1.190000</td>\n",
       "      <td>2.050000e+03</td>\n",
       "      <td>17.085000</td>\n",
       "      <td>0.110000</td>\n",
       "      <td>-0.530000</td>\n",
       "      <td>7.548092</td>\n",
       "    </tr>\n",
       "    <tr>\n",
       "      <th>50%</th>\n",
       "      <td>48.000000</td>\n",
       "      <td>15.000000</td>\n",
       "      <td>12.429216</td>\n",
       "      <td>11.251574</td>\n",
       "      <td>12.000000</td>\n",
       "      <td>7.568000e+03</td>\n",
       "      <td>1.820000</td>\n",
       "      <td>4.898500e+03</td>\n",
       "      <td>28.100000</td>\n",
       "      <td>1.300000</td>\n",
       "      <td>28.490000</td>\n",
       "      <td>8.043481</td>\n",
       "    </tr>\n",
       "    <tr>\n",
       "      <th>75%</th>\n",
       "      <td>60.000000</td>\n",
       "      <td>27.000000</td>\n",
       "      <td>13.304685</td>\n",
       "      <td>13.255597</td>\n",
       "      <td>12.000000</td>\n",
       "      <td>2.813500e+04</td>\n",
       "      <td>3.390000</td>\n",
       "      <td>1.284275e+04</td>\n",
       "      <td>43.700000</td>\n",
       "      <td>2.657500</td>\n",
       "      <td>96.050000</td>\n",
       "      <td>8.711029</td>\n",
       "    </tr>\n",
       "    <tr>\n",
       "      <th>max</th>\n",
       "      <td>84.000000</td>\n",
       "      <td>309.000000</td>\n",
       "      <td>15.424948</td>\n",
       "      <td>21.633720</td>\n",
       "      <td>23.000000</td>\n",
       "      <td>4.783400e+07</td>\n",
       "      <td>5122.730000</td>\n",
       "      <td>6.634000e+06</td>\n",
       "      <td>6789.000000</td>\n",
       "      <td>1682.000000</td>\n",
       "      <td>2870.000000</td>\n",
       "      <td>14.712822</td>\n",
       "    </tr>\n",
       "  </tbody>\n",
       "</table>\n",
       "</div>"
      ],
      "text/plain": [
       "             Mois         Age  Montant_corr_log  capital_social_corr_log  \\\n",
       "count  688.000000  688.000000        688.000000               684.000000   \n",
       "mean    45.594477   19.158430         12.444557                11.291858   \n",
       "std     16.310660   17.602175          1.166349                 3.130761   \n",
       "min      3.000000    2.000000          9.903488                 0.095310   \n",
       "25%     36.000000    9.000000         11.512925                 9.210440   \n",
       "50%     48.000000   15.000000         12.429216                11.251574   \n",
       "75%     60.000000   27.000000         13.304685                13.255597   \n",
       "max     84.000000  309.000000         15.424948                21.633720   \n",
       "\n",
       "       Nombre_mois_période16_corr  Total_Bilan_16_corr  \\\n",
       "count                  247.000000         2.000000e+02   \n",
       "mean                    12.018219         2.648892e+05   \n",
       "std                      1.201571         3.380872e+06   \n",
       "min                      6.000000         2.890000e+02   \n",
       "25%                     12.000000         2.594000e+03   \n",
       "50%                     12.000000         7.568000e+03   \n",
       "75%                     12.000000         2.813500e+04   \n",
       "max                     23.000000         4.783400e+07   \n",
       "\n",
       "       Capacité_remboursement_FCCR_16_corr  Fonds_Propres_16_corr  \\\n",
       "count                           441.000000           1.300000e+02   \n",
       "mean                             16.706757           6.200382e+04   \n",
       "std                             244.441467           5.812463e+05   \n",
       "min                             -29.440000          -2.240000e+01   \n",
       "25%                               1.190000           2.050000e+03   \n",
       "50%                               1.820000           4.898500e+03   \n",
       "75%                               3.390000           1.284275e+04   \n",
       "max                            5122.730000           6.634000e+06   \n",
       "\n",
       "       Fonds_Propres_Total_Bilan_corr  Dettes_Nettes_EBE_16_corr  \\\n",
       "count                      451.000000                 466.000000   \n",
       "mean                        48.376563                   5.721652   \n",
       "std                        324.776421                  78.180867   \n",
       "min                       -336.840000                 -15.450000   \n",
       "25%                         17.085000                   0.110000   \n",
       "50%                         28.100000                   1.300000   \n",
       "75%                         43.700000                   2.657500   \n",
       "max                       6789.000000                1682.000000   \n",
       "\n",
       "       DettesNettes_Fonds_propres_16_corr  Chiffre_Affaires_16_corr_log  \n",
       "count                          418.000000                     56.000000  \n",
       "mean                            65.119115                      8.246944  \n",
       "std                            215.297909                      1.200866  \n",
       "min                          -1232.890000                      6.944087  \n",
       "25%                             -0.530000                      7.548092  \n",
       "50%                             28.490000                      8.043481  \n",
       "75%                             96.050000                      8.711029  \n",
       "max                           2870.000000                     14.712822  "
      ]
     },
     "execution_count": 112,
     "metadata": {},
     "output_type": "execute_result"
    }
   ],
   "source": [
    "X[num_columns].describe()"
   ]
  },
  {
   "cell_type": "code",
   "execution_count": 113,
   "metadata": {},
   "outputs": [
    {
     "data": {
      "text/plain": [
       "<matplotlib.axes._subplots.AxesSubplot at 0x5dae608>"
      ]
     },
     "execution_count": 113,
     "metadata": {},
     "output_type": "execute_result"
    },
    {
     "data": {
      "image/png": "[encoded data removed]",
      "text/plain": [
       "<Figure size 432x288 with 1 Axes>"
      ]
     },
     "metadata": {
      "needs_background": "light"
     },
     "output_type": "display_data"
    }
   ],
   "source": [
    "X[['Total_Bilan_16_corr']].boxplot()"
   ]
  },
  {
   "cell_type": "code",
   "execution_count": 114,
   "metadata": {},
   "outputs": [
    {
     "data": {
      "text/html": [
       "<div>\n",
       "<style scoped>\n",
       "    .dataframe tbody tr th:only-of-type {\n",
       "        vertical-align: middle;\n",
       "    }\n",
       "\n",
       "    .dataframe tbody tr th {\n",
       "        vertical-align: top;\n",
       "    }\n",
       "\n",
       "    .dataframe thead th {\n",
       "        text-align: right;\n",
       "    }\n",
       "</style>\n",
       "<table border=\"1\" class=\"dataframe\">\n",
       "  <thead>\n",
       "    <tr style=\"text-align: right;\">\n",
       "      <th></th>\n",
       "      <th>Total_Bilan_16_corr</th>\n",
       "    </tr>\n",
       "  </thead>\n",
       "  <tbody>\n",
       "    <tr>\n",
       "      <th>count</th>\n",
       "      <td>2.000000e+02</td>\n",
       "    </tr>\n",
       "    <tr>\n",
       "      <th>mean</th>\n",
       "      <td>2.648892e+05</td>\n",
       "    </tr>\n",
       "    <tr>\n",
       "      <th>std</th>\n",
       "      <td>3.380872e+06</td>\n",
       "    </tr>\n",
       "    <tr>\n",
       "      <th>min</th>\n",
       "      <td>2.890000e+02</td>\n",
       "    </tr>\n",
       "    <tr>\n",
       "      <th>25%</th>\n",
       "      <td>2.594000e+03</td>\n",
       "    </tr>\n",
       "    <tr>\n",
       "      <th>50%</th>\n",
       "      <td>7.568000e+03</td>\n",
       "    </tr>\n",
       "    <tr>\n",
       "      <th>75%</th>\n",
       "      <td>2.813500e+04</td>\n",
       "    </tr>\n",
       "    <tr>\n",
       "      <th>max</th>\n",
       "      <td>4.783400e+07</td>\n",
       "    </tr>\n",
       "  </tbody>\n",
       "</table>\n",
       "</div>"
      ],
      "text/plain": [
       "       Total_Bilan_16_corr\n",
       "count         2.000000e+02\n",
       "mean          2.648892e+05\n",
       "std           3.380872e+06\n",
       "min           2.890000e+02\n",
       "25%           2.594000e+03\n",
       "50%           7.568000e+03\n",
       "75%           2.813500e+04\n",
       "max           4.783400e+07"
      ]
     },
     "execution_count": 114,
     "metadata": {},
     "output_type": "execute_result"
    }
   ],
   "source": [
    "X[['Total_Bilan_16_corr']].describe()"
   ]
  },
  {
   "cell_type": "code",
   "execution_count": 115,
   "metadata": {
    "scrolled": true
   },
   "outputs": [
    {
     "data": {
      "text/plain": [
       "Mois                                       84.000000\n",
       "Age                                        45.000000\n",
       "Montant_corr_log                           14.346139\n",
       "capital_social_corr_log                    15.894952\n",
       "Nombre_mois_période16_corr                 12.000000\n",
       "Total_Bilan_16_corr                    124723.950000\n",
       "Capacité_remboursement_FCCR_16_corr        14.610000\n",
       "Fonds_Propres_16_corr                   39474.750000\n",
       "Fonds_Propres_Total_Bilan_corr             74.655000\n",
       "Dettes_Nettes_EBE_16_corr                   6.447500\n",
       "DettesNettes_Fonds_propres_16_corr        319.304500\n",
       "Chiffre_Affaires_16_corr_log                9.893772\n",
       "Name: 0.95, dtype: float64"
      ]
     },
     "execution_count": 115,
     "metadata": {},
     "output_type": "execute_result"
    }
   ],
   "source": [
    "quantile = X[num_columns].quantile(0.95)\n",
    "quantile"
   ]
  },
  {
   "cell_type": "markdown",
   "metadata": {},
   "source": [
    "# Trim the outliers"
   ]
  },
  {
   "cell_type": "code",
   "execution_count": 116,
   "metadata": {},
   "outputs": [
    {
     "data": {
      "image/png": "[encoded data removed]",
      "text/plain": [
       "<Figure size 432x288 with 1 Axes>"
      ]
     },
     "metadata": {
      "needs_background": "light"
     },
     "output_type": "display_data"
    }
   ],
   "source": [
    "# Find the mean and standard dev\n",
    "std = X[num_columns].std()\n",
    "mean = X[num_columns].mean()\n",
    "\n",
    "# Calculate the cutoff\n",
    "cut_off = std *3.5\n",
    "lower, upper = mean - cut_off, mean + cut_off\n",
    "\n",
    "# Trim the outliers\n",
    "trimmed_df = X[(X[num_columns] < upper) \\\n",
    "                           & (X[num_columns] > lower)]\n",
    "\n",
    "# The trimmed box plot\n",
    "X[num_columns].boxplot()\n",
    "plt.show()"
   ]
  },
  {
   "cell_type": "code",
   "execution_count": 117,
   "metadata": {},
   "outputs": [
    {
     "data": {
      "image/png": "[encoded data removed]",
      "text/plain": [
       "<Figure size 432x288 with 1 Axes>"
      ]
     },
     "metadata": {
      "needs_background": "light"
     },
     "output_type": "display_data"
    }
   ],
   "source": [
    "# The trimmed box plot\n",
    "trimmed_df[num_columns].boxplot()\n",
    "plt.show()"
   ]
  },
  {
   "cell_type": "code",
   "execution_count": 118,
   "metadata": {},
   "outputs": [
    {
     "data": {
      "text/plain": [
       "(688, 16)"
      ]
     },
     "execution_count": 118,
     "metadata": {},
     "output_type": "execute_result"
    }
   ],
   "source": [
    "trimmed_df.shape"
   ]
  },
  {
   "cell_type": "code",
   "execution_count": 119,
   "metadata": {
    "scrolled": true
   },
   "outputs": [
    {
     "data": {
      "text/html": [
       "<div>\n",
       "<style scoped>\n",
       "    .dataframe tbody tr th:only-of-type {\n",
       "        vertical-align: middle;\n",
       "    }\n",
       "\n",
       "    .dataframe tbody tr th {\n",
       "        vertical-align: top;\n",
       "    }\n",
       "\n",
       "    .dataframe thead th {\n",
       "        text-align: right;\n",
       "    }\n",
       "</style>\n",
       "<table border=\"1\" class=\"dataframe\">\n",
       "  <thead>\n",
       "    <tr style=\"text-align: right;\">\n",
       "      <th></th>\n",
       "      <th>Mois</th>\n",
       "      <th>Age</th>\n",
       "      <th>Montant_corr_log</th>\n",
       "      <th>capital_social_corr_log</th>\n",
       "      <th>Nombre_mois_période16_corr</th>\n",
       "      <th>Total_Bilan_16_corr</th>\n",
       "      <th>Capacité_remboursement_FCCR_16_corr</th>\n",
       "      <th>Fonds_Propres_16_corr</th>\n",
       "      <th>Fonds_Propres_Total_Bilan_corr</th>\n",
       "      <th>Dettes_Nettes_EBE_16_corr</th>\n",
       "      <th>DettesNettes_Fonds_propres_16_corr</th>\n",
       "      <th>Chiffre_Affaires_16_corr_log</th>\n",
       "    </tr>\n",
       "  </thead>\n",
       "  <tbody>\n",
       "    <tr>\n",
       "      <th>count</th>\n",
       "      <td>688.000000</td>\n",
       "      <td>687.000000</td>\n",
       "      <td>688.000000</td>\n",
       "      <td>670.000000</td>\n",
       "      <td>242.000000</td>\n",
       "      <td>199.000000</td>\n",
       "      <td>440.000000</td>\n",
       "      <td>129.000000</td>\n",
       "      <td>449.000000</td>\n",
       "      <td>465.000000</td>\n",
       "      <td>414.000000</td>\n",
       "      <td>55.000000</td>\n",
       "    </tr>\n",
       "    <tr>\n",
       "      <th>mean</th>\n",
       "      <td>45.594477</td>\n",
       "      <td>18.736536</td>\n",
       "      <td>12.444557</td>\n",
       "      <td>11.525815</td>\n",
       "      <td>11.997934</td>\n",
       "      <td>25848.396985</td>\n",
       "      <td>5.102159</td>\n",
       "      <td>11058.114729</td>\n",
       "      <td>30.596503</td>\n",
       "      <td>2.116753</td>\n",
       "      <td>57.015749</td>\n",
       "      <td>8.129383</td>\n",
       "    </tr>\n",
       "    <tr>\n",
       "      <th>std</th>\n",
       "      <td>16.310660</td>\n",
       "      <td>13.698509</td>\n",
       "      <td>1.166349</td>\n",
       "      <td>2.707126</td>\n",
       "      <td>0.447441</td>\n",
       "      <td>46988.500926</td>\n",
       "      <td>19.090410</td>\n",
       "      <td>20982.172605</td>\n",
       "      <td>27.702812</td>\n",
       "      <td>7.520577</td>\n",
       "      <td>139.547013</td>\n",
       "      <td>0.824921</td>\n",
       "    </tr>\n",
       "    <tr>\n",
       "      <th>min</th>\n",
       "      <td>3.000000</td>\n",
       "      <td>2.000000</td>\n",
       "      <td>9.903488</td>\n",
       "      <td>5.303305</td>\n",
       "      <td>8.000000</td>\n",
       "      <td>289.000000</td>\n",
       "      <td>-29.440000</td>\n",
       "      <td>-22.400000</td>\n",
       "      <td>-336.840000</td>\n",
       "      <td>-15.450000</td>\n",
       "      <td>-619.380000</td>\n",
       "      <td>6.944087</td>\n",
       "    </tr>\n",
       "    <tr>\n",
       "      <th>25%</th>\n",
       "      <td>36.000000</td>\n",
       "      <td>9.000000</td>\n",
       "      <td>11.512925</td>\n",
       "      <td>9.308251</td>\n",
       "      <td>12.000000</td>\n",
       "      <td>2592.000000</td>\n",
       "      <td>1.190000</td>\n",
       "      <td>2050.000000</td>\n",
       "      <td>16.990000</td>\n",
       "      <td>0.110000</td>\n",
       "      <td>-0.530000</td>\n",
       "      <td>7.530390</td>\n",
       "    </tr>\n",
       "    <tr>\n",
       "      <th>50%</th>\n",
       "      <td>48.000000</td>\n",
       "      <td>15.000000</td>\n",
       "      <td>12.429216</td>\n",
       "      <td>11.289794</td>\n",
       "      <td>12.000000</td>\n",
       "      <td>7502.000000</td>\n",
       "      <td>1.820000</td>\n",
       "      <td>4875.000000</td>\n",
       "      <td>28.090000</td>\n",
       "      <td>1.300000</td>\n",
       "      <td>27.110000</td>\n",
       "      <td>8.036897</td>\n",
       "    </tr>\n",
       "    <tr>\n",
       "      <th>75%</th>\n",
       "      <td>60.000000</td>\n",
       "      <td>27.000000</td>\n",
       "      <td>13.304685</td>\n",
       "      <td>13.348832</td>\n",
       "      <td>12.000000</td>\n",
       "      <td>26741.500000</td>\n",
       "      <td>3.382500</td>\n",
       "      <td>12728.000000</td>\n",
       "      <td>43.270000</td>\n",
       "      <td>2.650000</td>\n",
       "      <td>94.782500</td>\n",
       "      <td>8.643150</td>\n",
       "    </tr>\n",
       "    <tr>\n",
       "      <th>max</th>\n",
       "      <td>84.000000</td>\n",
       "      <td>74.000000</td>\n",
       "      <td>15.424948</td>\n",
       "      <td>21.633720</td>\n",
       "      <td>16.000000</td>\n",
       "      <td>321188.000000</td>\n",
       "      <td>317.440000</td>\n",
       "      <td>174460.000000</td>\n",
       "      <td>95.710000</td>\n",
       "      <td>120.380000</td>\n",
       "      <td>728.910000</td>\n",
       "      <td>10.230234</td>\n",
       "    </tr>\n",
       "  </tbody>\n",
       "</table>\n",
       "</div>"
      ],
      "text/plain": [
       "             Mois         Age  Montant_corr_log  capital_social_corr_log  \\\n",
       "count  688.000000  687.000000        688.000000               670.000000   \n",
       "mean    45.594477   18.736536         12.444557                11.525815   \n",
       "std     16.310660   13.698509          1.166349                 2.707126   \n",
       "min      3.000000    2.000000          9.903488                 5.303305   \n",
       "25%     36.000000    9.000000         11.512925                 9.308251   \n",
       "50%     48.000000   15.000000         12.429216                11.289794   \n",
       "75%     60.000000   27.000000         13.304685                13.348832   \n",
       "max     84.000000   74.000000         15.424948                21.633720   \n",
       "\n",
       "       Nombre_mois_période16_corr  Total_Bilan_16_corr  \\\n",
       "count                  242.000000           199.000000   \n",
       "mean                    11.997934         25848.396985   \n",
       "std                      0.447441         46988.500926   \n",
       "min                      8.000000           289.000000   \n",
       "25%                     12.000000          2592.000000   \n",
       "50%                     12.000000          7502.000000   \n",
       "75%                     12.000000         26741.500000   \n",
       "max                     16.000000        321188.000000   \n",
       "\n",
       "       Capacité_remboursement_FCCR_16_corr  Fonds_Propres_16_corr  \\\n",
       "count                           440.000000             129.000000   \n",
       "mean                              5.102159           11058.114729   \n",
       "std                              19.090410           20982.172605   \n",
       "min                             -29.440000             -22.400000   \n",
       "25%                               1.190000            2050.000000   \n",
       "50%                               1.820000            4875.000000   \n",
       "75%                               3.382500           12728.000000   \n",
       "max                             317.440000          174460.000000   \n",
       "\n",
       "       Fonds_Propres_Total_Bilan_corr  Dettes_Nettes_EBE_16_corr  \\\n",
       "count                      449.000000                 465.000000   \n",
       "mean                        30.596503                   2.116753   \n",
       "std                         27.702812                   7.520577   \n",
       "min                       -336.840000                 -15.450000   \n",
       "25%                         16.990000                   0.110000   \n",
       "50%                         28.090000                   1.300000   \n",
       "75%                         43.270000                   2.650000   \n",
       "max                         95.710000                 120.380000   \n",
       "\n",
       "       DettesNettes_Fonds_propres_16_corr  Chiffre_Affaires_16_corr_log  \n",
       "count                          414.000000                     55.000000  \n",
       "mean                            57.015749                      8.129383  \n",
       "std                            139.547013                      0.824921  \n",
       "min                           -619.380000                      6.944087  \n",
       "25%                             -0.530000                      7.530390  \n",
       "50%                             27.110000                      8.036897  \n",
       "75%                             94.782500                      8.643150  \n",
       "max                            728.910000                     10.230234  "
      ]
     },
     "execution_count": 119,
     "metadata": {},
     "output_type": "execute_result"
    }
   ],
   "source": [
    "trimmed_df.describe()"
   ]
  },
  {
   "cell_type": "code",
   "execution_count": 120,
   "metadata": {},
   "outputs": [
    {
     "data": {
      "text/plain": [
       "<matplotlib.axes._subplots.AxesSubplot at 0x2e3752c8>"
      ]
     },
     "execution_count": 120,
     "metadata": {},
     "output_type": "execute_result"
    },
    {
     "data": {
      "image/png": "[encoded data removed]",
      "text/plain": [
       "<Figure size 432x288 with 1 Axes>"
      ]
     },
     "metadata": {
      "needs_background": "light"
     },
     "output_type": "display_data"
    }
   ],
   "source": [
    "trimmed_df[['Total_Bilan_16_corr']].boxplot()"
   ]
  },
  {
   "cell_type": "code",
   "execution_count": 121,
   "metadata": {},
   "outputs": [
    {
     "data": {
      "text/html": [
       "<div>\n",
       "<style scoped>\n",
       "    .dataframe tbody tr th:only-of-type {\n",
       "        vertical-align: middle;\n",
       "    }\n",
       "\n",
       "    .dataframe tbody tr th {\n",
       "        vertical-align: top;\n",
       "    }\n",
       "\n",
       "    .dataframe thead th {\n",
       "        text-align: right;\n",
       "    }\n",
       "</style>\n",
       "<table border=\"1\" class=\"dataframe\">\n",
       "  <thead>\n",
       "    <tr style=\"text-align: right;\">\n",
       "      <th></th>\n",
       "      <th>Total_Bilan_16_corr</th>\n",
       "    </tr>\n",
       "  </thead>\n",
       "  <tbody>\n",
       "    <tr>\n",
       "      <th>count</th>\n",
       "      <td>199.000000</td>\n",
       "    </tr>\n",
       "    <tr>\n",
       "      <th>mean</th>\n",
       "      <td>25848.396985</td>\n",
       "    </tr>\n",
       "    <tr>\n",
       "      <th>std</th>\n",
       "      <td>46988.500926</td>\n",
       "    </tr>\n",
       "    <tr>\n",
       "      <th>min</th>\n",
       "      <td>289.000000</td>\n",
       "    </tr>\n",
       "    <tr>\n",
       "      <th>25%</th>\n",
       "      <td>2592.000000</td>\n",
       "    </tr>\n",
       "    <tr>\n",
       "      <th>50%</th>\n",
       "      <td>7502.000000</td>\n",
       "    </tr>\n",
       "    <tr>\n",
       "      <th>75%</th>\n",
       "      <td>26741.500000</td>\n",
       "    </tr>\n",
       "    <tr>\n",
       "      <th>max</th>\n",
       "      <td>321188.000000</td>\n",
       "    </tr>\n",
       "  </tbody>\n",
       "</table>\n",
       "</div>"
      ],
      "text/plain": [
       "       Total_Bilan_16_corr\n",
       "count           199.000000\n",
       "mean          25848.396985\n",
       "std           46988.500926\n",
       "min             289.000000\n",
       "25%            2592.000000\n",
       "50%            7502.000000\n",
       "75%           26741.500000\n",
       "max          321188.000000"
      ]
     },
     "execution_count": 121,
     "metadata": {},
     "output_type": "execute_result"
    }
   ],
   "source": [
    "trimmed_df[['Total_Bilan_16_corr']].describe()"
   ]
  },
  {
   "cell_type": "markdown",
   "metadata": {},
   "source": [
    "# Final Pipe Preprocess "
   ]
  },
  {
   "cell_type": "code",
   "execution_count": 122,
   "metadata": {},
   "outputs": [],
   "source": [
    "fill_missing_then_one_hot_encoder = make_pipeline(\n",
    "    SimpleImputer(strategy='constant', fill_value='manquante',add_indicator=True),\n",
    "    OneHotEncoder(handle_unknown='ignore')\n",
    ")\n",
    "fill_missing_then_Standar_scaler = make_pipeline( SimpleImputer(strategy='median',add_indicator=True),\n",
    "    StandardScaler()\n",
    ")\n",
    "fill_missing_then_RobustScaler = make_pipeline( SimpleImputer(strategy='median',add_indicator=True),\n",
    "    RobustScaler()\n",
    ")\n",
    "data_preprocess_StandardScaler = make_column_transformer(\n",
    "    ( fill_missing_then_one_hot_encoder , cat_columns),\n",
    "    ( fill_missing_then_Standar_scaler, num_columns)\n",
    ")\n",
    "data_preprocess_RobustScaler = make_column_transformer(\n",
    "    ( fill_missing_then_one_hot_encoder , cat_columns),\n",
    "    ( fill_missing_then_RobustScaler, num_columns)\n",
    ")\n",
    "X_pre_StandardScaler_trim = data_preprocess_StandardScaler.fit_transform(trimmed_df)\n",
    "X_pre_RobustScaler_trim = data_preprocess_RobustScaler.fit_transform(trimmed_df)\n",
    "x_with_outlier_standard =data_preprocess_StandardScaler.fit_transform(X)\n",
    "x_with_outlier_Robust =data_preprocess_RobustScaler.fit_transform(X)\n",
    "y_pre = LabelEncoder().fit_transform(clean_reduced_df[['Taux_corr_binned']])\n",
    "y = clean_reduced_df['Taux_corr']"
   ]
  },
  {
   "cell_type": "markdown",
   "metadata": {},
   "source": [
    "# Beware the outliers\n",
    "\n",
    "Outliers are extreme values that fall a long way outside of the other observations. In a small dataset, the impact of an outlier can be much greater, since it will have a heavy weight for the model:\n"
   ]
  },
  {
   "cell_type": "code",
   "execution_count": 123,
   "metadata": {},
   "outputs": [
    {
     "name": "stdout",
     "output_type": "stream",
     "text": [
      "[[ -1  49]\n",
      " [  1 639]]\n"
     ]
    }
   ],
   "source": [
    "from sklearn.ensemble import IsolationForest\n",
    "isf = IsolationForest(n_jobs=-1, random_state=1)\n",
    "isf.fit(x_with_outlier_standard, y_pre)\n",
    "x = np.array(isf.predict(x_with_outlier_standard))\n",
    "unique, counts = np.unique(x, return_counts=True)\n",
    "print(np.asarray((unique, counts)).T)"
   ]
  },
  {
   "cell_type": "markdown",
   "metadata": {},
   "source": [
    "**==> we have 49 outliers in our data**"
   ]
  },
  {
   "cell_type": "markdown",
   "metadata": {},
   "source": [
    "# Let's see if trimming was efficient : "
   ]
  },
  {
   "cell_type": "code",
   "execution_count": 124,
   "metadata": {},
   "outputs": [
    {
     "data": {
      "text/plain": [
       "0.06148633522450009"
      ]
     },
     "execution_count": 124,
     "metadata": {},
     "output_type": "execute_result"
    }
   ],
   "source": [
    "lasso = Lasso(alpha =0.0005, random_state=1)\n",
    "lasso.fit(X_pre_StandardScaler_trim,y)\n",
    "lasso.score(X_pre_StandardScaler_trim,y)"
   ]
  },
  {
   "cell_type": "code",
   "execution_count": 125,
   "metadata": {},
   "outputs": [
    {
     "data": {
      "text/plain": [
       "0.06148909460148788"
      ]
     },
     "execution_count": 125,
     "metadata": {},
     "output_type": "execute_result"
    }
   ],
   "source": [
    "from sklearn.linear_model import LinearRegression\n",
    "LinearRegression = LinearRegression()\n",
    "LinearRegression.fit(X_pre_StandardScaler_trim,y)\n",
    "LinearRegression.score(X_pre_StandardScaler_trim,y)"
   ]
  },
  {
   "cell_type": "code",
   "execution_count": 126,
   "metadata": {},
   "outputs": [
    {
     "data": {
      "text/plain": [
       "0.13540678280602358"
      ]
     },
     "execution_count": 126,
     "metadata": {},
     "output_type": "execute_result"
    }
   ],
   "source": [
    "\n",
    "LinearRegression.fit(x_with_outlier_standard,y)\n",
    "LinearRegression.score(x_with_outlier_standard,y)"
   ]
  },
  {
   "cell_type": "code",
   "execution_count": 127,
   "metadata": {},
   "outputs": [
    {
     "data": {
      "text/plain": [
       "0.13486525902305158"
      ]
     },
     "execution_count": 127,
     "metadata": {},
     "output_type": "execute_result"
    }
   ],
   "source": [
    "lasso = Lasso(alpha =0.0005, random_state=1)\n",
    "lasso.fit(x_with_outlier_standard,y)\n",
    "lasso.score(x_with_outlier_standard,y)"
   ]
  },
  {
   "cell_type": "code",
   "execution_count": 128,
   "metadata": {},
   "outputs": [
    {
     "data": {
      "text/plain": [
       "0.13514726546425038"
      ]
     },
     "execution_count": 128,
     "metadata": {},
     "output_type": "execute_result"
    }
   ],
   "source": [
    "lasso = Lasso(alpha =0.0005, random_state=1)\n",
    "lasso.fit(x_with_outlier_Robust,y)\n",
    "lasso.score(x_with_outlier_Robust,y)"
   ]
  },
  {
   "cell_type": "code",
   "execution_count": 129,
   "metadata": {},
   "outputs": [
    {
     "data": {
      "text/plain": [
       "0.06145537979667515"
      ]
     },
     "execution_count": 129,
     "metadata": {},
     "output_type": "execute_result"
    }
   ],
   "source": [
    "lasso.fit(X_pre_RobustScaler_trim,y)\n",
    "lasso.score(X_pre_RobustScaler_trim,y)"
   ]
  },
  {
   "cell_type": "markdown",
   "metadata": {},
   "source": [
    "**=>In our case , trimming have not a real impact**"
   ]
  },
  {
   "cell_type": "markdown",
   "metadata": {},
   "source": [
    "# 4.Dimensionality reduction\n",
    "## The curse of dimensionality\n",
    "\n",
    "In fact, to avoid overfitting the number of observations should increase exponentially with the number of features. Since this becomes really problematic for high dimensional datasets this phenomenon is known as the curse of dimensionality. The solution to this is of course to apply dimensionality reduction.\n",
    "\n",
    "While removing outliers consists of deleting rows from the dataset, feature selection consists of deleting columns that do not contribute to the prediction. There is a wide variety of methods, such as analysis of its correlation with the target, importance analysis and recursive elimination.\n"
   ]
  },
  {
   "cell_type": "markdown",
   "metadata": {},
   "source": [
    "## Features with low variance\n",
    "\n",
    "Now use the VarianceThreshold feature selector to remove these features."
   ]
  },
  {
   "cell_type": "code",
   "execution_count": 130,
   "metadata": {},
   "outputs": [
    {
     "name": "stdout",
     "output_type": "stream",
     "text": [
      "Dimensionality reduced from 12 to 12.\n"
     ]
    }
   ],
   "source": [
    "from sklearn.feature_selection import VarianceThreshold\n",
    "\n",
    "# Create a VarianceThreshold feature selector\n",
    "sel = VarianceThreshold(threshold=0.001)\n",
    "df_numeric_r=X[num_columns]\n",
    "# Fit the selector to normalized head_df\n",
    "sel.fit(df_numeric_r / df_numeric_r.mean())\n",
    "\n",
    "# Create a boolean mask\n",
    "mask = sel.get_support()\n",
    "\n",
    "# Apply the mask to create a reduced dataframe\n",
    "reduced_df = df_numeric_r.loc[:, mask]\n",
    "\n",
    "print(\"Dimensionality reduced from {} to {}.\".format(df_numeric_r.shape[1], reduced_df.shape[1]))"
   ]
  },
  {
   "cell_type": "markdown",
   "metadata": {},
   "source": [
    "##  Removing highly correlated features"
   ]
  },
  {
   "cell_type": "code",
   "execution_count": 131,
   "metadata": {},
   "outputs": [
    {
     "data": {
      "text/plain": [
       "<matplotlib.axes._subplots.AxesSubplot at 0x2e581448>"
      ]
     },
     "execution_count": 131,
     "metadata": {},
     "output_type": "execute_result"
    },
    {
     "data": {
      "image/png": "[encoded data removed]",
      "text/plain": [
       "<Figure size 432x288 with 2 Axes>"
      ]
     },
     "metadata": {
      "needs_background": "light"
     },
     "output_type": "display_data"
    }
   ],
   "source": [
    "import seaborn as sns \n",
    "warnings.filterwarnings(\"ignore\")\n",
    "sns.heatmap(clean_reduced_df.corr(), square=True, cmap='RdYlGn')"
   ]
  },
  {
   "cell_type": "code",
   "execution_count": 132,
   "metadata": {},
   "outputs": [
    {
     "name": "stdout",
     "output_type": "stream",
     "text": [
      "['Total_Bilan_16_corr']\n",
      "The reduced dataframe has 17 columns.\n"
     ]
    }
   ],
   "source": [
    "# Calculate the correlation matrix and take the absolute value\n",
    "corr_matrix = clean_reduced_df.corr().abs()\n",
    "\n",
    "# Create a True/False mask and apply it\n",
    "mask = np.triu(np.ones_like(corr_matrix, dtype=bool))\n",
    "tri_df = corr_matrix.mask(mask)\n",
    "\n",
    "# List column names of highly correlated features (r > 0.95)\n",
    "to_drop = [c for c in tri_df.columns if any(tri_df[c] > 0.95)]\n",
    "\n",
    "# Drop the features in the to_drop list\n",
    "reduced_df = clean_reduced_df.drop(to_drop, axis=1)\n",
    "print(to_drop)\n",
    "print(\"The reduced dataframe has {} columns.\".format(reduced_df.shape[1]))"
   ]
  },
  {
   "cell_type": "markdown",
   "metadata": {},
   "source": [
    "# Automatic Recursive Feature Elimination\n",
    "## Mask1"
   ]
  },
  {
   "cell_type": "code",
   "execution_count": 133,
   "metadata": {
    "scrolled": true
   },
   "outputs": [
    {
     "name": "stdout",
     "output_type": "stream",
     "text": [
      "Fitting estimator with 12 features.\n",
      "Fitting estimator with 11 features.\n",
      "{'Mois': 1, 'Age': 1, 'Montant_corr_log': 1, 'capital_social_corr_log': 1, 'Nombre_mois_période16_corr': 1, 'Total_Bilan_16_corr': 3, 'Capacité_remboursement_FCCR_16_corr': 1, 'Fonds_Propres_16_corr': 2, 'Fonds_Propres_Total_Bilan_corr': 1, 'Dettes_Nettes_EBE_16_corr': 1, 'DettesNettes_Fonds_propres_16_corr': 1, 'Chiffre_Affaires_16_corr_log': 1}\n",
      "Index(['Mois', 'Age', 'Montant_corr_log', 'capital_social_corr_log',\n",
      "       'Nombre_mois_période16_corr', 'Capacité_remboursement_FCCR_16_corr',\n",
      "       'Fonds_Propres_Total_Bilan_corr', 'Dettes_Nettes_EBE_16_corr',\n",
      "       'DettesNettes_Fonds_propres_16_corr', 'Chiffre_Affaires_16_corr_log'],\n",
      "      dtype='object')\n",
      "57.1% accuracy on test set.\n"
     ]
    }
   ],
   "source": [
    "from sklearn.feature_selection import RFE\n",
    "from sklearn.linear_model import LinearRegression,LogisticRegression\n",
    "fill_missing_then_RobustScaler = make_pipeline( SimpleImputer(strategy='median',add_indicator=False),\n",
    "    RobustScaler())\n",
    "# Create the RFE with a LogisticRegression estimator and 10 features to select\n",
    "rfe_LR = RFE(estimator=LogisticRegression(), n_features_to_select = 10, verbose=1)\n",
    "y1 = LabelEncoder().fit_transform(clean_reduced_df[['Taux_corr_binned']])\n",
    "X1 = clean_reduced_df.drop(['Taux_corr','Taux_corr_binned'], axis=1)\n",
    "df_numeric_1=fill_missing_then_RobustScaler.fit_transform(X1[num_columns])\n",
    "\n",
    "# Fits the eliminator to the data\n",
    "rfe_LR.fit(df_numeric_1, y1)\n",
    "\n",
    "# Print the features and their ranking (high = dropped early on)\n",
    "print(dict(zip(X1[num_columns].columns, rfe_LR.ranking_)))\n",
    "mask_LR=rfe_LR.support_\n",
    "# Print the features that are not eliminated\n",
    "print(X1[num_columns].columns[mask_LR])\n",
    "\n",
    "# Calculates the test set accuracy\n",
    "acc = accuracy_score(y1, rfe_LR.predict(df_numeric_1))\n",
    "print(\"{0:.1%} accuracy on test set.\".format(acc))"
   ]
  },
  {
   "cell_type": "markdown",
   "metadata": {},
   "source": [
    "# Mask2"
   ]
  },
  {
   "cell_type": "code",
   "execution_count": 134,
   "metadata": {},
   "outputs": [
    {
     "name": "stdout",
     "output_type": "stream",
     "text": [
      "Fitting estimator with 12 features.\n",
      "Fitting estimator with 11 features.\n",
      "Index(['Mois', 'Age', 'Montant_corr_log', 'capital_social_corr_log',\n",
      "       'Total_Bilan_16_corr', 'Capacité_remboursement_FCCR_16_corr',\n",
      "       'Fonds_Propres_16_corr', 'Fonds_Propres_Total_Bilan_corr',\n",
      "       'Dettes_Nettes_EBE_16_corr', 'DettesNettes_Fonds_propres_16_corr'],\n",
      "      dtype='object')\n",
      "99.7% accuracy on test set.\n"
     ]
    }
   ],
   "source": [
    "# Wrap the feature eliminator around the random forest model\n",
    "rfe_RFC = RFE(estimator=RandomForestClassifier(), n_features_to_select=10, verbose=1)\n",
    "\n",
    "# Fits the eliminator to the data\n",
    "rfe_RFC.fit(df_numeric_1, y1)\n",
    "\n",
    "# Create a mask using an attribute of rfe\n",
    "mask_RFC = rfe_RFC.support_\n",
    "\n",
    "# Apply the mask to the feature dataset X and print the result\n",
    "reduced_num_X = X1[num_columns].loc[:,mask_RFC]\n",
    "print(reduced_num_X.columns)\n",
    "# Calculates the test set accuracy\n",
    "acc = accuracy_score(y1, rfe_RFC.predict(df_numeric_1))\n",
    "print(\"{0:.1%} accuracy on test set.\".format(acc))"
   ]
  },
  {
   "cell_type": "markdown",
   "metadata": {},
   "source": [
    "# Mask3:\n"
   ]
  },
  {
   "cell_type": "code",
   "execution_count": 135,
   "metadata": {},
   "outputs": [
    {
     "name": "stdout",
     "output_type": "stream",
     "text": [
      "Fitting estimator with 12 features.\n",
      "Fitting estimator with 11 features.\n",
      "The model can explain 45.0% of the variance in the test set\n",
      "Index(['Mois', 'Age', 'Montant_corr_log', 'capital_social_corr_log',\n",
      "       'Total_Bilan_16_corr', 'Capacité_remboursement_FCCR_16_corr',\n",
      "       'Fonds_Propres_Total_Bilan_corr', 'Dettes_Nettes_EBE_16_corr',\n",
      "       'DettesNettes_Fonds_propres_16_corr', 'Chiffre_Affaires_16_corr_log'],\n",
      "      dtype='object')\n"
     ]
    }
   ],
   "source": [
    "# Select 10 features with RFE on a GradientBoostingRegressor\n",
    "rfe_gb = RFE(estimator=GradientBoostingRegressor(), \n",
    "             n_features_to_select=10, step=1, verbose=1)\n",
    "rfe_gb.fit(df_numeric_1, y1)\n",
    "# Calculate the R squared on the test set\n",
    "# Assign the support array to gb_mask\n",
    "gb_mask = rfe_gb.support_\n",
    "r_squared = rfe_gb.score(df_numeric_1, y1)\n",
    "print('The model can explain {0:.1%} of the variance in the test set'.format(r_squared))\n",
    "# Apply the mask to the feature dataset X and print the result\n",
    "reduced_num_X = X1[num_columns].loc[:,gb_mask]\n",
    "print(reduced_num_X.columns)\n"
   ]
  },
  {
   "cell_type": "markdown",
   "metadata": {},
   "source": [
    "# Combining 3 feature selectors"
   ]
  },
  {
   "cell_type": "code",
   "execution_count": 136,
   "metadata": {},
   "outputs": [
    {
     "name": "stdout",
     "output_type": "stream",
     "text": [
      "Index(['Mois', 'Age', 'Montant_corr_log', 'capital_social_corr_log',\n",
      "       'Nombre_mois_période16_corr', 'Total_Bilan_16_corr',\n",
      "       'Capacité_remboursement_FCCR_16_corr', 'Fonds_Propres_16_corr',\n",
      "       'Fonds_Propres_Total_Bilan_corr', 'Dettes_Nettes_EBE_16_corr',\n",
      "       'DettesNettes_Fonds_propres_16_corr', 'Chiffre_Affaires_16_corr_log'],\n",
      "      dtype='object')\n",
      "Index(['Mois', 'Age', 'Montant_corr_log', 'capital_social_corr_log',\n",
      "       'Capacité_remboursement_FCCR_16_corr', 'Fonds_Propres_Total_Bilan_corr',\n",
      "       'Dettes_Nettes_EBE_16_corr', 'DettesNettes_Fonds_propres_16_corr'],\n",
      "      dtype='object')\n"
     ]
    }
   ],
   "source": [
    "# Sum the votes of the three models\n",
    "votes = np.sum([mask_LR, mask_RFC, gb_mask], axis=0)\n",
    "\n",
    "# Create a mask for features selected by all 3 models\n",
    "meta_mask = votes >= 3\n",
    "\n",
    "# Apply the dimensionality reduction on X\n",
    "X_reduced = X1[num_columns].loc[:, meta_mask]\n",
    "print(X1[num_columns].columns)\n",
    "print(X_reduced.columns)"
   ]
  },
  {
   "cell_type": "code",
   "execution_count": 137,
   "metadata": {
    "scrolled": true
   },
   "outputs": [
    {
     "name": "stdout",
     "output_type": "stream",
     "text": [
      "Index(['Mois', 'Age', 'Montant_corr_log', 'capital_social_corr_log',\n",
      "       'Capacité_remboursement_FCCR_16_corr', 'Fonds_Propres_Total_Bilan_corr',\n",
      "       'Dettes_Nettes_EBE_16_corr', 'DettesNettes_Fonds_propres_16_corr'],\n",
      "      dtype='object')\n"
     ]
    }
   ],
   "source": [
    "print(X_reduced.columns)"
   ]
  },
  {
   "cell_type": "code",
   "execution_count": 138,
   "metadata": {},
   "outputs": [
    {
     "name": "stdout",
     "output_type": "stream",
     "text": [
      "list to drop ['Fonds_Propres_16_corr', 'Total_Bilan_16_corr', 'Chiffre_Affaires_16_corr_log', 'Nombre_mois_période16_corr']\n"
     ]
    }
   ],
   "source": [
    "temp1=set(X1[num_columns].columns)\n",
    "s=set(X_reduced.columns)\n",
    "temp3 = [x for x in temp1 if x not in s]\n",
    "print(\"list to drop {}\".format(temp3))"
   ]
  },
  {
   "cell_type": "code",
   "execution_count": 139,
   "metadata": {
    "scrolled": true
   },
   "outputs": [
    {
     "data": {
      "text/plain": [
       "['Total_Bilan_16_corr',\n",
       " 'Chiffre_Affaires_16_corr_log',\n",
       " 'Nombre_mois_période16_corr',\n",
       " 'Fonds_Propres_16_corr']"
      ]
     },
     "execution_count": 139,
     "metadata": {},
     "output_type": "execute_result"
    }
   ],
   "source": [
    "list(set(X1[num_columns].columns) - set(X_reduced.columns))"
   ]
  },
  {
   "cell_type": "code",
   "execution_count": 140,
   "metadata": {},
   "outputs": [
    {
     "data": {
      "text/html": [
       "<div>\n",
       "<style scoped>\n",
       "    .dataframe tbody tr th:only-of-type {\n",
       "        vertical-align: middle;\n",
       "    }\n",
       "\n",
       "    .dataframe tbody tr th {\n",
       "        vertical-align: top;\n",
       "    }\n",
       "\n",
       "    .dataframe thead th {\n",
       "        text-align: right;\n",
       "    }\n",
       "</style>\n",
       "<table border=\"1\" class=\"dataframe\">\n",
       "  <thead>\n",
       "    <tr style=\"text-align: right;\">\n",
       "      <th></th>\n",
       "      <th>Fonds_Propres_16_corr</th>\n",
       "      <th>Total_Bilan_16_corr</th>\n",
       "      <th>Chiffre_Affaires_16_corr_log</th>\n",
       "      <th>Nombre_mois_période16_corr</th>\n",
       "    </tr>\n",
       "  </thead>\n",
       "  <tbody>\n",
       "    <tr>\n",
       "      <th>count</th>\n",
       "      <td>1.300000e+02</td>\n",
       "      <td>2.000000e+02</td>\n",
       "      <td>56.000000</td>\n",
       "      <td>247.000000</td>\n",
       "    </tr>\n",
       "    <tr>\n",
       "      <th>mean</th>\n",
       "      <td>6.200382e+04</td>\n",
       "      <td>2.648892e+05</td>\n",
       "      <td>8.246944</td>\n",
       "      <td>12.018219</td>\n",
       "    </tr>\n",
       "    <tr>\n",
       "      <th>std</th>\n",
       "      <td>5.812463e+05</td>\n",
       "      <td>3.380872e+06</td>\n",
       "      <td>1.200866</td>\n",
       "      <td>1.201571</td>\n",
       "    </tr>\n",
       "    <tr>\n",
       "      <th>min</th>\n",
       "      <td>-2.240000e+01</td>\n",
       "      <td>2.890000e+02</td>\n",
       "      <td>6.944087</td>\n",
       "      <td>6.000000</td>\n",
       "    </tr>\n",
       "    <tr>\n",
       "      <th>25%</th>\n",
       "      <td>2.050000e+03</td>\n",
       "      <td>2.594000e+03</td>\n",
       "      <td>7.548092</td>\n",
       "      <td>12.000000</td>\n",
       "    </tr>\n",
       "    <tr>\n",
       "      <th>50%</th>\n",
       "      <td>4.898500e+03</td>\n",
       "      <td>7.568000e+03</td>\n",
       "      <td>8.043481</td>\n",
       "      <td>12.000000</td>\n",
       "    </tr>\n",
       "    <tr>\n",
       "      <th>75%</th>\n",
       "      <td>1.284275e+04</td>\n",
       "      <td>2.813500e+04</td>\n",
       "      <td>8.711029</td>\n",
       "      <td>12.000000</td>\n",
       "    </tr>\n",
       "    <tr>\n",
       "      <th>max</th>\n",
       "      <td>6.634000e+06</td>\n",
       "      <td>4.783400e+07</td>\n",
       "      <td>14.712822</td>\n",
       "      <td>23.000000</td>\n",
       "    </tr>\n",
       "  </tbody>\n",
       "</table>\n",
       "</div>"
      ],
      "text/plain": [
       "       Fonds_Propres_16_corr  Total_Bilan_16_corr  \\\n",
       "count           1.300000e+02         2.000000e+02   \n",
       "mean            6.200382e+04         2.648892e+05   \n",
       "std             5.812463e+05         3.380872e+06   \n",
       "min            -2.240000e+01         2.890000e+02   \n",
       "25%             2.050000e+03         2.594000e+03   \n",
       "50%             4.898500e+03         7.568000e+03   \n",
       "75%             1.284275e+04         2.813500e+04   \n",
       "max             6.634000e+06         4.783400e+07   \n",
       "\n",
       "       Chiffre_Affaires_16_corr_log  Nombre_mois_période16_corr  \n",
       "count                     56.000000                  247.000000  \n",
       "mean                       8.246944                   12.018219  \n",
       "std                        1.200866                    1.201571  \n",
       "min                        6.944087                    6.000000  \n",
       "25%                        7.548092                   12.000000  \n",
       "50%                        8.043481                   12.000000  \n",
       "75%                        8.711029                   12.000000  \n",
       "max                       14.712822                   23.000000  "
      ]
     },
     "execution_count": 140,
     "metadata": {},
     "output_type": "execute_result"
    }
   ],
   "source": [
    "X1[num_columns][temp3].describe()"
   ]
  },
  {
   "cell_type": "code",
   "execution_count": 141,
   "metadata": {},
   "outputs": [
    {
     "data": {
      "text/plain": [
       "0.10312166645906451"
      ]
     },
     "execution_count": 141,
     "metadata": {},
     "output_type": "execute_result"
    }
   ],
   "source": [
    "X_reduced = clean_reduced_df.drop(['Taux_corr','Taux_corr_binned', 'Fonds_Propres_16_corr','Chiffre_Affaires_16_corr_log' ,'Total_Bilan_16_corr', 'Nombre_mois_période16_corr'], axis=1)\n",
    "y = clean_reduced_df['Taux_corr']\n",
    "# select the float columns\n",
    "num_columns_red = X_reduced.select_dtypes(include=['int64','float64']).columns\n",
    "# select non-numeric columns\n",
    "cat_columns_red =X_reduced.select_dtypes(exclude=['int64','float64']).columns\n",
    " \n",
    "fill_missing_then_one_hot_encoder = make_pipeline(\n",
    "    SimpleImputer(strategy='constant', fill_value='manquante',add_indicator=True),\n",
    "    OneHotEncoder(handle_unknown='ignore')\n",
    ")\n",
    "fill_missing_then_Standar_scaler = make_pipeline( SimpleImputer(strategy='median',add_indicator=True),\n",
    "    StandardScaler()\n",
    ")\n",
    "fill_missing_then_RobustScaler = make_pipeline( SimpleImputer(strategy='median',add_indicator=True),\n",
    "    RobustScaler()\n",
    ")\n",
    "data_preprocess_StandardScaler = make_column_transformer(\n",
    "    ( fill_missing_then_one_hot_encoder , cat_columns_red),\n",
    "    ( fill_missing_then_Standar_scaler, num_columns_red)\n",
    ")\n",
    "data_preprocess_RobustScaler = make_column_transformer(\n",
    "    ( fill_missing_then_one_hot_encoder , cat_columns_red),\n",
    "    ( fill_missing_then_RobustScaler, num_columns_red)\n",
    ")\n",
    "x_with_outlier_Robust_reduced = data_preprocess_RobustScaler.fit_transform(X_reduced)\n",
    "\n",
    "LR = LinearRegression()\n",
    "LR.fit(x_with_outlier_Robust_reduced,y)\n",
    "LR.score(x_with_outlier_Robust_reduced,y)"
   ]
  },
  {
   "cell_type": "code",
   "execution_count": 142,
   "metadata": {},
   "outputs": [
    {
     "data": {
      "text/plain": [
       "0.10305631924388625"
      ]
     },
     "execution_count": 142,
     "metadata": {},
     "output_type": "execute_result"
    }
   ],
   "source": [
    "lasso = Lasso(alpha =0.0005, random_state=1)\n",
    "lasso.fit(x_with_outlier_Robust_reduced,y)\n",
    "lasso.score(x_with_outlier_Robust_reduced,y)"
   ]
  },
  {
   "cell_type": "code",
   "execution_count": 143,
   "metadata": {},
   "outputs": [
    {
     "data": {
      "text/plain": [
       "0.046778937015887534"
      ]
     },
     "execution_count": 143,
     "metadata": {},
     "output_type": "execute_result"
    }
   ],
   "source": [
    "from sklearn.neighbors import KNeighborsRegressor as KNN\n",
    "knn=KNN(n_neighbors=51)\n",
    "knn.fit(x_with_outlier_Robust_reduced,y)\n",
    "knn.score(x_with_outlier_Robust_reduced,y)"
   ]
  },
  {
   "cell_type": "markdown",
   "metadata": {},
   "source": [
    "**==> Reducing features does not improve the result for regression ...**\n",
    "\n",
    "**==> In the futur we can use : ,SelectKBest,chi2..   and Combining feature selectors**"
   ]
  }
 ],
 "metadata": {
  "kernelspec": {
   "display_name": "Python 3",
   "language": "python",
   "name": "python3"
  },
  "language_info": {
   "codemirror_mode": {
    "name": "ipython",
    "version": 3
   },
   "file_extension": ".py",
   "mimetype": "text/x-python",
   "name": "python",
   "nbconvert_exporter": "python",
   "pygments_lexer": "ipython3",
   "version": "3.7.6"
  }
 },
 "nbformat": 4,
 "nbformat_minor": 4
}
