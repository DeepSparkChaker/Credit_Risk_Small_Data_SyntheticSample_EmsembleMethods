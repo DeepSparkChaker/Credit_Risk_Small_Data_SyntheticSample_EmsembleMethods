{
 "cells": [
  {
   "cell_type": "markdown",
   "metadata": {},
   "source": [
    "# Understanding credit risk\n",
    "\n",
    "1. Understanding credit risk\n",
    "\n",
    "Hi, my name is Michael Crabtree and I am a data scientist at Ford Motor Company. I will show you some concepts and techniques for credit risk modeling using Python.\n",
    "\n",
    "2. What is credit risk?\n",
    "\n",
    "What exactly is credit risk? Credit risk is the risk that someone who has borrowed money will not repay it all. Think of this risk as the difference between lending money to a person and purchasing a government bond. With government bonds, it's almost guaranteed to be paid back, but not when lending money to people. A loan is in default when the lending agency is reasonably certain the loan will not be repaid. We will use machine learning models to determine this.\n",
    "\n",
    "3. What is credit risk?\n",
    "\n",
    "Consider this example: we've loaned 300 dollars to someone who has made two payments but not the final payment. It is at this point we consider the loan to be in default. Predicting this beforehand is useful for us to estimate expected loss.\n",
    "\n",
    "4. Expected loss\n",
    "\n",
    "The expected loss is the amount that the firm loses as a result of the default on a loan. Expected loss is a simple calculation of the following three components. The probability of default, which is the likelihood someone will default on a loan. The exposure at default which is the amount outstanding at the time of default. And the loss given default which is the ratio of the exposure against any recovery from the loss. From our example the 100 dollars we were owed is our exposure, and if we sell that debt for 20 dollars, our loss given default would be 80 percent. The formula for expected loss is probability of default times exposure at default and loss given default. This course will focus on probability of default.\n",
    "\n",
    "5. Types of data used\n",
    "\n",
    "For modeling probability of default we generally have two primary types of data available. The first is application data, which is data that is directly tied to the loan application like loan grade. The second is behavioral data, which describes the recipient of the loan, such as employment length.\n",
    "\n",
    "6. Data columns\n",
    "\n",
    "The data we will use for our predictions of probability of default includes a mix. This is important because application data alone is not as good as application and behavioral data together. Included are two columns which emulate data that can be purchased from credit bureaus. Acquiring external data is a common practice in most organizations. These are the columns available in the data set. Some examples are: personal income, the loan amount's percentage of the person's income, and credit history length. Consider the percentage of income. This could affect loan status if the loan amount is more than their income, because they may not be able to afford payments.\n",
    "\n",
    "7. Exploring with cross tables\n",
    "\n",
    "Our data has 32 thousand rows, which can be difficult to see all at once. Here is where we use cross tables using the crosstab function available within Pandas. We can use this function to help get a high level view of the data similar to pivot tables in Excel. Here, we see the data has been grouped by loan status and home ownership, and then the average interest rate has been calculated.\n",
    "\n",
    "8. Exploring with visuals\n",
    "\n",
    "In addition to using cross tables, we can explore the data set visually. Here, we use matplotlib to create a scatter plot of the loan's interest rate and the recipient's income. Just like the cross table, plots help us get a high level view of our data.\n",
    "\n",
    "9. Let's practice!\n",
    "\n",
    "So, we've defined credit risk and the components of expected loss and methods for exploring the credit risk data with the intent of estimating the probability of default. Now test your skills on some programming exercises. Good luck!\n",
    "# Explore the credit data"
   ]
  },
  {
   "cell_type": "code",
   "execution_count": 1,
   "metadata": {},
   "outputs": [],
   "source": [
    "#Load the librarys\n",
    "import pandas as pd #To work with dataset\n",
    "import numpy as np #Math library\n",
    "import seaborn as sns #Graph library that use matplot in background\n",
    "import matplotlib.pyplot as plt #to plot some parameters in seaborn\n",
    "import warnings\n",
    "from sklearn.preprocessing import LabelEncoder\n",
    "from sklearn.neighbors import KNeighborsClassifier\n",
    "# Import StandardScaler from scikit-learn\n",
    "from sklearn.preprocessing import StandardScaler\n",
    "from sklearn.impute import SimpleImputer\n",
    "from sklearn.preprocessing import OneHotEncoder\n",
    "from sklearn.feature_extraction.text import CountVectorizer\n",
    "from sklearn.compose import make_column_transformer\n",
    "from sklearn.pipeline import make_pipeline, Pipeline\n",
    "from sklearn.preprocessing import FunctionTransformer\n",
    "from sklearn.naive_bayes import MultinomialNB\n",
    "from sklearn.model_selection import cross_val_score\n",
    "from sklearn.model_selection import train_test_split\n",
    "from sklearn.manifold import TSNE\n",
    "from sklearn.ensemble import AdaBoostClassifier,VotingClassifier\n",
    "from sklearn.ensemble import RandomForestClassifier\n",
    "from datetime import datetime, date\n",
    "from sklearn.linear_model import ElasticNet, Lasso,  BayesianRidge, LassoLarsIC\n",
    "from sklearn.base import BaseEstimator, TransformerMixin, RegressorMixin, clone\n",
    "from sklearn.kernel_ridge import KernelRidge\n",
    "from sklearn.ensemble import GradientBoostingRegressor\n",
    "import lightgbm as lgb\n",
    "import tensorflow as tf \n",
    "from tensorflow.keras import layers\n",
    "from tensorflow.keras.callbacks import EarlyStopping\n",
    "warnings.filterwarnings('ignore')"
   ]
  },
  {
   "cell_type": "code",
   "execution_count": 2,
   "metadata": {},
   "outputs": [
    {
     "name": "stdout",
     "output_type": "stream",
     "text": [
      "person_age                      int64\n",
      "person_income                   int64\n",
      "person_home_ownership          object\n",
      "person_emp_length             float64\n",
      "loan_intent                    object\n",
      "loan_grade                     object\n",
      "loan_amnt                       int64\n",
      "loan_int_rate                 float64\n",
      "loan_status                     int64\n",
      "loan_percent_income           float64\n",
      "cb_person_default_on_file      object\n",
      "cb_person_cred_hist_length      int64\n",
      "dtype: object\n",
      "   person_age  person_income person_home_ownership  person_emp_length  \\\n",
      "0          22          59000                  RENT              123.0   \n",
      "1          21           9600                   OWN                5.0   \n",
      "2          25           9600              MORTGAGE                1.0   \n",
      "\n",
      "  loan_intent loan_grade  loan_amnt  loan_int_rate  loan_status  \\\n",
      "0    PERSONAL          D      35000          16.02            1   \n",
      "1   EDUCATION          B       1000          11.14            0   \n",
      "2     MEDICAL          C       5500          12.87            1   \n",
      "\n",
      "   loan_percent_income cb_person_default_on_file  cb_person_cred_hist_length  \n",
      "0                 0.59                         Y                           3  \n",
      "1                 0.10                         N                           2  \n",
      "2                 0.57                         N                           3  \n"
     ]
    }
   ],
   "source": [
    "\n",
    "cr_loan= pd.read_csv('C:/Users/rzouga/Desktop/ALLINHERE/ALLINHERE/Credit_Risk/Credit_Risk_Analysis_Data/Rawcreditdata.csv')\n",
    "\n",
    "# Check the structure of the data\n",
    "print(cr_loan.dtypes)\n",
    "\n",
    "# Check the first five rows of the data\n",
    "print(cr_loan.head(3))"
   ]
  },
  {
   "cell_type": "code",
   "execution_count": 3,
   "metadata": {},
   "outputs": [
    {
     "data": {
      "image/png": "[encoded data removed]",
      "text/plain": [
       "<Figure size 432x288 with 1 Axes>"
      ]
     },
     "metadata": {
      "needs_background": "light"
     },
     "output_type": "display_data"
    }
   ],
   "source": [
    "# Look at the distribution of loan amounts with a histogram\n",
    "n, bins, patches = plt.hist(x=cr_loan['loan_amnt'], bins='auto', color='blue',alpha=0.7, rwidth=0.85)\n",
    "plt.xlabel(\"Loan Amount\")\n",
    "plt.show()"
   ]
  },
  {
   "cell_type": "code",
   "execution_count": 4,
   "metadata": {},
   "outputs": [
    {
     "data": {
      "text/plain": [
       "(32581, 12)"
      ]
     },
     "execution_count": 4,
     "metadata": {},
     "output_type": "execute_result"
    }
   ],
   "source": [
    "cr_loan.shape"
   ]
  },
  {
   "cell_type": "code",
   "execution_count": 5,
   "metadata": {},
   "outputs": [
    {
     "name": "stdout",
     "output_type": "stream",
     "text": [
      "There are 32 000 rows of data so the scatter plot may take a little while to plot.\n"
     ]
    },
    {
     "data": {
      "image/png": "[encoded data removed]",
      "text/plain": [
       "<Figure size 432x288 with 1 Axes>"
      ]
     },
     "metadata": {
      "needs_background": "light"
     },
     "output_type": "display_data"
    }
   ],
   "source": [
    "print(\"There are 32 000 rows of data so the scatter plot may take a little while to plot.\")\n",
    "\n",
    "# Plot a scatter plot of income against age\n",
    "plt.scatter(cr_loan['person_income'], cr_loan['person_age'],c='blue', alpha=0.5)\n",
    "plt.xlabel('Personal Income')\n",
    "plt.ylabel('Persone Age')\n",
    "plt.show()"
   ]
  },
  {
   "cell_type": "markdown",
   "metadata": {},
   "source": [
    "# Crosstab and pivot tables\n",
    "Often, financial data is viewed as a pivot table in spreadsheets like Excel.\n",
    "\n",
    "With cross tables, you get a high level view of selected columns and even aggregation like a count or average. For most credit risk models, especially for probability of default, columns like person_emp_length and person_home_ownership are common to begin investigating.\n",
    "\n",
    "You will be able to see how the values are populated throughout the data, and visualize them. For now, you need to check how loan_status is affected by factors like home ownership status, loan grade, and loan percentage of income.\n",
    "\n",
    "The data set cr_loan has been loaded in the workspace"
   ]
  },
  {
   "cell_type": "code",
   "execution_count": 6,
   "metadata": {},
   "outputs": [
    {
     "name": "stdout",
     "output_type": "stream",
     "text": [
      "loan_status            0     1    All\n",
      "loan_intent                          \n",
      "DEBTCONSOLIDATION   3722  1490   5212\n",
      "EDUCATION           5342  1111   6453\n",
      "HOMEIMPROVEMENT     2664   941   3605\n",
      "MEDICAL             4450  1621   6071\n",
      "PERSONAL            4423  1098   5521\n",
      "VENTURE             4872   847   5719\n",
      "All                25473  7108  32581\n"
     ]
    }
   ],
   "source": [
    "# Create a cross table of the loan intent and loan status\n",
    "print(pd.crosstab(cr_loan['loan_intent'], cr_loan['loan_status'], margins = True))"
   ]
  },
  {
   "cell_type": "code",
   "execution_count": 7,
   "metadata": {},
   "outputs": [
    {
     "name": "stdout",
     "output_type": "stream",
     "text": [
      "loan_status               0                                 1             \\\n",
      "loan_grade                A     B     C    D    E   F  G    A     B    C   \n",
      "person_home_ownership                                                      \n",
      "MORTGAGE               5219  3729  1934  658  178  36  0  239   324  321   \n",
      "OTHER                    23    29    11    9    2   0  0    3     5    6   \n",
      "OWN                     860   770   464  264   26   7  0   66    34   31   \n",
      "RENT                   3602  4222  2710  554  137  28  1  765  1338  981   \n",
      "\n",
      "loan_status                               \n",
      "loan_grade                D    E   F   G  \n",
      "person_home_ownership                     \n",
      "MORTGAGE                553  161  61  31  \n",
      "OTHER                    11    6   2   0  \n",
      "OWN                      18   31   8   5  \n",
      "RENT                   1559  423  99  27  \n"
     ]
    }
   ],
   "source": [
    "# Create a cross table of home ownership, loan status, and grade\n",
    "print(pd.crosstab(cr_loan['person_home_ownership'],[cr_loan['loan_status'],cr_loan['loan_grade']]))"
   ]
  },
  {
   "cell_type": "code",
   "execution_count": 8,
   "metadata": {},
   "outputs": [
    {
     "name": "stdout",
     "output_type": "stream",
     "text": [
      "loan_status                   0         1\n",
      "person_home_ownership                    \n",
      "MORTGAGE               0.146504  0.184882\n",
      "OTHER                  0.143784  0.300000\n",
      "OWN                    0.180013  0.297358\n",
      "RENT                   0.144611  0.264859\n"
     ]
    }
   ],
   "source": [
    "# Create a cross table of home ownership, loan status, and average percent income\n",
    "print(pd.crosstab(cr_loan['person_home_ownership'], cr_loan['loan_status'],\n",
    "                  values=cr_loan['loan_percent_income'], aggfunc='mean'))"
   ]
  },
  {
   "cell_type": "code",
   "execution_count": 9,
   "metadata": {},
   "outputs": [
    {
     "data": {
      "image/png": "[encoded data removed]",
      "text/plain": [
       "<Figure size 432x288 with 1 Axes>"
      ]
     },
     "metadata": {
      "needs_background": "light"
     },
     "output_type": "display_data"
    }
   ],
   "source": [
    "# Create a box plot of percentage income by loan status\n",
    "cr_loan.boxplot(column = ['loan_percent_income'], by = 'loan_status')\n",
    "plt.title('Average Percent Income by Loan Status')\n",
    "plt.suptitle('')\n",
    "plt.show()"
   ]
  },
  {
   "cell_type": "markdown",
   "metadata": {},
   "source": [
    "# Outliers in credit data\n",
    "Now you need to find and remove outliers you suspect might be in the data. For this exercise, you can use cross tables and aggregate functions.\n",
    "\n",
    "Have a look at the person_emp_length column. You've used the aggfunc = 'mean' argument to see the average of a numeric column before, but to detect outliers you can use other functions like min and max.\n",
    "\n",
    "It may not be possible for a person to have an employment length of less than 0 or greater than 60. You can use cross tables to check the data and see if there are any instances of this!\n",
    "\n",
    "The data set cr_loan has been loaded in the workspace."
   ]
  },
  {
   "cell_type": "code",
   "execution_count": 10,
   "metadata": {},
   "outputs": [
    {
     "name": "stdout",
     "output_type": "stream",
     "text": [
      "person_home_ownership  MORTGAGE  OTHER   OWN   RENT\n",
      "loan_status                                        \n",
      "0                         123.0   24.0  31.0   41.0\n",
      "1                          34.0   11.0  17.0  123.0\n"
     ]
    }
   ],
   "source": [
    "# Create the cross table for loan status, home ownership, and the max employment length\n",
    "print(pd.crosstab(cr_loan['loan_status'],cr_loan['person_home_ownership'],\n",
    "                  values=cr_loan['person_emp_length'], aggfunc='max'))\n",
    "\n",
    "# Create an array of indices where employment length is greater than 60\n",
    "indices = cr_loan[cr_loan['person_emp_length'] > 60].index\n",
    "\n",
    "# Drop the records from the data based on the indices and create a new dataframe\n",
    "cr_loan_new = cr_loan.drop(cr_loan.index[indices])"
   ]
  },
  {
   "cell_type": "code",
   "execution_count": 11,
   "metadata": {},
   "outputs": [
    {
     "name": "stdout",
     "output_type": "stream",
     "text": [
      "                           min                      max                  \n",
      "person_home_ownership MORTGAGE OTHER  OWN RENT MORTGAGE OTHER   OWN  RENT\n",
      "loan_status                                                              \n",
      "0                          0.0   0.0  0.0  0.0     38.0  24.0  31.0  41.0\n",
      "1                          0.0   0.0  0.0  0.0     34.0  11.0  17.0  27.0\n"
     ]
    }
   ],
   "source": [
    "print(pd.crosstab(cr_loan_new['loan_status'],cr_loan_new['person_home_ownership'],\n",
    "                  values=cr_loan_new['person_emp_length'], aggfunc=['min','max']))"
   ]
  },
  {
   "cell_type": "markdown",
   "metadata": {},
   "source": [
    "Off to a great start! Generally with credit data, key columns like person_emp_length are of high quality, but there is always room for error. With this in mind, we build our intuition for detecting outliers!\n",
    "# Visualizing credit outliers"
   ]
  },
  {
   "cell_type": "code",
   "execution_count": 12,
   "metadata": {},
   "outputs": [
    {
     "data": {
      "image/png": "[encoded data removed]",
      "text/plain": [
       "<Figure size 432x288 with 1 Axes>"
      ]
     },
     "metadata": {
      "needs_background": "light"
     },
     "output_type": "display_data"
    }
   ],
   "source": [
    "# Create the scatter plot for age and amount\n",
    "plt.scatter(cr_loan['person_age'], cr_loan['loan_amnt'], c='blue', alpha=0.5)\n",
    "plt.xlabel(\"Person Age\")\n",
    "plt.ylabel(\"Loan Amount\")\n",
    "plt.show()"
   ]
  },
  {
   "cell_type": "code",
   "execution_count": 13,
   "metadata": {},
   "outputs": [
    {
     "data": {
      "image/png": "[encoded data removed]",
      "text/plain": [
       "<Figure size 432x288 with 1 Axes>"
      ]
     },
     "metadata": {
      "needs_background": "light"
     },
     "output_type": "display_data"
    }
   ],
   "source": [
    "import matplotlib\n",
    "# Use Pandas to drop the record from the data frame and create a new one\n",
    "cr_loan_new = cr_loan.drop(cr_loan[cr_loan['person_age'] > 100].index)\n",
    "\n",
    "# Create a scatter plot of age and interest rate\n",
    "colors = [\"blue\",\"red\"]\n",
    "plt.scatter(cr_loan_new['person_age'], cr_loan_new['loan_int_rate'],\n",
    "            c = cr_loan_new['loan_status'],\n",
    "            cmap = matplotlib.colors.ListedColormap(colors),\n",
    "            alpha=0.5)\n",
    "plt.xlabel(\"Person Age\")\n",
    "plt.ylabel(\"Loan Interest Rate\")\n",
    "plt.show()"
   ]
  },
  {
   "cell_type": "markdown",
   "metadata": {},
   "source": [
    "You really .drop() those rows like they're hot! Notice that in the last plot we have loan_status as a label for colors. This shows a different color depending on the class. In this case, it's loan default and non-default, and it looks like there are more defaults with high interest rates.\n",
    "# Risk with missing data in loan data\n",
    "1. Risk with missing data in loan data\n",
    "With the outliers now removed from our data set, we can now focus on another problem with credit data and that is when data is missing.\n",
    "\n",
    "2. What is missing data?\n",
    "Normally, you might think of missing data as when an entire row is missing, but that is not the only way data can be missing. Data can be missing when there are null values in place of actual values. It can also be an empty string instead of a real string. For this course, we will refer to missing data as when specific values are not present, not when entire rows of data are missing. Any of the columns within our data can contain missing values. If we see a row of data with missing values in a Pandas dataframe, it will look something like this. Notice for employment length we see NAN, or not a number, instead of a value.\n",
    "\n",
    "3. Similarities with outliers\n",
    "One issue with missing data is similar to problems caused with outliers in that it negatively impacts predictive model performance. It can bias our model in unanticipated ways, which can affect how we predict defaults. This could result in us predicting a large number of defaults that are not actually defaults because the model is biased towards defaults. Also, many machine learning models in Python do not automatically ignore missing values, and will often throw errors and cease training.\n",
    "\n",
    "4. Similarities with outliers\n",
    "Here are some examples of missing data and possible results. If there are null values in numeric or string columns, the model will throw an error.\n",
    "\n",
    "5. How to handle missing data\n",
    "So, how do we handle missing data? Most often, it is handled in one of three ways. Sometimes we need to replace missing values. This could be replacing a null with the average value of that column. Other times we remove the row with missing data all together. For example, if there are nulls in loan amount, we should drop those rows entirely. We sometimes keep missing values as well. This, however, is not the case with most loan data. Understanding the data will direct you towards one of these three actions.\n",
    "\n",
    "6. How to handle missing data\n",
    "For example, if the loan status is null, it's possible that the loan was recently processed in our system. Sometimes there is a data delay, and additional time needed for processing. In this case, we should just remove the whole row. Another example is where the person's age is missing. Here, we might be able to replace the missing age values with the median of everyone's age.\n",
    "\n",
    "7. Finding missing data\n",
    "But how do we find missing data? With Pandas, we can find missing data like nulls using the isnull function and the sum function to count the rows with data missing. By combining the functions isnull, sum, and any, we count all the null values in each column. This produces a table of values show the count of records with nulls in the data.\n",
    "\n",
    "8. Replacing Missing data\n",
    "If we decide to replace missing data, we can call the fill-n-a method from Pandas along with aggregate functions. This will replace only missing values. In this example, we replace null interest rates with the average of all interest rates in the data. The result, as shown here, replaces a null interest rate with 11 percent.\n",
    "\n",
    "9. Dropping missing data\n",
    "Dropping rows with missing data is just like dropping rows with outliers like in the previous video. We use the drop method from Pandas. Here, we find the rows with missing data using isnull, and then drop the rows from the data set entirely.\n",
    "\n",
    "10. Let's practice!\n",
    "So, we've learned what missing data is, how to handle it, and some examples of how we will process it. Let's jump into some programming exercises and explore!\n",
    "## Replacing missing credit data\n",
    "Now, you should check for missing data. If you find missing data within loan_status, you would not be able to use the data for predicting probability of default because you wouldn't know if the loan was a default or not. Missing data within person_emp_length would not be as damaging, but would still cause training errors.\n",
    "\n",
    "So, check for missing data in the person_emp_length column and replace any missing values with the median.\n",
    "\n",
    "The data set cr_loan has been loaded in the workspace."
   ]
  },
  {
   "cell_type": "code",
   "execution_count": 14,
   "metadata": {},
   "outputs": [
    {
     "name": "stdout",
     "output_type": "stream",
     "text": [
      "Index(['person_emp_length', 'loan_int_rate'], dtype='object')\n",
      "     person_age  person_income person_home_ownership  person_emp_length  \\\n",
      "105          22          12600              MORTGAGE                NaN   \n",
      "222          24         185000              MORTGAGE                NaN   \n",
      "379          24          16800              MORTGAGE                NaN   \n",
      "407          25          52000                  RENT                NaN   \n",
      "408          22          17352              MORTGAGE                NaN   \n",
      "\n",
      "           loan_intent loan_grade  loan_amnt  loan_int_rate  loan_status  \\\n",
      "105           PERSONAL          A       2000           5.42            1   \n",
      "222          EDUCATION          B      35000          12.42            0   \n",
      "379  DEBTCONSOLIDATION          A       3900            NaN            1   \n",
      "407           PERSONAL          B      24000          10.74            1   \n",
      "408          EDUCATION          C       2250          15.27            0   \n",
      "\n",
      "     loan_percent_income cb_person_default_on_file  cb_person_cred_hist_length  \n",
      "105                 0.16                         N                           4  \n",
      "222                 0.19                         N                           2  \n",
      "379                 0.23                         N                           3  \n",
      "407                 0.46                         N                           2  \n",
      "408                 0.13                         Y                           3  \n"
     ]
    },
    {
     "data": {
      "image/png": "[encoded data removed]",
      "text/plain": [
       "<Figure size 432x288 with 1 Axes>"
      ]
     },
     "metadata": {
      "needs_background": "light"
     },
     "output_type": "display_data"
    }
   ],
   "source": [
    "# Print a null value column array\n",
    "print(cr_loan.columns[cr_loan.isnull().any()])\n",
    "\n",
    "# Print the top five rows with nulls for employment length\n",
    "print(cr_loan[cr_loan['person_emp_length'].isnull()].head())\n",
    "\n",
    "# Impute the null values with the median value for all employment lengths\n",
    "cr_loan['person_emp_length'].fillna((cr_loan['person_emp_length'].median()), inplace=True)\n",
    "\n",
    "# Create a histogram of employment length\n",
    "n, bins, patches = plt.hist(cr_loan['person_emp_length'], bins='auto', color='blue')\n",
    "plt.xlabel(\"Person Employment Length\")\n",
    "plt.show()"
   ]
  },
  {
   "cell_type": "markdown",
   "metadata": {},
   "source": [
    "# Removing missing data\n",
    "You replaced missing data in person_emp_length, but in the previous exercise you saw that loan_int_rate has missing data as well.\n",
    "\n",
    "Similar to having missing data within loan_status, having missing data within loan_int_rate will make predictions difficult.\n",
    "\n",
    "Because interest rates are set by your company, having missing data in this column is very strange. It's possible that data ingestion issues created errors, but you cannot know for sure. For now, it's best to .drop() these records before moving forward.\n",
    "\n",
    "The data set cr_loan has been loaded in the workspace."
   ]
  },
  {
   "cell_type": "code",
   "execution_count": 15,
   "metadata": {},
   "outputs": [
    {
     "name": "stdout",
     "output_type": "stream",
     "text": [
      "3116\n"
     ]
    }
   ],
   "source": [
    "# Print the number of nulls\n",
    "print(cr_loan['loan_int_rate'].isnull().sum())\n",
    "\n",
    "# Store the array on indices\n",
    "indices = cr_loan[cr_loan['loan_int_rate'].isnull()].index\n",
    "\n",
    "# Save the new data without missing data\n",
    "cr_loan_clean = cr_loan.drop(indices)"
   ]
  },
  {
   "cell_type": "markdown",
   "metadata": {},
   "source": [
    "Nice! Now that the missing data and outliers have been processed, the data is ready for modeling! More often than not, financial data is fairly tidy, but it's always good to practice preparing data for analytical work.\n",
    "# Missing data intuition\n",
    "Here's an intuition check! When handling missing data, you have three options: keep, replace, and remove.\n",
    "\n",
    "You've been looking at numeric columns, but what about a non-numeric column? How would you handle missing data in the column person_home_ownership which has string values?\n",
    "\n",
    "The object ownership_table has already been created to show how many records occur in each unique value of person_home_ownership with the following code:\n",
    "\n",
    "# Count the number of records for each unique value\n",
    "cr_loan['person_home_ownership'].value_counts()\n",
    "ownership_table and cr_loan are already loaded in the workspace."
   ]
  },
  {
   "cell_type": "code",
   "execution_count": 16,
   "metadata": {},
   "outputs": [
    {
     "data": {
      "text/plain": [
       "RENT        16446\n",
       "MORTGAGE    13444\n",
       "OWN          2584\n",
       "OTHER         107\n",
       "Name: person_home_ownership, dtype: int64"
      ]
     },
     "execution_count": 16,
     "metadata": {},
     "output_type": "execute_result"
    }
   ],
   "source": [
    "# Count the number of records for each unique value\n",
    "cr_loan['person_home_ownership'].value_counts()"
   ]
  },
  {
   "cell_type": "markdown",
   "metadata": {},
   "source": [
    "You're right! We already have an all-inclusive class within person_home_ownership that stores all other types of home ownership as Other. With this, we eliminate missing data without affecting the data as a whole."
   ]
  },
  {
   "cell_type": "markdown",
   "metadata": {},
   "source": [
    "# Logistic regression for probability of default\n",
    ". Logistic regression for probability of default\n",
    "Now that we've removed both outliers and missing data from out data set, we can begin modeling to predict the probability of default.\n",
    "\n",
    "2. Probability of default\n",
    "\n",
    "Recall that the probability of default is the likelihood that someone will fail to repay a loan. This is expressed as a probability which is a value between zero and one. These probabilities are associated with our loan status column where a 1 is a default, and a 0 is a non default.\n",
    "\n",
    "3. Probability of default\n",
    "\n",
    "The resulting predictions give us probabilities of default. The closer the value is to 1, the higher the probability of the loan being a default.\n",
    "\n",
    "4. Predicting probabilities\n",
    "\n",
    "To get these probabilities, we train machine learning models on our credit data columns, known as features, so the models learn how to use the data to predict the probabilities. These types of models are known as classification models, where the class is default or non-default. In the industry, two models are used frequently. These are logistic regressions, and decision trees. Both of these models can predict the probability of default, and tell us how important each column is for predictions.\n",
    "\n",
    "5. Logistic regression\n",
    "\n",
    "The logistic regression is like a linear regression but only produces a value between 0 and 1. Notice that the equation for the linear regression is actually part of the logistic regression. Logistic regressions perform better on data when what determines a default or non-default can vary greatly. Think about the y-intercept here, which is the log odds of non-default. This as another way of expressing the overall probability of non-default.\n",
    "\n",
    "6. Training a logistic regression\n",
    "\n",
    "In this course, we use the logistic regression within scikit learn. The use of the model is easy. Like any function, you can pass in parameters or not. The solver parameter is an optimizer, just like the solver in Excel. LBFGS is the default. To train the model, we call the fit method on it. Within the method, we have to provide the model with training columns and training labels. We use ravel from numpy to make the labels a one-dimensional array instead of a data frame. In our credit data, the training columns are every column except the loan status. The loan status contains the labels.\n",
    "\n",
    "7. Training and testing\n",
    "\n",
    "Generally, in machine learning, we split our entire data set into two individual data sets.\n",
    "\n",
    "8. Training and testing\n",
    "\n",
    "They are the training set and the test set. We use the majority of the data to train our models, so they learn as much as possible from the data. Our test set is used to see how our model reacts to new data that it has not seen before. This is like students learning in school. They will learn facts from one subject, and be tested on different facts from that same subject. This way, we can asses their mastery of the topic.\n",
    "\n",
    "\n",
    "9. Creating the training and test sets\n",
    "\n",
    "The first thing we do is separate our data into training columns and labels. Here, we have assigned those as X and Y. With that done, we use the test train split function within the sci-kit learn package. Let's have a look at the code. Remember how I said we need training columns and labels for our model? We need these for both the training set and the test set, which are all easily created with one line of code. Within this function, we set the percentage of the data to be used as a test set, and a number used as a random seed for reproducibility.\n",
    "\n",
    "\n",
    "10. Let's practice!\n",
    "\n",
    "Now that we've learned how to use a logistic regression to predict the probability of default, let's jump right into some programming exercises!"
   ]
  },
  {
   "cell_type": "code",
   "execution_count": 17,
   "metadata": {},
   "outputs": [],
   "source": [
    "\n",
    "cr_loan_clean= pd.read_csv('C:/Users/rzouga/Desktop/ALLINHERE/ALLINHERE/Credit_Risk/Credit_Risk_Analysis_Data/cr_loan_nout_nmiss.csv')\n"
   ]
  },
  {
   "cell_type": "code",
   "execution_count": 18,
   "metadata": {},
   "outputs": [
    {
     "name": "stdout",
     "output_type": "stream",
     "text": [
      "{'C': 1.0, 'class_weight': None, 'dual': False, 'fit_intercept': True, 'intercept_scaling': 1, 'l1_ratio': None, 'max_iter': 100, 'multi_class': 'auto', 'n_jobs': None, 'penalty': 'l2', 'random_state': None, 'solver': 'lbfgs', 'tol': 0.0001, 'verbose': 0, 'warm_start': False}\n",
      "[-4.45785901]\n"
     ]
    }
   ],
   "source": [
    "from sklearn.linear_model import LogisticRegression\n",
    "# Create the X and y data sets\n",
    "X = cr_loan_clean[['loan_int_rate']]\n",
    "y = cr_loan_clean[['loan_status']]\n",
    "\n",
    "# Create and fit a logistic regression model\n",
    "clf_logistic_single = LogisticRegression()\n",
    "clf_logistic_single.fit(X, np.ravel(y ))\n",
    "\n",
    "# Print the parameters of the model\n",
    "print(clf_logistic_single.get_params())\n",
    "\n",
    "# Print the intercept of the model\n",
    "print(clf_logistic_single.intercept_)"
   ]
  },
  {
   "cell_type": "markdown",
   "metadata": {},
   "source": [
    "# Multivariate logistic regression\n",
    "Generally, you won't use only loan_int_rate to predict the probability of default. You will want to use all the data you have to make predictions.\n",
    "\n",
    "With this in mind, try training a new model with different columns, called features, from the cr_loan_clean data. Will this model differ from the first one? For this, you can easily check the .intercept_ of the logistic regression. Remember that this is the y-intercept of the function and the overall log-odds of non-default.\n",
    "\n",
    "The cr_loan_clean data has been loaded in the workspace along with the previous model clf_logistic_single."
   ]
  },
  {
   "cell_type": "code",
   "execution_count": 19,
   "metadata": {},
   "outputs": [
    {
     "name": "stdout",
     "output_type": "stream",
     "text": [
      "[-4.21645549]\n"
     ]
    }
   ],
   "source": [
    "# Create X data for the model\n",
    "X_multi = cr_loan_clean[['loan_int_rate','person_emp_length']]\n",
    "\n",
    "# Create a set of y data for training\n",
    "y = cr_loan_clean[['loan_status']]\n",
    "\n",
    "# Create and train a new logistic regression\n",
    "clf_logistic_multi = LogisticRegression(solver='lbfgs').fit(X_multi, np.ravel(y))\n",
    "\n",
    "# Print the intercept of the model\n",
    "print(clf_logistic_multi.intercept_)"
   ]
  },
  {
   "cell_type": "markdown",
   "metadata": {},
   "source": [
    "# Creating training and test sets\n",
    "You've just trained LogisticRegression() models on different columns.\n",
    "\n",
    "You know that the data should be separated into training and test sets. test_train_split() is used to create both at the same time. The training set is used to make predictions, while the test set is used for evaluation. Without evaluating the model, you have no way to tell how well it will perform on new loan data.\n",
    "\n",
    "In addition to the intercept_, which is an attribute of the model, LogisticRegression() models also have the .coef_ attribute. This shows how important each training column is for predicting the probability of default.\n",
    "\n",
    "The data set cr_loan_clean is already loaded in the workspace."
   ]
  },
  {
   "cell_type": "code",
   "execution_count": 20,
   "metadata": {},
   "outputs": [
    {
     "data": {
      "text/plain": [
       "Index(['person_age', 'person_income', 'person_home_ownership',\n",
       "       'person_emp_length', 'loan_intent', 'loan_grade', 'loan_amnt',\n",
       "       'loan_int_rate', 'loan_status', 'loan_percent_income',\n",
       "       'cb_person_default_on_file', 'cb_person_cred_hist_length'],\n",
       "      dtype='object')"
      ]
     },
     "execution_count": 20,
     "metadata": {},
     "output_type": "execute_result"
    }
   ],
   "source": [
    "cr_loan_clean.columns"
   ]
  },
  {
   "cell_type": "code",
   "execution_count": 21,
   "metadata": {},
   "outputs": [
    {
     "name": "stdout",
     "output_type": "stream",
     "text": [
      "[[ 1.28517496e-09 -2.27622202e-09 -2.17211991e-05]]\n"
     ]
    }
   ],
   "source": [
    "# Create the X and y data sets\n",
    "X =cr_loan_clean[['loan_int_rate','person_emp_length','person_income']]\n",
    "\n",
    "y = cr_loan_clean[['loan_status']]\n",
    "\n",
    "# Use test_train_split to create the training and test sets\n",
    "X_train, X_test, y_train, y_test = train_test_split(X,y, test_size=.4, random_state=123)\n",
    "\n",
    "# Create and fit the logistic regression model\n",
    "clf_logistic = LogisticRegression(solver='lbfgs').fit(X_train, np.ravel(y_train))\n",
    "\n",
    "# Print the models coefficients\n",
    "print(clf_logistic.coef_)"
   ]
  },
  {
   "cell_type": "markdown",
   "metadata": {},
   "source": [
    "# Predicting the probability of default\n",
    "\n",
    "1. Predicting the probability of default\n",
    "\n",
    "So far, we've trained a logistic regression on our credit data, and looked some attributes of the model. Now, let's discuss the structure of the model and how to create predictions.\n",
    "\n",
    "2. Logistic regression coefficients\n",
    "\n",
    "In the previous exercise, we saw the following intercept and coefficients for our model. These coefficients the importance of each column. These values are part of the logistic regression formula that calculates the probability of default which we see here. Each coefficient is multiplied by the values in the column, and then added together along with the intercept. Then, 1 is divided by the sum of 1 and e to the negative power of our intercept coefficient sums. The result is the probability of default.\n",
    "\n",
    "3. Interpreting coefficients\n",
    "\n",
    "Consider employment length as an example. I've already calculated the intercept and coefficient for a logistic regression using this one column. What this coefficient tells us is the log odds for non-default. This means that for every 1 year increase in employment length, the person is less likely to default by a factor of the coefficient.\n",
    "\n",
    "4. Interpreting coefficients\n",
    "\n",
    "Let's say we have 3 values for employment length, and we want to know how this affects our probability of default by looking at the coefficients. What we see here is that the higher a person's employment length is, the less likely they are to default.\n",
    "\n",
    "5. Using non-numeric columns\n",
    "\n",
    "Since we're talking about numbers, it's worth mentioning that so far we have only used numeric columns to train out models. Our data also contains non-numeric columns like loan intent, which uses words to describe how the person plans to use the money we lend them. In Python, unlike R, machine learning models do not know how to use these non-numeric values. So, we have to perform an operation called one-hot encoding before we can use them.\n",
    "\n",
    "6. One-hot encoding\n",
    "\n",
    "One-hot encoding sounds complicated, but it's really simple. The main idea is to represent a string with a numeric value. Here is how it works. Let's think about the loan intent column where each loan has it's own intent value as a string. This sample has education, medical, and venture.\n",
    "\n",
    "7. One-hot encoding\n",
    "\n",
    "With one-hot encoding, we get a new set of columns where each value from loan intent is now it's own column. Each new column is created by separating out the loans with each intent value and making the new column's value a 0 or 1. For example, if the loan intent was education, it is now represented with a 1 in the loan intent education column. This way, there is one hot value.\n",
    "\n",
    "8. Get dummies\n",
    "\n",
    "To one-hot encode our string columns, we use the get dummies function within pandas. First, we separate the numeric and non-numeric columns from the data into two sets. Then we use the get dummies function to one-hot encode only the non-numeric columns. We union the two sets and the result is a full data set that's ready for machine learning!\n",
    "\n",
    "9. Predicting the future, probably\n",
    "\n",
    "Once our model is trained, we use the predict proba method on test data to make predictions. This creates a set of probabilities for non-default and default. Notice the output is a series of numbers between 0 and 1. We have two for each loan. The first number is the probability of non-default, and the second number is the probability of default.\n",
    "\n",
    "10. Let's practice!\n",
    "\n",
    "We've discussed the model coefficients and one-hot encoding, so let's predict loan defaults with code!"
   ]
  },
  {
   "cell_type": "code",
   "execution_count": 22,
   "metadata": {},
   "outputs": [
    {
     "ename": "NameError",
     "evalue": "name 'X1_train' is not defined",
     "output_type": "error",
     "traceback": [
      "\u001b[1;31m---------------------------------------------------------------------------\u001b[0m",
      "\u001b[1;31mNameError\u001b[0m                                 Traceback (most recent call last)",
      "\u001b[1;32m<ipython-input-22-c18e5ca94240>\u001b[0m in \u001b[0;36m<module>\u001b[1;34m\u001b[0m\n\u001b[0;32m      1\u001b[0m \u001b[1;31m# Print the first five rows of each training set\u001b[0m\u001b[1;33m\u001b[0m\u001b[1;33m\u001b[0m\u001b[1;33m\u001b[0m\u001b[0m\n\u001b[1;32m----> 2\u001b[1;33m \u001b[0mprint\u001b[0m\u001b[1;33m(\u001b[0m\u001b[0mX1_train\u001b[0m\u001b[1;33m.\u001b[0m\u001b[0mhead\u001b[0m\u001b[1;33m(\u001b[0m\u001b[1;33m)\u001b[0m\u001b[1;33m)\u001b[0m\u001b[1;33m\u001b[0m\u001b[1;33m\u001b[0m\u001b[0m\n\u001b[0m\u001b[0;32m      3\u001b[0m \u001b[0mprint\u001b[0m\u001b[1;33m(\u001b[0m\u001b[0mX2_train\u001b[0m\u001b[1;33m.\u001b[0m\u001b[0mhead\u001b[0m\u001b[1;33m(\u001b[0m\u001b[1;33m)\u001b[0m\u001b[1;33m)\u001b[0m\u001b[1;33m\u001b[0m\u001b[1;33m\u001b[0m\u001b[0m\n\u001b[0;32m      4\u001b[0m \u001b[1;33m\u001b[0m\u001b[0m\n\u001b[0;32m      5\u001b[0m \u001b[1;31m# Create and train a model on the first training data\u001b[0m\u001b[1;33m\u001b[0m\u001b[1;33m\u001b[0m\u001b[1;33m\u001b[0m\u001b[0m\n",
      "\u001b[1;31mNameError\u001b[0m: name 'X1_train' is not defined"
     ]
    }
   ],
   "source": [
    "# Print the first five rows of each training set\n",
    "print(X1_train.head())\n",
    "print(X2_train.head())\n",
    "\n",
    "# Create and train a model on the first training data\n",
    "clf_logistic1 = LogisticRegression(solver='lbfgs').fit(X1_train, np.ravel(y_train))\n",
    "\n",
    "# Create and train a model on the second training data\n",
    "clf_logistic2 = LogisticRegression(solver='lbfgs').fit(X2_train, np.ravel(y_train))\n",
    "\n",
    "# Print the coefficients of each model\n",
    "print(clf_logistic1.coef_)\n",
    "print(clf_logistic2.coef_)"
   ]
  },
  {
   "cell_type": "markdown",
   "metadata": {},
   "source": [
    "Interesting! Notice that the coefficient for the person_income changed when we changed the data from X1 to X2. This is a reason to keep most of the data like we did in chapter 1, because the models will learn differently depending on what data they're given!\n",
    "\n",
    "    <script.py> output:\n",
    "           person_income  person_emp_length  loan_amnt\n",
    "    22105          72000                  3       9000\n",
    "    2296           21000                  2       3000\n",
    "    14465           4800                  0       1200\n",
    "    6311           92000                  0       6000\n",
    "    12541          96000                  1       7000\n",
    "           person_income  loan_percent_income  cb_person_cred_hist_length\n",
    "    22105          72000                 0.13                           6\n",
    "    2296           21000                 0.14                           2\n",
    "    14465           4800                 0.25                           2\n",
    "    6311           92000                 0.07                           3\n",
    "    12541          96000                 0.07                           4\n",
    "    [[-4.02643517e-05 -3.06659219e-08  1.06277246e-04]]\n",
    "    [[-2.17213449e-05  5.29012401e-10 -2.80735543e-09]]"
   ]
  },
  {
   "cell_type": "markdown",
   "metadata": {},
   "source": [
    "# One-hot encoding credit data\n",
    "It's time to prepare the non-numeric columns so they can be added to your LogisticRegression() model.\n",
    "\n",
    "Once the new columns have been created using one-hot encoding, you can concatenate them with the numeric columns to create a new data frame which will be used throughout the rest of the course for predicting probability of default.\n",
    "\n",
    "Remember to only one-hot encode the non-numeric columns. Doing this to the numeric columns would create an incredibly wide data set!\n",
    "\n",
    "The credit loan data, cr_loan_clean, has already been loaded in the workspace."
   ]
  },
  {
   "cell_type": "code",
   "execution_count": 23,
   "metadata": {
    "scrolled": true
   },
   "outputs": [
    {
     "name": "stdout",
     "output_type": "stream",
     "text": [
      "Index(['person_age', 'person_income', 'person_emp_length', 'loan_amnt',\n",
      "       'loan_int_rate', 'loan_status', 'loan_percent_income',\n",
      "       'cb_person_cred_hist_length', 'person_home_ownership_MORTGAGE',\n",
      "       'person_home_ownership_OTHER', 'person_home_ownership_OWN',\n",
      "       'person_home_ownership_RENT', 'loan_intent_DEBTCONSOLIDATION',\n",
      "       'loan_intent_EDUCATION', 'loan_intent_HOMEIMPROVEMENT',\n",
      "       'loan_intent_MEDICAL', 'loan_intent_PERSONAL', 'loan_intent_VENTURE',\n",
      "       'loan_grade_A', 'loan_grade_B', 'loan_grade_C', 'loan_grade_D',\n",
      "       'loan_grade_E', 'loan_grade_F', 'loan_grade_G',\n",
      "       'cb_person_default_on_file_N', 'cb_person_default_on_file_Y'],\n",
      "      dtype='object')\n"
     ]
    }
   ],
   "source": [
    "# Create two data sets for numeric and non-numeric data\n",
    "cred_num = cr_loan_clean.select_dtypes(exclude=['object'])\n",
    "cred_str = cr_loan_clean.select_dtypes(include=['object'])\n",
    "\n",
    "# One-hot encode the non-numeric columns\n",
    "cred_str_onehot = pd.get_dummies(cred_str)\n",
    "\n",
    "# Union the one-hot encoded columns to the numeric ones\n",
    "cr_loan_prep = pd.concat([cred_num, cred_str_onehot], axis=1)\n",
    "\n",
    "# Print the columns in the new data set\n",
    "print(cr_loan_prep.columns)"
   ]
  },
  {
   "cell_type": "code",
   "execution_count": 25,
   "metadata": {},
   "outputs": [],
   "source": [
    "avg_loan_amnt=cr_loan_prep.loan_amnt.mean()"
   ]
  },
  {
   "cell_type": "markdown",
   "metadata": {},
   "source": [
    "# Predicting probability of default\n",
    "All of the data processing is complete and it's time to begin creating predictions for probability of default. You want to train a LogisticRegression() model on the data, and examine how it predicts the probability of default.\n",
    "\n",
    "So that you can better grasp what the model produces with predict_proba, you should look at an example record alongside the predicted probability of default. How do the first five predictions look against the actual values of loan_status?\n",
    "\n",
    "The data set cr_loan_prep along with X_train, X_test, y_train, and y_test have already been loaded in the workspace."
   ]
  },
  {
   "cell_type": "code",
   "execution_count": 26,
   "metadata": {},
   "outputs": [],
   "source": [
    "# Create the X and y data sets\n",
    "X =cr_loan_prep.drop('loan_status', axis=1)\n",
    "\n",
    "y = cr_loan_prep[['loan_status']]\n",
    "\n",
    "# Use test_train_split to create the training and test sets\n",
    "X_train, X_test, y_train, y_test = train_test_split(X,y, test_size=.1, random_state=123)"
   ]
  },
  {
   "cell_type": "code",
   "execution_count": 77,
   "metadata": {},
   "outputs": [
    {
     "name": "stdout",
     "output_type": "stream",
     "text": [
      "   loan_status  prob_default\n",
      "0            1      0.445033\n",
      "1            1      0.222860\n",
      "2            0      0.287792\n",
      "3            0      0.168842\n",
      "4            1      0.113909\n"
     ]
    }
   ],
   "source": [
    "# Train the logistic regression model on the training data\n",
    "clf_logistic = LogisticRegression(solver='lbfgs').fit(X_train, np.ravel(y_train))\n",
    "\n",
    "# Create predictions of probability for loan status using test data\n",
    "preds_df_lr = clf_logistic.predict_proba(X_test)\n",
    "\n",
    "# Create dataframes of first five predictions, and first five true labels\n",
    "preds_df_lr = pd.DataFrame(preds_df_lr[:,1][0:5], columns = ['prob_default'])\n",
    "true_df = y_test.head(5)\n",
    "\n",
    "# Concatenate and print the two data frames for comparison\n",
    "print(pd.concat([true_df.reset_index(drop = True), preds_df_lr], axis = 1))"
   ]
  },
  {
   "cell_type": "markdown",
   "metadata": {},
   "source": [
    "Neat! We have some predictions now, but they don't look very accurate do they? It looks like most of the rows with loan_status at 1 have a low probability of default. How good are the rest of the predictions? Next, let's see if we can determine how accurate the entire model is.\n",
    "# Credit model performance\n",
    "1. Credit model performance\n",
    "\n",
    "We saw predictions for probability of default against true values for loan status, but how do we analyze the performance of our model?\n",
    "\n",
    "2. Model accuracy scoring\n",
    "\n",
    "The easiest way to analyze performance is with accuracy. Accuracy is the number of correct predictions divided by the total number of predictions. One way to check this is to use the score method within scikit-learn on the logistic regression. This is used on the trained model and returns the average accuracy for the test set. Using the score method will display this accuracy as a percentage. In this example, it tells us that 81 percent of the loans were predicted correctly.\n",
    "\n",
    "3. ROC curve charts\n",
    "\n",
    "R-O-C charts are a great way to visualize the performance of our model. They plot the true positive rate, the percentage of correctly predicted defaults, against the false positive rate, the percentage of incorrectly predicted defaults. Using the roc_curve function in scikit-learn, we create these two values and the thresholds all at once. From there, we use a normal line plot to see the results. The dotted blue line represents a random prediction and the orange line represents our model's predictions.\n",
    "\n",
    "4. Analyzing ROC charts\n",
    "\n",
    "R-O-C charts are interpreted by looking at how far away the model's curve gets from the dotted blue line shown here, which represents the random prediction. This movement away from the line is called lift. The more lift we have, the larger the area under the curve gets. The A-U-C is the calculated area between the curve and the random prediction. This is a direct indicator of how well our model makes predictions.\n",
    "\n",
    "5. Default thresholds\n",
    "\n",
    "To analyze performance further, we need to decide what probability range is a default, and what is a non-default. Let's say that we decide any probability over 0.5 is a default, and anything below that is a non-default. What this means is that we will assign a new loan_status to these loans based on their probability of default and the threshold. Once we have this, we can further check the model's performance.\n",
    "\n",
    "6. Setting the threshold\n",
    "\n",
    "Once the threshold is defined, we need to relabel our loans based on that threshold. For that, we will first need to create a variable to store the predicted probabilities. Then we can create a data frame from the second column which contains the probabilities of default. Then we apply a quick function to assign a value of 1 if the probability of default is above our threshold of 0.5. The lambda is there just to tell Python that we want to use a one-time function without defining it. The result of this is a data frame with new values for loan status based on our threshold.\n",
    "\n",
    "7. Credit classification reports\n",
    "\n",
    "Another really useful function for evaluating our models is the classification report function within scikit-learn. This will show us several different evaluation metrics all at once! We use this function to evaluate our model using our true values for loan status stored in the y_test set, and our predicted loan status values from our logistic regression and the threshold we set. There are 2 really useful metrics in this table, and they are the precision and recall. For now, let's focus on recall.\n",
    "\n",
    "8. Selecting classification metrics\n",
    "\n",
    "Sometimes after generating the report, you want to select or store specific values from within the report. To do this, you can use the precision recall fscore support function within sci-kit learn. With this function, we can get the recall for defaults from by subsetting the report the way we would any array. Here we select the second value from the second set.\n",
    "\n",
    "9. Let's practice!\n",
    "\n",
    "Now that we've talked about model accuracy, recall, and AUC scores let's put it all into practice with code!"
   ]
  },
  {
   "cell_type": "code",
   "execution_count": 28,
   "metadata": {},
   "outputs": [
    {
     "name": "stdout",
     "output_type": "stream",
     "text": [
      "0    2799\n",
      "1     147\n",
      "Name: loan_status, dtype: int64\n",
      "              precision    recall  f1-score   support\n",
      "\n",
      " Non-Default       0.81      0.98      0.89      2309\n",
      "     Default       0.71      0.16      0.27       637\n",
      "\n",
      "    accuracy                           0.81      2946\n",
      "   macro avg       0.76      0.57      0.58      2946\n",
      "weighted avg       0.79      0.81      0.75      2946\n",
      "\n"
     ]
    }
   ],
   "source": [
    "from sklearn.metrics import classification_report,precision_recall_fscore_support,roc_curve,roc_auc_score,confusion_matrix\n",
    "# Create a dataframe for the probabilities of default\n",
    "preds_df = pd.DataFrame(preds[:,1], columns = ['prob_default'])\n",
    "\n",
    "# Reassign loan status based on the threshold\n",
    "preds_df['loan_status'] = preds_df['prob_default'].apply(lambda x: 1 if x > 0.50 else 0)\n",
    "\n",
    "# Print the row counts for each loan status\n",
    "print(preds_df['loan_status'].value_counts())\n",
    "\n",
    "# Print the classification report\n",
    "target_names = ['Non-Default', 'Default']\n",
    "print(classification_report(y_test, preds_df['loan_status'], target_names=target_names))"
   ]
  },
  {
   "cell_type": "markdown",
   "metadata": {},
   "source": [
    "Well isn't this a surprise! It looks like almost all of our test set was predicted to be non-default. The recall for defaults is 0.16 meaning 16% of our true defaults were predicted correctly."
   ]
  },
  {
   "cell_type": "code",
   "execution_count": 29,
   "metadata": {},
   "outputs": [
    {
     "name": "stdout",
     "output_type": "stream",
     "text": [
      "(array([0.80993212, 0.71428571]), array([0.98181031, 0.16483516]), array([0.88762725, 0.26785714]), array([2309,  637], dtype=int64))\n"
     ]
    }
   ],
   "source": [
    "# Print all the non-average values from the report\n",
    "print(precision_recall_fscore_support(y_test,preds_df['loan_status']))"
   ]
  },
  {
   "cell_type": "markdown",
   "metadata": {},
   "source": [
    "# Visually scoring credit models\n",
    "Now, you want to visualize the performance of the model. In ROC charts, the X and Y axes are two metrics you've already looked at: the false positive rate (fall-out), and the true positive rate (sensitivity).\n",
    "\n",
    "You can create a ROC chart of it's performance with the following code:\n",
    "\n",
    "fallout, sensitivity, thresholds = roc_curve(y_test, prob_default)\n",
    "plt.plot(fallout, sensitivity)\n",
    "To calculate the AUC score, you use roc_auc_score().\n",
    "\n",
    "The credit data cr_loan_prep along with the data sets X_test and y_test have all been loaded into the workspace. A trained LogisticRegression() model named clf_logistic has also been loaded into the workspace."
   ]
  },
  {
   "cell_type": "code",
   "execution_count": 30,
   "metadata": {},
   "outputs": [
    {
     "name": "stdout",
     "output_type": "stream",
     "text": [
      "0.8039987779625921\n"
     ]
    },
    {
     "data": {
      "image/png": "[encoded data removed]",
      "text/plain": [
       "<Figure size 432x288 with 1 Axes>"
      ]
     },
     "metadata": {
      "needs_background": "light"
     },
     "output_type": "display_data"
    }
   ],
   "source": [
    "# Create predictions and store them in a variable\n",
    "preds = clf_logistic.predict_proba(X_test)\n",
    "\n",
    "# Print the accuracy score the model\n",
    "print(clf_logistic.score(X, y))\n",
    "\n",
    "# Plot the ROC curve of the probabilities of default\n",
    "prob_default = preds[:, 1]\n",
    "fallout, sensitivity, thresholds = roc_curve(y_test, prob_default)\n",
    "plt.plot(fallout, sensitivity, color = 'darkorange')\n",
    "plt.plot([0, 1], [0, 1], linestyle='--')\n",
    "plt.show()\n",
    "\n",
    "# Compute the AUC and store it in a variable\n",
    "auc = roc_auc_score(y_test, prob_default)"
   ]
  },
  {
   "cell_type": "markdown",
   "metadata": {},
   "source": [
    "I  wasn't worried about your .score() on this exercise! So the accuracy for this model is about 80% and the AUC score is 76%. Notice that what the ROC chart shows us is the tradeoff between all values of our false positive rate (fallout) and true positive rate (sensitivity).\n",
    "# Model discrimination and impact\n",
    "Thresholds and confusion matrices\n",
    "You've looked at setting thresholds for defaults, but how does this impact overall performance? To do this, you can start by looking at the effects with confusion matrices.\n",
    "\n",
    "Recall the confusion matrix as shown here:\n",
    "\n",
    "\n",
    "\n",
    "Set different values for the threshold on probability of default, and use a confusion matrix to see how the changing values affect the model's performance.\n",
    "\n",
    "The data frame of predictions, preds_df, as well as the model clf_logistic have been loaded in the workspace."
   ]
  },
  {
   "cell_type": "code",
   "execution_count": 31,
   "metadata": {},
   "outputs": [
    {
     "name": "stdout",
     "output_type": "stream",
     "text": [
      "[[2267   42]\n",
      " [ 532  105]]\n"
     ]
    }
   ],
   "source": [
    "# Print the confusion matrix\n",
    "print(confusion_matrix(y_test,preds_df['loan_status']))"
   ]
  },
  {
   "cell_type": "code",
   "execution_count": 32,
   "metadata": {},
   "outputs": [
    {
     "name": "stdout",
     "output_type": "stream",
     "text": [
      "[[2117  192]\n",
      " [ 331  306]]\n"
     ]
    }
   ],
   "source": [
    "# Set the threshold for defaults to 0.4\n",
    "preds_df['loan_status'] = preds_df['prob_default'].apply(lambda x: 1 if x > 0.4 else 0)\n",
    "\n",
    "# Print the confusion matrix\n",
    "print(confusion_matrix(y_test,preds_df['loan_status']))"
   ]
  },
  {
   "cell_type": "markdown",
   "metadata": {},
   "source": [
    "# How thresholds affect performance\n",
    "Setting the threshold to 0.4 shows promising results for model evaluation. Now you can assess the financial impact using the default recall which is selected from the classification reporting using the function precision_recall_fscore_support().\n",
    "\n",
    "For this, you will estimate the amount of unexpected loss using the default recall to find what proportion of defaults you did not catch with the new threshold. This will be a dollar amount which tells you how much in losses you would have if all the unfound defaults were to default all at once.\n",
    "\n",
    "The average loan value, avg_loan_amnt has been calculated and made available in the workspace along with preds_df and y_test."
   ]
  },
  {
   "cell_type": "code",
   "execution_count": 33,
   "metadata": {},
   "outputs": [
    {
     "name": "stdout",
     "output_type": "stream",
     "text": [
      "2479971.1322385473\n"
     ]
    }
   ],
   "source": [
    "# Reassign the values of loan status based on the new threshold\n",
    "preds_df['loan_status'] = preds_df['prob_default'].apply(lambda x: 1 if x > 0.4 else 0)\n",
    "\n",
    "# Store the number of loan defaults from the prediction data\n",
    "num_defaults = preds_df['loan_status'].value_counts()[1]\n",
    "\n",
    "# Store the default recall from the classification report\n",
    "default_recall = precision_recall_fscore_support(y_test,preds_df['loan_status'])[1][1]\n",
    "\n",
    "# Calculate the estimated impact of the new default recall rate\n",
    "print(num_defaults * avg_loan_amnt * (1 - default_recall))"
   ]
  },
  {
   "cell_type": "markdown",
   "metadata": {},
   "source": [
    "# Threshold selection\n",
    "You know there is a trade off between metrics like default recall, non-default recall, and model accuracy. One easy way to approximate a good starting threshold value is to look at a plot of all three using matplotlib. With this graph, you can see how each of these metrics look as you change the threshold values and find the point at which the performance of all three is good enough to use for the credit data.\n",
    "\n",
    "The threshold values thresh, default recall values def_recalls, the non-default recall values nondef_recalls and the accuracy scores accs have been loaded into the workspace. To make the plot easier to read, the array ticks for x-axis tick marks has been loaded as well."
   ]
  },
  {
   "cell_type": "code",
   "execution_count": 34,
   "metadata": {},
   "outputs": [
    {
     "ename": "NameError",
     "evalue": "name 'thresh' is not defined",
     "output_type": "error",
     "traceback": [
      "\u001b[1;31m---------------------------------------------------------------------------\u001b[0m",
      "\u001b[1;31mNameError\u001b[0m                                 Traceback (most recent call last)",
      "\u001b[1;32m<ipython-input-34-3c3b4c0665ba>\u001b[0m in \u001b[0;36m<module>\u001b[1;34m\u001b[0m\n\u001b[1;32m----> 1\u001b[1;33m \u001b[0mplt\u001b[0m\u001b[1;33m.\u001b[0m\u001b[0mplot\u001b[0m\u001b[1;33m(\u001b[0m\u001b[0mthresh\u001b[0m\u001b[1;33m,\u001b[0m\u001b[0mdef_recalls\u001b[0m\u001b[1;33m)\u001b[0m\u001b[1;33m\u001b[0m\u001b[1;33m\u001b[0m\u001b[0m\n\u001b[0m\u001b[0;32m      2\u001b[0m \u001b[0mplt\u001b[0m\u001b[1;33m.\u001b[0m\u001b[0mplot\u001b[0m\u001b[1;33m(\u001b[0m\u001b[0mthresh\u001b[0m\u001b[1;33m,\u001b[0m\u001b[0mnondef_recalls\u001b[0m\u001b[1;33m)\u001b[0m\u001b[1;33m\u001b[0m\u001b[1;33m\u001b[0m\u001b[0m\n\u001b[0;32m      3\u001b[0m \u001b[0mplt\u001b[0m\u001b[1;33m.\u001b[0m\u001b[0mplot\u001b[0m\u001b[1;33m(\u001b[0m\u001b[0mthresh\u001b[0m\u001b[1;33m,\u001b[0m\u001b[0maccs\u001b[0m\u001b[1;33m)\u001b[0m\u001b[1;33m\u001b[0m\u001b[1;33m\u001b[0m\u001b[0m\n\u001b[0;32m      4\u001b[0m \u001b[0mplt\u001b[0m\u001b[1;33m.\u001b[0m\u001b[0mxlabel\u001b[0m\u001b[1;33m(\u001b[0m\u001b[1;34m\"Probability Threshold\"\u001b[0m\u001b[1;33m)\u001b[0m\u001b[1;33m\u001b[0m\u001b[1;33m\u001b[0m\u001b[0m\n\u001b[0;32m      5\u001b[0m \u001b[0mplt\u001b[0m\u001b[1;33m.\u001b[0m\u001b[0mxticks\u001b[0m\u001b[1;33m(\u001b[0m\u001b[0mticks\u001b[0m\u001b[1;33m)\u001b[0m\u001b[1;33m\u001b[0m\u001b[1;33m\u001b[0m\u001b[0m\n",
      "\u001b[1;31mNameError\u001b[0m: name 'thresh' is not defined"
     ]
    }
   ],
   "source": [
    "plt.plot(thresh,def_recalls)\n",
    "plt.plot(thresh,nondef_recalls)\n",
    "plt.plot(thresh,accs)\n",
    "plt.xlabel(\"Probability Threshold\")\n",
    "plt.xticks(ticks)\n",
    "plt.legend([\"Default Recall\",\"Non-default Recall\",\"Model Accuracy\"])\n",
    "plt.show()"
   ]
  },
  {
   "cell_type": "markdown",
   "metadata": {},
   "source": [
    "# Gradient boosted trees with XGBoost\n",
    "Trees for defaults\n",
    "You will now train a gradient boosted tree model on the credit data, and see a sample of some of the predictions. Do you remember when you first looked at the predictions of the logistic regression model? They didn't look good. Do you think this model be different?\n",
    "\n",
    "The credit data cr_loan_prep, the training sets X_train and y_train, and the test data X_test is available in the workspace. The XGBoost package is loaded as xgb.\n"
   ]
  },
  {
   "cell_type": "code",
   "execution_count": 35,
   "metadata": {},
   "outputs": [
    {
     "name": "stdout",
     "output_type": "stream",
     "text": [
      "   loan_status  prob_default\n",
      "0            1      0.963135\n",
      "1            1      0.874842\n",
      "2            0      0.013830\n",
      "3            0      0.025493\n",
      "4            1      0.076483\n"
     ]
    }
   ],
   "source": [
    "# Train a model\n",
    "import xgboost as xgb\n",
    "clf_gbt = xgb.XGBClassifier().fit(X_train, np.ravel(y_train))\n",
    "\n",
    "# Predict with a model\n",
    "gbt_preds = clf_gbt.predict_proba(X_test)\n",
    "\n",
    "# Create dataframes of first five predictions, and first five true labels\n",
    "preds_df = pd.DataFrame(gbt_preds[:,1][0:5], columns = ['prob_default'])\n",
    "true_df = y_test.head()\n",
    "\n",
    "# Concatenate and print the two data frames for comparison\n",
    "print(pd.concat([true_df.reset_index(drop = True), preds_df], axis = 1))"
   ]
  },
  {
   "cell_type": "markdown",
   "metadata": {},
   "source": [
    "Interesting! The predictions don't look the same as with the LogisticRegression(), do they? Notice that this model is already accurately predicting the probability of default for some loans with a true value of 1 in loan_status.\n",
    "\n",
    "# Gradient boosted portfolio performance\n",
    "At this point you've looked at predicting probability of default using both a LogisticRegression() and XGBClassifier(). You've looked at some scoring and have seen samples of the predictions, but what is the overall affect on portfolio performance? Try using expected loss as a scenario to express the importance of testing different models.\n",
    "\n",
    "A data frame called portfolio has been created to combine the probabilities of default for both models, the loss given default (assume 20% for now), and the loan_amnt which will be assumed to be the exposure at default.\n",
    "\n",
    "\n",
    "\n",
    "The data frame cr_loan_prep along with the X_train and y_train training sets have been loaded into the workspace."
   ]
  },
  {
   "cell_type": "code",
   "execution_count": 36,
   "metadata": {},
   "outputs": [
    {
     "ename": "NameError",
     "evalue": "name 'portfolio' is not defined",
     "output_type": "error",
     "traceback": [
      "\u001b[1;31m---------------------------------------------------------------------------\u001b[0m",
      "\u001b[1;31mNameError\u001b[0m                                 Traceback (most recent call last)",
      "\u001b[1;32m<ipython-input-36-c5b02c936689>\u001b[0m in \u001b[0;36m<module>\u001b[1;34m\u001b[0m\n\u001b[0;32m      1\u001b[0m \u001b[1;31m# Print the first five rows of the portfolio data frame\u001b[0m\u001b[1;33m\u001b[0m\u001b[1;33m\u001b[0m\u001b[1;33m\u001b[0m\u001b[0m\n\u001b[1;32m----> 2\u001b[1;33m \u001b[0mprint\u001b[0m\u001b[1;33m(\u001b[0m\u001b[0mportfolio\u001b[0m\u001b[1;33m.\u001b[0m\u001b[0mhead\u001b[0m\u001b[1;33m(\u001b[0m\u001b[1;33m)\u001b[0m\u001b[1;33m)\u001b[0m\u001b[1;33m\u001b[0m\u001b[1;33m\u001b[0m\u001b[0m\n\u001b[0m\u001b[0;32m      3\u001b[0m \u001b[1;33m\u001b[0m\u001b[0m\n\u001b[0;32m      4\u001b[0m \u001b[1;31m# Create expected loss columns for each model using the formula\u001b[0m\u001b[1;33m\u001b[0m\u001b[1;33m\u001b[0m\u001b[1;33m\u001b[0m\u001b[0m\n\u001b[0;32m      5\u001b[0m \u001b[0mportfolio\u001b[0m\u001b[1;33m[\u001b[0m\u001b[1;34m'gbt_expected_loss'\u001b[0m\u001b[1;33m]\u001b[0m \u001b[1;33m=\u001b[0m \u001b[0mportfolio\u001b[0m\u001b[1;33m[\u001b[0m\u001b[1;34m'gbt_prob_default'\u001b[0m\u001b[1;33m]\u001b[0m \u001b[1;33m*\u001b[0m \u001b[0mportfolio\u001b[0m\u001b[1;33m[\u001b[0m\u001b[1;34m'lgd'\u001b[0m\u001b[1;33m]\u001b[0m \u001b[1;33m*\u001b[0m \u001b[0mportfolio\u001b[0m\u001b[1;33m[\u001b[0m\u001b[1;34m'loan_amnt'\u001b[0m\u001b[1;33m]\u001b[0m\u001b[1;33m\u001b[0m\u001b[1;33m\u001b[0m\u001b[0m\n",
      "\u001b[1;31mNameError\u001b[0m: name 'portfolio' is not defined"
     ]
    }
   ],
   "source": [
    "# Print the first five rows of the portfolio data frame\n",
    "print(portfolio.head())\n",
    "\n",
    "# Create expected loss columns for each model using the formula\n",
    "portfolio['gbt_expected_loss'] = portfolio['gbt_prob_default'] * portfolio['lgd'] * portfolio['loan_amnt']\n",
    "portfolio['lr_expected_loss'] = portfolio['lr_prob_default'] * portfolio['lgd'] * portfolio['loan_amnt']\n",
    "\n",
    "# Print the sum of the expected loss for lr\n",
    "print('LR expected loss: ', np.sum(portfolio['lr_expected_loss']))\n",
    "\n",
    "# Print the sum of the expected loss for gbt\n",
    "print('GBT expected loss: ', np.sum(portfolio['gbt_expected_loss']))"
   ]
  },
  {
   "cell_type": "code",
   "execution_count": 37,
   "metadata": {},
   "outputs": [
    {
     "name": "stdout",
     "output_type": "stream",
     "text": [
      "[1 1 0 ... 1 0 0]\n",
      "              precision    recall  f1-score   support\n",
      "\n",
      " Non-Default       0.91      0.99      0.95      2309\n",
      "     Default       0.93      0.66      0.78       637\n",
      "\n",
      "    accuracy                           0.92      2946\n",
      "   macro avg       0.92      0.83      0.86      2946\n",
      "weighted avg       0.92      0.92      0.91      2946\n",
      "\n"
     ]
    }
   ],
   "source": [
    "# Predict the labels for loan status\n",
    "gbt_preds = clf_gbt.predict(X_test)\n",
    "\n",
    "# Check the values created by the predict method\n",
    "print(gbt_preds)\n",
    "\n",
    "# Print the classification report of the model\n",
    "target_names = ['Non-Default', 'Default']\n",
    "print(classification_report(y_test, gbt_preds, target_names=target_names))"
   ]
  },
  {
   "cell_type": "markdown",
   "metadata": {},
   "source": [
    "Wow. Have a look at the precision and recall scores! Remember the low default recall values we were getting from the LogisticRegression()? This model already appears to have serious potential.\n",
    "# Column selection for credit risk\n",
    "1. Column selection for credit risk\n",
    "\n",
    "We've trained logistic regression models and gradient boosted trees now. But does selecting specific columns affect model performance?\n",
    "\n",
    "2. Choosing specific columns\n",
    "\n",
    "When we first started working with logistic regression models, we used only a few columns. Now, we've been using all of the columns, but how do we know which are the most important for accurately predicting probability of default? For logistic regression models, we were looking at the coefficient of each column and interpreting that coefficient as a weight or measure of importance. But what do we use for our gradient boosted trees?\n",
    "\n",
    "3. Column importances\n",
    "\n",
    "The first easy way to tell which columns are important is to check the feature importances using the get booster and get score methods together. For this course we will focus on the weight type, which shows how many times the column appears in all the models' trees. Once we've trained a model, we are able to see the feature importances by calling these two methods in sequence This returns is a dictionary of each column's name with the weight number as shown here.\n",
    "\n",
    "4. Column importance interpretation\n",
    "\n",
    "These were the importance values we looked at in the last example, but how do we interpret this? In this example, our model created two trees which were gradient boosted. Our column importance for person home ownership was 2, and we can see here that the column appears in both trees. The person home ownership rent is only in one of the trees, so it's column importance is one.\n",
    "\n",
    "5. Plotting column importances\n",
    "\n",
    "We can also visualize the column importances with the plot importance function in xgboost. We call this function and pass in our model to see a nice visualization of the importances. In this example, our model created 400 trees, and the person_income column was used 315 times across all of them. So, 315 of the 400 trees used person_income.\n",
    "\n",
    "6. Choosing training columns\n",
    "\n",
    "Once we have the importances for each column, to determine if we want to create a new training set with only select columns. Different combinations of these columns will affect the overall performance Consider this example. We have two training sets. One has loan interest rate and employment length, while the other has these two columns and the loan's percentage of the person's income. In this example, adding another column improves the accuracy, but changes the importance of the other two columns and reduces default recall. Sometimes adding more columns increases accuracy, but it can also make it more difficult for the model to learn and decrease other performance metrics like default recall.\n",
    "\n",
    "7. F1 scoring for models\n",
    "\n",
    "It can be difficult to use two metrics like accuracy and recall to gauge a model's performance. Fortunately, there is already a defined metric that combines both of these two into one. This metric is the F1 score. This is a combination of both precision and recall. This is useful because it helps us keep recall for loan defaults as an important consideration for any model. The formula, as shown here, is two times the product of the precision and recall divided by their sum. The great thing is that this number already shows up in a classification report. Here, we see the F1-score numbers for both defaults and non-defaults.\n",
    "\n",
    "8. Let's practice!\n",
    "Now that we've talked about how important different columns are for predictions as well as how to select different columns and why, let's dive into the code again to put these ideas into practice!"
   ]
  },
  {
   "cell_type": "markdown",
   "metadata": {},
   "source": [
    "# Column importance and default prediction\n",
    "When using multiple training sets with many different groups of columns, it's important to keep and eye on which columns matter and which do not. It can be expensive or time-consuming to maintain a set of columns even though they might not have any impact on loan_status.\n",
    "\n",
    "The X data for this exercise was created with the following code:\n",
    "X = cr_loan_prep[['person_income','loan_int_rate',\n",
    "                  'loan_percent_income','loan_amnt',\n",
    "                  'person_home_ownership_MORTGAGE','loan_grade_F']]\n",
    "Train an XGBClassifier() model on this data, and check the column importance to see how each one performs to predict loan_status.\n",
    "\n",
    "The cr_loan_pret data set along with X_train and y_train have been loaded in the workspace."
   ]
  },
  {
   "cell_type": "code",
   "execution_count": 39,
   "metadata": {},
   "outputs": [
    {
     "name": "stdout",
     "output_type": "stream",
     "text": [
      "{'loan_percent_income': 93, 'loan_int_rate': 180, 'person_income': 310, 'person_home_ownership_MORTGAGE': 41, 'loan_amnt': 51, 'loan_grade_F': 7}\n"
     ]
    }
   ],
   "source": [
    "X = cr_loan_prep[['person_income','loan_int_rate',\n",
    "                  'loan_percent_income','loan_amnt',\n",
    "                  'person_home_ownership_MORTGAGE','loan_grade_F']]\n",
    "y = cr_loan_prep[['loan_status']]\n",
    "\n",
    "# Use test_train_split to create the training and test sets\n",
    "X_train, X_test, y_train, y_test = train_test_split(X,y, test_size=.1, random_state=123)\n",
    "# Create and train the model on the training data\n",
    "clf_gbt = xgb.XGBClassifier().fit(X_train,np.ravel(y_train))\n",
    "\n",
    "# Print the column importances from the model\n",
    "print(clf_gbt.get_booster().get_score(importance_type = 'weight'))"
   ]
  },
  {
   "cell_type": "markdown",
   "metadata": {},
   "source": [
    "# Visualizing column importance\n",
    "When the model is trained on different sets of columns it changes the performance, but does the importance for the same column change depending on which group it's in?\n",
    "\n",
    "The data sets X2 and X3 have been created with the following code:\n",
    "\n",
    "\n",
    "    X2 = cr_loan_prep[['loan_int_rate','person_emp_length']]\n",
    "    X3 = cr_loan_prep[['person_income','loan_int_rate','loan_percent_income']]\n",
    "\n",
    "Understanding how different columns are used to arrive at a loan_status prediction is very important for model interpretability.\n",
    "\n",
    "The data sets cr_loan_prep, X2_train, X2_test, X3_train, X3_test, y_train, y_test are loaded in the workspace."
   ]
  },
  {
   "cell_type": "code",
   "execution_count": 40,
   "metadata": {},
   "outputs": [
    {
     "data": {
      "image/png": "[encoded data removed]",
      "text/plain": [
       "<Figure size 432x288 with 1 Axes>"
      ]
     },
     "metadata": {
      "needs_background": "light"
     },
     "output_type": "display_data"
    }
   ],
   "source": [
    "X2 = cr_loan_prep[['loan_int_rate','person_emp_length']]\n",
    "X3 = cr_loan_prep[['person_income','loan_int_rate','loan_percent_income']]\n",
    "# Train a model on the X data with 2 columns\n",
    "clf_gbt2 = xgb.XGBClassifier().fit(X2,np.ravel(y))\n",
    "\n",
    "# Plot the column importance for this model\n",
    "xgb.plot_importance(clf_gbt2, importance_type = 'weight')\n",
    "plt.show()"
   ]
  },
  {
   "cell_type": "code",
   "execution_count": 41,
   "metadata": {},
   "outputs": [
    {
     "data": {
      "image/png": "[encoded data removed]",
      "text/plain": [
       "<Figure size 432x288 with 1 Axes>"
      ]
     },
     "metadata": {
      "needs_background": "light"
     },
     "output_type": "display_data"
    }
   ],
   "source": [
    "# Train a model on the X data with 3 columns\n",
    "clf_gbt3 = xgb.XGBClassifier().fit(X3,np.ravel(y))\n",
    "\n",
    "# Plot the column importance for this model\n",
    "xgb.plot_importance(clf_gbt3, importance_type = 'weight')\n",
    "plt.show()"
   ]
  },
  {
   "cell_type": "markdown",
   "metadata": {},
   "source": [
    "Take a closer look at the plots. Did you notice that the importance of loan_int_rate went from 456 to 195? Initially, this was the most important column, but person_income ended up taking the top spot here.\n",
    "Column selection and model performance\n",
    "\n",
    "Creating the training set from different combinations of columns affects the model and the importance values of the columns. Does a different selection of columns also affect the F-1 scores, the combination of the precision and recall, of the model? You can answer this question by training two different models on two different sets of columns, and checking the performance.\n",
    "\n",
    "Inaccurately predicting defaults as non-default can result in unexpected losses if the probability of default for these loans was very low. You can use the F-1 score for defaults to see how the models will accurately predict the defaults.\n",
    "\n",
    "The credit data, cr_loan_prep and the two training column sets X and X2 have been loaded in the workspace. The models gbt and gbt2 have already been trained."
   ]
  },
  {
   "cell_type": "code",
   "execution_count": 44,
   "metadata": {},
   "outputs": [
    {
     "name": "stdout",
     "output_type": "stream",
     "text": [
      "              precision    recall  f1-score   support\n",
      "\n",
      " Non-Default       0.90      0.96      0.93     22996\n",
      "     Default       0.80      0.62      0.70      6463\n",
      "\n",
      "    accuracy                           0.88     29459\n",
      "   macro avg       0.85      0.79      0.81     29459\n",
      "weighted avg       0.88      0.88      0.88     29459\n",
      "\n",
      "              precision    recall  f1-score   support\n",
      "\n",
      " Non-Default       0.83      0.97      0.89     22996\n",
      "     Default       0.70      0.28      0.40      6463\n",
      "\n",
      "    accuracy                           0.82     29459\n",
      "   macro avg       0.76      0.62      0.64     29459\n",
      "weighted avg       0.80      0.82      0.78     29459\n",
      "\n"
     ]
    }
   ],
   "source": [
    "# Predict the loan_status using each model\n",
    "gbt_preds = clf_gbt.predict(X)\n",
    "gbt2_preds = clf_gbt2.predict(X2)\n",
    "\n",
    "# Print the classification report of the first model\n",
    "target_names = ['Non-Default', 'Default']\n",
    "print(classification_report(y,gbt_preds,  target_names=target_names))\n",
    "\n",
    "# Print the classification report of the second model\n",
    "print(classification_report( y,gbt2_preds,  target_names=target_names))\n",
    "\n"
   ]
  },
  {
   "cell_type": "markdown",
   "metadata": {},
   "source": [
    " Originally, it looked like the selection of columns affected model accuracy the most, but now we see that the selection of columns also affects recall by quite a bit.\n",
    " # Cross validation for credit models\n",
    "1. Cross validation for credit models\n",
    "\n",
    "As we select different hyperparameters and columns for our models, how do we know how they will perform over time? This is where we use cross validation to test our models to see how they might perform after we implement them.\n",
    "\n",
    "2. Cross validation basics\n",
    "\n",
    "But what is cross validation? Simply put, it is a method for training and testing a model multiple times on the same data. We cannot create more loan data to help us develop our model, but we can use cross validation to simulate how our model will perform on new loan data before it comes in. Within XGBoost, to use cross validation you need to create a specialized object called dmatrix, which is just a different way of storing the training data. We also need to use early stopping to keep the models robust. This tells cross validation to stop when the score of the model has not improved after a set number of iterations.\n",
    "\n",
    "3. How cross validation works\n",
    "\n",
    "Here's how cross validation works. What we do is take the entire set of training data and create pieces, called folds, from it. All but one of the folds are used for training, and the remaining fold is used as a kind of miniature test set. Once testing on all folds is completed, the model is tested against the actual test set. We've created 5 folds. Now what happens is the model is trained on 4 of the folds, and tested against the final fold. This process repeats through 5 splits so that each fold is used for testing at least once. Once this is done, the parameters are averaged across each training session and then the model is finally tested against the original test set.\n",
    "\n",
    "1 https://scikit\n",
    "2 learn.org/stable/modules/cross_validation.html\n",
    "4. Setting up cross validation within XGBoost\n",
    "Here is how we use cross validation from within xgboost. First, we set the number of folds. Then, we set the number of iterations we will allow before the simulations stop. Next, we create a dictionary of parameters. The binary logistic parameter we created tells xgboost that we want to predict a 0 or 1 for loan status. The performance metric here is the area under the curve. This is the same metric we used on the logistic regression models.\n",
    "\n",
    "5. Using cross validation within XGBoost\n",
    "\n",
    "After creating the dictionary of parameters, we transform our training data into the specialized dmatrix object for xgboost. Last, we call the cv function and pass in the data long with all the parameters dictionary.\n",
    "\n",
    "6. The results of cross validation\n",
    "\n",
    "What the cv function produces is a data frame of training and test AUC scores for our model. Think of this as a scenario analysis where we want to see how our model would perform as new loans come in. Here we see that the auc for the test and train set improves as the model trains on each fold. This suggests that the performance will be stable.\n",
    "\n",
    "7. Cross validation scoring\n",
    "\n",
    "Within scikit-learn there is another helpful function that combines cross validation, and the accuracy scoring metrics we've seen so far. This is the cross val score function. This is used to automatically perform cross validation with data splitting, model training, and scoring all at once! This function comes from the model selection module and is used like this. We first pass in the model, the training data, the training labels, and then the number of folds for cross validation. There are other ways to use this, but when cv is a number, it automatically uses folds. The result is an array of scores for each iteration of training and scoring.\n",
    "\n",
    "8. Let's practice!\n",
    "\n",
    "We've learned a lot about model scoring and testing to further validate our models to ensure their performance and success. Let's do some quick programming exercises to reinforce our new knowledge!"
   ]
  },
  {
   "cell_type": "code",
   "execution_count": null,
   "metadata": {},
   "outputs": [],
   "source": []
  },
  {
   "cell_type": "code",
   "execution_count": null,
   "metadata": {},
   "outputs": [],
   "source": []
  },
  {
   "cell_type": "code",
   "execution_count": null,
   "metadata": {},
   "outputs": [],
   "source": []
  },
  {
   "cell_type": "markdown",
   "metadata": {},
   "source": [
    "# Complete Pipe "
   ]
  },
  {
   "cell_type": "code",
   "execution_count": 46,
   "metadata": {},
   "outputs": [],
   "source": [
    "\n",
    "import pandas as pd #To work with dataset\n",
    "import numpy as np #Math library\n",
    "import seaborn as sns #Graph library that use matplot in background\n",
    "import matplotlib.pyplot as plt #to plot some parameters in seaborn\n",
    "import warnings\n",
    "from sklearn.preprocessing import LabelEncoder\n",
    "from sklearn.neighbors import KNeighborsClassifier\n",
    "# Import StandardScaler from scikit-learn\n",
    "from sklearn.preprocessing import StandardScaler\n",
    "from sklearn.impute import SimpleImputer\n",
    "from sklearn.preprocessing import OneHotEncoder\n",
    "from sklearn.feature_extraction.text import CountVectorizer\n",
    "from sklearn.compose import make_column_transformer\n",
    "from sklearn.pipeline import make_pipeline, Pipeline\n",
    "from sklearn.preprocessing import FunctionTransformer\n",
    "from sklearn.manifold import TSNE\n",
    "from sklearn.model_selection import GridSearchCV\n",
    "# Import train_test_split()\n",
    "from sklearn.model_selection import train_test_split\n",
    "from sklearn.model_selection import KFold\n",
    "from sklearn.metrics import mean_squared_error\n",
    "from datetime import datetime, date\n",
    "from sklearn.linear_model import ElasticNet, Lasso,  BayesianRidge, LassoLarsIC\n",
    "from sklearn.model_selection import cross_val_score\n",
    "import lightgbm as lgbm\n",
    "import  tensorflow as tf \n",
    "from tensorflow.keras import layers\n",
    "from tensorflow.keras.callbacks import EarlyStopping\n",
    "import smogn\n",
    "from sklearn.base import BaseEstimator, TransformerMixin, RegressorMixin, clone\n",
    "from sklearn.kernel_ridge import KernelRidge\n",
    "from sklearn.ensemble import GradientBoostingRegressor\n",
    "import lightgbm as lgb"
   ]
  },
  {
   "cell_type": "code",
   "execution_count": 54,
   "metadata": {},
   "outputs": [],
   "source": [
    "# Create the X and y data sets\n",
    "X =cr_loan_prep.drop('loan_status', axis=1)\n",
    "\n",
    "y = cr_loan_prep[['loan_status']]\n",
    "\n",
    "# Use test_train_split to create the training and test sets\n",
    "X_train, X_test, y_train, y_test = train_test_split(X,y, test_size=.1, random_state=123)"
   ]
  },
  {
   "cell_type": "markdown",
   "metadata": {},
   "source": [
    "#  First CV "
   ]
  },
  {
   "cell_type": "code",
   "execution_count": 55,
   "metadata": {},
   "outputs": [
    {
     "name": "stdout",
     "output_type": "stream",
     "text": [
      "   train-auc-mean  train-auc-std  test-auc-mean  test-auc-std\n",
      "0        0.900480       0.002528       0.895664      0.005892\n",
      "1        0.908401       0.001930       0.902768      0.006431\n",
      "2        0.913979       0.001307       0.909720      0.006605\n",
      "3        0.917836       0.002033       0.912970      0.006318\n",
      "4        0.922420       0.001802       0.917072      0.005320\n"
     ]
    }
   ],
   "source": [
    "# Set the values for number of folds and stopping iterations\n",
    "n_folds = 5\n",
    "early_stopping = 10\n",
    "params= {'objective': 'binary:logistic', 'seed': 123, 'eval_metric': 'auc'}\n",
    "# Create the DTrain matrix for XGBoost\n",
    "DTrain = xgb.DMatrix(X_train, label = y_train)\n",
    "# Create the data frame of cross validations\n",
    "cv_df = xgb.cv(params, DTrain, num_boost_round = 5, nfold=n_folds,\n",
    "            early_stopping_rounds=early_stopping)\n",
    "\n",
    "# Print the cross validations data frame\n",
    "print(cv_df)"
   ]
  },
  {
   "cell_type": "markdown",
   "metadata": {},
   "source": [
    "# Limits to cross-validation testing\n",
    "You can specify very large numbers for both nfold and num_boost_round if you want to perform an extreme amount of cross-validation. The data frame cv_results_big has already been loaded in the workspace and was created with the following code:\n",
    "\n",
    "    cv = xgb.cv(params, DTrain, num_boost_round = 600, nfold=10,\n",
    "                shuffle = True)\n",
    "Here, cv() performed 600 iterations of cross-validation! The parameter shuffle tells the function to shuffle the records each time.\n",
    "\n",
    "Have a look at this data to see what the AUC are, and check to see if they reach 1.0 using cross validation. You should also plot the test AUC score to see the progression.\n",
    "\n",
    "The data frame cv_results_big has been loaded into the workspace."
   ]
  },
  {
   "cell_type": "code",
   "execution_count": 62,
   "metadata": {},
   "outputs": [
    {
     "name": "stdout",
     "output_type": "stream",
     "text": [
      "   train-auc-mean  train-auc-std  test-auc-mean  test-auc-std\n",
      "0        0.900480       0.002528       0.895664      0.005892\n",
      "1        0.908401       0.001930       0.902768      0.006431\n",
      "2        0.913979       0.001307       0.909720      0.006605\n",
      "3        0.917836       0.002033       0.912970      0.006318\n",
      "4        0.922420       0.001802       0.917072      0.005320\n",
      "0.9417501465116281\n"
     ]
    },
    {
     "data": {
      "image/png": "[encoded data removed]",
      "text/plain": [
       "<Figure size 432x288 with 1 Axes>"
      ]
     },
     "metadata": {
      "needs_background": "light"
     },
     "output_type": "display_data"
    }
   ],
   "source": [
    "# Create the data frame of cross validations\n",
    "cv_results_big = xgb.cv(params, DTrain, num_boost_round = 600, nfold=n_folds,\n",
    "            early_stopping_rounds=early_stopping)\n",
    "# Print the first five rows of the CV results data frame\n",
    "print(cv_results_big.head())\n",
    "\n",
    "# Calculate the mean of the test AUC scores\n",
    "print(np.mean(cv_results_big['test-auc-mean']))\n",
    "\n",
    "# Plot the test AUC scores for each iteration\n",
    "plt.plot(cv_results_big['test-auc-mean'])\n",
    "plt.title('Test AUC Score Over 600 Iterations')\n",
    "plt.xlabel('Iteration Number')\n",
    "plt.ylabel('Test AUC Score')\n",
    "plt.show()"
   ]
  },
  {
   "cell_type": "markdown",
   "metadata": {},
   "source": [
    "Notice that the test AUC score never quite reaches 1.0 and begins to decrease slightly after 100 iterations. This is because this much cross-validation can actually cause the model to become overfit. So, there is a limit to how much cross-validation you should to."
   ]
  },
  {
   "cell_type": "markdown",
   "metadata": {},
   "source": [
    "# Cross-validation scoring\n",
    "Now, you should use cross-validation scoring with cross_val_score() to check the overall performance.\n",
    "\n",
    "This is exercise presents an excellent opportunity to test out the use of the hyperparameters learning_rate and max_depth. Remember, hyperparameters are like settings which can help create optimum performance.\n",
    "\n",
    "The data sets cr_loan_prep, X_train, and y_train have already been loaded in the workspace."
   ]
  },
  {
   "cell_type": "code",
   "execution_count": 65,
   "metadata": {},
   "outputs": [
    {
     "name": "stdout",
     "output_type": "stream",
     "text": [
      "[0.94003394 0.93682821 0.93777107 0.93285553 0.93078084]\n",
      "Average accuracy: 0.94 (+/- 0.01)\n"
     ]
    }
   ],
   "source": [
    "# Create a gradient boosted tree model using two hyperparameters\n",
    "gbt = xgb.XGBClassifier(learning_rate = 0.1, max_depth = 7)\n",
    "\n",
    "# Calculate the cross validation scores for 4 folds\n",
    "cv_scores = cross_val_score(gbt, X_train, np.ravel(y_train), cv = 5)\n",
    "\n",
    "# Print the cross validation scores\n",
    "print(cv_scores)\n",
    "\n",
    "# Print the average accuracy and standard deviation of the scores\n",
    "print(\"Average accuracy: %0.2f (+/- %0.2f)\" % (cv_scores.mean(),\n",
    "                                              cv_scores.std() * 2))"
   ]
  },
  {
   "cell_type": "markdown",
   "metadata": {},
   "source": [
    "Your average cv_score for this course is getting higher! With only a couple of hyperparameters and cross-validation, we can get the average accuracy up to 93%. This is a great way to validate how robust the model is."
   ]
  },
  {
   "cell_type": "code",
   "execution_count": 63,
   "metadata": {},
   "outputs": [
    {
     "data": {
      "text/plain": [
       "0.9463901305519936"
      ]
     },
     "execution_count": 63,
     "metadata": {},
     "output_type": "execute_result"
    }
   ],
   "source": [
    "cross_validation_design = KFold(n_splits=5,\n",
    "                                shuffle=True,\n",
    "                                random_state=77)\n",
    "\n",
    "# params = {'n_neighbors':[2,3,4,5,6,7,8,9]}\n",
    "\n",
    "XGBT_MODEL = {}\n",
    "XGBST = xgb.XGBClassifier(learning_rate = 0.1, max_depth = 7)\n",
    "# Définir la pipeline\n",
    "XGBT_MODEL['pipeline'] = Pipeline([\n",
    "                                  #('data_process', data_preprocess),\n",
    "                                  ('XGBT', XGBST)\n",
    "                                  ])\n",
    "\n",
    "# Définir la grille\n",
    "XGBT_MODEL['hyperparams'] = {}\n",
    "#XGBT_MODEL['hyperparams']['knn__n_neighbors'] = [1, 3,5,8, 9,10,11,15, 20,21, 51]\n",
    "#XGBT_MODEL['hyperparams']['knn__weights'] = ['uniform','distance']\n",
    "#XGBT_MODEL['hyperparams']['knn__metric'] = ['euclidean', 'manhattan', 'minkowski']\n",
    "\n",
    "# Effectuer la GridSearch\n",
    "XGBT_MODEL['gridsearch'] = GridSearchCV(\n",
    "    estimator=XGBT_MODEL['pipeline'],\n",
    "    param_grid=XGBT_MODEL['hyperparams'],\n",
    "    cv=cross_validation_design,\n",
    "    scoring='roc_auc'\n",
    "    )\n",
    "XGBT_MODEL['gridsearch'].fit(X_train, y_train)\n",
    "\n",
    "\n",
    "XGBT_MODEL['gridsearch'].best_params_\n",
    "\n",
    "XGBT_MODEL['gridsearch'].best_score_"
   ]
  },
  {
   "cell_type": "code",
   "execution_count": 58,
   "metadata": {},
   "outputs": [
    {
     "data": {
      "text/plain": [
       "dict_keys(['explained_variance', 'r2', 'max_error', 'neg_median_absolute_error', 'neg_mean_absolute_error', 'neg_mean_squared_error', 'neg_mean_squared_log_error', 'neg_root_mean_squared_error', 'neg_mean_poisson_deviance', 'neg_mean_gamma_deviance', 'accuracy', 'roc_auc', 'roc_auc_ovr', 'roc_auc_ovo', 'roc_auc_ovr_weighted', 'roc_auc_ovo_weighted', 'balanced_accuracy', 'average_precision', 'neg_log_loss', 'neg_brier_score', 'adjusted_rand_score', 'homogeneity_score', 'completeness_score', 'v_measure_score', 'mutual_info_score', 'adjusted_mutual_info_score', 'normalized_mutual_info_score', 'fowlkes_mallows_score', 'precision', 'precision_macro', 'precision_micro', 'precision_samples', 'precision_weighted', 'recall', 'recall_macro', 'recall_micro', 'recall_samples', 'recall_weighted', 'f1', 'f1_macro', 'f1_micro', 'f1_samples', 'f1_weighted', 'jaccard', 'jaccard_macro', 'jaccard_micro', 'jaccard_samples', 'jaccard_weighted'])"
      ]
     },
     "execution_count": 58,
     "metadata": {},
     "output_type": "execute_result"
    }
   ],
   "source": [
    "import sklearn\n",
    "sklearn.metrics.SCORERS.keys()"
   ]
  },
  {
   "cell_type": "markdown",
   "metadata": {},
   "source": [
    "# Class imbalance in loan data\n",
    "1. Class imbalance in loan data\n",
    "\n",
    "We just used cross-validation to check the robustness of our model. Let's talk more about how the data impacts the robustness of the model.\n",
    "\n",
    "2. Not enough defaults in the data\n",
    "\n",
    "In our credit data, the values for loan status are our classes. By looking at the value counts, we see that the number of defaults and non-defaults is not equal. In the training data, the defaults account for 22%. So, there are far more non-defaults than defaults. This is class imbalance, which is a problem.\n",
    "\n",
    "3. Model loss function\n",
    "\n",
    "Our tree models use a loss function called log-loss. Our model will want to predict both classes accurately as this leads to an overall better score. Here, we have one default and one non-default. Each has a predicted probability far away from the actual loan status. With the log-loss function, both result in the same value. So, for our model each is equally bad. The problem is, for loans, a default predicted to be a non-default is much more costly.\n",
    "\n",
    "4. The cost of imbalance\n",
    "\n",
    "Let's say we have two loans for a thousand dollars each. One is a non-default predicted as default, and the other is a default predicted as non-default. Here, each has a potential profit of 10 dollars. If we deny a loan because we think it's a default when it isn't, we miss out on 10 dollars. If we accept a loan because we think it's a non-default when it is a default, we could lose a thousand dollars. For the model, each of these is equally bad. For our portfolio, that is definitely not the case.\n",
    "\n",
    "5. Causes of imbalance\n",
    "\n",
    "What causes class imbalance can be several different things. One is there might be some issues with the data itself. Maybe the training data was not sampled correctly. For us, the imbalance is perfectly normal. People have incentives to not default on loans. One example is the less often they default, their credit rating goes up and they are able to purchase more things.\n",
    "\n",
    "\n",
    "\n",
    "6. Dealing with class imbalance\n",
    "\n",
    "So, how can we deal with class imbalance? One way is to gather more data. However, if it remains normal for people to not default on loans, it's unlikely that the percentage of defaults will change. Another way is to penalize the classification differently. This would have models weight inaccurately predicted defaults more. However, this can require frequent model parameter tuning and maintenance for the life of the model. We will use the simplest method, which is to sample the training data differently.\n",
    "\n",
    "7. Undersampling strategy\n",
    "\n",
    "The type of sampling we are going to perform is called undersampling. What we will do is take a random sample of non-defaults and combine it with our defaults. Imagine we have 100 loans where 80% are non-defaults. We will randomly sample only 20 of our non-defaults, and combine that with our set of 20 defaults. With this, we have a balanced training set of 20 defaults and 20 non-defaults.\n",
    "\n",
    "8. Combining the split data sets\n",
    "\n",
    "So here is the way we undersample our training data. First we concatenate our X and y training sets because we separated them for our model, but now we need to change the training data as a whole. Then we store the counts for defaults and non-defaults. After that, we create two new data sets. One with only defaults and one with only non-defaults.\n",
    "\n",
    "9. Undersampling the non-defaults\n",
    "\n",
    "With that done, we randomly sample our non-defaults to be the same number of loans as our defaults. Then, we concatenate the two data sets together, and we have a balanced training set!\n",
    "\n",
    "10. Let's practice!\n",
    "\n",
    "So we've learned why class imbalance is a problem, and an easy way to correct it. Let's get to coding!\n",
    "# Undersampling training data\n",
    "It's time to undersample the training set yourself with a few lines of code from Pandas. Once the undersampling is complete, you can check the value counts for loan_status to verify the results.\n",
    "\n",
    "X_y_train, count_nondefault, and count_default are already loaded in the workspace. They have been created using the following code:\n",
    "\n",
    "    X_y_train = pd.concat([X_train.reset_index(drop = True),\n",
    "                           y_train.reset_index(drop = True)], axis = 1)\n",
    "    count_nondefault, count_default = X_y_train['loan_status'].value_counts()"
   ]
  },
  {
   "cell_type": "code",
   "execution_count": 68,
   "metadata": {},
   "outputs": [
    {
     "name": "stdout",
     "output_type": "stream",
     "text": [
      "1    5826\n",
      "0    5826\n",
      "Name: loan_status, dtype: int64\n"
     ]
    }
   ],
   "source": [
    "X_y_train = pd.concat([X_train.reset_index(drop = True),\n",
    "                           y_train.reset_index(drop = True)], axis = 1)\n",
    "count_nondefault, count_default = X_y_train['loan_status'].value_counts()\n",
    "# Create data sets for defaults and non-defaults\n",
    "nondefaults = X_y_train[X_y_train['loan_status'] == 0]\n",
    "defaults = X_y_train[X_y_train['loan_status'] == 1]\n",
    "\n",
    "# Undersample the non-defaults\n",
    "nondefaults_under = nondefaults.sample(count_default )\n",
    "\n",
    "# Concatenate the undersampled nondefaults with defaults\n",
    "X_y_train_under = pd.concat([nondefaults_under.reset_index(drop = True),\n",
    "                             defaults.reset_index(drop = True)], axis = 0)\n",
    "\n",
    "# Print the value counts for loan status\n",
    "print(X_y_train_under['loan_status'].value_counts())"
   ]
  },
  {
   "cell_type": "code",
   "execution_count": 83,
   "metadata": {},
   "outputs": [
    {
     "name": "stdout",
     "output_type": "stream",
     "text": [
      "              precision    recall  f1-score   support\n",
      "\n",
      " Non-Default       0.94      1.00      0.97     20687\n",
      "     Default       0.99      0.76      0.86      5826\n",
      "\n",
      "    accuracy                           0.94     26513\n",
      "   macro avg       0.96      0.88      0.91     26513\n",
      "weighted avg       0.95      0.94      0.94     26513\n",
      "\n",
      "              precision    recall  f1-score   support\n",
      "\n",
      " Non-Default       0.87      0.98      0.92      5826\n",
      "     Default       0.98      0.86      0.91      5826\n",
      "\n",
      "    accuracy                           0.92     11652\n",
      "   macro avg       0.92      0.92      0.92     11652\n",
      "weighted avg       0.92      0.92      0.92     11652\n",
      "\n"
     ]
    }
   ],
   "source": [
    "X_under=X_y_train_under.drop('loan_status',axis=1)\n",
    "y_under=X_y_train_under['loan_status']\n",
    "# Check the classification reports\n",
    "target_names = ['Non-Default', 'Default']\n",
    "clf_gbt_preds  =XGBT_MODEL['gridsearch'].fit(X_train, y_train).predict(X_train)\n",
    "gbt2_preds =XGBT_MODEL['gridsearch'].fit(X_under, y_under).predict(X_under)\n",
    "print(classification_report(y_train, clf_gbt_preds, target_names=target_names))\n",
    "print(classification_report(y_under, gbt2_preds, target_names=target_names))"
   ]
  },
  {
   "cell_type": "code",
   "execution_count": 72,
   "metadata": {},
   "outputs": [
    {
     "name": "stdout",
     "output_type": "stream",
     "text": [
      "[[20634    53]\n",
      " [ 1420  4406]]\n",
      "[[5707  119]\n",
      " [ 835 4991]]\n"
     ]
    }
   ],
   "source": [
    "# Print the confusion matrix for both old and new models\n",
    "print(confusion_matrix(y_train,gbt_preds))\n",
    "print(confusion_matrix(y_under,gbt2_preds))"
   ]
  },
  {
   "cell_type": "code",
   "execution_count": 73,
   "metadata": {},
   "outputs": [
    {
     "name": "stdout",
     "output_type": "stream",
     "text": [
      "0.8768515117123977\n",
      "0.9181256436663234\n"
     ]
    }
   ],
   "source": [
    "# Print and compare the AUC scores of the old and new models\n",
    "print(roc_auc_score(y_train, gbt_preds))\n",
    "print(roc_auc_score(y_under, gbt2_preds))"
   ]
  },
  {
   "cell_type": "markdown",
   "metadata": {},
   "source": [
    "Looks like this is classified as a success! Undersampling the training data results in more false positives, but the recall for defaults and the AUC score are both higher than the original model. This means overall it predicts defaults much more accurately.\n",
    "\n",
    "**\"Nicely done! The test set represents the type of data that will be seen by the model in the real world, so changing it would test the model on unrealistic data.**\n",
    "\n",
    "# Model evaluation and implementation\n",
    "Got It!\n",
    "1. Model evaluation and implementation\n",
    "\n",
    "We've fully developed two models to predict the probability of default, and we need to use many different metrics to compare them to ensure we select the best one.\n",
    "\n",
    "2. Comparing classification reports\n",
    "\n",
    "First, we will use classification reports. For comparison, we will look at two side-by-side and focus on one metric, the macro average F-1 score. The calculation behind the F1 score combines precision and recall to create a single metric and is shown here. The unweighted average of the F1 scores for default and non-default is the macro average F1 score. With this, we can use a single number to get a good understanding of each models' performance across defaults and non-defaults.\n",
    "\n",
    "3. ROC and AUC analysis\n",
    "\n",
    "We will also use ROC charts and AUC scores. The ROC chart will have a line for each model which allows us to compare the lift for both. The greater the lift means that the AUC score is higher and the model has better performance overall for defaults and non-defaults. In this example, we see two models compared to the random prediction going through the middle. Here, the gradient boosted tree model has more lift, and will have a higher AUC score.\n",
    "\n",
    "4. Model calibration\n",
    "\n",
    "Another method we will use to compare models is to check how well calibrated their predicted probabilities are. What this means is we want to be able to interpret these probabilities as a confidence level for default. A model is well-calibrated when a sample of loans has an average predicted probability of default close to that sample's percentage of actual defaults. For example, if we take 10 loans and their average predicted probability of default is 0.12, we expect 12% of the sample to be defaults. If our model has an average predicted probability of default of 0.25 and that sample is 65% defaults, then we have several loans that we predicted to be non-default that are actually defaults which we are very costly.\n",
    "\n",
    "1 http://datascienceassn.org/sites/default/files/Predicting%20good%20probabilities%20with%20supervised%20learning.pdf\n",
    "5. Calculating calibration\n",
    "To calculate these values we use the calibration curve function. It is imported from the sci-kit learn package like this, and is used on the test set and the predicted probabilities of default. The n-bins parameter sets the number of samples to take. So, with this example, our test data is split into 5 samples and the function will calculate the average predicted probability of default and percentage of true defaults for each sample.\n",
    "\n",
    "6. Plotting calibration curves\n",
    "\n",
    "With the outputs from the calibration curve function, we make a calibration curve plot by calling the plot function from matplotlib. The result plots all our average predicted probabilities against all our percentage of actual defaults for each sample. Here, I used 20 samples.\n",
    "\n",
    "7. Checking calibration curves\n",
    "\n",
    "To interpret this plot, let's look at two different events. One where the model is above the perfectly calibrated line, and one where it's below.\n",
    "\n",
    "8. Calibration curve interpretation\n",
    "\n",
    "In this event, we see that our average predicted probability of default was 0.56, but this sample contained 75% defaults. Here is where we find the majority of our false negatives, which are quite costly. Our model is having a difficult time accurately predicting the probability of default for the loans in this sample.\n",
    "\n",
    "9. Calibration curve interpretation\n",
    "\n",
    "In the second event, the model's average predicted probability for the sample is 0.94 but the sample is only 66% defaults. Here we will find most of our false positives. These are missed opportunities for profit, but are not as damaging as the false negatives.\n",
    "\n",
    "10. Let's practice!\n",
    "Now let's do some programming exercises to see which model will come out on top!\n",
    "\n",
    "# Comparing model reports\n",
    "You've used logistic regression models and gradient boosted trees. It's time to compare these two to see which model will be used to make the final predictions.\n",
    "\n",
    "One of the easiest first steps for comparing different models' ability to predict the probability of default is to look at their metrics from the classification_report(). With this, you can see many different scoring metrics side-by-side for each model. Because the data and models are normally unbalanced with few defaults, focus on the metrics for defaults for now.\n",
    "\n",
    "The trained models clf_logistic and clf_gbt have been loaded into the workspace along with their predictions preds_df_lr and preds_df_gbt. A cutoff of 0.4 was used for each. The test set y_test is also available."
   ]
  },
  {
   "cell_type": "code",
   "execution_count": 79,
   "metadata": {},
   "outputs": [
    {
     "ename": "ValueError",
     "evalue": "Found input variables with inconsistent numbers of samples: [2946, 5]",
     "output_type": "error",
     "traceback": [
      "\u001b[1;31m---------------------------------------------------------------------------\u001b[0m",
      "\u001b[1;31mValueError\u001b[0m                                Traceback (most recent call last)",
      "\u001b[1;32m<ipython-input-79-ba2dd2277c61>\u001b[0m in \u001b[0;36m<module>\u001b[1;34m\u001b[0m\n\u001b[0;32m      1\u001b[0m \u001b[1;31m# Print the logistic regression classification report\u001b[0m\u001b[1;33m\u001b[0m\u001b[1;33m\u001b[0m\u001b[1;33m\u001b[0m\u001b[0m\n\u001b[0;32m      2\u001b[0m \u001b[0mtarget_names\u001b[0m \u001b[1;33m=\u001b[0m \u001b[1;33m[\u001b[0m\u001b[1;34m'Non-Default'\u001b[0m\u001b[1;33m,\u001b[0m \u001b[1;34m'Default'\u001b[0m\u001b[1;33m]\u001b[0m\u001b[1;33m\u001b[0m\u001b[1;33m\u001b[0m\u001b[0m\n\u001b[1;32m----> 3\u001b[1;33m \u001b[0mprint\u001b[0m\u001b[1;33m(\u001b[0m\u001b[0mclassification_report\u001b[0m\u001b[1;33m(\u001b[0m\u001b[0my_test\u001b[0m\u001b[1;33m,\u001b[0m \u001b[0mpreds_df_lr\u001b[0m\u001b[1;33m[\u001b[0m\u001b[1;34m'prob_default'\u001b[0m\u001b[1;33m]\u001b[0m\u001b[1;33m,\u001b[0m \u001b[0mtarget_names\u001b[0m\u001b[1;33m=\u001b[0m\u001b[0mtarget_names\u001b[0m\u001b[1;33m)\u001b[0m\u001b[1;33m)\u001b[0m\u001b[1;33m\u001b[0m\u001b[1;33m\u001b[0m\u001b[0m\n\u001b[0m\u001b[0;32m      4\u001b[0m \u001b[1;33m\u001b[0m\u001b[0m\n\u001b[0;32m      5\u001b[0m \u001b[1;31m# Print the gradient boosted tree classification report\u001b[0m\u001b[1;33m\u001b[0m\u001b[1;33m\u001b[0m\u001b[1;33m\u001b[0m\u001b[0m\n",
      "\u001b[1;32m~\\Anaconda3\\lib\\site-packages\\sklearn\\utils\\validation.py\u001b[0m in \u001b[0;36minner_f\u001b[1;34m(*args, **kwargs)\u001b[0m\n\u001b[0;32m     70\u001b[0m                           FutureWarning)\n\u001b[0;32m     71\u001b[0m         \u001b[0mkwargs\u001b[0m\u001b[1;33m.\u001b[0m\u001b[0mupdate\u001b[0m\u001b[1;33m(\u001b[0m\u001b[1;33m{\u001b[0m\u001b[0mk\u001b[0m\u001b[1;33m:\u001b[0m \u001b[0marg\u001b[0m \u001b[1;32mfor\u001b[0m \u001b[0mk\u001b[0m\u001b[1;33m,\u001b[0m \u001b[0marg\u001b[0m \u001b[1;32min\u001b[0m \u001b[0mzip\u001b[0m\u001b[1;33m(\u001b[0m\u001b[0msig\u001b[0m\u001b[1;33m.\u001b[0m\u001b[0mparameters\u001b[0m\u001b[1;33m,\u001b[0m \u001b[0margs\u001b[0m\u001b[1;33m)\u001b[0m\u001b[1;33m}\u001b[0m\u001b[1;33m)\u001b[0m\u001b[1;33m\u001b[0m\u001b[1;33m\u001b[0m\u001b[0m\n\u001b[1;32m---> 72\u001b[1;33m         \u001b[1;32mreturn\u001b[0m \u001b[0mf\u001b[0m\u001b[1;33m(\u001b[0m\u001b[1;33m**\u001b[0m\u001b[0mkwargs\u001b[0m\u001b[1;33m)\u001b[0m\u001b[1;33m\u001b[0m\u001b[1;33m\u001b[0m\u001b[0m\n\u001b[0m\u001b[0;32m     73\u001b[0m     \u001b[1;32mreturn\u001b[0m \u001b[0minner_f\u001b[0m\u001b[1;33m\u001b[0m\u001b[1;33m\u001b[0m\u001b[0m\n\u001b[0;32m     74\u001b[0m \u001b[1;33m\u001b[0m\u001b[0m\n",
      "\u001b[1;32m~\\Anaconda3\\lib\\site-packages\\sklearn\\metrics\\_classification.py\u001b[0m in \u001b[0;36mclassification_report\u001b[1;34m(y_true, y_pred, labels, target_names, sample_weight, digits, output_dict, zero_division)\u001b[0m\n\u001b[0;32m   1927\u001b[0m     \"\"\"\n\u001b[0;32m   1928\u001b[0m \u001b[1;33m\u001b[0m\u001b[0m\n\u001b[1;32m-> 1929\u001b[1;33m     \u001b[0my_type\u001b[0m\u001b[1;33m,\u001b[0m \u001b[0my_true\u001b[0m\u001b[1;33m,\u001b[0m \u001b[0my_pred\u001b[0m \u001b[1;33m=\u001b[0m \u001b[0m_check_targets\u001b[0m\u001b[1;33m(\u001b[0m\u001b[0my_true\u001b[0m\u001b[1;33m,\u001b[0m \u001b[0my_pred\u001b[0m\u001b[1;33m)\u001b[0m\u001b[1;33m\u001b[0m\u001b[1;33m\u001b[0m\u001b[0m\n\u001b[0m\u001b[0;32m   1930\u001b[0m \u001b[1;33m\u001b[0m\u001b[0m\n\u001b[0;32m   1931\u001b[0m     \u001b[0mlabels_given\u001b[0m \u001b[1;33m=\u001b[0m \u001b[1;32mTrue\u001b[0m\u001b[1;33m\u001b[0m\u001b[1;33m\u001b[0m\u001b[0m\n",
      "\u001b[1;32m~\\Anaconda3\\lib\\site-packages\\sklearn\\metrics\\_classification.py\u001b[0m in \u001b[0;36m_check_targets\u001b[1;34m(y_true, y_pred)\u001b[0m\n\u001b[0;32m     79\u001b[0m     \u001b[0my_pred\u001b[0m \u001b[1;33m:\u001b[0m \u001b[0marray\u001b[0m \u001b[1;32mor\u001b[0m \u001b[0mindicator\u001b[0m \u001b[0mmatrix\u001b[0m\u001b[1;33m\u001b[0m\u001b[1;33m\u001b[0m\u001b[0m\n\u001b[0;32m     80\u001b[0m     \"\"\"\n\u001b[1;32m---> 81\u001b[1;33m     \u001b[0mcheck_consistent_length\u001b[0m\u001b[1;33m(\u001b[0m\u001b[0my_true\u001b[0m\u001b[1;33m,\u001b[0m \u001b[0my_pred\u001b[0m\u001b[1;33m)\u001b[0m\u001b[1;33m\u001b[0m\u001b[1;33m\u001b[0m\u001b[0m\n\u001b[0m\u001b[0;32m     82\u001b[0m     \u001b[0mtype_true\u001b[0m \u001b[1;33m=\u001b[0m \u001b[0mtype_of_target\u001b[0m\u001b[1;33m(\u001b[0m\u001b[0my_true\u001b[0m\u001b[1;33m)\u001b[0m\u001b[1;33m\u001b[0m\u001b[1;33m\u001b[0m\u001b[0m\n\u001b[0;32m     83\u001b[0m     \u001b[0mtype_pred\u001b[0m \u001b[1;33m=\u001b[0m \u001b[0mtype_of_target\u001b[0m\u001b[1;33m(\u001b[0m\u001b[0my_pred\u001b[0m\u001b[1;33m)\u001b[0m\u001b[1;33m\u001b[0m\u001b[1;33m\u001b[0m\u001b[0m\n",
      "\u001b[1;32m~\\Anaconda3\\lib\\site-packages\\sklearn\\utils\\validation.py\u001b[0m in \u001b[0;36mcheck_consistent_length\u001b[1;34m(*arrays)\u001b[0m\n\u001b[0;32m    254\u001b[0m     \u001b[1;32mif\u001b[0m \u001b[0mlen\u001b[0m\u001b[1;33m(\u001b[0m\u001b[0muniques\u001b[0m\u001b[1;33m)\u001b[0m \u001b[1;33m>\u001b[0m \u001b[1;36m1\u001b[0m\u001b[1;33m:\u001b[0m\u001b[1;33m\u001b[0m\u001b[1;33m\u001b[0m\u001b[0m\n\u001b[0;32m    255\u001b[0m         raise ValueError(\"Found input variables with inconsistent numbers of\"\n\u001b[1;32m--> 256\u001b[1;33m                          \" samples: %r\" % [int(l) for l in lengths])\n\u001b[0m\u001b[0;32m    257\u001b[0m \u001b[1;33m\u001b[0m\u001b[0m\n\u001b[0;32m    258\u001b[0m \u001b[1;33m\u001b[0m\u001b[0m\n",
      "\u001b[1;31mValueError\u001b[0m: Found input variables with inconsistent numbers of samples: [2946, 5]"
     ]
    }
   ],
   "source": [
    "# Print the logistic regression classification report\n",
    "target_names = ['Non-Default', 'Default']\n",
    "print(classification_report(y_test, preds_df_lr['prob_default'], target_names=target_names))\n",
    "\n",
    "# Print the gradient boosted tree classification report\n",
    "print(classification_report(y_test, preds_df_gbt['loan_status'], target_names=target_names))\n",
    "\n",
    "# Print the default F-1 scores for the logistic regression\n",
    "print(precision_recall_fscore_support(y_test,preds_df_lr['loan_status'], average = 'macro')[2])\n",
    "\n",
    "# Print the default F-1 scores for the gradient boosted tree\n",
    "print(precision_recall_fscore_support(y_test,preds_df_gbt['loan_status'], average = 'macro')[2])"
   ]
  },
  {
   "cell_type": "markdown",
   "metadata": {},
   "source": [
    "result :\n",
    "<script.py> output:\n",
    "\n",
    "                  precision    recall  f1-score   support\n",
    "    \n",
    "     Non-Default       0.86      0.92      0.89      9198\n",
    "         Default       0.62      0.46      0.53      2586\n",
    "    \n",
    "       micro avg       0.82      0.82      0.82     11784\n",
    "       macro avg       0.74      0.69      0.71     11784\n",
    "    weighted avg       0.81      0.82      0.81     11784\n",
    "    \n",
    "                  precision    recall  f1-score   support\n",
    "    \n",
    "     Non-Default       0.93      0.99      0.96      9198\n",
    "         Default       0.94      0.73      0.82      2586\n",
    "    \n",
    "       micro avg       0.93      0.93      0.93     11784\n",
    "       macro avg       0.93      0.86      0.89     11784\n",
    "    weighted avg       0.93      0.93      0.93     11784\n",
    "    \n",
    "    0.7108943782814463\n",
    "    0.8909014142736051\n",
    "Great! There is a noticeable difference between these two models. Do you see that the scores from the classification_report() are all higher for the gradient boosted tree? This means the tree model is better in all of these aspects. Let's check the ROC curve.\n",
    "# Comparing with ROCs\n",
    "You should use ROC charts and AUC scores to compare the two models. Sometimes, visuals can really help you and potential business users understand the differences between the various models under consideration.\n",
    "\n",
    "With the graph in mind, you will be more equipped to make a decision. The lift is how far the curve is from the random prediction. The AUC is the area between the curve and the random prediction. The model with more lift, and a higher AUC, is the one that's better at making predictions accurately.\n",
    "\n",
    "The trained models clf_logistic and clf_gbt have been loaded into the workspace. The predictions for the probability of default clf_logistic_preds and clf_gbt_preds have been loaded as well."
   ]
  },
  {
   "cell_type": "code",
   "execution_count": null,
   "metadata": {},
   "outputs": [],
   "source": [
    "# ROC chart components\n",
    "fallout_lr, sensitivity_lr, thresholds_lr = roc_curve(y_test, clf_logistic_preds)\n",
    "fallout_gbt, sensitivity_gbt, thresholds_gbt = roc_curve(y_test, clf_gbt_preds)\n",
    "\n",
    "# ROC Chart with both\n",
    "plt.plot(fallout_lr, sensitivity_lr, color = 'blue', label='%s' % 'Logistic Regression')\n",
    "plt.plot(fallout_gbt, sensitivity_gbt, color = 'green', label='%s' % 'GBT')\n",
    "plt.plot([0, 1], [0, 1], linestyle='--', label='%s' % 'Random Prediction')\n",
    "plt.title(\"ROC Chart for LR and GBT on the Probability of Default\")\n",
    "plt.xlabel('Fall-out')\n",
    "plt.ylabel('Sensitivity')\n",
    "plt.legend()\n",
    "plt.show()"
   ]
  },
  {
   "cell_type": "code",
   "execution_count": null,
   "metadata": {},
   "outputs": [],
   "source": [
    "# Print the logistic regression AUC with formatting\n",
    "print(\"Logistic Regression AUC Score: %0.2f\" % roc_auc_score(y_test, clf_logistic_preds))\n",
    "\n",
    "# Print the gradient boosted tree AUC with formatting\n",
    "print(\"Gradient Boosted Tree AUC Score: %0.2f\" % roc_auc_score(y_test, clf_gbt_preds))"
   ]
  },
  {
   "cell_type": "markdown",
   "metadata": {},
   "source": [
    "<script.py> output:\n",
    "\n",
    "    Logistic Regression AUC Score: 0.76\n",
    "    Gradient Boosted Tree AUC Score: 0.94\n",
    "    \n",
    "# Calibration curves\n",
    "You now know that the gradient boosted tree clf_gbt has the best overall performance. You need to check the calibration of the two models to see how stable the default prediction performance is across probabilities. You can use a chart of each model's calibration to check this by calling the calibration_curve() function.\n",
    "\n",
    "Calibration curves can require many lines of code in python, so you will go through each step slowly to add the different components.\n",
    "\n",
    "The two sets of predictions clf_logistic_preds and clf_gbt_preds have already been loaded into the workspace. Also, the output from calibration_curve() for each model has been loaded as: frac_of_pos_lr, mean_pred_val_lr, frac_of_pos_gbt, and mean_pred_val_gbt.    "
   ]
  },
  {
   "cell_type": "code",
   "execution_count": 80,
   "metadata": {},
   "outputs": [
    {
     "data": {
      "image/png": "[encoded data removed]",
      "text/plain": [
       "<Figure size 432x288 with 1 Axes>"
      ]
     },
     "metadata": {
      "needs_background": "light"
     },
     "output_type": "display_data"
    }
   ],
   "source": [
    "# Create the calibration curve plot with the guideline\n",
    "plt.plot([0, 1], [0, 1], 'k:', label='Perfectly calibrated')    \n",
    "plt.ylabel('Fraction of positives')\n",
    "plt.xlabel('Average Predicted Probability')\n",
    "plt.legend()\n",
    "plt.title('Calibration Curve')\n",
    "plt.show()"
   ]
  },
  {
   "cell_type": "code",
   "execution_count": null,
   "metadata": {},
   "outputs": [],
   "source": [
    "# Add the calibration curve for the logistic regression to the plot\n",
    "plt.plot([0, 1], [0, 1], 'k:', label='Perfectly calibrated')    \n",
    "plt.plot(mean_pred_val_lr, frac_of_pos_lr,\n",
    "         's-', label='%s' % 'Logistic Regression')\n",
    "plt.ylabel('Fraction of positives')\n",
    "plt.xlabel('Average Predicted Probability')\n",
    "plt.legend()\n",
    "plt.title('Calibration Curve')\n",
    "plt.show()"
   ]
  },
  {
   "cell_type": "code",
   "execution_count": null,
   "metadata": {},
   "outputs": [],
   "source": [
    "# Add the calibration curve for the gradient boosted tree\n",
    "plt.plot([0, 1], [0, 1], 'k:', label='Perfectly calibrated')    \n",
    "plt.plot(mean_pred_val_lr, frac_of_pos_lr,\n",
    "         's-', label='%s' % 'Logistic Regression')\n",
    "plt.plot(mean_pred_val_gbt, frac_of_pos_gbt,\n",
    "         's-', label='%s' % 'Gradient Boosted Tree')\n",
    "plt.ylabel('Fraction of positives')\n",
    "plt.xlabel('Average Predicted Probability')\n",
    "plt.legend()\n",
    "plt.title('Calibration Curve')\n",
    "plt.show()"
   ]
  },
  {
   "cell_type": "markdown",
   "metadata": {},
   "source": [
    "Expand the plot window and take a good look at this. Notice that for the logistic regression, the calibration for probabilities starts off great but then gets more erratic as it the average probability approaches 0.4. Something similar happens to the gradient boosted tree around 0.5, but the model eventually stabilizes. We will be focusing on only the gbt model from now on.\n",
    "# Credit acceptance rates\n",
    "1. Credit acceptance rates\n",
    "\n",
    "We've compared our two models and decided to proceed with the gradient boosted tree. It's time to begin implementing our model and the predicted probabilities of default.\n",
    "\n",
    "2. Thresholds and loan status\n",
    "\n",
    "Until now, we've used guesses and simple checks to set threshold values for determining the loan status based on the predicted probability of default. With those values, we used code like this to set a new loan status based on the probability and threshold. These new values of loan status impact the performance metrics of our model as well as the estimated financial impact on the portfolio. If we have three loans with these probabilities of default, those above the threshold are considered defaults and those below are considered non-defaults.\n",
    "\n",
    "3. Thresholds and acceptance rate\n",
    "\n",
    "Our models have already predicted the probabilities of default, and we can use these probabilities to calculate the threshold. Because the threshold is used to determine what is a default or non-default, it can also be used to approve or deny new loans as they come in. For example purposes, let's assume our test set is a fresh batch of new loans. Before we calculate the threshold, we need to understand a concept known as acceptance rate. This is a percentage of new loans that we accept with the goal of keeping the number of defaults in a portfolio below a certain number.\n",
    "\n",
    "4. Understanding acceptance rate\n",
    "\n",
    "Here's an example using our test data. If we want to accept 85% of all loans with the lowest probabilities of default, then our acceptance rate is 85%. This means we reject 15% of all loans with the highest probabilities of default. Instead of setting a threshold value, we want to calculate it to separate the loans we accept using our acceptance rate from the loans we reject. This value will not be the same 85% that we used as an acceptance rate.\n",
    "\n",
    "5. Calculating the threshold\n",
    "\n",
    "In order to calculate this threshold we need to use the quantile function from numpy. This uses our array of probabilities of default and the acceptance rate to determine what value separates our accepted loans from rejected loans. In our example, the threshold is 0.804. This means that all of our new loans with a probability of default below 80% are accepted, and all probabilities above that are rejected.\n",
    "\n",
    "6. Implementing the calculated threshold\n",
    "\n",
    "Reassigning loan status values is done the same way as before. We apply a one-time function to our data frame using our new threshold value.\n",
    "\n",
    "7. Bad Rate\n",
    "\n",
    "Even though we've calculated an acceptance rate for our loans and set a threshold, there will still be some defaults in our accepted loans. These are often in probability ranges where our model was not well-calibrated. For our example, we accepted 85% of the loans, but not all of them are non-defaults as we might wish. The bad rate is the percentage of accepted loans which are actually defaults. So, our bad rate is a percentage of the 10,016 accepted loans.\n",
    "\n",
    "\n",
    "8. Bad rate calculation\n",
    "\n",
    "The calculation for the bad rate is the number of defaults in our accepted loans divided by the total number of accepted loans. In Python, we use the sum function from numpy to count the number of defaults, and the count method to get the total number of accepted loans. The reason this method works is because our non-defaults are zero and defaults are one, the sum is mathematically the same as the count of defaults. This divided by the count of rows in the data frame gives us our bad rate!\n",
    "\n",
    "9. Let's practice!\n",
    "\n",
    "So, we've talked about acceptance rates, bad rates, and how to apply them to the data. Time for some Python exercises!\n",
    "\n",
    "# Acceptance rates\n",
    "Setting an acceptance rate and calculating the threshold for that rate can be used to set the percentage of new loans you want to accept. For this exercise, assume the test data is a fresh batch of new loans. You will need to use the quantile() function from numpy to calculate the threshold.\n",
    "\n",
    "The threshold should be used to assign new loan_status values. Does the number of defaults and non-defaults in the data change?\n",
    "\n",
    "The trained model clf_gbt and the data frame of it's predictions, test_pred_df, are available."
   ]
  },
  {
   "cell_type": "code",
   "execution_count": 81,
   "metadata": {},
   "outputs": [
    {
     "ename": "NameError",
     "evalue": "name 'test_pred_df' is not defined",
     "output_type": "error",
     "traceback": [
      "\u001b[1;31m---------------------------------------------------------------------------\u001b[0m",
      "\u001b[1;31mNameError\u001b[0m                                 Traceback (most recent call last)",
      "\u001b[1;32m<ipython-input-81-7c478d9ce04d>\u001b[0m in \u001b[0;36m<module>\u001b[1;34m\u001b[0m\n\u001b[0;32m      1\u001b[0m \u001b[1;31m# Check the statistics of the probabilities of default\u001b[0m\u001b[1;33m\u001b[0m\u001b[1;33m\u001b[0m\u001b[1;33m\u001b[0m\u001b[0m\n\u001b[1;32m----> 2\u001b[1;33m \u001b[0mprint\u001b[0m\u001b[1;33m(\u001b[0m\u001b[0mtest_pred_df\u001b[0m\u001b[1;33m[\u001b[0m\u001b[1;34m'prob_default'\u001b[0m\u001b[1;33m]\u001b[0m\u001b[1;33m.\u001b[0m\u001b[0mdescribe\u001b[0m\u001b[1;33m(\u001b[0m\u001b[1;33m)\u001b[0m\u001b[1;33m)\u001b[0m\u001b[1;33m\u001b[0m\u001b[1;33m\u001b[0m\u001b[0m\n\u001b[0m\u001b[0;32m      3\u001b[0m \u001b[1;33m\u001b[0m\u001b[0m\n\u001b[0;32m      4\u001b[0m \u001b[1;31m# Calculate the threshold for a 85% acceptance rate\u001b[0m\u001b[1;33m\u001b[0m\u001b[1;33m\u001b[0m\u001b[1;33m\u001b[0m\u001b[0m\n\u001b[0;32m      5\u001b[0m \u001b[0mthreshold_85\u001b[0m \u001b[1;33m=\u001b[0m \u001b[0mnp\u001b[0m\u001b[1;33m.\u001b[0m\u001b[0mquantile\u001b[0m\u001b[1;33m(\u001b[0m\u001b[0mtest_pred_df\u001b[0m\u001b[1;33m[\u001b[0m\u001b[1;34m'prob_default'\u001b[0m\u001b[1;33m]\u001b[0m\u001b[1;33m,\u001b[0m \u001b[1;36m0.85\u001b[0m\u001b[1;33m)\u001b[0m\u001b[1;33m\u001b[0m\u001b[1;33m\u001b[0m\u001b[0m\n",
      "\u001b[1;31mNameError\u001b[0m: name 'test_pred_df' is not defined"
     ]
    }
   ],
   "source": [
    "# Check the statistics of the probabilities of default\n",
    "print(test_pred_df['prob_default'].describe())\n",
    "\n",
    "# Calculate the threshold for a 85% acceptance rate\n",
    "threshold_85 = np.quantile(test_pred_df['prob_default'], 0.85)\n",
    "\n",
    "# Apply acceptance rate threshold\n",
    "test_pred_df['pred_loan_status'] = test_pred_df['prob_default'].apply(lambda x: 1 if x > threshold_85 else 0)\n",
    "\n",
    "# Print the counts of loan status after the threshold\n",
    "print(test_pred_df['pred_loan_status'].value_counts())"
   ]
  },
  {
   "cell_type": "code",
   "execution_count": null,
   "metadata": {},
   "outputs": [],
   "source": [
    "# Visualizing quantiles of acceptance\n",
    "You know how quantile() works to compute a threshold, and you've seen an example of what it does to split the loans into accepted and rejected. What does this threshold look like for the test set, and how can you visualize it?\n",
    "\n",
    "To check this, you can create a histogram of the probabilities and add a reference line for the threshold. With this, you can visually show where the threshold exists in the distribution.\n",
    "\n",
    "The model predictions clf_gbt_preds have been loaded into the workspace."
   ]
  },
  {
   "cell_type": "code",
   "execution_count": 84,
   "metadata": {},
   "outputs": [
    {
     "data": {
      "image/png": "[encoded data removed]",
      "text/plain": [
       "<Figure size 432x288 with 1 Axes>"
      ]
     },
     "metadata": {
      "needs_background": "light"
     },
     "output_type": "display_data"
    }
   ],
   "source": [
    "# Plot the predicted probabilities of default\n",
    "plt.hist(clf_gbt_preds, color = 'blue', bins = 40)\n",
    "\n",
    "# Calculate the threshold with quantile\n",
    "threshold = np.quantile(clf_gbt_preds, 0.85)\n",
    "\n",
    "# Add a reference line to the plot for the threshold\n",
    "plt.axvline(x = threshold, color = 'red')\n",
    "plt.show()"
   ]
  },
  {
   "cell_type": "markdown",
   "metadata": {},
   "source": [
    "Here, you can see where the threshold is on the range of predicted probabilities. Not only can you see how many loans will be accepted (left side), but also how many loans will be rejected (right side). I recommend that you re-run this code with different threshold values to better understand how this affects the acceptance rate\n",
    "# Bad rates\n",
    "With acceptance rate in mind, you can now analyze the bad rate within the accepted loans. This way you will be able to see the percentage of defaults that have been accepted.\n",
    "\n",
    "Think about the impact of the acceptance rate and bad rate. We set an acceptance rate to have fewer defaults in the portfolio because defaults are more costly. Will the bad rate be less than the percentage of defaults in the test data?\n",
    "\n",
    "The predictions data frame test_pred_df has been loaded into the workspace.\n",
    "\n",
    "This bad rate doesn't look half bad! The bad rate with the threshold set by the 85% quantile() is about 8%. This means that of all the loans we've decided to accept from the test set, only 8% were actual defaults! If we accepted all loans, the percentage of defaults would be around 22%.\n",
    "# Acceptance rate impact\n",
    "Now, look at the loan_amnt of each loan to understand the impact on the portfolio for the acceptance rates. You can use cross tables with calculated values, like the average loan amount, of the new set of loans X_test. For this, you will multiply the number of each with an average loan_amnt value.\n",
    "\n",
    "When printing these values, try formatting them as currency so that the numbers look more realistic. After all, credit risk is all about money. This is accomplished with the following code:\n",
    "\n",
    "pd.options.display.float_format = '${:,.2f}'.format\n",
    "The predictions data frame test_pred_df, which now includes the loan_amnt column from X_test, has been loaded in the workspace"
   ]
  },
  {
   "cell_type": "code",
   "execution_count": null,
   "metadata": {},
   "outputs": [],
   "source": [
    "# Print the statistics of the loan amount column\n",
    "print(test_pred_df['loan_amnt'].describe())\n",
    "\n",
    "# Store the average loan amount\n",
    "avg_loan = np.mean(test_pred_df['loan_amnt'])\n",
    "\n",
    "# Set the formatting for currency, and print the cross tab\n",
    "pd.options.display.float_format = '${:,.2f}'.format\n",
    "print(pd.crosstab(test_pred_df['true_loan_status'],\n",
    "                 test_pred_df['pred_loan_status_15']).apply(lambda x: x * avg_loan, axis = 0))"
   ]
  },
  {
   "cell_type": "markdown",
   "metadata": {},
   "source": [
    "<script.py> output:\n",
    "\n",
    "    count    11784.000000\n",
    "    mean      9556.283944\n",
    "    std       6238.005674\n",
    "    min        500.000000\n",
    "    25%       5000.000000\n",
    "    50%       8000.000000\n",
    "    75%      12000.000000\n",
    "    max      35000.000000\n",
    "    Name: loan_amnt, dtype: float64\n",
    "    pred_loan_status_15              0              1\n",
    "    true_loan_status                                 \n",
    "    0                   $87,812,693.16     $86,006.56\n",
    "    1                    $7,903,046.82 $16,809,503.46\n",
    "    \n",
    "With this, we can see that our bad rate of about 8% represents an estimated loan value of about 7.9 million dollars. This may seem like a lot at first, but compare it to the total value of non-default loans! With this, we are ready to start talking about our acceptance strategy going forward.\n",
    "# Credit strategy and minimum expected loss\n",
    "1. Credit strategy and minimum expected loss\n",
    "We've looked at acceptance rates to calculate thresholds and we calculated bad rates to see how many defaults are accepted. Now, let's talk about how we test many different acceptance rates and how we can estimate total expected loss.\n",
    "\n",
    "2. Selecting acceptance rates\n",
    "Previously, we selected an acceptance rate of 85%. What if we don't know what values to set? To discover the bad rate an impact of each acceptance rate we could calculate all the values manually, or we could calculate them automatically and create a table. This table is referred to as the strategy table because we can choose our acceptance rate based on our overall strategy for the loan portfolio.\n",
    "\n",
    "3. Setting up the strategy table\n",
    "Before we begin calculating all the values for the strategy table, we first set up objects to store the values. Here, we create a list of all the acceptance rates to test. We also have two empty lists to store the thresholds and bad rates.\n",
    "\n",
    "4. Calculating the table values\n",
    "To create the table, we use a for loop to perform all of the calculations automatically and store the results. So, for each acceptance rate we define, we calculate the threshold, store it for later, apply it to the loans, create a subset called accepted loans, and then calculate and store the bad rate.\n",
    "\n",
    "5. Strategy table interpretation\n",
    "Once the for loop completes we can create a data frame for the strategy table which contains the values from each of the lists we made before. If we decided on an acceptance rate of 90%, then here we can see the threshold and bad rate for that acceptance rate. We accept only 90% of new loans, and reject the top 10% which gives us a threshold of 0.947. If we assume our test set loans are new loans not seen before, then we have an estimated bad rate of 13%.\n",
    "\n",
    "6. Adding accepted loans\n",
    "To make the strategy table more useful, we are going to add a few columns. The first is the number of accepted loans. This shows us how many new loans we accept for each acceptance rate.\n",
    "\n",
    "7. Adding average loan amount\n",
    "Next, we add an average loan value that we will use later. This is just the average loan amount from the test set.\n",
    "\n",
    "8. Estimating portfolio value\n",
    "Finally, the estimated value is difference between the average value of the accepted non-defaults minus the average value of accepted defaults. Remember, the accepted defaults is represented as a percentage which is the bad rate. Here, I assume each default in our accepted loans is a loss of the average amount of all loans. This gives a rough estimate for the portfolio value at each acceptance rate. So, if I choose an acceptance rate of 95% then my bad rate is 17.7%. If my acceptance rate is 85% then my bad rate is 9%. There is a trade-off between acceptance and bad rate. With this new table, we can estimate the difference.\n",
    "\n",
    "9. Total expected loss\n",
    "The final way we will measure the financial impact of our predictions is with total expected loss. This represents how much we expect to lose on loan defaults given their probability of default. We will take the product of the probability of default, loss given default, and exposure at default for each loan, and sum it. Within our predictions data frame we will use the probability of default from prob_default, the exposure will be assumed as the total loan value, and the loss given default will be 1 for a total loss on the loan.\n",
    "\n",
    "10. Let's practice!\n",
    "Now that we've figured out how to create the strategy table and calculate total expected loss for the portfolio, let's finish strong with our final set of coding exercises!\n",
    "# Making the strategy table\n",
    "Before you implement a strategy, you should first create a strategy table containing all the possible acceptance rates you wish to look at along with their associated bad rates and threshold values. This way, you can begin to see each part of your strategy and how it affects your portfolio.\n",
    "\n",
    "Automatically calculating all of these values only requires a for loop, but requires many lines of python code. Don't worry, most of the code is already there. Remember the calculations for threshold and bad rate.\n",
    "\n",
    "The array accept_rates has already been populated and loaded into the workspace along with the data frames preds_df_gbt and test_pred_df. The arrays thresholds and bad_rates have not been populated."
   ]
  },
  {
   "cell_type": "code",
   "execution_count": null,
   "metadata": {},
   "outputs": [],
   "source": [
    "# Print accept rates\n",
    "print(accept_rates)\n",
    "# Populate the arrays for the strategy table with a for loop\n",
    "for rate in accept_rates:\n",
    "  \t# Calculate the threshold for the acceptance rate\n",
    "    thresh = np.quantile(preds_df_gbt['prob_default'], rate).round(3)\n",
    "    # Add the threshold value to the list of thresholds\n",
    "    thresholds.append(np.quantile(preds_df_gbt['prob_default'], rate).round(3))\n",
    "    # Reassign the loan_status value using the threshold\n",
    "    test_pred_df['pred_loan_status'] = test_pred_df['prob_default'].apply(lambda x: 1 if x > thresh else 0)\n",
    "    # Create a set of accepted loans using this acceptance rate\n",
    "    accepted_loans = test_pred_df[test_pred_df['pred_loan_status'] == 0]\n",
    "    # Calculate and append the bad rate using the acceptance rate\n",
    "    bad_rates.append(np.sum((accepted_loans['true_loan_status']) / len(accepted_loans['true_loan_status'])).round(3))"
   ]
  },
  {
   "cell_type": "code",
   "execution_count": null,
   "metadata": {},
   "outputs": [],
   "source": [
    "# Create a data frame of the strategy table\n",
    "strat_df = pd.DataFrame(zip(accept_rates, thresholds, bad_rates),\n",
    "                        columns = ['Acceptance Rate','Threshold','Bad Rate'])\n",
    "\n",
    "# Print the entire table\n",
    "print(strat_df)"
   ]
  },
  {
   "cell_type": "code",
   "execution_count": null,
   "metadata": {},
   "outputs": [],
   "source": []
  },
  {
   "cell_type": "markdown",
   "metadata": {},
   "source": [
    "<script.py> output:\n",
    "\n",
    "        Acceptance Rate  Threshold  Bad Rate\n",
    "    0              1.00      1.000     0.219\n",
    "    1              0.95      0.992     0.179\n",
    "    2              0.90      0.976     0.132\n",
    "    3              0.85      0.804     0.083\n",
    "    4              0.80      0.254     0.061\n",
    "    5              0.75      0.178     0.052\n",
    "    6              0.70      0.138     0.043\n",
    "    7              0.65      0.111     0.036\n",
    "    8              0.60      0.093     0.030\n",
    "    9              0.55      0.078     0.027\n",
    "    10             0.50      0.066     0.023\n",
    "    11             0.45      0.055     0.020\n",
    "    12             0.40      0.045     0.017\n",
    "    13             0.35      0.037     0.014\n",
    "    14             0.30      0.030     0.010\n",
    "    15             0.25      0.022     0.008\n",
    "    16             0.20      0.015     0.005\n",
    "    17             0.15      0.008     0.001\n",
    "    18             0.10      0.004     0.000\n",
    "    19             0.05      0.002     0.000\n",
    "That for loop was a lot of code, but look at this sweet strategy table we have now. This uses our specific predictions on the credit data, and can be used to see the acceptance rates, bad rates, and financial impact all at once. One of these values has the highest estimated value.\n",
    "# Visualizing the strategy\n",
    "Now you have the extended strategy table strat_df. The table is not so big that it's difficult to analyze, but visuals can help you see the overview all at once.\n",
    "\n",
    "You should check at the distribution of each column with a box plot. If the distribution of Acceptance Rate looks the same as the Bad Rate column, that could be a problem. That means that the model's calibration is likely much worse than you thought.\n",
    "\n",
    "You can also visualize the strategy curve with a line plot. The Acceptance Rate would be the independent variable with the Bad Rate as the dependent variable.\n",
    "\n",
    "The strategy table strat_df has been loaded in the workspace.\n",
    "# Visualize the distributions in the strategy table with a boxplot\n",
    "\n"
   ]
  },
  {
   "cell_type": "code",
   "execution_count": 85,
   "metadata": {},
   "outputs": [
    {
     "ename": "NameError",
     "evalue": "name 'strat_df' is not defined",
     "output_type": "error",
     "traceback": [
      "\u001b[1;31m---------------------------------------------------------------------------\u001b[0m",
      "\u001b[1;31mNameError\u001b[0m                                 Traceback (most recent call last)",
      "\u001b[1;32m<ipython-input-85-e02093d54899>\u001b[0m in \u001b[0;36m<module>\u001b[1;34m\u001b[0m\n\u001b[1;32m----> 1\u001b[1;33m \u001b[0mstrat_df\u001b[0m\u001b[1;33m.\u001b[0m\u001b[0mboxplot\u001b[0m\u001b[1;33m(\u001b[0m\u001b[1;33m)\u001b[0m\u001b[1;33m\u001b[0m\u001b[1;33m\u001b[0m\u001b[0m\n\u001b[0m\u001b[0;32m      2\u001b[0m \u001b[0mplt\u001b[0m\u001b[1;33m.\u001b[0m\u001b[0mshow\u001b[0m\u001b[1;33m(\u001b[0m\u001b[1;33m)\u001b[0m\u001b[1;33m\u001b[0m\u001b[1;33m\u001b[0m\u001b[0m\n",
      "\u001b[1;31mNameError\u001b[0m: name 'strat_df' is not defined"
     ]
    }
   ],
   "source": [
    "strat_df.boxplot()\n",
    "plt.show()"
   ]
  },
  {
   "cell_type": "code",
   "execution_count": null,
   "metadata": {},
   "outputs": [],
   "source": [
    "# Plot the strategy curve\n",
    "plt.plot(strat_df['Acceptance Rate'], strat_df['Bad Rate'])\n",
    "plt.xlabel('Acceptance Rate')\n",
    "plt.ylabel('Bad Rate')\n",
    "plt.title('Acceptance and Bad Rates')\n",
    "plt.axes().yaxis.grid()\n",
    "plt.axes().xaxis.grid()\n",
    "plt.show()"
   ]
  },
  {
   "cell_type": "markdown",
   "metadata": {},
   "source": [
    "The boxplot shows us the distribution for each column. Look at the strategy curve. The bad rates are very low up until the acceptance rate 0.6 where they suddenly increase. This suggests that many of the accepted defaults may have a prob_default value between 0.6 and 0.8.\n",
    "# Estimated value profiling\n",
    "The strategy table, strat_df, can be used to maximize the estimated portfolio value and minimize expected loss. Extending this table and creating some plots can be very helpful to this end.\n",
    "\n",
    "The strat_df data frame is loaded and has been enhanced already with the following columns:\n",
    "\n",
    "# Column\tDescription\n",
    "Num Accepted Loans\tThe number of accepted loans based on the threshold\n",
    "Avg Loan Amnt\tThe average loan amount of the entire test set\n",
    "Estimated value\tThe estimated net value of non-defaults minus defaults"
   ]
  },
  {
   "cell_type": "code",
   "execution_count": null,
   "metadata": {},
   "outputs": [],
   "source": [
    "# Print the contents of the strategy df\n",
    "print(strat_df)"
   ]
  },
  {
   "cell_type": "code",
   "execution_count": null,
   "metadata": {},
   "outputs": [],
   "source": [
    "# Create a line plot of estimated value\n",
    "plt.plot(strat_df['Acceptance Rate'],strat_df['Estimated Value'])\n",
    "plt.title('Estimated Value by Acceptance Rate')\n",
    "plt.xlabel('Acceptance Rate')\n",
    "plt.ylabel('Estimated Value')\n",
    "plt.axes().yaxis.grid()\n",
    "plt.show()"
   ]
  },
  {
   "cell_type": "code",
   "execution_count": null,
   "metadata": {},
   "outputs": [],
   "source": [
    "# Print the row with the max estimated value\n",
    "print(strat_df.loc[strat_df['Estimated Value'] == np.max(strat_df['Estimated Value'])])"
   ]
  },
  {
   "cell_type": "markdown",
   "metadata": {},
   "source": [
    "With our credit data and our estimated averag loan value, we clearly see that the acceptance rate 0.85 has the highest potential estimated value. Normally, the allowable bad rate is set, but we can use analyses like this to explore other options.\n",
    "# Total expected loss\n",
    "It's time to estimate the total expected loss given all your decisions. The data frame test_pred_df has the probability of default for each loan and that loan's value. Use these two values to calculate the expected loss for each loan. Then, you can sum those values and get the total expected loss.\n",
    "\n",
    "\n",
    "\n",
    "For this exercise, you will assume that the exposure is the full value of the loan, and the loss given default is 100%. This means that a default on each the loan is a loss of the entire amount.\n",
    "\n",
    "The data frame test_pred_df has been loaded into the workspace."
   ]
  },
  {
   "cell_type": "code",
   "execution_count": null,
   "metadata": {},
   "outputs": [],
   "source": [
    "# Print the first five rows of the data frame\n",
    "print(test_pred_df.head())\n",
    "\n",
    "# Calculate the bank's expected loss and assign it to a new column\n",
    "test_pred_df['expected_loss'] = test_pred_df['prob_default'] * test_pred_df['loan_amnt'] * test_pred_df['loss_given_default']\n",
    "\n",
    "# Calculate the total expected loss to two decimal places\n",
    "tot_exp_loss = round(np.sum(test_pred_df['expected_loss']),2)\n",
    "\n",
    "# Print the total expected loss\n",
    "print('Total expected loss: ', '${:,.2f}'.format(tot_exp_loss))"
   ]
  },
  {
   "cell_type": "markdown",
   "metadata": {},
   "source": [
    "This is the total expected loss for the entire portfolio using the gradient boosted tree. $27 million may seem like a lot, but the total expected loss would have been over $28 million with the logistic regression. Some losses are unavoidable, but your work here might have saved the company a million dollars!"
   ]
  },
  {
   "cell_type": "code",
   "execution_count": null,
   "metadata": {},
   "outputs": [],
   "source": []
  }
 ],
 "metadata": {
  "kernelspec": {
   "display_name": "Python 3",
   "language": "python",
   "name": "python3"
  },
  "language_info": {
   "codemirror_mode": {
    "name": "ipython",
    "version": 3
   },
   "file_extension": ".py",
   "mimetype": "text/x-python",
   "name": "python",
   "nbconvert_exporter": "python",
   "pygments_lexer": "ipython3",
   "version": "3.7.6"
  }
 },
 "nbformat": 4,
 "nbformat_minor": 4
}
