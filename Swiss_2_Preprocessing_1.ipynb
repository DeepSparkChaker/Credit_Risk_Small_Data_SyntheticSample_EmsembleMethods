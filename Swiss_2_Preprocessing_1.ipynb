{
 "cells": [
  {
   "cell_type": "markdown",
   "metadata": {},
   "source": [
    "# Data preprocessing\n",
    "\n",
    "Data preprocessing comes after you've cleaned up your data and after you've done some exploratory analysis to understand your dataset. Once you understand your dataset, you'll probably have some idea about how you want to model your data. Machine learning models in Python require numerical input, so if your dataset has categorical variables, you'll need to transform them. Think of data preprocessing as a prerequisite for modeling."
   ]
  },
  {
   "cell_type": "code",
   "execution_count": 1,
   "metadata": {},
   "outputs": [],
   "source": [
    "#Load the librarys\n",
    "import pandas as pd #To work with dataset\n",
    "import numpy as np #Math library\n",
    "import seaborn as sns #Graph library that use matplot in background\n",
    "import matplotlib.pyplot as plt #to plot some parameters in seaborn\n",
    "import warnings\n",
    "warnings.filterwarnings('ignore')\n",
    "# Read spreadsheet and assign it to swiss_loan\n",
    "swiss_loan= pd.read_excel('C:/Users/rzouga/Desktop/ALLINHERE/Assignement/ATUCE_Case_study_data_2021.xlsx')"
   ]
  },
  {
   "cell_type": "markdown",
   "metadata": {},
   "source": [
    "# How sparse is my data?\n",
    "\n",
    "Most data sets contain missing values, often represented as NaN (Not a Number). If you are working with Pandas you can easily check how many missing values exist in each column."
   ]
  },
  {
   "cell_type": "code",
   "execution_count": 2,
   "metadata": {},
   "outputs": [
    {
     "name": "stdout",
     "output_type": "stream",
     "text": [
      "<class 'pandas.core.frame.DataFrame'>\n",
      "RangeIndex: 688 entries, 0 to 687\n",
      "Data columns (total 87 columns):\n",
      " #   Column                                  Non-Null Count  Dtype  \n",
      "---  ------                                  --------------  -----  \n",
      " 0   ID                                      688 non-null    int64  \n",
      " 1   Pays                                    688 non-null    object \n",
      " 2   Taux                                    688 non-null    object \n",
      " 3   Mois                                    688 non-null    int64  \n",
      " 4   Montant                                 688 non-null    object \n",
      " 5   Niveau de risque                        688 non-null    object \n",
      " 6   Emprunteur                              688 non-null    object \n",
      " 7   capital social                          688 non-null    object \n",
      " 8   année de création                       688 non-null    int64  \n",
      " 9   Antériorité                             688 non-null    object \n",
      " 10  effectifs                               687 non-null    object \n",
      " 11  Nombre de mois de la période 15         300 non-null    object \n",
      " 12  Nombre de mois de la période 16         423 non-null    object \n",
      " 13  Nombre de mois de la période 17         351 non-null    object \n",
      " 14  Nombre de mois de la période 18         168 non-null    object \n",
      " 15  Chiffre d'Affaires 15                   374 non-null    object \n",
      " 16  Chiffre d'Affaires 16                   491 non-null    object \n",
      " 17  Chiffre d'Affaires 17                   312 non-null    object \n",
      " 18  Chiffre d'Affaires 18                   125 non-null    object \n",
      " 19  Evolution du Chiffre d'Affaires 15      227 non-null    object \n",
      " 20  Evolution du Chiffre d'Affaires 16      377 non-null    object \n",
      " 21  Evolution du Chiffre d'Affaires 17      292 non-null    object \n",
      " 22  Evolution du Chiffre d'Affaires 18      125 non-null    object \n",
      " 23  EBE(retraité des loyers de leasing) 15  370 non-null    object \n",
      " 24  EBE(retraité des loyers de leasing) 16  484 non-null    object \n",
      " 25  EBE(retraité des loyers de leasing) 17  311 non-null    object \n",
      " 26  EBE(retraité des loyers de leasing) 18  127 non-null    object \n",
      " 27  Marge d'EBE 15                          183 non-null    object \n",
      " 28  Marge d'EBE 16                          232 non-null    object \n",
      " 29  Marge d'EBE 17                          121 non-null    object \n",
      " 30  Marge d'EBE 18                          49 non-null     object \n",
      " 31  Resultat Net 15                         369 non-null    object \n",
      " 32  Resultat Net 16                         487 non-null    object \n",
      " 33  Resultat Net 17                         308 non-null    object \n",
      " 34  Resultat Net 18                         123 non-null    object \n",
      " 35  Total Bilan 15                          372 non-null    object \n",
      " 36  Total Bilan 16                          487 non-null    object \n",
      " 37  Total Bilan 17                          311 non-null    object \n",
      " 38  Total Bilan 18                          127 non-null    object \n",
      " 39  BFRE 15                                 182 non-null    object \n",
      " 40  BFRE 16                                 218 non-null    object \n",
      " 41  BFRE 17                                 107 non-null    object \n",
      " 42  BFRE 18                                 35 non-null     object \n",
      " 43  Capacité de remboursement (FCCR) 15     370 non-null    object \n",
      " 44  Capacité de remboursement (FCCR) 16     483 non-null    object \n",
      " 45  Capacité de remboursement (FCCR) 17     311 non-null    object \n",
      " 46  Capacité de remboursement (FCCR) 18     126 non-null    object \n",
      " 47  Fonds Propres 15                        372 non-null    object \n",
      " 48  Fonds Propres 16                        487 non-null    object \n",
      " 49  Fonds Propres 17                        310 non-null    object \n",
      " 50  Fonds Propres 18                        125 non-null    object \n",
      " 51  Fonds Propres / Total Bilan 15          367 non-null    object \n",
      " 52  Fonds Propres / Total Bilan 16          482 non-null    object \n",
      " 53  Fonds Propres / Total Bilan 17          309 non-null    object \n",
      " 54  Fonds Propres / Total Bilan 18          125 non-null    object \n",
      " 55  Passif circulant 15                     183 non-null    object \n",
      " 56  Passif circulant 16                     231 non-null    object \n",
      " 57  Passif circulant 17                     121 non-null    object \n",
      " 58  Passif circulant 18                     49 non-null     object \n",
      " 59  Actif immobilisé 15                     184 non-null    object \n",
      " 60  Actif immobilisé 16                     231 non-null    object \n",
      " 61  Actif immobilisé 17                     120 non-null    object \n",
      " 62  Actif immobilisé 18                     48 non-null     object \n",
      " 63  Actif circulant 15                      183 non-null    object \n",
      " 64  Actif circulant 16                      231 non-null    object \n",
      " 65  Actif circulant 17                      120 non-null    object \n",
      " 66  Actif circulant 18                      48 non-null     object \n",
      " 67  Dettes court terme 15                   182 non-null    object \n",
      " 68  Dettes court terme 16                   226 non-null    object \n",
      " 69  Dettes court terme 17                   118 non-null    object \n",
      " 70  Dettes court terme 18                   48 non-null     object \n",
      " 71  Dettes Moyen long terme 15              181 non-null    object \n",
      " 72  Dettes Moyen long terme 16              228 non-null    object \n",
      " 73  Dettes Moyen long terme 17              117 non-null    object \n",
      " 74  Dettes Moyen long terme 18              47 non-null     object \n",
      " 75  Dettes Nettes / EBE(* années) 15        371 non-null    object \n",
      " 76  Dettes Nettes / EBE(* années) 16        482 non-null    object \n",
      " 77  Dettes Nettes / EBE(* années) 17        308 non-null    object \n",
      " 78  Dettes Nettes / EBE(* années) 18        124 non-null    object \n",
      " 79  Dettes Nettes / Fonds propres 15        368 non-null    object \n",
      " 80  Dettes Nettes / Fonds propres 16        484 non-null    object \n",
      " 81  Dettes Nettes / Fonds propres 17        311 non-null    object \n",
      " 82  Dettes Nettes / Fonds propres 18        126 non-null    object \n",
      " 83  BFRE en nombre de jours de CA 15        186 non-null    object \n",
      " 84  BFRE en nombre de jours de CA 16        248 non-null    object \n",
      " 85  BFRE en nombre de jours de CA 17        188 non-null    object \n",
      " 86  BFRE en nombre de jours de CA 18        75 non-null     float64\n",
      "dtypes: float64(1), int64(3), object(83)\n",
      "memory usage: 467.8+ KB\n"
     ]
    }
   ],
   "source": [
    "swiss_loan.info()"
   ]
  },
  {
   "cell_type": "markdown",
   "metadata": {},
   "source": [
    "# Drop column that are unique  as they are unique identifiers for each loan and null columns:not useful for our model"
   ]
  },
  {
   "cell_type": "code",
   "execution_count": 3,
   "metadata": {},
   "outputs": [
    {
     "data": {
      "text/plain": [
       "(688, 87)"
      ]
     },
     "execution_count": 3,
     "metadata": {},
     "output_type": "execute_result"
    }
   ],
   "source": [
    "swiss_loan.shape"
   ]
  },
  {
   "cell_type": "code",
   "execution_count": 4,
   "metadata": {},
   "outputs": [
    {
     "name": "stdout",
     "output_type": "stream",
     "text": [
      "(0, 87)\n"
     ]
    }
   ],
   "source": [
    "# Create a new DataFrame dropping all incomplete rows\n",
    "no_missing_values_rows = swiss_loan.dropna()\n",
    "\n",
    "# Print the shape of the new DataFrame\n",
    "print(no_missing_values_rows.shape)"
   ]
  },
  {
   "cell_type": "code",
   "execution_count": 5,
   "metadata": {},
   "outputs": [
    {
     "name": "stdout",
     "output_type": "stream",
     "text": [
      "(688, 10)\n"
     ]
    }
   ],
   "source": [
    "# Create a new DataFrame dropping all columns with incomplete rows\n",
    "no_missing_values_cols = swiss_loan.dropna(how='any', axis=1)\n",
    "\n",
    "# Print the shape of the new DataFrame\n",
    "print(no_missing_values_cols.shape)"
   ]
  },
  {
   "cell_type": "code",
   "execution_count": 6,
   "metadata": {
    "scrolled": true
   },
   "outputs": [
    {
     "data": {
      "text/plain": [
       "Index(['ID', 'Pays', 'Taux', 'Mois', 'Montant', 'Niveau de risque',\n",
       "       'Emprunteur', 'capital social', 'année de création', 'Antériorité'],\n",
       "      dtype='object')"
      ]
     },
     "execution_count": 6,
     "metadata": {},
     "output_type": "execute_result"
    }
   ],
   "source": [
    "no_missing_values_cols.columns"
   ]
  },
  {
   "cell_type": "markdown",
   "metadata": {},
   "source": [
    "# Removing features with many missing values:40% missing values"
   ]
  },
  {
   "cell_type": "code",
   "execution_count": 7,
   "metadata": {
    "scrolled": true
   },
   "outputs": [
    {
     "name": "stdout",
     "output_type": "stream",
     "text": [
      "(688, 87)\n",
      "(688, 21)\n"
     ]
    }
   ],
   "source": [
    "# Create a boolean mask on whether each feature less than 40% missing values.\n",
    "mask = swiss_loan.isna().sum() / len(swiss_loan) < 0.4\n",
    "# Create a reduced dataset by applying the mask\n",
    "reduced_df =swiss_loan.loc[:, mask]\n",
    "print(swiss_loan.shape)\n",
    "print(reduced_df.shape)"
   ]
  },
  {
   "cell_type": "code",
   "execution_count": 8,
   "metadata": {},
   "outputs": [
    {
     "data": {
      "text/html": [
       "<div>\n",
       "<style scoped>\n",
       "    .dataframe tbody tr th:only-of-type {\n",
       "        vertical-align: middle;\n",
       "    }\n",
       "\n",
       "    .dataframe tbody tr th {\n",
       "        vertical-align: top;\n",
       "    }\n",
       "\n",
       "    .dataframe thead th {\n",
       "        text-align: right;\n",
       "    }\n",
       "</style>\n",
       "<table border=\"1\" class=\"dataframe\">\n",
       "  <thead>\n",
       "    <tr style=\"text-align: right;\">\n",
       "      <th></th>\n",
       "      <th>ID</th>\n",
       "      <th>Pays</th>\n",
       "      <th>Taux</th>\n",
       "      <th>Mois</th>\n",
       "      <th>Montant</th>\n",
       "      <th>Niveau de risque</th>\n",
       "      <th>Emprunteur</th>\n",
       "      <th>capital social</th>\n",
       "      <th>année de création</th>\n",
       "      <th>Antériorité</th>\n",
       "      <th>...</th>\n",
       "      <th>Nombre de mois de la période 16</th>\n",
       "      <th>Chiffre d'Affaires 16</th>\n",
       "      <th>EBE(retraité des loyers de leasing) 16</th>\n",
       "      <th>Resultat Net 16</th>\n",
       "      <th>Total Bilan 16</th>\n",
       "      <th>Capacité de remboursement (FCCR) 16</th>\n",
       "      <th>Fonds Propres 16</th>\n",
       "      <th>Fonds Propres / Total Bilan 16</th>\n",
       "      <th>Dettes Nettes / EBE(* années) 16</th>\n",
       "      <th>Dettes Nettes / Fonds propres 16</th>\n",
       "    </tr>\n",
       "  </thead>\n",
       "  <tbody>\n",
       "    <tr>\n",
       "      <th>0</th>\n",
       "      <td>755334684</td>\n",
       "      <td>France</td>\n",
       "      <td>5,85 %</td>\n",
       "      <td>48</td>\n",
       "      <td>1 100 000 €</td>\n",
       "      <td>B</td>\n",
       "      <td>Ets Provost Frères</td>\n",
       "      <td>3 058 500 €</td>\n",
       "      <td>1962</td>\n",
       "      <td>1991</td>\n",
       "      <td>...</td>\n",
       "      <td>12</td>\n",
       "      <td>16801</td>\n",
       "      <td>0% - 5%</td>\n",
       "      <td>0 - 5 %</td>\n",
       "      <td>19756</td>\n",
       "      <td>0,52</td>\n",
       "      <td>8480</td>\n",
       "      <td>42,92 %</td>\n",
       "      <td>12,74*</td>\n",
       "      <td>125,88%</td>\n",
       "    </tr>\n",
       "    <tr>\n",
       "      <th>1</th>\n",
       "      <td>666598628</td>\n",
       "      <td>Espagne</td>\n",
       "      <td>5,50 %</td>\n",
       "      <td>48</td>\n",
       "      <td>310 000 €</td>\n",
       "      <td>B+</td>\n",
       "      <td>INTERNATIONAL STUDIES SA</td>\n",
       "      <td>396 072 €</td>\n",
       "      <td>1985</td>\n",
       "      <td>1998</td>\n",
       "      <td>...</td>\n",
       "      <td>12</td>\n",
       "      <td>1579</td>\n",
       "      <td>343</td>\n",
       "      <td>0 % - 5 %</td>\n",
       "      <td>1940</td>\n",
       "      <td>0,23</td>\n",
       "      <td>751</td>\n",
       "      <td>38,70%</td>\n",
       "      <td>0,47 *</td>\n",
       "      <td>21,51%</td>\n",
       "    </tr>\n",
       "    <tr>\n",
       "      <th>2</th>\n",
       "      <td>528199436</td>\n",
       "      <td>Pays-Bas</td>\n",
       "      <td>6,45 %</td>\n",
       "      <td>48</td>\n",
       "      <td>165 000 €</td>\n",
       "      <td>B</td>\n",
       "      <td>Docufiller Sales</td>\n",
       "      <td>900</td>\n",
       "      <td>2016</td>\n",
       "      <td>2016</td>\n",
       "      <td>...</td>\n",
       "      <td>12</td>\n",
       "      <td>514</td>\n",
       "      <td>50% - 55%</td>\n",
       "      <td>10 - 15 %</td>\n",
       "      <td>549</td>\n",
       "      <td>8,94</td>\n",
       "      <td>10</td>\n",
       "      <td>1,82 %</td>\n",
       "      <td>1,02*</td>\n",
       "      <td>2870,00%</td>\n",
       "    </tr>\n",
       "    <tr>\n",
       "      <th>3</th>\n",
       "      <td>353279184</td>\n",
       "      <td>France</td>\n",
       "      <td>0.06</td>\n",
       "      <td>60</td>\n",
       "      <td>2 000 000 €</td>\n",
       "      <td>B</td>\n",
       "      <td>E.B.P.</td>\n",
       "      <td>10 000 €</td>\n",
       "      <td>2016</td>\n",
       "      <td>2014</td>\n",
       "      <td>...</td>\n",
       "      <td>NaN</td>\n",
       "      <td>NaN</td>\n",
       "      <td>NaN</td>\n",
       "      <td>NaN</td>\n",
       "      <td>NaN</td>\n",
       "      <td>NaN</td>\n",
       "      <td>NaN</td>\n",
       "      <td>NaN</td>\n",
       "      <td>NaN</td>\n",
       "      <td>NaN</td>\n",
       "    </tr>\n",
       "    <tr>\n",
       "      <th>4</th>\n",
       "      <td>633690177</td>\n",
       "      <td>Italie</td>\n",
       "      <td>4,90 %</td>\n",
       "      <td>36</td>\n",
       "      <td>100 000 €</td>\n",
       "      <td>B+</td>\n",
       "      <td>Deltagamma</td>\n",
       "      <td>10 000 €</td>\n",
       "      <td>2003</td>\n",
       "      <td>2003</td>\n",
       "      <td>...</td>\n",
       "      <td>12</td>\n",
       "      <td>790</td>\n",
       "      <td>56</td>\n",
       "      <td>0% - 5%</td>\n",
       "      <td>420477</td>\n",
       "      <td>43,57</td>\n",
       "      <td>246</td>\n",
       "      <td>58,62%</td>\n",
       "      <td>-0,99 *</td>\n",
       "      <td>-0,22</td>\n",
       "    </tr>\n",
       "  </tbody>\n",
       "</table>\n",
       "<p>5 rows × 21 columns</p>\n",
       "</div>"
      ],
      "text/plain": [
       "          ID      Pays     Taux  Mois       Montant Niveau de risque  \\\n",
       "0  755334684    France   5,85 %    48   1 100 000 €                B   \n",
       "1  666598628   Espagne  5,50 %     48     310 000 €               B+   \n",
       "2  528199436  Pays-Bas   6,45 %    48     165 000 €                B   \n",
       "3  353279184    France     0.06    60   2 000 000 €                B   \n",
       "4  633690177    Italie   4,90 %    36     100 000 €               B+   \n",
       "\n",
       "                 Emprunteur capital social  année de création Antériorité  \\\n",
       "0        Ets Provost Frères    3 058 500 €               1962        1991   \n",
       "1  INTERNATIONAL STUDIES SA      396 072 €               1985        1998   \n",
       "2          Docufiller Sales            900               2016        2016   \n",
       "3                    E.B.P.       10 000 €               2016        2014   \n",
       "4                Deltagamma       10 000 €               2003        2003   \n",
       "\n",
       "   ... Nombre de mois de la période 16 Chiffre d'Affaires 16  \\\n",
       "0  ...                              12                 16801   \n",
       "1  ...                              12                  1579   \n",
       "2  ...                              12                   514   \n",
       "3  ...                             NaN                   NaN   \n",
       "4  ...                              12                   790   \n",
       "\n",
       "  EBE(retraité des loyers de leasing) 16 Resultat Net 16 Total Bilan 16  \\\n",
       "0                                0% - 5%         0 - 5 %          19756   \n",
       "1                                    343       0 % - 5 %           1940   \n",
       "2                              50% - 55%       10 - 15 %            549   \n",
       "3                                    NaN             NaN            NaN   \n",
       "4                                     56         0% - 5%         420477   \n",
       "\n",
       "  Capacité de remboursement (FCCR) 16 Fonds Propres 16  \\\n",
       "0                                0,52             8480   \n",
       "1                                0,23              751   \n",
       "2                                8,94               10   \n",
       "3                                 NaN              NaN   \n",
       "4                               43,57              246   \n",
       "\n",
       "  Fonds Propres / Total Bilan 16 Dettes Nettes / EBE(* années) 16  \\\n",
       "0                        42,92 %                           12,74*   \n",
       "1                         38,70%                           0,47 *   \n",
       "2                         1,82 %                            1,02*   \n",
       "3                            NaN                              NaN   \n",
       "4                         58,62%                          -0,99 *   \n",
       "\n",
       "  Dettes Nettes / Fonds propres 16  \n",
       "0                          125,88%  \n",
       "1                           21,51%  \n",
       "2                         2870,00%  \n",
       "3                              NaN  \n",
       "4                            -0,22  \n",
       "\n",
       "[5 rows x 21 columns]"
      ]
     },
     "execution_count": 8,
     "metadata": {},
     "output_type": "execute_result"
    }
   ],
   "source": [
    "reduced_df.head()"
   ]
  },
  {
   "cell_type": "code",
   "execution_count": 9,
   "metadata": {},
   "outputs": [
    {
     "name": "stdout",
     "output_type": "stream",
     "text": [
      "<class 'pandas.core.frame.DataFrame'>\n",
      "RangeIndex: 688 entries, 0 to 687\n",
      "Data columns (total 21 columns):\n",
      " #   Column                                  Non-Null Count  Dtype \n",
      "---  ------                                  --------------  ----- \n",
      " 0   ID                                      688 non-null    int64 \n",
      " 1   Pays                                    688 non-null    object\n",
      " 2   Taux                                    688 non-null    object\n",
      " 3   Mois                                    688 non-null    int64 \n",
      " 4   Montant                                 688 non-null    object\n",
      " 5   Niveau de risque                        688 non-null    object\n",
      " 6   Emprunteur                              688 non-null    object\n",
      " 7   capital social                          688 non-null    object\n",
      " 8   année de création                       688 non-null    int64 \n",
      " 9   Antériorité                             688 non-null    object\n",
      " 10  effectifs                               687 non-null    object\n",
      " 11  Nombre de mois de la période 16         423 non-null    object\n",
      " 12  Chiffre d'Affaires 16                   491 non-null    object\n",
      " 13  EBE(retraité des loyers de leasing) 16  484 non-null    object\n",
      " 14  Resultat Net 16                         487 non-null    object\n",
      " 15  Total Bilan 16                          487 non-null    object\n",
      " 16  Capacité de remboursement (FCCR) 16     483 non-null    object\n",
      " 17  Fonds Propres 16                        487 non-null    object\n",
      " 18  Fonds Propres / Total Bilan 16          482 non-null    object\n",
      " 19  Dettes Nettes / EBE(* années) 16        482 non-null    object\n",
      " 20  Dettes Nettes / Fonds propres 16        484 non-null    object\n",
      "dtypes: int64(3), object(18)\n",
      "memory usage: 113.0+ KB\n"
     ]
    }
   ],
   "source": [
    "reduced_df.info()"
   ]
  },
  {
   "cell_type": "code",
   "execution_count": 10,
   "metadata": {},
   "outputs": [],
   "source": [
    "# drop ID\n",
    "reduced_df.drop('ID', axis=1, inplace=True)"
   ]
  },
  {
   "cell_type": "code",
   "execution_count": 11,
   "metadata": {},
   "outputs": [
    {
     "data": {
      "text/plain": [
       "(688, 20)"
      ]
     },
     "execution_count": 11,
     "metadata": {},
     "output_type": "execute_result"
    }
   ],
   "source": [
    "reduced_df.shape"
   ]
  },
  {
   "cell_type": "markdown",
   "metadata": {},
   "source": [
    "# Explore Object columns "
   ]
  },
  {
   "cell_type": "code",
   "execution_count": 12,
   "metadata": {},
   "outputs": [
    {
     "data": {
      "text/plain": [
       "Index(['Pays', 'Taux', 'Mois', 'Montant', 'Niveau de risque', 'Emprunteur',\n",
       "       'capital social', 'année de création', 'Antériorité', 'effectifs',\n",
       "       'Nombre de mois de la période 16', 'Chiffre d'Affaires 16',\n",
       "       'EBE(retraité des loyers de leasing) 16', 'Resultat Net 16',\n",
       "       'Total Bilan 16', 'Capacité de remboursement (FCCR) 16',\n",
       "       'Fonds Propres 16', 'Fonds Propres / Total Bilan 16',\n",
       "       'Dettes Nettes / EBE(* années) 16', 'Dettes Nettes / Fonds propres 16'],\n",
       "      dtype='object')"
      ]
     },
     "execution_count": 12,
     "metadata": {},
     "output_type": "execute_result"
    }
   ],
   "source": [
    "reduced_df.columns"
   ]
  },
  {
   "cell_type": "markdown",
   "metadata": {},
   "source": [
    "##  Clean column Pays "
   ]
  },
  {
   "cell_type": "code",
   "execution_count": 13,
   "metadata": {},
   "outputs": [
    {
     "data": {
      "text/plain": [
       "array(['France', 'Espagne', 'Pays-Bas', 'Italie', 'France\\n',\n",
       "       'Pays-Bas\\n', ' Pays-Bas'], dtype=object)"
      ]
     },
     "execution_count": 13,
     "metadata": {},
     "output_type": "execute_result"
    }
   ],
   "source": [
    "reduced_df['Pays'].unique()"
   ]
  },
  {
   "cell_type": "code",
   "execution_count": 14,
   "metadata": {},
   "outputs": [],
   "source": [
    "reduced_df['Pays_corr']=reduced_df['Pays'].str.strip()"
   ]
  },
  {
   "cell_type": "code",
   "execution_count": 15,
   "metadata": {
    "scrolled": true
   },
   "outputs": [
    {
     "data": {
      "text/plain": [
       "array(['France', 'Espagne', 'Pays-Bas', 'Italie'], dtype=object)"
      ]
     },
     "execution_count": 15,
     "metadata": {},
     "output_type": "execute_result"
    }
   ],
   "source": [
    "reduced_df['Pays_corr'].unique()"
   ]
  },
  {
   "cell_type": "markdown",
   "metadata": {},
   "source": [
    "##  Clean column Taux"
   ]
  },
  {
   "cell_type": "code",
   "execution_count": 72,
   "metadata": {},
   "outputs": [
    {
     "data": {
      "text/plain": [
       "0       5,85 %\n",
       "1      5,50 % \n",
       "2       6,45 %\n",
       "3         0.06\n",
       "4       4,90 %\n",
       "        ...   \n",
       "683       0.08\n",
       "684       0.07\n",
       "685     9,50 %\n",
       "686       0.07\n",
       "687       0.09\n",
       "Name: Taux, Length: 688, dtype: object"
      ]
     },
     "execution_count": 72,
     "metadata": {},
     "output_type": "execute_result"
    }
   ],
   "source": [
    "reduced_df['Taux']"
   ]
  },
  {
   "cell_type": "code",
   "execution_count": 16,
   "metadata": {},
   "outputs": [
    {
     "data": {
      "text/plain": [
       "array(['5,85 %', '5,50 % ', '6,45 %', 0.06, '4,90 %', '6,75 %', '5,95 %',\n",
       "       '6,90 %', '7,10 %', '5,50 %', '4,25 %', '4,60 %', '4,70 %',\n",
       "       '5,80 %', '5,75 %', '6,20 %', '4,85 %', '6,70 %', '6,05 %',\n",
       "       '6,50 %', '5,05 %', '5,25 %', '5,60 %', '6,30 %', '4,65 %',\n",
       "       '7,25 %', 0.05, '4,95 %', '5,90 %', '7,50 %', '6,40 %', '4,80 %',\n",
       "       '4,50 %', '6,25 %', '2,50 %', '5,10 %', '6,60 %', '3,60 %',\n",
       "       '5,40 %', '7,40 %', '6,10 %', '4,35 %', '5,20 %', '5,65 %',\n",
       "       '6,80 %', '5,70 %', '4,75 %', '5,60 % ', '6,50 % ', '5,15 % ',\n",
       "       '6,55 %', 0.09, '3,50 % ', '6,75 % ', '4,50 % ', '6,20 % ',\n",
       "       '5,35 %', '3,90 %', '6,95 %', '7,05 %', '4,15 %', '7,15 %',\n",
       "       '7,70 %', '3,25 %', 0.07, '7,20 %', '9,90 %', '5,45 %', '7,75 %',\n",
       "       '6,65 %', '8,20 %', '7,55 %', '5,30 %', '4,20 %', '4,10 %',\n",
       "       '3,40 %', '6,35 %', '3,10 %', '4,45 %', '3,45 %', '8,70 %', 0.04,\n",
       "       '3,50 %', 0.08, '3,75 %', '8,50 %', '8,80 %', '8,75 %', '8,25 %',\n",
       "       '6,99 %', '6,15 %', '8,10 %', '5,15 %', '9,50 %'], dtype=object)"
      ]
     },
     "execution_count": 16,
     "metadata": {},
     "output_type": "execute_result"
    }
   ],
   "source": [
    "reduced_df['Taux'].unique()"
   ]
  },
  {
   "cell_type": "code",
   "execution_count": 67,
   "metadata": {
    "scrolled": true
   },
   "outputs": [],
   "source": [
    "reduced_df['Taux_corr']=reduced_df['Taux'].str.replace('%','').str.strip().str.replace(',','.').str.extract(r'(\\d+.\\d+)')\n",
    "reduced_df['Taux_corr'] = np.where(reduced_df['Taux_corr'].isnull(), 0.1, reduced_df['Taux_corr'])\n",
    "reduced_df['Taux_corr'] = pd.to_numeric(reduced_df['Taux_corr'], errors='coerce')"
   ]
  },
  {
   "cell_type": "code",
   "execution_count": 68,
   "metadata": {
    "scrolled": false
   },
   "outputs": [
    {
     "data": {
      "text/plain": [
       "array([5.85, 5.5 , 6.45, 0.1 , 4.9 , 6.75, 5.95, 6.9 , 7.1 , 4.25, 4.6 ,\n",
       "       4.7 , 5.8 , 5.75, 6.2 , 4.85, 6.7 , 6.05, 6.5 , 5.05, 5.25, 5.6 ,\n",
       "       6.3 , 4.65, 7.25, 4.95, 5.9 , 7.5 , 6.4 , 4.8 , 4.5 , 6.25, 2.5 ,\n",
       "       5.1 , 6.6 , 3.6 , 5.4 , 7.4 , 6.1 , 4.35, 5.2 , 5.65, 6.8 , 5.7 ,\n",
       "       4.75, 5.15, 6.55, 3.5 , 5.35, 3.9 , 6.95, 7.05, 4.15, 7.15, 7.7 ,\n",
       "       3.25, 7.2 , 9.9 , 5.45, 7.75, 6.65, 8.2 , 7.55, 5.3 , 4.2 , 4.1 ,\n",
       "       3.4 , 6.35, 3.1 , 4.45, 3.45, 8.7 , 3.75, 8.5 , 8.8 , 8.75, 8.25,\n",
       "       6.99, 6.15, 8.1 , 9.5 ])"
      ]
     },
     "execution_count": 68,
     "metadata": {},
     "output_type": "execute_result"
    }
   ],
   "source": [
    "reduced_df['Taux_corr'].unique()"
   ]
  },
  {
   "cell_type": "code",
   "execution_count": 73,
   "metadata": {},
   "outputs": [
    {
     "data": {
      "text/plain": [
       "0      5.85\n",
       "1      5.50\n",
       "2      6.45\n",
       "3      0.10\n",
       "4      4.90\n",
       "       ... \n",
       "683    0.10\n",
       "684    0.10\n",
       "685    9.50\n",
       "686    0.10\n",
       "687    0.10\n",
       "Name: Taux_corr, Length: 688, dtype: float64"
      ]
     },
     "execution_count": 73,
     "metadata": {},
     "output_type": "execute_result"
    }
   ],
   "source": [
    "reduced_df['Taux_corr']"
   ]
  },
  {
   "cell_type": "code",
   "execution_count": 69,
   "metadata": {
    "scrolled": true
   },
   "outputs": [
    {
     "data": {
      "text/plain": [
       "count    688.000000\n",
       "mean       4.432616\n",
       "std        2.790710\n",
       "min        0.100000\n",
       "25%        0.100000\n",
       "50%        5.500000\n",
       "75%        6.500000\n",
       "max        9.900000\n",
       "Name: Taux_corr, dtype: float64"
      ]
     },
     "execution_count": 69,
     "metadata": {},
     "output_type": "execute_result"
    }
   ],
   "source": [
    "reduced_df['Taux_corr'].describe()"
   ]
  },
  {
   "cell_type": "markdown",
   "metadata": {},
   "source": [
    "# Binarizing column Taux for classification purpose "
   ]
  },
  {
   "cell_type": "code",
   "execution_count": 70,
   "metadata": {},
   "outputs": [
    {
     "name": "stdout",
     "output_type": "stream",
     "text": [
      "  Taux_corr_binned  Taux_corr\n",
      "0           Medium       5.85\n",
      "1              Low       5.50\n",
      "2           Medium       6.45\n",
      "3              Low       0.10\n",
      "4              Low       4.90\n"
     ]
    }
   ],
   "source": [
    "# Import numpy\n",
    "import numpy as np\n",
    "# Specify the boundaries of the bins\n",
    "bins = [0.01,5.5,  6.5, 10]\n",
    "# Bin labels\n",
    "labels = [ 'Low', 'Medium', 'High']\n",
    "# Bin the continuous variable ConvertedSalary using these boundaries\n",
    "reduced_df['Taux_corr_binned'] = pd.cut(reduced_df['Taux_corr'], \n",
    "                                         bins=bins,labels=labels )\n",
    "# Print the first 5 rows of the boundary_binned column\n",
    "print(reduced_df[['Taux_corr_binned', 'Taux_corr']].head())"
   ]
  },
  {
   "cell_type": "code",
   "execution_count": 71,
   "metadata": {
    "scrolled": true
   },
   "outputs": [
    {
     "name": "stdout",
     "output_type": "stream",
     "text": [
      "Low       390\n",
      "Medium    158\n",
      "High      140\n",
      "Name: Taux_corr_binned, dtype: int64\n"
     ]
    },
    {
     "data": {
      "image/png": "[encoded data removed]",
      "text/plain": [
       "<Figure size 432x288 with 1 Axes>"
      ]
     },
     "metadata": {},
     "output_type": "display_data"
    }
   ],
   "source": [
    "%matplotlib inline\n",
    "import seaborn as sns\n",
    "import matplotlib.pyplot as plt\n",
    "# Create a series out of the Country column\n",
    "Taux_binned = reduced_df['Taux_corr_binned']\n",
    "\n",
    "# Get the counts of each category\n",
    "Taux_counts = Taux_binned.value_counts()\n",
    "\n",
    "# Print the count values for each category\n",
    "print(Taux_counts)\n",
    "sns.set(style=\"darkgrid\")\n",
    "sns.barplot(Taux_counts.index, Taux_counts.values, alpha=0.9)\n",
    "plt.title('Frequency Distribution of interst rate')\n",
    "plt.ylabel('Number of Occurrences', fontsize=12)\n",
    "plt.xlabel('Interst rate', fontsize=12)\n",
    "plt.show()\n"
   ]
  },
  {
   "cell_type": "markdown",
   "metadata": {},
   "source": [
    "##  Clean column Montant"
   ]
  },
  {
   "cell_type": "code",
   "execution_count": 22,
   "metadata": {},
   "outputs": [
    {
     "data": {
      "text/plain": [
       "array([' 1 100 000 €', '310 000 €', ' 165 000 €', '2 000 000 €',\n",
       "       '100 000 €', '1 200 000 €', '1 015 000 €', '350 000 €',\n",
       "       '500 000 €', ' 200 000 €', '90 000 €', '150 000 €', '35 000 €',\n",
       "       '1 000 000 €', '83 000 €', '2 100 000 €', '210 000 €', '300 000 €',\n",
       "       '110 000 €', '835 000 €', '207 533 €', '250 000 €', '41 500 €',\n",
       "       '600 000 €', '32 000 €', '104 000 €', '207 500 €', '104 500 €',\n",
       "       '1 250 000 €', '1 500 000 €', '400 000 €', '2 300 000 €',\n",
       "       '156 000 €', '1 330 000 €', '1 560 000 €', '63 000 €', '450 000 €',\n",
       "       '816 000 €', '625 000 €', '506 000 €', '619 000 €', '170 000 €',\n",
       "       '43 000 €', '505 000 €', '320 000 €', '519 000 €', '410 000 €',\n",
       "       '103 000 €', '42 000 €', '2 050 000 €', '60 000 €', '2 200 000 €',\n",
       "       '50 000 €', '430 000 €', '830 000 €', '140 000 €', '30 000 €',\n",
       "       '900 000 €', '311 000 €', '720 000 €', '230 000 €', '120 000 €',\n",
       "       '72 500 €', '1 300 000 €', '493 000 €', '84 000 €', '874 000 €',\n",
       "       '413 000 €\\n', '123 000 €', '48 000 €', '200 000 €', '460 000 €\\n',\n",
       "       '660 000 €', '888 000 €', '2 100 000 €\\n', '1 000 000 €\\n',\n",
       "       '52 000 €', '750 000 €', '200 000 €\\n', '270 000 €',\n",
       "       '5\\xa0000\\xa0000\\xa0€', '1 550 000 €', '2 075 000 €', '37 000 €',\n",
       "       '53 000 €', '130 000 €', '180 000 €', '1 700 000 €', '103 093 €',\n",
       "       '730 000 €', '45 000 €', '525 000 €', '727 000 €', '155 000 €',\n",
       "       '162 000 €', '1 150 000 €', '415 000 €', '308 000 €', '208 000 €',\n",
       "       '1 050 000 €', '623 000 €', '3 003 000 €', '384 000 €',\n",
       "       '1 759 000 €', '342 000 €', '65 000 €', '313 070 €', '229 000 €',\n",
       "       '142 000 €', '260 000 €', '139 000 €', '820 000 €', '1 450 000 €',\n",
       "       '36 500 €', '166 000 €', '38 400 €', '198 000 €', '259 500 €',\n",
       "       '3 000 000 €', '1 030 000 €', '315 000 €', '416 000 €', '47 000 €',\n",
       "       '218 000 €', '3 600 000 €', '220 000 €', '462 000 €', '575 000 €',\n",
       "       '31 500 €', '165 000 €', '2 060 000 €', '2 025 000 €', '147 000 €',\n",
       "       '312 000 €', '1 557 000 €', '55 000 €', '1 040 000 €', '725 000 €',\n",
       "       '161 000 €', '40 000 €', '1 394 000 €', '89 000 €', '467 000 €',\n",
       "       '291 000 €', '364 000 €', '125 000 €', '1 325 000 €',\n",
       "       '1 215 000 €', '92 000 €', '151 000 €', '395 000 €', '398 000 €',\n",
       "       '1 600 000 €', '3 100 000 €', '348 000 €', '1 800 000 €',\n",
       "       '1 575 000 €', '62 000 €', '860 000 €', '1 020 000 €',\n",
       "       '1 556 000 €', '205 000 €', '108 000 €', '1 297 000 €', '73 000 €',\n",
       "       '97 000 €', '255 000 €', '514 000 €', '675 000 €', '281 000 €',\n",
       "       '70 000 €', '810 000 €', '123 600 €', '1 341 000 €', '1 100 000 €',\n",
       "       '206 000 €', '105 000 €', '700 000 €', '103 090 €', '295 000 €',\n",
       "       '190 000 €', '280 000 €', '135 000 €', '160 000 €', '55 000 ',\n",
       "       '85 000 €', '172 000 €', '658 000 €', '80 000 €', '825 000 €',\n",
       "       '75 000 €', '800 000 €', '284 000 €', '550 000 €', '128 866 €',\n",
       "       '3 500 000 €', '358 000 €', '2 037 000 €', '93 500 €', '162 650 €',\n",
       "       '1 660 000 €', '95 000 €', '425 000 €', '20 000 €', '650 000 €',\n",
       "       '1 038 000 €', '301 000 €', '115 000 €', '1 245 000 €',\n",
       "       '1 060 000 €', '382 000 €', '380 000 €', '922 140 €',\n",
       "       '3 150 000 €', '1 090 000 €', '740 000 €', '318 000 €',\n",
       "       '3 050 000 €', '49 000 €', '109 000 €', '322 000 €', '154 000 €',\n",
       "       '215 000 €', '239 000 €', '497 000 €', '31 000 €', '174 000 €',\n",
       "       '240 000 €'], dtype=object)"
      ]
     },
     "execution_count": 22,
     "metadata": {},
     "output_type": "execute_result"
    }
   ],
   "source": [
    "reduced_df['Montant'].unique()"
   ]
  },
  {
   "cell_type": "code",
   "execution_count": 23,
   "metadata": {},
   "outputs": [],
   "source": [
    "reduced_df['Montant_corr']=reduced_df['Montant'].str.replace('€','').str.replace('\\xa0','').str.strip().str.replace('\\s+','')\n",
    "reduced_df['Montant_corr'] = np.where(reduced_df['Montant_corr'].isnull(), 0, reduced_df['Montant_corr'])\n",
    "reduced_df['Montant_corr'] = pd.to_numeric(reduced_df['Montant_corr'], errors='coerce')"
   ]
  },
  {
   "cell_type": "code",
   "execution_count": 24,
   "metadata": {},
   "outputs": [
    {
     "data": {
      "text/plain": [
       "array([1100000,  310000,  165000, 2000000,  100000, 1200000, 1015000,\n",
       "        350000,  500000,  200000,   90000,  150000,   35000, 1000000,\n",
       "         83000, 2100000,  210000,  300000,  110000,  835000,  207533,\n",
       "        250000,   41500,  600000,   32000,  104000,  207500,  104500,\n",
       "       1250000, 1500000,  400000, 2300000,  156000, 1330000, 1560000,\n",
       "         63000,  450000,  816000,  625000,  506000,  619000,  170000,\n",
       "         43000,  505000,  320000,  519000,  410000,  103000,   42000,\n",
       "       2050000,   60000, 2200000,   50000,  430000,  830000,  140000,\n",
       "         30000,  900000,  311000,  720000,  230000,  120000,   72500,\n",
       "       1300000,  493000,   84000,  874000,  413000,  123000,   48000,\n",
       "        460000,  660000,  888000,   52000,  750000,  270000, 5000000,\n",
       "       1550000, 2075000,   37000,   53000,  130000,  180000, 1700000,\n",
       "        103093,  730000,   45000,  525000,  727000,  155000,  162000,\n",
       "       1150000,  415000,  308000,  208000, 1050000,  623000, 3003000,\n",
       "        384000, 1759000,  342000,   65000,  313070,  229000,  142000,\n",
       "        260000,  139000,  820000, 1450000,   36500,  166000,   38400,\n",
       "        198000,  259500, 3000000, 1030000,  315000,  416000,   47000,\n",
       "        218000, 3600000,  220000,  462000,  575000,   31500, 2060000,\n",
       "       2025000,  147000,  312000, 1557000,   55000, 1040000,  725000,\n",
       "        161000,   40000, 1394000,   89000,  467000,  291000,  364000,\n",
       "        125000, 1325000, 1215000,   92000,  151000,  395000,  398000,\n",
       "       1600000, 3100000,  348000, 1800000, 1575000,   62000,  860000,\n",
       "       1020000, 1556000,  205000,  108000, 1297000,   73000,   97000,\n",
       "        255000,  514000,  675000,  281000,   70000,  810000,  123600,\n",
       "       1341000,  206000,  105000,  700000,  103090,  295000,  190000,\n",
       "        280000,  135000,  160000,   85000,  172000,  658000,   80000,\n",
       "        825000,   75000,  800000,  284000,  550000,  128866, 3500000,\n",
       "        358000, 2037000,   93500,  162650, 1660000,   95000,  425000,\n",
       "         20000,  650000, 1038000,  301000,  115000, 1245000, 1060000,\n",
       "        382000,  380000,  922140, 3150000, 1090000,  740000,  318000,\n",
       "       3050000,   49000,  109000,  322000,  154000,  215000,  239000,\n",
       "        497000,   31000,  174000,  240000], dtype=int64)"
      ]
     },
     "execution_count": 24,
     "metadata": {},
     "output_type": "execute_result"
    }
   ],
   "source": [
    "reduced_df['Montant_corr'].unique()"
   ]
  },
  {
   "cell_type": "markdown",
   "metadata": {},
   "source": [
    "##  Clean column Niveau de risque"
   ]
  },
  {
   "cell_type": "code",
   "execution_count": 25,
   "metadata": {},
   "outputs": [
    {
     "data": {
      "text/plain": [
       "array(['B', 'B+', 'C', 'A+', 'B\\n', 'C\\n', 'B+\\n', 'A\\n', 'A'],\n",
       "      dtype=object)"
      ]
     },
     "execution_count": 25,
     "metadata": {},
     "output_type": "execute_result"
    }
   ],
   "source": [
    "reduced_df['Niveau de risque'].unique()"
   ]
  },
  {
   "cell_type": "code",
   "execution_count": 26,
   "metadata": {},
   "outputs": [],
   "source": [
    "reduced_df['Niveau_risque_corr']=reduced_df['Niveau de risque'].str.rstrip().str.replace('\\s+','')"
   ]
  },
  {
   "cell_type": "code",
   "execution_count": 27,
   "metadata": {},
   "outputs": [
    {
     "data": {
      "text/plain": [
       "array(['B', 'B+', 'C', 'A+', 'A'], dtype=object)"
      ]
     },
     "execution_count": 27,
     "metadata": {},
     "output_type": "execute_result"
    }
   ],
   "source": [
    "reduced_df['Niveau_risque_corr'].unique()"
   ]
  },
  {
   "cell_type": "markdown",
   "metadata": {},
   "source": [
    "##  Clean column Niveau de Emprunteur"
   ]
  },
  {
   "cell_type": "code",
   "execution_count": 28,
   "metadata": {},
   "outputs": [
    {
     "data": {
      "text/plain": [
       "Oracom                             5\n",
       "Orchid Création                    5\n",
       "Reworld Media                      5\n",
       "Regourd Aviation                   3\n",
       "Diffox - Diffusion Oyonnaxienne    3\n",
       "AFC Promotion                      3\n",
       "Inks                               3\n",
       "A.M.S. Événements                  3\n",
       "Saint Jean Industries              3\n",
       "RetailIDF Ouest                    3\n",
       "5àsec RIF                          3\n",
       "Happy End Group                    3\n",
       "Generys Groupe                     3\n",
       "Foncière Patrimonia                3\n",
       "Sirio                              3\n",
       "Financière Guizot                  3\n",
       "Capelli                            3\n",
       "Euro Invest Group                  2\n",
       "SGA Information Management SA      2\n",
       "KPI                                2\n",
       "Name: Emprunteur, dtype: int64"
      ]
     },
     "execution_count": 28,
     "metadata": {},
     "output_type": "execute_result"
    }
   ],
   "source": [
    "reduced_df['Emprunteur'].value_counts().head(20)"
   ]
  },
  {
   "cell_type": "code",
   "execution_count": 29,
   "metadata": {},
   "outputs": [
    {
     "name": "stdout",
     "output_type": "stream",
     "text": [
      "0    True\n",
      "1    True\n",
      "2    True\n",
      "3    True\n",
      "4    True\n",
      "Name: Emprunteur, dtype: bool\n"
     ]
    }
   ],
   "source": [
    "\n",
    "Emprunteurs = reduced_df['Emprunteur']\n",
    "\n",
    "\n",
    "Emprunteurs_counts = Emprunteurs.value_counts()\n",
    "\n",
    "# Create a mask for only categories that occur less than 5 times\n",
    "mask = Emprunteurs.isin(Emprunteurs_counts[Emprunteurs_counts<5].index)\n",
    "\n",
    "# Print the top 5 rows in the mask series\n",
    "print(mask.head())"
   ]
  },
  {
   "cell_type": "code",
   "execution_count": 30,
   "metadata": {
    "scrolled": true
   },
   "outputs": [
    {
     "data": {
      "text/plain": [
       "Index(['Regourd Aviation', 'Diffox - Diffusion Oyonnaxienne', 'AFC Promotion',\n",
       "       'Inks', 'A.M.S. Événements', 'Saint Jean Industries', 'RetailIDF Ouest',\n",
       "       '5àsec RIF', 'Happy End Group', 'Generys Groupe',\n",
       "       ...\n",
       "       'FB Carré Sénart', 'New Patientline', 'Allianz', 'Digital Progress',\n",
       "       'Intercard', 'Impuls Spain', 'ALFAMETAL INTERNATIONAL BCN SL',\n",
       "       'Findasense España SL\\n', 'Deltisol', 'Opti-Mall'],\n",
       "      dtype='object', length=593)"
      ]
     },
     "execution_count": 30,
     "metadata": {},
     "output_type": "execute_result"
    }
   ],
   "source": [
    "Emprunteurs_counts[Emprunteurs_counts < 5].index"
   ]
  },
  {
   "cell_type": "code",
   "execution_count": 31,
   "metadata": {},
   "outputs": [
    {
     "data": {
      "text/plain": [
       "Other              673\n",
       "Reworld Media        5\n",
       "Oracom               5\n",
       "Orchid Création      5\n",
       "Name: Emprunteur, dtype: int64"
      ]
     },
     "execution_count": 31,
     "metadata": {},
     "output_type": "execute_result"
    }
   ],
   "source": [
    "# Label all other categories as Other\n",
    "reduced_df['Emprunteur'][mask] = 'Other'\n",
    "\n",
    "# Print the updated category counts\n",
    "reduced_df['Emprunteur'].value_counts()"
   ]
  },
  {
   "cell_type": "markdown",
   "metadata": {},
   "source": [
    "##  Clean column : capital social"
   ]
  },
  {
   "cell_type": "code",
   "execution_count": 32,
   "metadata": {},
   "outputs": [
    {
     "data": {
      "text/plain": [
       "array(['3 058 500 €', '396 072 €', 900, '10 000 €', '2 372 808 €',\n",
       "       '553 200 €', 1, '1 507 229 €\\n', '25 000 €', '11 250 €',\n",
       "       '19 000 €', '50 000 €', '30 000 €', '18 000 €', '10 000 €\\n',\n",
       "       '5 000 000 €', '1 000 000 €', '20 000 €', '534 000 €', '14 014 €',\n",
       "       '692 000 €', '1 000 €', '100 000 €', '160 000 €', '12 000 €',\n",
       "       '2 000 000 €', '2 556 935 €', '174 960 €', '4 300 000 €',\n",
       "       '120 000 €', '16 927 999 €', '90 000 €', 100, '527 000 €',\n",
       "       '72 000 €', '40 000 €', '500 000 €', '1 001 250 €', '36 060 €',\n",
       "       '18 890 €', '1 128 444 €', '98 800 €', '136 000 €', '304 106 €',\n",
       "       '38 219 €', '105 000 €', 85, '10 200 €', '8 500 €', '180 304 €',\n",
       "       '387 247 €', '3 010 €', '17 609 000 €', '140 000 €', '150 000 €',\n",
       "       '15 000 €', '11 120 €', '29 994 €', '25 822 €', '3 043 000 €',\n",
       "       '665 000 €', '50 575 €', '3 986 663 €', '34 332 000 €', '54 000 €',\n",
       "       '77 500 €', '3 137 424 €', '190 000 €', '50 800 €', '10 000 000 €',\n",
       "       '150 250 €', '8 000 €', '3 000 000 €', '2 000 €', '170 000 €',\n",
       "       '16 156 000 €', '8 400 €', '4 783 €\\n', '200 €\\n', '15 000 €\\n',\n",
       "       '760 100 €', '30 000 €\\n', '865 000 €\\n', '4 088 €\\n',\n",
       "       '18 000 €\\n', '3 557 120 €\\n', '4 500 000 €\\n', '286 000 €\\n',\n",
       "       '90 756 €\\n', '61 470 €\\n', '20 000 €\\n', '28 405 €\\n',\n",
       "       '51 480 €\\n', '50 000 000 €', '200 000 €', '1 549 812 €',\n",
       "       '5 734 €', '6 826 663 €', '7 000 €', '40 500 €', '627 776 €',\n",
       "       '6 000 €', '80 000 €', '1 180 000 €', '600 000 €', '1 200 000 €',\n",
       "       '195 848 €', '7 800 €', '503 000 €', '2 530 761 €', '4 962 856 €',\n",
       "       '18 151 €', '60 000 €', '36 498 182 €', '13 038 371 €',\n",
       "       '2 485 450 316 €', '15 139 197 €', '7 022 549 €',\n",
       "       '2 435 285 011 €', '181 000 €', '464 966 992 €', '1 200 000 €\\n',\n",
       "       '1 038 060 €', '870 617 109 €', '6 246 615 €', '1 860 000 €',\n",
       "       '535 015 €', '1 360 800 €', '11 000 000 €', '42 900 €', '1 500 €',\n",
       "       '624 999 €', '6 160 €', '8 990 €', '8 000 000 €', '7 398 515 €',\n",
       "       '10 045 100 €', '7 500 €', '300 000 €', '47 000 €', '9 000 €',\n",
       "       '404 125 €', '210 526 €', '1 111 €', '1 681 500 €', '402 752 €',\n",
       "       '5 036 227 €', '4 000 €', '559 670 €', '5 000 €', '328 000 €',\n",
       "       '348 500 €', '4 500 000 €', '1 600 000 €', '390 334 €',\n",
       "       '3 722 004 €', '628 445 €', '3 469 785 €', '41 226 €', '252 700 €',\n",
       "       '11 000 €', '2 385 352 €', '75 000 €', '824 077 €', '70 000 €',\n",
       "       '133 344 €', '1 201 500 €', '259 000 €', '1 584 552 €',\n",
       "       '1 996 400 €', '1 075 €', '323 301 €', '93 000 €', '1 061 500 €',\n",
       "       '1 050 €', '4 800 215 €', '3 204 860 €', '15 808 730 €',\n",
       "       '3 000 500 €', '4 000 000 €', '350 000 €', '211 800 €',\n",
       "       '1 500 000 €', '81 840 €', '22 702 832 €', '530 640 €',\n",
       "       '129 532 €', '2 650 000 €', '750 000 €', '7 650 €', '45 000 €',\n",
       "       '198 000 €', '1 552 000 €', '7 828 003 €', '572 000 €',\n",
       "       '154 800 €', '331 840 €', '38 112 €', '308 850 €', '77 000 €',\n",
       "       '319 392 €', '16 500 €', '1 012 242 €', '3 517 500 €', '45 622 €',\n",
       "       '4 017 024 €', '15 200 €', '29 721 282 €', '23 493 000 €',\n",
       "       '110 000 €', '80 185 €', '950 000 €', '1 430 000 €', '360 479 €',\n",
       "       '49 783 €', 150, '300 500 €', '53 368 €', '250 000 €', '15 321 €',\n",
       "       '22 867 €', '11 434 €', '53 352 €', '11 111 €', '80 160 €',\n",
       "       '7 622 €', '61 848 €', '366 036 €', '6\\xa0000\\xa0€', '5 946 €',\n",
       "       '3 519 061 €', '3 074 612 €', '1 357 990 €', '20 389 €', '1 195 €',\n",
       "       '950 350 €', '260 000 €', '3 042 €', '2 400 000 €', '2 791 000 €',\n",
       "       '119 000 €', '3 504 285 €', '571 010 €', '2 471 215 €',\n",
       "       '3 609 000 €', '31 200 €', '991 967 200 €', '6 900 000 €',\n",
       "       '775 577 018 €', '135 229 €', '312 500 €', '261 500 €',\n",
       "       '3 300 000 €', '235 000 €', '6 500 000 €', '3 000 €', '60 100 €',\n",
       "       '1 065 148 €', '550 000 €', '650 000 €', '119 500 €',\n",
       "       '16 829 887 €', '10 400 €', '320 000 €', '6 010 €', '521 000 €',\n",
       "       '48 520 €', '326 700 €', '10 002 €', '6 770 377 €', '1 577 647 €',\n",
       "       '196 244 €', '32 040 000 €', '12 412 453 €', '3 557 120 €', '-',\n",
       "       '27 045 €', '407 300 €', '1 800 000 €', '15 245 €', '53 500 €',\n",
       "       '122 000 €', '11 450 €', '396 000 €', '44 210 €', '11 494 €',\n",
       "       '37 113 €', '65 000 €', '7 101 864 €', '136 200 €', '90 762 €',\n",
       "       '51 000 €', '326 800 €', '66 660 €', '810 000 €', '7 630 €',\n",
       "       '21 000 €', '88 115 €', '2 662 400 €', '56 889 €', '364 800 €',\n",
       "       '251 000 €', '3 746 204 €', '100 000 000 €', '1 300 000 €',\n",
       "       '306 400 €', '22 720 €', '306 000 €', '1 597 123 €', '413 100 €',\n",
       "       '2 500 €', '566\\xa0500\\xa0€', '400 000 €', '130 000 €', '24 250 €',\n",
       "       '2 985 352 €', '706 392 €', '287 880 €', '137 439 €', '28 000 €',\n",
       "       '12 480 €', 500, '12 500 €', '2 857 842 €', '221 883 €',\n",
       "       '344 974 €', '788 257 €', '10 329 €', '1 507 229 €', '194 384 €',\n",
       "       '37 000 €', '3 006 €', '3 100 €', '900 800 €', '129 215 €',\n",
       "       '727 041 €', '136 500 €'], dtype=object)"
      ]
     },
     "execution_count": 32,
     "metadata": {},
     "output_type": "execute_result"
    }
   ],
   "source": [
    "reduced_df['capital social'].unique()"
   ]
  },
  {
   "cell_type": "code",
   "execution_count": 33,
   "metadata": {},
   "outputs": [
    {
     "name": "stdout",
     "output_type": "stream",
     "text": [
      "566 500 \n"
     ]
    }
   ],
   "source": [
    "print(\"566\\xa0500\\xa0\")"
   ]
  },
  {
   "cell_type": "code",
   "execution_count": 34,
   "metadata": {},
   "outputs": [],
   "source": [
    "reduced_df['capital_social_corr']=reduced_df['capital social'].str.replace('€','').str.replace('\\xa0','').str.strip().str.replace('\\s+','')\n",
    "reduced_df['capital_social_corr'] = np.where(reduced_df['capital_social_corr'].isnull(), 0, reduced_df['capital_social_corr'])\n",
    "reduced_df['capital_social_corr'] = pd.to_numeric(reduced_df['capital_social_corr'], errors='coerce')"
   ]
  },
  {
   "cell_type": "code",
   "execution_count": 35,
   "metadata": {},
   "outputs": [
    {
     "data": {
      "text/plain": [
       "array([3.05850000e+06, 3.96072000e+05, 0.00000000e+00, 1.00000000e+04,\n",
       "       2.37280800e+06, 5.53200000e+05, 1.50722900e+06, 2.50000000e+04,\n",
       "       1.12500000e+04, 1.90000000e+04, 5.00000000e+04, 3.00000000e+04,\n",
       "       1.80000000e+04, 5.00000000e+06, 1.00000000e+06, 2.00000000e+04,\n",
       "       5.34000000e+05, 1.40140000e+04, 6.92000000e+05, 1.00000000e+03,\n",
       "       1.00000000e+05, 1.60000000e+05, 1.20000000e+04, 2.00000000e+06,\n",
       "       2.55693500e+06, 1.74960000e+05, 4.30000000e+06, 1.20000000e+05,\n",
       "       1.69279990e+07, 9.00000000e+04, 5.27000000e+05, 7.20000000e+04,\n",
       "       4.00000000e+04, 5.00000000e+05, 1.00125000e+06, 3.60600000e+04,\n",
       "       1.88900000e+04, 1.12844400e+06, 9.88000000e+04, 1.36000000e+05,\n",
       "       3.04106000e+05, 3.82190000e+04, 1.05000000e+05, 1.02000000e+04,\n",
       "       8.50000000e+03, 1.80304000e+05, 3.87247000e+05, 3.01000000e+03,\n",
       "       1.76090000e+07, 1.40000000e+05, 1.50000000e+05, 1.50000000e+04,\n",
       "       1.11200000e+04, 2.99940000e+04, 2.58220000e+04, 3.04300000e+06,\n",
       "       6.65000000e+05, 5.05750000e+04, 3.98666300e+06, 3.43320000e+07,\n",
       "       5.40000000e+04, 7.75000000e+04, 3.13742400e+06, 1.90000000e+05,\n",
       "       5.08000000e+04, 1.00000000e+07, 1.50250000e+05, 8.00000000e+03,\n",
       "       3.00000000e+06, 2.00000000e+03, 1.70000000e+05, 1.61560000e+07,\n",
       "       8.40000000e+03, 4.78300000e+03, 2.00000000e+02, 7.60100000e+05,\n",
       "       8.65000000e+05, 4.08800000e+03, 3.55712000e+06, 4.50000000e+06,\n",
       "       2.86000000e+05, 9.07560000e+04, 6.14700000e+04, 2.84050000e+04,\n",
       "       5.14800000e+04, 5.00000000e+07, 2.00000000e+05, 1.54981200e+06,\n",
       "       5.73400000e+03, 6.82666300e+06, 7.00000000e+03, 4.05000000e+04,\n",
       "       6.27776000e+05, 6.00000000e+03, 8.00000000e+04, 1.18000000e+06,\n",
       "       6.00000000e+05, 1.20000000e+06, 1.95848000e+05, 7.80000000e+03,\n",
       "       5.03000000e+05, 2.53076100e+06, 4.96285600e+06, 1.81510000e+04,\n",
       "       6.00000000e+04, 3.64981820e+07, 1.30383710e+07, 2.48545032e+09,\n",
       "       1.51391970e+07, 7.02254900e+06, 2.43528501e+09, 1.81000000e+05,\n",
       "       4.64966992e+08, 1.03806000e+06, 8.70617109e+08, 6.24661500e+06,\n",
       "       1.86000000e+06, 5.35015000e+05, 1.36080000e+06, 1.10000000e+07,\n",
       "       4.29000000e+04, 1.50000000e+03, 6.24999000e+05, 6.16000000e+03,\n",
       "       8.99000000e+03, 8.00000000e+06, 7.39851500e+06, 1.00451000e+07,\n",
       "       7.50000000e+03, 3.00000000e+05, 4.70000000e+04, 9.00000000e+03,\n",
       "       4.04125000e+05, 2.10526000e+05, 1.11100000e+03, 1.68150000e+06,\n",
       "       4.02752000e+05, 5.03622700e+06, 4.00000000e+03, 5.59670000e+05,\n",
       "       5.00000000e+03, 3.28000000e+05, 3.48500000e+05, 1.60000000e+06,\n",
       "       3.90334000e+05, 3.72200400e+06, 6.28445000e+05, 3.46978500e+06,\n",
       "       4.12260000e+04, 2.52700000e+05, 1.10000000e+04, 2.38535200e+06,\n",
       "       7.50000000e+04, 8.24077000e+05, 7.00000000e+04, 1.33344000e+05,\n",
       "       1.20150000e+06, 2.59000000e+05, 1.58455200e+06, 1.99640000e+06,\n",
       "       1.07500000e+03, 3.23301000e+05, 9.30000000e+04, 1.06150000e+06,\n",
       "       1.05000000e+03, 4.80021500e+06, 3.20486000e+06, 1.58087300e+07,\n",
       "       3.00050000e+06, 4.00000000e+06, 3.50000000e+05, 2.11800000e+05,\n",
       "       1.50000000e+06, 8.18400000e+04, 2.27028320e+07, 5.30640000e+05,\n",
       "       1.29532000e+05, 2.65000000e+06, 7.50000000e+05, 7.65000000e+03,\n",
       "       4.50000000e+04, 1.98000000e+05, 1.55200000e+06, 7.82800300e+06,\n",
       "       5.72000000e+05, 1.54800000e+05, 3.31840000e+05, 3.81120000e+04,\n",
       "       3.08850000e+05, 7.70000000e+04, 3.19392000e+05, 1.65000000e+04,\n",
       "       1.01224200e+06, 3.51750000e+06, 4.56220000e+04, 4.01702400e+06,\n",
       "       1.52000000e+04, 2.97212820e+07, 2.34930000e+07, 1.10000000e+05,\n",
       "       8.01850000e+04, 9.50000000e+05, 1.43000000e+06, 3.60479000e+05,\n",
       "       4.97830000e+04, 3.00500000e+05, 5.33680000e+04, 2.50000000e+05,\n",
       "       1.53210000e+04, 2.28670000e+04, 1.14340000e+04, 5.33520000e+04,\n",
       "       1.11110000e+04, 8.01600000e+04, 7.62200000e+03, 6.18480000e+04,\n",
       "       3.66036000e+05, 5.94600000e+03, 3.51906100e+06, 3.07461200e+06,\n",
       "       1.35799000e+06, 2.03890000e+04, 1.19500000e+03, 9.50350000e+05,\n",
       "       2.60000000e+05, 3.04200000e+03, 2.40000000e+06, 2.79100000e+06,\n",
       "       1.19000000e+05, 3.50428500e+06, 5.71010000e+05, 2.47121500e+06,\n",
       "       3.60900000e+06, 3.12000000e+04, 9.91967200e+08, 6.90000000e+06,\n",
       "       7.75577018e+08, 1.35229000e+05, 3.12500000e+05, 2.61500000e+05,\n",
       "       3.30000000e+06, 2.35000000e+05, 6.50000000e+06, 3.00000000e+03,\n",
       "       6.01000000e+04, 1.06514800e+06, 5.50000000e+05, 6.50000000e+05,\n",
       "       1.19500000e+05, 1.68298870e+07, 1.04000000e+04, 3.20000000e+05,\n",
       "       6.01000000e+03, 5.21000000e+05, 4.85200000e+04, 3.26700000e+05,\n",
       "       1.00020000e+04, 6.77037700e+06, 1.57764700e+06, 1.96244000e+05,\n",
       "       3.20400000e+07, 1.24124530e+07,            nan, 2.70450000e+04,\n",
       "       4.07300000e+05, 1.80000000e+06, 1.52450000e+04, 5.35000000e+04,\n",
       "       1.22000000e+05, 1.14500000e+04, 3.96000000e+05, 4.42100000e+04,\n",
       "       1.14940000e+04, 3.71130000e+04, 6.50000000e+04, 7.10186400e+06,\n",
       "       1.36200000e+05, 9.07620000e+04, 5.10000000e+04, 3.26800000e+05,\n",
       "       6.66600000e+04, 8.10000000e+05, 7.63000000e+03, 2.10000000e+04,\n",
       "       8.81150000e+04, 2.66240000e+06, 5.68890000e+04, 3.64800000e+05,\n",
       "       2.51000000e+05, 3.74620400e+06, 1.00000000e+08, 1.30000000e+06,\n",
       "       3.06400000e+05, 2.27200000e+04, 3.06000000e+05, 1.59712300e+06,\n",
       "       4.13100000e+05, 2.50000000e+03, 5.66500000e+05, 4.00000000e+05,\n",
       "       1.30000000e+05, 2.42500000e+04, 2.98535200e+06, 7.06392000e+05,\n",
       "       2.87880000e+05, 1.37439000e+05, 2.80000000e+04, 1.24800000e+04,\n",
       "       1.25000000e+04, 2.85784200e+06, 2.21883000e+05, 3.44974000e+05,\n",
       "       7.88257000e+05, 1.03290000e+04, 1.94384000e+05, 3.70000000e+04,\n",
       "       3.00600000e+03, 3.10000000e+03, 9.00800000e+05, 1.29215000e+05,\n",
       "       7.27041000e+05, 1.36500000e+05])"
      ]
     },
     "execution_count": 35,
     "metadata": {},
     "output_type": "execute_result"
    }
   ],
   "source": [
    "reduced_df['capital_social_corr'].unique()"
   ]
  },
  {
   "cell_type": "code",
   "execution_count": 36,
   "metadata": {},
   "outputs": [
    {
     "data": {
      "text/plain": [
       "Index(['Pays', 'Taux', 'Mois', 'Montant', 'Niveau de risque', 'Emprunteur',\n",
       "       'capital social', 'année de création', 'Antériorité', 'effectifs',\n",
       "       'Nombre de mois de la période 16', 'Chiffre d'Affaires 16',\n",
       "       'EBE(retraité des loyers de leasing) 16', 'Resultat Net 16',\n",
       "       'Total Bilan 16', 'Capacité de remboursement (FCCR) 16',\n",
       "       'Fonds Propres 16', 'Fonds Propres / Total Bilan 16',\n",
       "       'Dettes Nettes / EBE(* années) 16', 'Dettes Nettes / Fonds propres 16',\n",
       "       'Pays_corr', 'Taux_corr', 'Taux_corr_binned', 'Montant_corr',\n",
       "       'Niveau_risque_corr', 'capital_social_corr'],\n",
       "      dtype='object')"
      ]
     },
     "execution_count": 36,
     "metadata": {},
     "output_type": "execute_result"
    }
   ],
   "source": [
    "reduced_df.columns"
   ]
  },
  {
   "cell_type": "markdown",
   "metadata": {},
   "source": [
    "##  Clean column : effectifs"
   ]
  },
  {
   "cell_type": "code",
   "execution_count": 37,
   "metadata": {},
   "outputs": [
    {
     "data": {
      "text/plain": [
       "array(['11 à 50', '1 à 10', '51 à 250', nan, '11 à 50\\n', 'Plus de 1 000',\n",
       "       '251 à 1.000', '1 à 10\\n', '51 à 250\\n', '251 à 1.000\\n',\n",
       "       '251 à 1 000\\n', '251 à 1 000', 'Plus de 1000', '-', '251 à 1000',\n",
       "       'Plus de 600'], dtype=object)"
      ]
     },
     "execution_count": 37,
     "metadata": {},
     "output_type": "execute_result"
    }
   ],
   "source": [
    "reduced_df['effectifs'].unique()"
   ]
  },
  {
   "cell_type": "code",
   "execution_count": 38,
   "metadata": {},
   "outputs": [],
   "source": [
    "reduced_df['Effectifse_corr']=reduced_df['effectifs'].str.rstrip().str.replace('\\s+','')\n",
    "reduced_df['Effectifse_corr'][reduced_df['Effectifse_corr'] == '-'] = np.nan"
   ]
  },
  {
   "cell_type": "code",
   "execution_count": 39,
   "metadata": {},
   "outputs": [
    {
     "data": {
      "text/plain": [
       "array(['11à50', '1à10', '51à250', nan, 'Plusde1000', '251à1.000',\n",
       "       '251à1000', 'Plusde600'], dtype=object)"
      ]
     },
     "execution_count": 39,
     "metadata": {},
     "output_type": "execute_result"
    }
   ],
   "source": [
    "reduced_df['Effectifse_corr'].unique()"
   ]
  },
  {
   "cell_type": "markdown",
   "metadata": {},
   "source": [
    "##  Clean column : Nombre de mois de la période 16"
   ]
  },
  {
   "cell_type": "code",
   "execution_count": 40,
   "metadata": {
    "scrolled": true
   },
   "outputs": [
    {
     "data": {
      "text/plain": [
       "array([12, nan, '12 mois ', '12 mois', '16 mois', '7 mois', '6 mois',\n",
       "       '15 mois', '9,5 mois', '23 mois', '22 mois', '11 mois', '-',\n",
       "       '8 mois'], dtype=object)"
      ]
     },
     "execution_count": 40,
     "metadata": {},
     "output_type": "execute_result"
    }
   ],
   "source": [
    "reduced_df['Nombre de mois de la période 16'].unique()"
   ]
  },
  {
   "cell_type": "code",
   "execution_count": 41,
   "metadata": {},
   "outputs": [],
   "source": [
    "reduced_df['Nombre_mois_période16_corr']=reduced_df['Nombre de mois de la période 16'].str.rstrip().str.replace('mois','').str.replace(',','.').str.replace('\\s+','').str.extract(r\"(\\d+\\.\\d+|\\d+)\")\n",
    "reduced_df['Nombre_mois_période16_corr'][reduced_df['Nombre_mois_période16_corr'] == '-'] = np.nan\n",
    "reduced_df['Nombre_mois_période16_corr'] = pd.to_numeric(reduced_df['Nombre_mois_période16_corr'], errors='coerce')"
   ]
  },
  {
   "cell_type": "code",
   "execution_count": 42,
   "metadata": {},
   "outputs": [
    {
     "data": {
      "text/plain": [
       "array([ nan, 12. , 16. ,  7. ,  6. , 15. ,  9.5, 23. , 22. , 11. ,  8. ])"
      ]
     },
     "execution_count": 42,
     "metadata": {},
     "output_type": "execute_result"
    }
   ],
   "source": [
    "reduced_df['Nombre_mois_période16_corr'].unique()"
   ]
  },
  {
   "cell_type": "markdown",
   "metadata": {},
   "source": [
    "##  Clean column : Chiffre d'Affaires 16"
   ]
  },
  {
   "cell_type": "code",
   "execution_count": 43,
   "metadata": {},
   "outputs": [
    {
     "data": {
      "text/plain": [
       "array(['0% - 5%', 343, '50% - 55%', nan, 56, 0, 1739, 1218, 262,\n",
       "       '20% - 25%', 197, 149, '5% - 10%', '35% - 40%', '4 002', 317,\n",
       "       '1 134', 251, '15% - 20%', '95% - 100%', -41, '10% - 15%', 244, 26,\n",
       "       '1 799', '30% - 35%', 207, 430, '1 564', 201, '45% - 50%', 441,\n",
       "       '2 078', 216, 756, -0.05, 2080, 175, 89, '2 453 000', 585, '1 037',\n",
       "       '3 134', 373, '1 675', 778, 755, 1799, '25% - 30%', '9 563', 2180,\n",
       "       '6 024', 164, -0.05000000000000002, 128, 40, '19 107', 4001,\n",
       "       '5 339', '5% - 10% ', 469, 417, '25% - 30% ', 786, 204, 589, 162,\n",
       "       '10% - 15% ', 3093, '15% - 20% ', '2 231 ', '20% - 25% ', 554,\n",
       "       '30% - 35% ', '1 986 ', '1 548 ', 1.4999999999999998, '60% - 65%',\n",
       "       '40% - 45%', '55% - 60%', -0.04999999999999999, '85% - 90%', 506,\n",
       "       '70% - 75%', '20-25%', '10-15%', '15-20%', '25-30%', '5-10%',\n",
       "       '0-5%', '35-40%', '30-35%', '40-50%', '40-45%', '05-10%', 6,\n",
       "       '3 198', 375, 1120, 203, '4 060', 488, 494, '6 208', 105, '1 143',\n",
       "       413, 156, 3101, '9 312', '5 191', 44, '2 248', 308, 1018, 51,\n",
       "       '1 999', '2 769', 9531, 34, '6 667', 62, 451, 170, '3 332',\n",
       "       '2 909', 584, '1 173', 1014, 654, 820, 177, '10 396', 607, 121,\n",
       "       252, '1 274', 634, 184, 784, 178, 123, 240, 218, 776, 563, 811,\n",
       "       411, '4 247', 61, '7 545', '27 729', '8 388', '1 964', '3 093',\n",
       "       407, 310, '1 181', 456, '22 063', '1 617', 609, 185, 303, '13 826',\n",
       "       '4 993', 560, 114, '1 125', 988, 220, '1 445', 230, 159, 92, 136,\n",
       "       '552,4', '1 931', 287, 421, '2 027', 139, 919, '2 722', 173, 934,\n",
       "       372, '4 901', '11\\xa0310', '-', 1027, 131, 686, 483, 339, '2 561'],\n",
       "      dtype=object)"
      ]
     },
     "execution_count": 43,
     "metadata": {},
     "output_type": "execute_result"
    }
   ],
   "source": [
    "# 'Chiffre d'Affaires 16'\n",
    "reduced_df.iloc[:,12].unique()"
   ]
  },
  {
   "cell_type": "code",
   "execution_count": 44,
   "metadata": {},
   "outputs": [],
   "source": [
    "reduced_df['Chiffre_Affaires_16_corr']=reduced_df.iloc[:,12].str.replace('\\xa0','').str.strip().str.replace('\\s+','')\n",
    "reduced_df['Chiffre_Affaires_16_corr'] = pd.to_numeric(reduced_df['Chiffre_Affaires_16_corr'], errors='coerce')"
   ]
  },
  {
   "cell_type": "code",
   "execution_count": 45,
   "metadata": {
    "scrolled": true
   },
   "outputs": [
    {
     "data": {
      "text/plain": [
       "array([       nan, 4.0020e+03, 1.1340e+03, 1.7990e+03, 1.5640e+03,\n",
       "       2.0780e+03, 2.4530e+06, 1.0370e+03, 3.1340e+03, 1.6750e+03,\n",
       "       9.5630e+03, 6.0240e+03, 1.9107e+04, 5.3390e+03, 2.2310e+03,\n",
       "       1.9860e+03, 1.5480e+03, 3.1980e+03, 4.0600e+03, 6.2080e+03,\n",
       "       1.1430e+03, 9.3120e+03, 5.1910e+03, 2.2480e+03, 1.9990e+03,\n",
       "       2.7690e+03, 6.6670e+03, 3.3320e+03, 2.9090e+03, 1.1730e+03,\n",
       "       1.0396e+04, 1.2740e+03, 4.2470e+03, 7.5450e+03, 2.7729e+04,\n",
       "       8.3880e+03, 1.9640e+03, 3.0930e+03, 1.1810e+03, 2.2063e+04,\n",
       "       1.6170e+03, 1.3826e+04, 4.9930e+03, 1.1250e+03, 1.4450e+03,\n",
       "       1.9310e+03, 2.0270e+03, 2.7220e+03, 4.9010e+03, 1.1310e+04,\n",
       "       2.5610e+03])"
      ]
     },
     "execution_count": 45,
     "metadata": {},
     "output_type": "execute_result"
    }
   ],
   "source": [
    "reduced_df['Chiffre_Affaires_16_corr'].unique()"
   ]
  },
  {
   "cell_type": "markdown",
   "metadata": {},
   "source": [
    "##  Clean column : EBE(retraité des loyers de leasing) 16"
   ]
  },
  {
   "cell_type": "code",
   "execution_count": 46,
   "metadata": {},
   "outputs": [
    {
     "data": {
      "text/plain": [
       "array(['0% - 5%', 343, '50% - 55%', nan, 56, 0, 1739, 1218, 262,\n",
       "       '20% - 25%', 197, 149, '5% - 10%', '35% - 40%', '4 002', 317,\n",
       "       '1 134', 251, '15% - 20%', '95% - 100%', -41, '10% - 15%', 244, 26,\n",
       "       '1 799', '30% - 35%', 207, 430, '1 564', 201, '45% - 50%', 441,\n",
       "       '2 078', 216, 756, -0.05, 2080, 175, 89, '2 453 000', 585, '1 037',\n",
       "       '3 134', 373, '1 675', 778, 755, 1799, '25% - 30%', '9 563', 2180,\n",
       "       '6 024', 164, -0.05000000000000002, 128, 40, '19 107', 4001,\n",
       "       '5 339', '5% - 10% ', 469, 417, '25% - 30% ', 786, 204, 589, 162,\n",
       "       '10% - 15% ', 3093, '15% - 20% ', '2 231 ', '20% - 25% ', 554,\n",
       "       '30% - 35% ', '1 986 ', '1 548 ', 1.4999999999999998, '60% - 65%',\n",
       "       '40% - 45%', '55% - 60%', -0.04999999999999999, '85% - 90%', 506,\n",
       "       '70% - 75%', '20-25%', '10-15%', '15-20%', '25-30%', '5-10%',\n",
       "       '0-5%', '35-40%', '30-35%', '40-50%', '40-45%', '05-10%', 6,\n",
       "       '3 198', 375, 1120, 203, '4 060', 488, 494, '6 208', 105, '1 143',\n",
       "       413, 156, 3101, '9 312', '5 191', 44, '2 248', 308, 1018, 51,\n",
       "       '1 999', '2 769', 9531, 34, '6 667', 62, 451, 170, '3 332',\n",
       "       '2 909', 584, '1 173', 1014, 654, 820, 177, '10 396', 607, 121,\n",
       "       252, '1 274', 634, 184, 784, 178, 123, 240, 218, 776, 563, 811,\n",
       "       411, '4 247', 61, '7 545', '27 729', '8 388', '1 964', '3 093',\n",
       "       407, 310, '1 181', 456, '22 063', '1 617', 609, 185, 303, '13 826',\n",
       "       '4 993', 560, 114, '1 125', 988, 220, '1 445', 230, 159, 92, 136,\n",
       "       '552,4', '1 931', 287, 421, '2 027', 139, 919, '2 722', 173, 934,\n",
       "       372, '4 901', '11\\xa0310', '-', 1027, 131, 686, 483, 339, '2 561'],\n",
       "      dtype=object)"
      ]
     },
     "execution_count": 46,
     "metadata": {},
     "output_type": "execute_result"
    }
   ],
   "source": [
    "reduced_df['EBE(retraité des loyers de leasing) 16'].unique()"
   ]
  },
  {
   "cell_type": "markdown",
   "metadata": {},
   "source": [
    "**==> this column will be eliminated , we need more domain expertise to keep it or not int the future**"
   ]
  },
  {
   "cell_type": "markdown",
   "metadata": {},
   "source": [
    "# Column :Resultat Net 16"
   ]
  },
  {
   "cell_type": "code",
   "execution_count": 47,
   "metadata": {},
   "outputs": [
    {
     "data": {
      "text/plain": [
       "array(['0 - 5 %', '0 % - 5 %', '10 - 15 %', nan, '0% - 5%', '5 - 10 %',\n",
       "       '5% - 10%', '0,0%', '30 - 35 %', '-3,59%', '35 - 40 %',\n",
       "       '40% - 45%', '-9,74%', '25 - 30 %', '20 - 25 %', -0.14,\n",
       "       '100 - 105 %', '10 % - 15 %', '-16,33%', '-0,3%', '-12,33%',\n",
       "       '5 % - 10 %', '-1,5%', '-2,03%', '15 - 20 %', '-1,38%', '-1,0%',\n",
       "       '-0,68%', '5 - 10 % ', '0% - 5% ', '-8,24% ', '0 - 5 % ',\n",
       "       '0 % - 5% ', -507, '0 % - 5 % ', '-2,9% ', '-3,78%', '-16,25%',\n",
       "       '-15,95%', '-38,08%', '-1,6%', '155 - 160 %', '-4,1%', 299,\n",
       "       '-1,71%', '-0,19%', '-0,95%', '-8,3%', '10% - 15%', -0.0218,\n",
       "       '5% - 10 %', '15% - 20 %', '0% - 5 %', '-4,81%', '10% - 15 %',\n",
       "       -0.05, '-7,25%', '-5,81%', '-0,37%', '-5,16%', -0.0259, '10-15%',\n",
       "       '5-10%', '0-5%', '30-35%', '-', '0-5 %', '5-10 %', '-6,76%',\n",
       "       '0 - 5%', '15-20%', '-0,36%', '-8,76%', '-4,26%', '-2,06%',\n",
       "       '-4,9%', '25% - 30%', '70% - 75%', '-11,29%', '15 694', 592, 444,\n",
       "       '3 037', '15% - 20%', '-1,03', '-3,37%', '125% - 130%', '20-25%',\n",
       "       '0 -5%', '-0,66%', '0%-5%'], dtype=object)"
      ]
     },
     "execution_count": 47,
     "metadata": {},
     "output_type": "execute_result"
    }
   ],
   "source": [
    "reduced_df['Resultat Net 16'].unique()"
   ]
  },
  {
   "cell_type": "markdown",
   "metadata": {},
   "source": [
    "**==> this column will be eliminated , we need more domain expertise to keep it or not int the future**"
   ]
  },
  {
   "cell_type": "markdown",
   "metadata": {},
   "source": [
    "##  Clean column : Total Bilan 16"
   ]
  },
  {
   "cell_type": "code",
   "execution_count": 48,
   "metadata": {},
   "outputs": [
    {
     "data": {
      "text/plain": [
       "array([19756, 1940, 549, nan, 420477, 0, 11707, 183, 18264, '1 651', 662,\n",
       "       1270, 1120773, 8323, 421, 11739138, 1493, 8845914, 8957, 1096, 663,\n",
       "       428, 5060, 457, 222, '6491,48', 64744, 1017, 928, 370, 19606,\n",
       "       161725, 255, 1219, 10272, 1397818, 307, 1011, 1164, 4084, 1268,\n",
       "       2418, 458, 19, '21 196', 533, 3899, 399, '4 339', '28 765',\n",
       "       '1 037', '3 562', 8149, 21383, 1481, '14 232', 2850, 74, '2 499',\n",
       "       491, 2369, 641, '47 834 000', '2 962', '7 226', '20 372', 62, 3841,\n",
       "       2147, '12 302', '7 502', 2265, 11584, 17033, 1784, 362, '49 033',\n",
       "       27343, 131, '124 687', '3 586', 1745, 719, 3672, 683, 448, 23521,\n",
       "       418, '2 081', 1134, '305 565', 38865, 729, 165, '28 809', 382,\n",
       "       10707, 2663, 221, 3482748, 25721, 143, 236, 5474, 690, '6 263 ',\n",
       "       1867, 30769, 23654, 33797, '27 925 ', 20173, 2083, 470, '30 108 ',\n",
       "       '10 455 ', 874, 15906, 9341, 4591, '21447,1', 23493, 519, 2927,\n",
       "       2014, 383, 125426, 7021, 1033, 309, 208, 1046, 4855, 3489, 256,\n",
       "       473, 3937, 45537, 233, 472, 976, 187, 96, 6051, 2537, 2068, 57603,\n",
       "       465, 3371, 43241, 1415, 507, 8232, 1314, 29284, 177577, 5625,\n",
       "       158499, 5632, 74737, 10099, '11 864', 17249, 1028, 37150, 564460,\n",
       "       531, 1138, '1 111', 1049, 206, 5524, 136, 916, 102, 271, '155 303',\n",
       "       '166 171', '57 432', 137, '4 264', 1067, '2 014', 751, 669, 2304,\n",
       "       '51 080', 178, 957, 11812, 83367, 1717, 11048, 4021, 228, 409,\n",
       "       271609, 1247, 2763, 110, '1 709', '33 797', 1392, '125 426',\n",
       "       '289,3', '9 797', 158, '61 748', '16 900', '15 694', 460, '6 441',\n",
       "       '25 558', '1 273', 99, 303, '2 146', 709, 624, '47 365', '1 081',\n",
       "       901, '1 174', 1174, 723, '3 791', 3221, 4914, 195, 1004, '7 092',\n",
       "       280, '4 623', 637, '2 107', 117, 871, 329, '6 279', 410, '7 773',\n",
       "       '1 049', '45 537', 703, '101 193', '11 517', 366, '1 033',\n",
       "       '52 964', '59 042', 698, '-', '13 822', '3 919', '3 300', '10 911',\n",
       "       '161 725', 678, 377, '8 321', '36 491', 106, '3 621', 324,\n",
       "       '14 366', '47 444', 260, '1 392', 328, 453, 434, 736, 336, 1190,\n",
       "       387, 752, 275, '1 420', 358, 809, '1 260', '1 306', '1 479', 835,\n",
       "       850, '1 301', '40 273', 207, 154, '1 105', '1 129', '4 933', 194,\n",
       "       '23 980', '9 765', 25167, '1 652', '63 197', '2 728', '3 000',\n",
       "       '53 556', 566, '1 718', '4 145', '1 927', 41084, '79 505',\n",
       "       '77 159', 239, '38 786', 4722, '17 116', 289, '15 995', '32 443',\n",
       "       113507, '9 770', 613, '120 336', 608, '2 945', 765, '44 277',\n",
       "       '14 490', '4 975', '17 608', '1 398', '7 634', '6 856', '6 974',\n",
       "       951, '79 314', '2 453', '8 179', '12 604', '3 029', 782, '9 127',\n",
       "       1111, 700, '1 258', '8 308', '4 615', '3 352', '10 974', '3 483',\n",
       "       '1 101', '39 987', '1 440', '5 744', '11 605', '321 188', '71 995',\n",
       "       '17 588', '23 654', '3 511', '1 259', '4 763', '1 853', '243 933',\n",
       "       '4 655', '1 058', '57 433', 5, -123, '1 541', '21 108', 1025, 449,\n",
       "       '15 198', '2 820', 938, '1 643', '115 860', -27, -13, '4 006',\n",
       "       '1 694', 218, '1 360', '74 737', 72, '35 551', '2 588', '2 247',\n",
       "       621, 334, '7 501', 838, 87, '9 372', '3 026', '17 348', '12 369',\n",
       "       322, 543, 618, '2 606', 714, '2 887', 584, 190, '30 246', '14 565',\n",
       "       197, '6 663', 1349, '2 596', 527, 764, 717, 231, 213, '1 002', 444,\n",
       "       '4 755', 742, 204, 224, '1 201', '1 138', '15 737', '1 164',\n",
       "       '9 196', '13 908', 763, '9 626', '36 133', '1 664', '16 633',\n",
       "       '4 674', '47 524', '124\\xa0150', '2 693', 671, '6 764', 485,\n",
       "       '2 370', '3 957', '7 770'], dtype=object)"
      ]
     },
     "execution_count": 48,
     "metadata": {},
     "output_type": "execute_result"
    }
   ],
   "source": [
    "reduced_df['Total Bilan 16'].unique()"
   ]
  },
  {
   "cell_type": "code",
   "execution_count": 49,
   "metadata": {},
   "outputs": [
    {
     "data": {
      "text/plain": [
       "['-15', '65.544']"
      ]
     },
     "execution_count": 49,
     "metadata": {},
     "output_type": "execute_result"
    }
   ],
   "source": [
    "import re \n",
    "s='-15  kh,th, 65.544 '\n",
    "h= re.findall(r\"([-+]?\\d*\\.*\\d+|\\d+)\",s)\n",
    "h"
   ]
  },
  {
   "cell_type": "code",
   "execution_count": 50,
   "metadata": {},
   "outputs": [],
   "source": [
    "reduced_df['Total_Bilan_16_corr']= reduced_df['Total Bilan 16'].str.replace('\\xa0','').str.strip().str.replace('\\s+','').str.extract(r\"([-+]?\\d*\\.*\\d+|\\d+)\")\n",
    "reduced_df['Total_Bilan_16_corr']= pd.to_numeric(reduced_df['Total_Bilan_16_corr'], errors='coerce')"
   ]
  },
  {
   "cell_type": "code",
   "execution_count": 51,
   "metadata": {},
   "outputs": [
    {
     "data": {
      "text/plain": [
       "array([        nan, 1.65100e+03, 6.49100e+03, 2.11960e+04, 4.33900e+03,\n",
       "       2.87650e+04, 1.03700e+03, 3.56200e+03, 1.42320e+04, 2.49900e+03,\n",
       "       4.78340e+07, 2.96200e+03, 7.22600e+03, 2.03720e+04, 1.23020e+04,\n",
       "       7.50200e+03, 4.90330e+04, 1.24687e+05, 3.58600e+03, 2.08100e+03,\n",
       "       3.05565e+05, 2.88090e+04, 6.26300e+03, 2.79250e+04, 3.01080e+04,\n",
       "       1.04550e+04, 2.14470e+04, 1.18640e+04, 1.11100e+03, 1.55303e+05,\n",
       "       1.66171e+05, 5.74320e+04, 4.26400e+03, 2.01400e+03, 5.10800e+04,\n",
       "       1.70900e+03, 3.37970e+04, 1.25426e+05, 2.89000e+02, 9.79700e+03,\n",
       "       6.17480e+04, 1.69000e+04, 1.56940e+04, 6.44100e+03, 2.55580e+04,\n",
       "       1.27300e+03, 2.14600e+03, 4.73650e+04, 1.08100e+03, 1.17400e+03,\n",
       "       3.79100e+03, 7.09200e+03, 4.62300e+03, 2.10700e+03, 6.27900e+03,\n",
       "       7.77300e+03, 1.04900e+03, 4.55370e+04, 1.01193e+05, 1.15170e+04,\n",
       "       1.03300e+03, 5.29640e+04, 5.90420e+04, 1.38220e+04, 3.91900e+03,\n",
       "       3.30000e+03, 1.09110e+04, 1.61725e+05, 8.32100e+03, 3.64910e+04,\n",
       "       3.62100e+03, 1.43660e+04, 4.74440e+04, 1.39200e+03, 1.42000e+03,\n",
       "       1.26000e+03, 1.30600e+03, 1.47900e+03, 1.30100e+03, 4.02730e+04,\n",
       "       1.10500e+03, 1.12900e+03, 4.93300e+03, 2.39800e+04, 9.76500e+03,\n",
       "       1.65200e+03, 6.31970e+04, 2.72800e+03, 3.00000e+03, 5.35560e+04,\n",
       "       1.71800e+03, 4.14500e+03, 1.92700e+03, 7.95050e+04, 7.71590e+04,\n",
       "       3.87860e+04, 1.71160e+04, 1.59950e+04, 3.24430e+04, 9.77000e+03,\n",
       "       1.20336e+05, 2.94500e+03, 4.42770e+04, 1.44900e+04, 4.97500e+03,\n",
       "       1.76080e+04, 1.39800e+03, 7.63400e+03, 6.85600e+03, 6.97400e+03,\n",
       "       7.93140e+04, 2.45300e+03, 8.17900e+03, 1.26040e+04, 3.02900e+03,\n",
       "       9.12700e+03, 1.25800e+03, 8.30800e+03, 4.61500e+03, 3.35200e+03,\n",
       "       1.09740e+04, 3.48300e+03, 1.10100e+03, 3.99870e+04, 1.44000e+03,\n",
       "       5.74400e+03, 1.16050e+04, 3.21188e+05, 7.19950e+04, 1.75880e+04,\n",
       "       2.36540e+04, 3.51100e+03, 1.25900e+03, 4.76300e+03, 1.85300e+03,\n",
       "       2.43933e+05, 4.65500e+03, 1.05800e+03, 5.74330e+04, 1.54100e+03,\n",
       "       2.11080e+04, 1.51980e+04, 2.82000e+03, 1.64300e+03, 1.15860e+05,\n",
       "       4.00600e+03, 1.69400e+03, 1.36000e+03, 7.47370e+04, 3.55510e+04,\n",
       "       2.58800e+03, 2.24700e+03, 7.50100e+03, 9.37200e+03, 3.02600e+03,\n",
       "       1.73480e+04, 1.23690e+04, 2.60600e+03, 2.88700e+03, 3.02460e+04,\n",
       "       1.45650e+04, 6.66300e+03, 2.59600e+03, 1.00200e+03, 4.75500e+03,\n",
       "       1.20100e+03, 1.13800e+03, 1.57370e+04, 1.16400e+03, 9.19600e+03,\n",
       "       1.39080e+04, 9.62600e+03, 3.61330e+04, 1.66400e+03, 1.66330e+04,\n",
       "       4.67400e+03, 4.75240e+04, 1.24150e+05, 2.69300e+03, 6.76400e+03,\n",
       "       2.37000e+03, 3.95700e+03, 7.77000e+03])"
      ]
     },
     "execution_count": 51,
     "metadata": {},
     "output_type": "execute_result"
    }
   ],
   "source": [
    "reduced_df['Total_Bilan_16_corr'].unique()"
   ]
  },
  {
   "cell_type": "markdown",
   "metadata": {},
   "source": [
    "##  Clean column : Capacité de remboursement (FCCR) 16"
   ]
  },
  {
   "cell_type": "code",
   "execution_count": 52,
   "metadata": {},
   "outputs": [
    {
     "data": {
      "text/plain": [
       "array(['0,52', '0,23', '8,94', nan, '43,57', '1,1', 12, '1,18', '1,46',\n",
       "       '1,65', '7,41', '1,07', 14.88, 8.33, '1,14', '3,89', '0,54', '0,7',\n",
       "       '1,22', '1,55', '0,45', 97, '0,87', 5.7, '1,95', '1,16', '1,25',\n",
       "       '13,83', 21, '2,44', '184,00', '5,08', '4,26', '38,50', '1,53',\n",
       "       -1.31, '-1,92', '8,32', 256, '85,25', '-0,3', '4,2', '1,28',\n",
       "       '1,15', '2,17', '1,06', '1,84', '1,3', '-5,16', '1,27', '23,14',\n",
       "       '5,41', '0,65', -3, '5,61', '2,94', 3.13, '0,9', '1,94', '1,48',\n",
       "       '1,62', '28,00', '5122,73', '1,30', '2,27', '27,21', '1,21',\n",
       "       '30,5', '2,47', '3,3', '0,99', '1,29', 72, '0,85', '6,43', '-2,50',\n",
       "       '4,08', '14,61', '1,70', '10,5', '0,8', 30, '0,95', '1,81', '2,28',\n",
       "       '9,00', '1,13', '2,34', '-5,9', '2,26', '5,24', '7,54 ', '0,43',\n",
       "       '3,14 ', '1,47', '4,55', '2,24 ', '0,84 ', '9,51', '0,15 ', '1,24',\n",
       "       '0,9 ', '2,86 ', '2,22', '1,33 ', '3,80 ', '26,02 ', '8,88',\n",
       "       '5,39', '3,05', '1,19', '4,38', '1,76', '3,65', '5,69', '-3,14',\n",
       "       '0,73', '1,92', '14,36', 5, '1,68', '6,89', '3,01', '16,00',\n",
       "       '4,23', '1,9', '4,9', '2,58', '-29,44', '0,61', '49,5', '0,67',\n",
       "       '5,02', '1,20', 37, '2,11', 23, '3,09', '3,26', '1,83', '-0,13',\n",
       "       '1,85', '1,99', '2,1', '2,96', '1,91', 1607, 175, '1,12', '1,02',\n",
       "       '2,02', '2,14', '2,03', '8,9', '0,66', '1,01', -10, '3,63', '8,18',\n",
       "       '2,35', '1,51', '3,61', '3,2', '2,07', 66, '3,07', '5,53', '1,82',\n",
       "       '2,55', 27, '2,46', '11,65', '-0,76', '0,35', '1,79', '2,13',\n",
       "       '0,72', 41, '0,84', 54, '2,78', '1,34', '4,14', '4,5', '4,15',\n",
       "       '0,98', '1,26', '1,41', '1,59', '1,69', '2,57', '21,72', '3,79',\n",
       "       '0,96', '1,93', '6,08', '1,44', '1,35', '2,81', 11, '0,09', '3,04',\n",
       "       '0,86', '5,14', '0,71', '5,89', '1,37', '12,73', '1,7', '2,87',\n",
       "       '3,95', '1,05', 24, '1,58', '12,4', '4,98', '2,01', '3,02', '1,43',\n",
       "       '3,00', '0,81', '2,51', '2,05', '3,39', '57,00', '7,92', '7,99',\n",
       "       '59,00', '8,47', '0,93', '2,41', '6,00', '6,77', '1,10', '3,32',\n",
       "       '2,95', '1,40', '0,78', '1,60', '1,17', '3,14', '0,88', '0,49',\n",
       "       '0,55', '1,39', '1,5', '1,98', '317,44', '1,38', '2,31', '1,63',\n",
       "       '2,39', '0,82', '3,4', '28,06', '0,77', '0,89', '4,27', '7,76',\n",
       "       '1,45', '1,86', '1,96', '2,82', '2,06', '2,88', '4,95', '4,53',\n",
       "       '7,54', '25,5', '3,9', '1,89', '0,92', '0,83', '30,51', '2,77',\n",
       "       '2,67', '12,14', '1,49', '2,36', 1, '26,57', '1,04', '7,32',\n",
       "       '1,77', '2,21', '3,91', '6,75', '0,24', '5,71', '2,2', '1,50',\n",
       "       '50,83', '9,58', '2,72', '13,52', '-', '3,33', '11,25', '3,38',\n",
       "       '2,37', '5,2', 26, '1,42', '1,09', '1,71', '0,04', '1,32', -2,\n",
       "       '4,68', '1,66', 52, '1,08', '1,56', '9,33', '9,86', '6,64', '3,86',\n",
       "       93, '3,03', '16,42', 43, '3,88', '1,87', '8,25', '2,49', '2,15',\n",
       "       '2,20', '0,97', '2,16', '4,62', '6,60', '2,79', '1,57'],\n",
       "      dtype=object)"
      ]
     },
     "execution_count": 52,
     "metadata": {},
     "output_type": "execute_result"
    }
   ],
   "source": [
    "reduced_df['Capacité de remboursement (FCCR) 16'].unique()"
   ]
  },
  {
   "cell_type": "code",
   "execution_count": 53,
   "metadata": {},
   "outputs": [],
   "source": [
    "reduced_df['Capacité_remboursement_FCCR_16_corr']= reduced_df['Capacité de remboursement (FCCR) 16'].str.replace('\\xa0','').str.strip().str.replace('\\s+','').str.replace(',','.').str.extract(r\"([-+]?\\d*\\.*\\d+|\\d+)\")\n",
    "reduced_df['Capacité_remboursement_FCCR_16_corr']= pd.to_numeric(reduced_df['Capacité_remboursement_FCCR_16_corr'], errors='coerce')"
   ]
  },
  {
   "cell_type": "code",
   "execution_count": 54,
   "metadata": {},
   "outputs": [
    {
     "data": {
      "text/plain": [
       "array([ 5.20000e-01,  2.30000e-01,  8.94000e+00,          nan,\n",
       "        4.35700e+01,  1.10000e+00,  1.18000e+00,  1.46000e+00,\n",
       "        1.65000e+00,  7.41000e+00,  1.07000e+00,  1.14000e+00,\n",
       "        3.89000e+00,  5.40000e-01,  7.00000e-01,  1.22000e+00,\n",
       "        1.55000e+00,  4.50000e-01,  8.70000e-01,  1.95000e+00,\n",
       "        1.16000e+00,  1.25000e+00,  1.38300e+01,  2.44000e+00,\n",
       "        1.84000e+02,  5.08000e+00,  4.26000e+00,  3.85000e+01,\n",
       "        1.53000e+00, -1.92000e+00,  8.32000e+00,  8.52500e+01,\n",
       "       -3.00000e-01,  4.20000e+00,  1.28000e+00,  1.15000e+00,\n",
       "        2.17000e+00,  1.06000e+00,  1.84000e+00,  1.30000e+00,\n",
       "       -5.16000e+00,  1.27000e+00,  2.31400e+01,  5.41000e+00,\n",
       "        6.50000e-01,  5.61000e+00,  2.94000e+00,  9.00000e-01,\n",
       "        1.94000e+00,  1.48000e+00,  1.62000e+00,  2.80000e+01,\n",
       "        5.12273e+03,  2.27000e+00,  2.72100e+01,  1.21000e+00,\n",
       "        3.05000e+01,  2.47000e+00,  3.30000e+00,  9.90000e-01,\n",
       "        1.29000e+00,  8.50000e-01,  6.43000e+00, -2.50000e+00,\n",
       "        4.08000e+00,  1.46100e+01,  1.70000e+00,  1.05000e+01,\n",
       "        8.00000e-01,  9.50000e-01,  1.81000e+00,  2.28000e+00,\n",
       "        9.00000e+00,  1.13000e+00,  2.34000e+00, -5.90000e+00,\n",
       "        2.26000e+00,  5.24000e+00,  7.54000e+00,  4.30000e-01,\n",
       "        3.14000e+00,  1.47000e+00,  4.55000e+00,  2.24000e+00,\n",
       "        8.40000e-01,  9.51000e+00,  1.50000e-01,  1.24000e+00,\n",
       "        2.86000e+00,  2.22000e+00,  1.33000e+00,  3.80000e+00,\n",
       "        2.60200e+01,  8.88000e+00,  5.39000e+00,  3.05000e+00,\n",
       "        1.19000e+00,  4.38000e+00,  1.76000e+00,  3.65000e+00,\n",
       "        5.69000e+00, -3.14000e+00,  7.30000e-01,  1.92000e+00,\n",
       "        1.43600e+01,  1.68000e+00,  6.89000e+00,  3.01000e+00,\n",
       "        1.60000e+01,  4.23000e+00,  1.90000e+00,  4.90000e+00,\n",
       "        2.58000e+00, -2.94400e+01,  6.10000e-01,  4.95000e+01,\n",
       "        6.70000e-01,  5.02000e+00,  1.20000e+00,  2.11000e+00,\n",
       "        3.09000e+00,  3.26000e+00,  1.83000e+00, -1.30000e-01,\n",
       "        1.85000e+00,  1.99000e+00,  2.10000e+00,  2.96000e+00,\n",
       "        1.91000e+00,  1.12000e+00,  1.02000e+00,  2.02000e+00,\n",
       "        2.14000e+00,  2.03000e+00,  8.90000e+00,  6.60000e-01,\n",
       "        1.01000e+00,  3.63000e+00,  8.18000e+00,  2.35000e+00,\n",
       "        1.51000e+00,  3.61000e+00,  3.20000e+00,  2.07000e+00,\n",
       "        3.07000e+00,  5.53000e+00,  1.82000e+00,  2.55000e+00,\n",
       "        2.46000e+00,  1.16500e+01, -7.60000e-01,  3.50000e-01,\n",
       "        1.79000e+00,  2.13000e+00,  7.20000e-01,  2.78000e+00,\n",
       "        1.34000e+00,  4.14000e+00,  4.50000e+00,  4.15000e+00,\n",
       "        9.80000e-01,  1.26000e+00,  1.41000e+00,  1.59000e+00,\n",
       "        1.69000e+00,  2.57000e+00,  2.17200e+01,  3.79000e+00,\n",
       "        9.60000e-01,  1.93000e+00,  6.08000e+00,  1.44000e+00,\n",
       "        1.35000e+00,  2.81000e+00,  9.00000e-02,  3.04000e+00,\n",
       "        8.60000e-01,  5.14000e+00,  7.10000e-01,  5.89000e+00,\n",
       "        1.37000e+00,  1.27300e+01,  2.87000e+00,  3.95000e+00,\n",
       "        1.05000e+00,  1.58000e+00,  1.24000e+01,  4.98000e+00,\n",
       "        2.01000e+00,  3.02000e+00,  1.43000e+00,  3.00000e+00,\n",
       "        8.10000e-01,  2.51000e+00,  2.05000e+00,  3.39000e+00,\n",
       "        5.70000e+01,  7.92000e+00,  7.99000e+00,  5.90000e+01,\n",
       "        8.47000e+00,  9.30000e-01,  2.41000e+00,  6.00000e+00,\n",
       "        6.77000e+00,  3.32000e+00,  2.95000e+00,  1.40000e+00,\n",
       "        7.80000e-01,  1.60000e+00,  1.17000e+00,  8.80000e-01,\n",
       "        4.90000e-01,  5.50000e-01,  1.39000e+00,  1.50000e+00,\n",
       "        1.98000e+00,  3.17440e+02,  1.38000e+00,  2.31000e+00,\n",
       "        1.63000e+00,  2.39000e+00,  8.20000e-01,  3.40000e+00,\n",
       "        2.80600e+01,  7.70000e-01,  8.90000e-01,  4.27000e+00,\n",
       "        7.76000e+00,  1.45000e+00,  1.86000e+00,  1.96000e+00,\n",
       "        2.82000e+00,  2.06000e+00,  2.88000e+00,  4.95000e+00,\n",
       "        4.53000e+00,  2.55000e+01,  3.90000e+00,  1.89000e+00,\n",
       "        9.20000e-01,  8.30000e-01,  3.05100e+01,  2.77000e+00,\n",
       "        2.67000e+00,  1.21400e+01,  1.49000e+00,  2.36000e+00,\n",
       "        2.65700e+01,  1.04000e+00,  7.32000e+00,  1.77000e+00,\n",
       "        2.21000e+00,  3.91000e+00,  6.75000e+00,  2.40000e-01,\n",
       "        5.71000e+00,  2.20000e+00,  5.08300e+01,  9.58000e+00,\n",
       "        2.72000e+00,  1.35200e+01,  3.33000e+00,  1.12500e+01,\n",
       "        3.38000e+00,  2.37000e+00,  5.20000e+00,  1.42000e+00,\n",
       "        1.09000e+00,  1.71000e+00,  4.00000e-02,  1.32000e+00,\n",
       "        4.68000e+00,  1.66000e+00,  1.08000e+00,  1.56000e+00,\n",
       "        9.33000e+00,  9.86000e+00,  6.64000e+00,  3.86000e+00,\n",
       "        3.03000e+00,  1.64200e+01,  3.88000e+00,  1.87000e+00,\n",
       "        8.25000e+00,  2.49000e+00,  2.15000e+00,  9.70000e-01,\n",
       "        2.16000e+00,  4.62000e+00,  6.60000e+00,  2.79000e+00,\n",
       "        1.57000e+00])"
      ]
     },
     "execution_count": 54,
     "metadata": {},
     "output_type": "execute_result"
    }
   ],
   "source": [
    "reduced_df['Capacité_remboursement_FCCR_16_corr'].unique()"
   ]
  },
  {
   "cell_type": "markdown",
   "metadata": {},
   "source": [
    "##  Clean column : Fonds Propres 16"
   ]
  },
  {
   "cell_type": "code",
   "execution_count": 55,
   "metadata": {},
   "outputs": [
    {
     "data": {
      "text/plain": [
       "array([8480, 751, 10, nan, 246, 0, 1824, 45, 7119, 419, 191, 414, 318,\n",
       "       2276, 227, '3 331', -35, 517, 1003, -38, 234, 36, 4609, 84, 114,\n",
       "       '4 378', 8968, 1474, 22, 121, '6 218', 59126, 90, 932, 1270, 107,\n",
       "       250, 262, 3722, 790, 637, 310, -64, '11 164', 210, 1682, 80, 719,\n",
       "       '3 067', 387, 939, -251, 10687, 545, 6604, 458, -9, 557, 255, 429,\n",
       "       223, 79, '6 634 000', 272, 749, '5 022', 13, 2568, 974, '1 449',\n",
       "       901, 139, '1 872', 4350, 461, 91, '17 326', 10319, '47 649', 212,\n",
       "       446, -625, '1 349', 108, 180, 1799, 75, 807, 582, '106 104', 14356,\n",
       "       187, 60, '5 320', 140, 3563, 1857, 48, 509, 8779, 57, 33, 466, 87,\n",
       "       947, -912, 11719, 4069, '2 292 ', 6631, 152, 124, '8 999 ',\n",
       "       '1 824 ', 251, 7285, 338, 425, '18575,4', 6059, 104, 1912, 1567,\n",
       "       '-22,4', 10314, 678, -171, 285, 101, 498, 999, 675, 111, 128, 1083,\n",
       "       8545, 51, 256, 405, 106, 62, 2246, 231, 1903, 12148, 354, 705,\n",
       "       21019, '499*', 86, 3002, -484, '7365,8', 69728, 2434, 45447, 72,\n",
       "       -1230, 20358, '5 925', 254, 16594, 189086, 307, 203, 641, 145, 35,\n",
       "       1508, 67, 562, 58, 46, '54 259', '22 760', '17 709', 44, '2 121',\n",
       "       323, 88, '1 567', 228, 454, 486, '16 082', 49, 167, 10434, 6725,\n",
       "       1331, 6957, 866, 55, 52, 168868, 237, 40, 2312, 59, 480, '7 157',\n",
       "       296, '10 314', 2, '1 001', '10 611', '1 743', '6 789', 154,\n",
       "       '3 190', '16 786', 441, 243, '1 271', 406, 117, '21 011', 295, 169,\n",
       "       291, 273, 138, '1 252', 217, 1849, 93, 144, '1 993', 116, '1 150',\n",
       "       314, '1 160', 41, 497, 149, '2 451', 213, '4 086', 420, '8 545',\n",
       "       '29 484', '2 571', 224, 181, '11 651', '16 925', '-', '6 427', 802,\n",
       "       '2 037', '4 247', '59 126', 183, 943, '12 881', 957, 38, '2 088',\n",
       "       5861, 110, 63, 410, 130, 260, 82, 185, 174, 415, 502, 467, 312,\n",
       "       411, '12 728', 143, 287, 353, '1 474', 5, '2 050', '1 249', 3498,\n",
       "       453, '13 833', 215, '3 241', 714, '1 066', 369, 10376, '15 622',\n",
       "       '17 304', 65, '10 319', 1149, '1 966', '4 875', '7 033', 49983,\n",
       "       '2 338', 326, '21 840', 30, 313, '14 093', '3 112', 606, 773,\n",
       "       '5 059', 992, 366, '19 081', '1 910', 755, '5 050', '2 862', 433,\n",
       "       230, 204, 105, '3 126', 886, '1 586', '1 747', 168, '11 809', 37,\n",
       "       '2 850', '4 922', '174 460', '11 228', '3 641', '10 760', '2 781',\n",
       "       468, 669, '96 892', 573, 289, '13 558', 774, 792, '5 097', -40,\n",
       "       267, '5 018', '2 185', '1 086', '27 402', '2 709', '1 621',\n",
       "       '1 111', '20 358', 26, '10 383', 100, '1 587', 2121, 48.8, 20,\n",
       "       '2 292', '1 346', '2 723', 120, '1 641', 245, 97, 381, 103, 137,\n",
       "       '1 946', 488, 71, '5 496', '2 560', 92, '1 543', 463, 164, 398,\n",
       "       298, 156, 132, 135, 118, 973, 1170, 266, 94, 456, '7 534', 221,\n",
       "       476, '5 382', 189, '1 877', '19 241', 791, '2 668', 636, '8 726',\n",
       "       '28\\xa0340', 301, 163, '3 131', 53, 994, '2 778'], dtype=object)"
      ]
     },
     "execution_count": 55,
     "metadata": {},
     "output_type": "execute_result"
    }
   ],
   "source": [
    "reduced_df['Fonds Propres 16'].unique()"
   ]
  },
  {
   "cell_type": "code",
   "execution_count": 56,
   "metadata": {},
   "outputs": [],
   "source": [
    "reduced_df['Fonds_Propres_16_corr']= reduced_df['Fonds Propres 16'].str.replace('\\xa0','').str.strip().str.replace('\\s+','').str.replace(',','.').str.extract(r\"([-+]?\\d*\\.*\\d+|\\d+)\")\n",
    "reduced_df['Fonds_Propres_16_corr']= pd.to_numeric(reduced_df['Fonds_Propres_16_corr'], errors='coerce')"
   ]
  },
  {
   "cell_type": "code",
   "execution_count": 57,
   "metadata": {},
   "outputs": [
    {
     "data": {
      "text/plain": [
       "array([         nan,  3.33100e+03,  4.37800e+03,  6.21800e+03,\n",
       "        1.11640e+04,  3.06700e+03,  6.63400e+06,  5.02200e+03,\n",
       "        1.44900e+03,  1.87200e+03,  1.73260e+04,  4.76490e+04,\n",
       "        1.34900e+03,  1.06104e+05,  5.32000e+03,  2.29200e+03,\n",
       "        8.99900e+03,  1.82400e+03,  1.85754e+04, -2.24000e+01,\n",
       "        4.99000e+02,  7.36580e+03,  5.92500e+03,  5.42590e+04,\n",
       "        2.27600e+04,  1.77090e+04,  2.12100e+03,  1.56700e+03,\n",
       "        1.60820e+04,  7.15700e+03,  1.03140e+04,  1.00100e+03,\n",
       "        1.06110e+04,  1.74300e+03,  6.78900e+03,  3.19000e+03,\n",
       "        1.67860e+04,  1.27100e+03,  2.10110e+04,  1.25200e+03,\n",
       "        1.99300e+03,  1.15000e+03,  1.16000e+03,  2.45100e+03,\n",
       "        4.08600e+03,  8.54500e+03,  2.94840e+04,  2.57100e+03,\n",
       "        1.16510e+04,  1.69250e+04,  6.42700e+03,  2.03700e+03,\n",
       "        4.24700e+03,  5.91260e+04,  1.28810e+04,  2.08800e+03,\n",
       "        1.27280e+04,  1.47400e+03,  2.05000e+03,  1.24900e+03,\n",
       "        1.38330e+04,  3.24100e+03,  1.06600e+03,  1.56220e+04,\n",
       "        1.73040e+04,  1.03190e+04,  1.96600e+03,  4.87500e+03,\n",
       "        7.03300e+03,  2.33800e+03,  2.18400e+04,  1.40930e+04,\n",
       "        3.11200e+03,  5.05900e+03,  1.90810e+04,  1.91000e+03,\n",
       "        5.05000e+03,  2.86200e+03,  3.12600e+03,  1.58600e+03,\n",
       "        1.74700e+03,  1.18090e+04,  2.85000e+03,  4.92200e+03,\n",
       "        1.74460e+05,  1.12280e+04,  3.64100e+03,  1.07600e+04,\n",
       "        2.78100e+03,  9.68920e+04,  1.35580e+04,  5.09700e+03,\n",
       "        5.01800e+03,  2.18500e+03,  1.08600e+03,  2.74020e+04,\n",
       "        2.70900e+03,  1.62100e+03,  1.11100e+03,  2.03580e+04,\n",
       "        1.03830e+04,  1.58700e+03,  1.34600e+03,  2.72300e+03,\n",
       "        1.64100e+03,  1.94600e+03,  5.49600e+03,  2.56000e+03,\n",
       "        1.54300e+03,  7.53400e+03,  5.38200e+03,  1.87700e+03,\n",
       "        1.92410e+04,  2.66800e+03,  8.72600e+03,  2.83400e+04,\n",
       "        3.13100e+03,  2.77800e+03])"
      ]
     },
     "execution_count": 57,
     "metadata": {},
     "output_type": "execute_result"
    }
   ],
   "source": [
    "reduced_df['Fonds_Propres_16_corr'].unique()"
   ]
  },
  {
   "cell_type": "markdown",
   "metadata": {},
   "source": [
    "##  Clean column :Fonds Propres / Total Bilan 16"
   ]
  },
  {
   "cell_type": "code",
   "execution_count": 58,
   "metadata": {},
   "outputs": [
    {
     "data": {
      "text/plain": [
       "array(['42,92 %', '38,70%', '1,82 %', nan, '58,62%', '15,58%', '24,59 %',\n",
       "       '38,98%', '25,37%', '28,85 %', '32,59%', '28,34%', 0.2735, 0.5392,\n",
       "       '28,38%', '-2,34%', '5,85%', '11,19%', '-3,47 %', '35,29 %',\n",
       "       '8,41 %', '91,09 %', '18,38 %', 0.5135, '67,44%', '13,85 %',\n",
       "       '39,46 %', '2,37%', '32,70%', '31,71%', '36,56 %', 0.7646,\n",
       "       '12,36 %', '7,68%', '29,32 %', '24,73 %', 0.2251, '91,14 %',\n",
       "       '62,31%', 0.2634, '67,69 %', '-336,84 %', '52,67%', '39,43%',\n",
       "       '43,14 %', '20,05 %', '16,57%', '10,66%', '37,30%', '26,36%',\n",
       "       '-3,08 %', '49,98%', '36,8 %', '47,78 %', '16,07 %', '-12,16 %',\n",
       "       '22,31%', '51,93 %', '18,11%', 0.3479, '13,87%', '9,19%', '10,37%',\n",
       "       '24,65%', '20,97 %', '66,86 %', '45,36%', '11,78%', '12,01%',\n",
       "       '6,14 %', '16,16%', '25,54%', '25,84 %', 362, '35,34%', '37,74%',\n",
       "       '60,31 %', '38,21%', '5,90%', 0.2556, '-86,93 %', '36,74%',\n",
       "       '15,78%', '40,18 %', '7,65 %', '17,94 %', '38,78%', '14,52 %',\n",
       "       '34,72%', '36,94%', '25,65 %', '36,36 %', '18,47%', '24,08 %',\n",
       "       '33,28 %', '69,73 %', '21,72 % ', '14,62% ', '34,13% ', '39,86 % ',\n",
       "       '13,98 % ', '8,51% ', '12,59% ', '15,13% ', '-48,83% ', 0.3809,\n",
       "       '17,20% ', '21,18 % ', '8,21% ', '32,87 % ', '7,29% ', '26,38 % ',\n",
       "       '29,89% ', '17,45% ', '28,72 % ', '45,8 %', '3,62 %', '9,26 %',\n",
       "       '86,61 %', '25,79 %', '20,04 %', '65,32 %', '77,81 %', '-5,85 %',\n",
       "       '8,22 %', '9,66 %', '-16,55 %', '92,23 %', '48,56 %', '47,61 %',\n",
       "       '20,58 %', '19,35 %', '43,36 %', '27,06 %', '27,51 %', '18,76 %',\n",
       "       '21,89 %', '54,24 %', '41,5 %', '56,68 %', '64,58 %', '37,12 %',\n",
       "       '9,12 %', '92,02 %', '21,09 %', '76,13 %', '20,91 %', '48,61 %',\n",
       "       '35,27 %', '16,96 %', '36,47 %', '-36,83 %', '25,15%', '39,27 %',\n",
       "       '43,27%', '28,67%', '-21,84%', '27,24 %', '36,86%', '28,39%',\n",
       "       '50,9 %', '24,71 %', '44,67 %', '33,5 %', '57,82 %', '27,27 %',\n",
       "       '17,84 %', '57,7%', '13,82 %', '16,99%', '27,3 %', '49,26 %',\n",
       "       '61,35 %', '38,38 %', '56,86 %', '16,97 %', '34,94%', '13,7%',\n",
       "       '30,83%', '32,12 %', '49,74%', '30,27%', '48,09%', '77,81%',\n",
       "       '30,36%', '67,86%', '21,09%', '31,48%', '27,53 %', '17,45 %',\n",
       "       '88,33 %', '8,07 %', '77,52 %', '62,97 %', '21,54 %', '24,12 %',\n",
       "       '12,71 %', '62,17 %', '19,01 %', '39,22 %', '83,68 %', '53,64 %',\n",
       "       '28,09 %', '21,18 %', '21,26 %', '28,72 %', '0,69 %', '10,22 %',\n",
       "       '65,82 %', '17,18 %', '10,31 %', '43,26 %', '33,48 %', '49,53 %',\n",
       "       '65,68%', '34,64%', '58,59 %', '80,2 %', '59,23 %', '57,26 %',\n",
       "       '18,75 %', '44,36 %', '27,29 %', '45,68 %', '32,3 %', '23,25 %',\n",
       "       '19,09 %', '33,03%', '6,74 %', '37,63 %', '47,69 %', '14,34 %',\n",
       "       '28,1 %', '28,09%', '41,43%', '24,88%', '49,29 %', '55,05%',\n",
       "       '35,04%', '57,06%', '45,29%', '39,03%', '51,95%', '52,57%',\n",
       "       '40,04%', '18,76%', '12,94 %', '29,14%', '22,32%', '61,2%',\n",
       "       '17,52%', 0.22, '59,31 %', '46,5%', '20,46%', '61,73%', '38,92%',\n",
       "       '36,56%', '73,45%', '27,29%', '48,54 %', '11,33%', '35,3%',\n",
       "       '54,72 %', '26,43 %', '11,73 %', '14,53 %', '12,35%', '21,92%',\n",
       "       '21,26%', '33,54 %', '47,02%', '55,71%', '8,22%', '38,69%',\n",
       "       '21,85%', '46,51%', '10,90%', '47,27%', '13,03%', '48,60%',\n",
       "       '51,92%', '32,94%', '38,44%', '29,82%', '55,93%', '36,71%',\n",
       "       '31,59%', '31,60%', '69,08%', '33,77%', '25,97%', '31,27%',\n",
       "       '29,88%', '29,38%', '3,02%', '8,55%', '12,79%', '13,90%', '27,42%',\n",
       "       '21,89%', '8,37%', '6,05%', '11,13%', '41,55%', '25,71%', '25,26%',\n",
       "       '19,65%', '22,43%', '26,99%', '26,60%', '24,32%', '11,49%',\n",
       "       '87,98%', '30,48%', '21,68%', '44,04%', '23,93%', '53,16%',\n",
       "       '18,15%', '4,96%', '10,64%', '29,15%', '31,83%', '21,48%',\n",
       "       '12,19%', 0.1205, '10,13%', '73,79%', '14,22%', '24,06%', '50,38%',\n",
       "       '30,78%', '61,75%', '22,71%', '14,30%', '29,35%', '4,01%',\n",
       "       '22,11%', '29,09%', '8,38%', '37,63%', '19,20%', '47,31%',\n",
       "       '15,92%', '14,62%', '15,23%', '29,53%', '2,56%', '49,62%',\n",
       "       '42,41%', '54,32%', '15,60%', '20,70%', '45,49%', '79,22%',\n",
       "       '37,25%', '36,59%', '36,09%', '39,72%', '12,32%', '27,32%',\n",
       "       '23,61%', '30,96%', '6 789', 445, '51,40%', '65,82%', '24,15%',\n",
       "       '55,9%', '-8,91%', '14,98%', '25,45%', '33,02 %', '77,50%',\n",
       "       '26,23%', '66,1 %', '23,65%', 57, '1 291', '67,62%', '95,71%',\n",
       "       '25,23 %', '81,69%', '27,24%', '14,53%', '36,11%', '29,21%',\n",
       "       '61,32%', '16,29%', '16,91%', '14,61%', '48,50%', '22,99%',\n",
       "       '24,46%', '44,48%', '15,70%', '36,59 %', '13,27%', '76,09%',\n",
       "       '17,86%', '45,63%', '16,70%', '8,06%', '19,19%', '67,41%',\n",
       "       '83,56%', '37,37%', '18,17%', '17,58%', '46,7%', '-', '23,16%',\n",
       "       '34,32%', '6,32%', '75,52%', '27,27%', '39,01%', '21,81%', 0.24,\n",
       "       '61,97%', '13,47%', '26,58%', '20,91%', '24,61%', '35,85%',\n",
       "       '32,84%', '41,96%', '37,97%', '17,84%', '47,88%', '18,99%',\n",
       "       '18,57%', '5,18%', 0.39, '24,77%', '19,50%', 0.53, '47,54%',\n",
       "       '16,04%', '13,63%', '18,36%', 0.19, 0.23, 0.11, 0.46, '10,93%',\n",
       "       0.42, '6,21%', 0.36], dtype=object)"
      ]
     },
     "execution_count": 58,
     "metadata": {},
     "output_type": "execute_result"
    }
   ],
   "source": [
    "reduced_df['Fonds Propres / Total Bilan 16'].unique()"
   ]
  },
  {
   "cell_type": "code",
   "execution_count": 59,
   "metadata": {},
   "outputs": [],
   "source": [
    "reduced_df['Fonds_Propres_Total_Bilan_corr']= reduced_df['Fonds Propres / Total Bilan 16'].str.replace('\\xa0','').str.strip().str.replace('\\s+','').str.replace(',','.').str.replace('%','').str.extract(r\"([-+]?\\d*\\.*\\d+|\\d+)\")\n",
    "reduced_df['Fonds_Propres_Total_Bilan_corr']= pd.to_numeric(reduced_df['Fonds_Propres_Total_Bilan_corr'], errors='coerce')"
   ]
  },
  {
   "cell_type": "code",
   "execution_count": 60,
   "metadata": {},
   "outputs": [
    {
     "data": {
      "text/plain": [
       "array([ 4.2920e+01,  3.8700e+01,  1.8200e+00,         nan,  5.8620e+01,\n",
       "        1.5580e+01,  2.4590e+01,  3.8980e+01,  2.5370e+01,  2.8850e+01,\n",
       "        3.2590e+01,  2.8340e+01,  2.8380e+01, -2.3400e+00,  5.8500e+00,\n",
       "        1.1190e+01, -3.4700e+00,  3.5290e+01,  8.4100e+00,  9.1090e+01,\n",
       "        1.8380e+01,  6.7440e+01,  1.3850e+01,  3.9460e+01,  2.3700e+00,\n",
       "        3.2700e+01,  3.1710e+01,  3.6560e+01,  1.2360e+01,  7.6800e+00,\n",
       "        2.9320e+01,  2.4730e+01,  9.1140e+01,  6.2310e+01,  6.7690e+01,\n",
       "       -3.3684e+02,  5.2670e+01,  3.9430e+01,  4.3140e+01,  2.0050e+01,\n",
       "        1.6570e+01,  1.0660e+01,  3.7300e+01,  2.6360e+01, -3.0800e+00,\n",
       "        4.9980e+01,  3.6800e+01,  4.7780e+01,  1.6070e+01, -1.2160e+01,\n",
       "        2.2310e+01,  5.1930e+01,  1.8110e+01,  1.3870e+01,  9.1900e+00,\n",
       "        1.0370e+01,  2.4650e+01,  2.0970e+01,  6.6860e+01,  4.5360e+01,\n",
       "        1.1780e+01,  1.2010e+01,  6.1400e+00,  1.6160e+01,  2.5540e+01,\n",
       "        2.5840e+01,  3.5340e+01,  3.7740e+01,  6.0310e+01,  3.8210e+01,\n",
       "        5.9000e+00, -8.6930e+01,  3.6740e+01,  1.5780e+01,  4.0180e+01,\n",
       "        7.6500e+00,  1.7940e+01,  3.8780e+01,  1.4520e+01,  3.4720e+01,\n",
       "        3.6940e+01,  2.5650e+01,  3.6360e+01,  1.8470e+01,  2.4080e+01,\n",
       "        3.3280e+01,  6.9730e+01,  2.1720e+01,  1.4620e+01,  3.4130e+01,\n",
       "        3.9860e+01,  1.3980e+01,  8.5100e+00,  1.2590e+01,  1.5130e+01,\n",
       "       -4.8830e+01,  1.7200e+01,  2.1180e+01,  8.2100e+00,  3.2870e+01,\n",
       "        7.2900e+00,  2.6380e+01,  2.9890e+01,  1.7450e+01,  2.8720e+01,\n",
       "        4.5800e+01,  3.6200e+00,  9.2600e+00,  8.6610e+01,  2.5790e+01,\n",
       "        2.0040e+01,  6.5320e+01,  7.7810e+01, -5.8500e+00,  8.2200e+00,\n",
       "        9.6600e+00, -1.6550e+01,  9.2230e+01,  4.8560e+01,  4.7610e+01,\n",
       "        2.0580e+01,  1.9350e+01,  4.3360e+01,  2.7060e+01,  2.7510e+01,\n",
       "        1.8760e+01,  2.1890e+01,  5.4240e+01,  4.1500e+01,  5.6680e+01,\n",
       "        6.4580e+01,  3.7120e+01,  9.1200e+00,  9.2020e+01,  2.1090e+01,\n",
       "        7.6130e+01,  2.0910e+01,  4.8610e+01,  3.5270e+01,  1.6960e+01,\n",
       "        3.6470e+01, -3.6830e+01,  2.5150e+01,  3.9270e+01,  4.3270e+01,\n",
       "        2.8670e+01, -2.1840e+01,  2.7240e+01,  3.6860e+01,  2.8390e+01,\n",
       "        5.0900e+01,  2.4710e+01,  4.4670e+01,  3.3500e+01,  5.7820e+01,\n",
       "        2.7270e+01,  1.7840e+01,  5.7700e+01,  1.3820e+01,  1.6990e+01,\n",
       "        2.7300e+01,  4.9260e+01,  6.1350e+01,  3.8380e+01,  5.6860e+01,\n",
       "        1.6970e+01,  3.4940e+01,  1.3700e+01,  3.0830e+01,  3.2120e+01,\n",
       "        4.9740e+01,  3.0270e+01,  4.8090e+01,  3.0360e+01,  6.7860e+01,\n",
       "        3.1480e+01,  2.7530e+01,  8.8330e+01,  8.0700e+00,  7.7520e+01,\n",
       "        6.2970e+01,  2.1540e+01,  2.4120e+01,  1.2710e+01,  6.2170e+01,\n",
       "        1.9010e+01,  3.9220e+01,  8.3680e+01,  5.3640e+01,  2.8090e+01,\n",
       "        2.1260e+01,  6.9000e-01,  1.0220e+01,  6.5820e+01,  1.7180e+01,\n",
       "        1.0310e+01,  4.3260e+01,  3.3480e+01,  4.9530e+01,  6.5680e+01,\n",
       "        3.4640e+01,  5.8590e+01,  8.0200e+01,  5.9230e+01,  5.7260e+01,\n",
       "        1.8750e+01,  4.4360e+01,  2.7290e+01,  4.5680e+01,  3.2300e+01,\n",
       "        2.3250e+01,  1.9090e+01,  3.3030e+01,  6.7400e+00,  3.7630e+01,\n",
       "        4.7690e+01,  1.4340e+01,  2.8100e+01,  4.1430e+01,  2.4880e+01,\n",
       "        4.9290e+01,  5.5050e+01,  3.5040e+01,  5.7060e+01,  4.5290e+01,\n",
       "        3.9030e+01,  5.1950e+01,  5.2570e+01,  4.0040e+01,  1.2940e+01,\n",
       "        2.9140e+01,  2.2320e+01,  6.1200e+01,  1.7520e+01,  5.9310e+01,\n",
       "        4.6500e+01,  2.0460e+01,  6.1730e+01,  3.8920e+01,  7.3450e+01,\n",
       "        4.8540e+01,  1.1330e+01,  3.5300e+01,  5.4720e+01,  2.6430e+01,\n",
       "        1.1730e+01,  1.4530e+01,  1.2350e+01,  2.1920e+01,  3.3540e+01,\n",
       "        4.7020e+01,  5.5710e+01,  3.8690e+01,  2.1850e+01,  4.6510e+01,\n",
       "        1.0900e+01,  4.7270e+01,  1.3030e+01,  4.8600e+01,  5.1920e+01,\n",
       "        3.2940e+01,  3.8440e+01,  2.9820e+01,  5.5930e+01,  3.6710e+01,\n",
       "        3.1590e+01,  3.1600e+01,  6.9080e+01,  3.3770e+01,  2.5970e+01,\n",
       "        3.1270e+01,  2.9880e+01,  2.9380e+01,  3.0200e+00,  8.5500e+00,\n",
       "        1.2790e+01,  1.3900e+01,  2.7420e+01,  8.3700e+00,  6.0500e+00,\n",
       "        1.1130e+01,  4.1550e+01,  2.5710e+01,  2.5260e+01,  1.9650e+01,\n",
       "        2.2430e+01,  2.6990e+01,  2.6600e+01,  2.4320e+01,  1.1490e+01,\n",
       "        8.7980e+01,  3.0480e+01,  2.1680e+01,  4.4040e+01,  2.3930e+01,\n",
       "        5.3160e+01,  1.8150e+01,  4.9600e+00,  1.0640e+01,  2.9150e+01,\n",
       "        3.1830e+01,  2.1480e+01,  1.2190e+01,  1.0130e+01,  7.3790e+01,\n",
       "        1.4220e+01,  2.4060e+01,  5.0380e+01,  3.0780e+01,  6.1750e+01,\n",
       "        2.2710e+01,  1.4300e+01,  2.9350e+01,  4.0100e+00,  2.2110e+01,\n",
       "        2.9090e+01,  8.3800e+00,  1.9200e+01,  4.7310e+01,  1.5920e+01,\n",
       "        1.5230e+01,  2.9530e+01,  2.5600e+00,  4.9620e+01,  4.2410e+01,\n",
       "        5.4320e+01,  1.5600e+01,  2.0700e+01,  4.5490e+01,  7.9220e+01,\n",
       "        3.7250e+01,  3.6590e+01,  3.6090e+01,  3.9720e+01,  1.2320e+01,\n",
       "        2.7320e+01,  2.3610e+01,  3.0960e+01,  6.7890e+03,  5.1400e+01,\n",
       "        2.4150e+01,  5.5900e+01, -8.9100e+00,  1.4980e+01,  2.5450e+01,\n",
       "        3.3020e+01,  7.7500e+01,  2.6230e+01,  6.6100e+01,  2.3650e+01,\n",
       "        1.2910e+03,  6.7620e+01,  9.5710e+01,  2.5230e+01,  8.1690e+01,\n",
       "        3.6110e+01,  2.9210e+01,  6.1320e+01,  1.6290e+01,  1.6910e+01,\n",
       "        1.4610e+01,  4.8500e+01,  2.2990e+01,  2.4460e+01,  4.4480e+01,\n",
       "        1.5700e+01,  1.3270e+01,  7.6090e+01,  1.7860e+01,  4.5630e+01,\n",
       "        1.6700e+01,  8.0600e+00,  1.9190e+01,  6.7410e+01,  8.3560e+01,\n",
       "        3.7370e+01,  1.8170e+01,  1.7580e+01,  4.6700e+01,  2.3160e+01,\n",
       "        3.4320e+01,  6.3200e+00,  7.5520e+01,  3.9010e+01,  2.1810e+01,\n",
       "        6.1970e+01,  1.3470e+01,  2.6580e+01,  2.4610e+01,  3.5850e+01,\n",
       "        3.2840e+01,  4.1960e+01,  3.7970e+01,  4.7880e+01,  1.8990e+01,\n",
       "        1.8570e+01,  5.1800e+00,  2.4770e+01,  1.9500e+01,  4.7540e+01,\n",
       "        1.6040e+01,  1.3630e+01,  1.8360e+01,  1.0930e+01,  6.2100e+00])"
      ]
     },
     "execution_count": 60,
     "metadata": {},
     "output_type": "execute_result"
    }
   ],
   "source": [
    "reduced_df['Fonds_Propres_Total_Bilan_corr'].unique()"
   ]
  },
  {
   "cell_type": "markdown",
   "metadata": {},
   "source": [
    "## Clean column :Dettes Nettes / EBE(* années) 16"
   ]
  },
  {
   "cell_type": "code",
   "execution_count": 61,
   "metadata": {},
   "outputs": [
    {
     "data": {
      "text/plain": [
       "array(['12,74*', '0,47 *', '1,02*', nan, '-0,99 *', '4,78 *', '1,89*',\n",
       "       '7,34 *', '3,06 *', '0,70*', '-0,44 *', '-0,35 *', '001*',\n",
       "       '2,36 *', '1,97 *', '11,24 *', '12,61 *', '1,08*', '1,40*',\n",
       "       '1,35*', '1,18*', '5,60*', '0,30*', '-5,61 *', '0,91*', '0,69*',\n",
       "       '-0,53 *', '-2,54 *', '3,61 *', '4,78*', '0,51*', '-1.16*',\n",
       "       '2,20*', '2,28 *', '-5,74*', '1,15*', 0.8924, '3,70*', '-0,77 *',\n",
       "       '-1%*', '-0,11*', '0,76 *', '1,37 *', '-0,45*', '1,81*', '1,94 *',\n",
       "       '5,78 *', '1,83 *', '2,45 *', '-2,05*', '4,16 *', '-0,53*',\n",
       "       '2,35*', '-0,02*', '17,33*', '3,74 *', '-0,44*', '13,40 *',\n",
       "       '86,54%', '3,76*', '2,04 *', '4,05 *', '4,72 *', '-0,17*', '2,44*',\n",
       "       '-2,17 *', '3,02 *', '0,26*', '8,31 *', '-2,16 *', '2,06*',\n",
       "       '0,35*', '2,25 *', '3,30 *', '-1,34*', '4,32 *', '-5,06 *',\n",
       "       '-003*', '7,09*', '-1,25 *', '3,59 *', '-0,47*', '0,78*',\n",
       "       '23,15 *', '4,55 *', '3,66 *', '0,65*', '0,93*', '2,15 *', '1,24*',\n",
       "       '1,27*', '-0,13*', '-0,29 * ', '25,22 * ', '0,01* ', '0,81* ',\n",
       "       '2,64 * ', '1,21 * ', '4,74 * ', '-0,25 * ', '1,15* ', '3,55 * ',\n",
       "       '1,07* ', '-0,82 * ', '3,21* ', '2,00 * ', '0,13* ', '4,22 * ',\n",
       "       '2,50 * ', '-0,67* ', '1,54*', '1,41*', '2,53*', '1,22*', '0,82*',\n",
       "       '-0,79*', '-0,89*', '-0,35*', '-0,22*', '0,38*', '-2,94*',\n",
       "       '-0,27*', '1,62*', '2,29*', '0,39*', '0,94*', '-0,15*', '0,61*',\n",
       "       '1,34*', '2,93*', '-0,78*', '-0,32*', '0,32*', '0,14*', '0,04*',\n",
       "       '1,19*', '2,33*', '6,45*', '17,30*', '-0,41*', '-1,29*', '-2,12*',\n",
       "       '-1,38*', '0,98*', '-0,82*', '3,03*', '3,57*', '2,32*', '0,28*',\n",
       "       '1,38*', '5,44*', '0,81*', '1 682', '0,90*', '-1,01*', '3,01*',\n",
       "       '3,10*', '0,55*', '0,09*', '-2,28*', '-0,75*', '0,53*', '5,38*',\n",
       "       '0,24*', '-0,64*', '-0,06*', '0,41*', '4,35*', '1,51*', '1,83*',\n",
       "       '0,18*', '-1,25*', '-0,83*', '0,88*', '-2,41*', '-0,26*', '1,20*',\n",
       "       '1,43*', '-0,18*', '6,87*', '1,06*', '0,96*', '2,70*', '-0,51*',\n",
       "       '1,13*', '-1,41*', '1,86*', '1,07*', '0,34*', '-0,67*', '1,80*',\n",
       "       '1,47*', '-0,99*', '4,21*', '1,77*', '1,63*', '0,05*', '2,66*',\n",
       "       '-1,79*', '0,11*', '2,73*', '-0,12*', '-0,70*', '1,79*', '1,68*',\n",
       "       '0,92*', '3,17*', '0,44*', '18,85*', '1,60*', '0,50*', '1,66*',\n",
       "       '1,12*', '0,40*', '1,48*', '4,34*', '4,42*', '-1,32*', '12,97*',\n",
       "       '2,67*', '-0,38*', '1,71*', '2,56*', '1,53*', '1,30*', '0,84*',\n",
       "       '-0,05*', '5,63*', '3,55*', '-7,25*', '2,01*', '0,95*', '2,38*',\n",
       "       '2,55*', '-0,61*', '-0,80*', '-0,42*', '-1,60*', '-3,93*', '1,57*',\n",
       "       '0,20*', '-0,90*', '3,36*', '2,30*', '2,60*', '1,45*', '1,99*',\n",
       "       '2,24*', '-1,02*', '3,22*', '2,21*', '1,98*', '2,43 *', '2,61 *',\n",
       "       '10,79 *', '-2,80 *', '2,09 *', '4,57 *', '2,30 *', '4,14 *',\n",
       "       '1,91 *', '-0,24 *', '-', '3,45 *', '4,03 *', '2,52 *', '6,44 *',\n",
       "       '0,42 *', '5,58 *', '7,06 *', '9,93 *', '1,48 *', '1,84 *',\n",
       "       '4,85 *', '5,50 *', '1,10 *', '4,61 *', '5,12 *', '-1,95 *',\n",
       "       '2,59 *', '-0,04 *', '6,60 *', '0,66 *', '3,73 *', '9,79 *',\n",
       "       '3,69 *', '-3,61 *', '3,01 *', '2,69 *', '1,61 *', '1,26 *',\n",
       "       '4,62 *', '4,53 *', '2,56 *', '0,12 *', '1,03 *', '1,65 *',\n",
       "       '1,08 *', '0,45 *', '8,15 *', '6,22 *', '-0,29 *', '4,10 *',\n",
       "       '0,16 *', '2,81 *', '0,38 *', '3,20 *', '5,08 *', '3,55 *',\n",
       "       '-4,04 *', '1,53 *', '1,30 *', '2,96 *', '2,75*', '0,89*', '3,93*',\n",
       "       '1,89 *', '4,56*', '4,12*', '1,55*', '0,22*', '1,23*', '-0,94*',\n",
       "       '-1,91*', '2,39 *', '2,45*', '-2,69*', '-9,55*', '0,35 *',\n",
       "       '-0,03*', '-2,53*', '2,74 *', '-1,67*', '1,32*', '0,72*', '1,92 *',\n",
       "       '3,66*', '2,29 *', '120,38*', '-0,63*', '1,42*', '2,06 *',\n",
       "       '1,40 *', '-15,45*', '-0,07*', '0,57 *', '4,13*', '0,13*', '4,09*',\n",
       "       '1,69*', '0,25 *', '-0,01*', '0,12*', '2,41*', '3,14*', '1,05 *',\n",
       "       -2700, '0,79', '0,89 *', '2,77*', '2,98*', -39, -100, '0,83*',\n",
       "       '2,17 *', '1,00 *', '1,73*', '1,44 *', '2,65*', '3,45*', '1,90 *',\n",
       "       '4,53*', '3,04', '3,86*', '2,52*', '5,53*', '0,37*', '0,17*', -236,\n",
       "       '2,83*', '2,02*'], dtype=object)"
      ]
     },
     "execution_count": 61,
     "metadata": {},
     "output_type": "execute_result"
    }
   ],
   "source": [
    "reduced_df['Dettes Nettes / EBE(* années) 16'].unique()"
   ]
  },
  {
   "cell_type": "code",
   "execution_count": 62,
   "metadata": {},
   "outputs": [],
   "source": [
    "reduced_df['Dettes_Nettes_EBE_16_corr']= reduced_df['Dettes Nettes / EBE(* années) 16'].str.replace('\\xa0','').str.strip().str.replace('\\s+','').str.replace(',','.').str.replace('*','').str.extract(r\"([-+]?\\d*\\.*\\d+|\\d+)\")\n",
    "reduced_df['Dettes_Nettes_EBE_16_corr']= pd.to_numeric(reduced_df['Dettes_Nettes_EBE_16_corr'], errors='coerce')"
   ]
  },
  {
   "cell_type": "code",
   "execution_count": 63,
   "metadata": {},
   "outputs": [
    {
     "data": {
      "text/plain": [
       "array([ 1.2740e+01,  4.7000e-01,  1.0200e+00,         nan, -9.9000e-01,\n",
       "        4.7800e+00,  1.8900e+00,  7.3400e+00,  3.0600e+00,  7.0000e-01,\n",
       "       -4.4000e-01, -3.5000e-01,  1.0000e+00,  2.3600e+00,  1.9700e+00,\n",
       "        1.1240e+01,  1.2610e+01,  1.0800e+00,  1.4000e+00,  1.3500e+00,\n",
       "        1.1800e+00,  5.6000e+00,  3.0000e-01, -5.6100e+00,  9.1000e-01,\n",
       "        6.9000e-01, -5.3000e-01, -2.5400e+00,  3.6100e+00,  5.1000e-01,\n",
       "       -1.1600e+00,  2.2000e+00,  2.2800e+00, -5.7400e+00,  1.1500e+00,\n",
       "        3.7000e+00, -7.7000e-01, -1.0000e+00, -1.1000e-01,  7.6000e-01,\n",
       "        1.3700e+00, -4.5000e-01,  1.8100e+00,  1.9400e+00,  5.7800e+00,\n",
       "        1.8300e+00,  2.4500e+00, -2.0500e+00,  4.1600e+00,  2.3500e+00,\n",
       "       -2.0000e-02,  1.7330e+01,  3.7400e+00,  1.3400e+01,  8.6540e+01,\n",
       "        3.7600e+00,  2.0400e+00,  4.0500e+00,  4.7200e+00, -1.7000e-01,\n",
       "        2.4400e+00, -2.1700e+00,  3.0200e+00,  2.6000e-01,  8.3100e+00,\n",
       "       -2.1600e+00,  2.0600e+00,  3.5000e-01,  2.2500e+00,  3.3000e+00,\n",
       "       -1.3400e+00,  4.3200e+00, -5.0600e+00, -3.0000e+00,  7.0900e+00,\n",
       "       -1.2500e+00,  3.5900e+00, -4.7000e-01,  7.8000e-01,  2.3150e+01,\n",
       "        4.5500e+00,  3.6600e+00,  6.5000e-01,  9.3000e-01,  2.1500e+00,\n",
       "        1.2400e+00,  1.2700e+00, -1.3000e-01, -2.9000e-01,  2.5220e+01,\n",
       "        1.0000e-02,  8.1000e-01,  2.6400e+00,  1.2100e+00,  4.7400e+00,\n",
       "       -2.5000e-01,  3.5500e+00,  1.0700e+00, -8.2000e-01,  3.2100e+00,\n",
       "        2.0000e+00,  1.3000e-01,  4.2200e+00,  2.5000e+00, -6.7000e-01,\n",
       "        1.5400e+00,  1.4100e+00,  2.5300e+00,  1.2200e+00,  8.2000e-01,\n",
       "       -7.9000e-01, -8.9000e-01, -2.2000e-01,  3.8000e-01, -2.9400e+00,\n",
       "       -2.7000e-01,  1.6200e+00,  2.2900e+00,  3.9000e-01,  9.4000e-01,\n",
       "       -1.5000e-01,  6.1000e-01,  1.3400e+00,  2.9300e+00, -7.8000e-01,\n",
       "       -3.2000e-01,  3.2000e-01,  1.4000e-01,  4.0000e-02,  1.1900e+00,\n",
       "        2.3300e+00,  6.4500e+00,  1.7300e+01, -4.1000e-01, -1.2900e+00,\n",
       "       -2.1200e+00, -1.3800e+00,  9.8000e-01,  3.0300e+00,  3.5700e+00,\n",
       "        2.3200e+00,  2.8000e-01,  1.3800e+00,  5.4400e+00,  1.6820e+03,\n",
       "        9.0000e-01, -1.0100e+00,  3.0100e+00,  3.1000e+00,  5.5000e-01,\n",
       "        9.0000e-02, -2.2800e+00, -7.5000e-01,  5.3000e-01,  5.3800e+00,\n",
       "        2.4000e-01, -6.4000e-01, -6.0000e-02,  4.1000e-01,  4.3500e+00,\n",
       "        1.5100e+00,  1.8000e-01, -8.3000e-01,  8.8000e-01, -2.4100e+00,\n",
       "       -2.6000e-01,  1.2000e+00,  1.4300e+00, -1.8000e-01,  6.8700e+00,\n",
       "        1.0600e+00,  9.6000e-01,  2.7000e+00, -5.1000e-01,  1.1300e+00,\n",
       "       -1.4100e+00,  1.8600e+00,  3.4000e-01,  1.8000e+00,  1.4700e+00,\n",
       "        4.2100e+00,  1.7700e+00,  1.6300e+00,  5.0000e-02,  2.6600e+00,\n",
       "       -1.7900e+00,  1.1000e-01,  2.7300e+00, -1.2000e-01, -7.0000e-01,\n",
       "        1.7900e+00,  1.6800e+00,  9.2000e-01,  3.1700e+00,  4.4000e-01,\n",
       "        1.8850e+01,  1.6000e+00,  5.0000e-01,  1.6600e+00,  1.1200e+00,\n",
       "        4.0000e-01,  1.4800e+00,  4.3400e+00,  4.4200e+00, -1.3200e+00,\n",
       "        1.2970e+01,  2.6700e+00, -3.8000e-01,  1.7100e+00,  2.5600e+00,\n",
       "        1.5300e+00,  1.3000e+00,  8.4000e-01, -5.0000e-02,  5.6300e+00,\n",
       "       -7.2500e+00,  2.0100e+00,  9.5000e-01,  2.3800e+00,  2.5500e+00,\n",
       "       -6.1000e-01, -8.0000e-01, -4.2000e-01, -1.6000e+00, -3.9300e+00,\n",
       "        1.5700e+00,  2.0000e-01, -9.0000e-01,  3.3600e+00,  2.3000e+00,\n",
       "        2.6000e+00,  1.4500e+00,  1.9900e+00,  2.2400e+00, -1.0200e+00,\n",
       "        3.2200e+00,  2.2100e+00,  1.9800e+00,  2.4300e+00,  2.6100e+00,\n",
       "        1.0790e+01, -2.8000e+00,  2.0900e+00,  4.5700e+00,  4.1400e+00,\n",
       "        1.9100e+00, -2.4000e-01,  3.4500e+00,  4.0300e+00,  2.5200e+00,\n",
       "        6.4400e+00,  4.2000e-01,  5.5800e+00,  7.0600e+00,  9.9300e+00,\n",
       "        1.8400e+00,  4.8500e+00,  5.5000e+00,  1.1000e+00,  4.6100e+00,\n",
       "        5.1200e+00, -1.9500e+00,  2.5900e+00, -4.0000e-02,  6.6000e+00,\n",
       "        6.6000e-01,  3.7300e+00,  9.7900e+00,  3.6900e+00, -3.6100e+00,\n",
       "        2.6900e+00,  1.6100e+00,  1.2600e+00,  4.6200e+00,  4.5300e+00,\n",
       "        1.2000e-01,  1.0300e+00,  1.6500e+00,  4.5000e-01,  8.1500e+00,\n",
       "        6.2200e+00,  4.1000e+00,  1.6000e-01,  2.8100e+00,  3.2000e+00,\n",
       "        5.0800e+00, -4.0400e+00,  2.9600e+00,  2.7500e+00,  8.9000e-01,\n",
       "        3.9300e+00,  4.5600e+00,  4.1200e+00,  1.5500e+00,  2.2000e-01,\n",
       "        1.2300e+00, -9.4000e-01, -1.9100e+00,  2.3900e+00, -2.6900e+00,\n",
       "       -9.5500e+00, -3.0000e-02, -2.5300e+00,  2.7400e+00, -1.6700e+00,\n",
       "        1.3200e+00,  7.2000e-01,  1.9200e+00,  1.2038e+02, -6.3000e-01,\n",
       "        1.4200e+00, -1.5450e+01, -7.0000e-02,  5.7000e-01,  4.1300e+00,\n",
       "        4.0900e+00,  1.6900e+00,  2.5000e-01, -1.0000e-02,  2.4100e+00,\n",
       "        3.1400e+00,  1.0500e+00,  7.9000e-01,  2.7700e+00,  2.9800e+00,\n",
       "        8.3000e-01,  2.1700e+00,  1.7300e+00,  1.4400e+00,  2.6500e+00,\n",
       "        1.9000e+00,  3.0400e+00,  3.8600e+00,  5.5300e+00,  3.7000e-01,\n",
       "        1.7000e-01,  2.8300e+00,  2.0200e+00])"
      ]
     },
     "execution_count": 63,
     "metadata": {},
     "output_type": "execute_result"
    }
   ],
   "source": [
    "reduced_df['Dettes_Nettes_EBE_16_corr'].unique()"
   ]
  },
  {
   "cell_type": "markdown",
   "metadata": {},
   "source": [
    "## Clean column :Dettes Nettes / EBE(* années) 16"
   ]
  },
  {
   "cell_type": "code",
   "execution_count": 64,
   "metadata": {},
   "outputs": [
    {
     "data": {
      "text/plain": [
       "array(['125,88%', '21,51%', '2870,00%', nan, '-0,22', '455,51%', '75,56%',\n",
       "       '125,69%', '1,92', '63,35%', '-21,19%', -0.17, 0.39, 0.46, 2.84,\n",
       "       '-17,86', 8.38, '315,46%', '-1232,89%', '123,61%', '250,47%',\n",
       "       '91,09 %', '526,49%', 0.5135, 0.05, '120,92%', '49,90%', -5.91,\n",
       "       '-0,55', 1.04, '38,12%', '21,94%', -0.6, '284,25%', '4,39',\n",
       "       '-293,33%', '193,20%', 0.76, '-7,95%', '-41,81%', -1.91, '-20,97%',\n",
       "       '-54,69%', 0.0026, '0,11', 1.31, '-15,83%', '278,75%', 1.19,\n",
       "       '3,91', 1.02, '1,97', '-472,91%', '81,02%', '-38,90%', '80,71%',\n",
       "       '-3,82%', '577,78%', 1.17, '-62,35%', '277,12%', 0.2, '1,39', 4.39,\n",
       "       5.6, 2.95, '-161,54%', '24,08%', '-82,93%', 3.49, 0.66, '94,96%',\n",
       "       3.35, '-89,20%', '92,41%', '41,48%', 1.24, '69,64%', '-141,77%',\n",
       "       0.55, -3.93, 1.01, '-175,84%', -0.54, 4.27, '-67,78%', '320,01%',\n",
       "       '192,67%', '1,15', '66,24%', '0,82', '102,03%', '91,04%', '61,67%',\n",
       "       2.16, '182,34%', '78,28%', '26,49%', '-27,08% ', -0.27, '119,66% ',\n",
       "       '3,95% ', '142,42% ', '445,11% ', '2,92 ', '2,95 ', '4,52% ', 0.45,\n",
       "       '269,99% ', '103,06% ', '-0,8 ', '243,49% ', '728,91% ', '23,39% ',\n",
       "       '0,93 ', '2,12 ', '-52,59% ', '87,49%', '567,46%', '231,82%',\n",
       "       '2,09%', '24,20%', '-69,71%', '-8,37%', '-24,54%', '87,28%',\n",
       "       '-9,28%', '130,60%', '-326,90%', '-5,96%', '86,63%', '82,98%',\n",
       "       '21,07%', '74,96%', '-58,56%', '89,84%', '142,75%', '75,76%',\n",
       "       '-56,86%', '-7,71%', '38,58%', '16,75%', '11,69%', '94,25%',\n",
       "       '292,82%', '-35,61%', '162,30%', '-34,46%', '-71,81%', '-15,75%',\n",
       "       '109,80%', '-84,88%', '54,73%', '19,42%', '109,18%', '44,90%',\n",
       "       '17,21%', '54,59%', '70,83%', '-47,80%', '96,05%', '23,83%',\n",
       "       '3,32*', '13,42%', '-169,29%', '58,80%', '29,25%', '66,53%',\n",
       "       '39,22%', '83,25%', '-66,19%', '-186,55%', '171,43%', '65,09%',\n",
       "       '-80,22%', '5,87%', '-109,86%', '-24,57%', '85,33%', '65,54%',\n",
       "       '29,41%', '84,69%', '-35,91%', '-20,06%', '19,04%', '-125,00%',\n",
       "       '-2,08%', '-35,66%', '42,03%', '-20,18%', '-132,65%', '-20,21%',\n",
       "       '-0,24%', '54,14%', '7,21%', '-3,65%', '161,14%', '73,18%',\n",
       "       '325,19%', '10,91%', '271,31%', '-57,50%', '3,81%', '-164,41%',\n",
       "       '52,71%', '103,06%', '33,45%', '-52,59%', '990,00%', '391,66%',\n",
       "       '-37,26%', '161,78%', '234,02%', '74,43%', '93,83%', '1,65%',\n",
       "       '31,37%', '86,68%', '-3,70%', '2,37%', '-2,83%', '205,13%',\n",
       "       '61,90%', '-8,64%', '-59,02%', '172,51%', '109,98%', '249,91%',\n",
       "       '50,36%', '507,91%', '29,37%', '-81,18%', '484,38%', '92,79%',\n",
       "       '4,31%', '101,74%', '4,78%', '42,67%', '70,73%', '29,38%',\n",
       "       '-0,84%', '19,19%', '58,57%', '50,99%', '7,16%', '84,34%',\n",
       "       '93,21%', '298,75%', '-29,46%', '437,15%', '127,91%', '117,08%',\n",
       "       '-5,98%', '82,94%', '283,29%', '49,09%', '43,30%', '9,45%',\n",
       "       '-3,28%', '670,60%', '58,22%', '-37,50%', '125,94%', '225,00%',\n",
       "       '125,29%', '297,51%', '86,40%', '164,32%', '-46,24%', '-82,94%',\n",
       "       '-10,73%', '-63,46%', '-103,94%', '-58,89%', '139,33%', '89,23%',\n",
       "       '509,59%', '27,73%', '-18,57%', '171,08%', '55,98%', '78,91%',\n",
       "       '96,41%', '58,09%', '17,94%', '47,99%', '-9,27%', '86,54%',\n",
       "       '196,25%', '130,38%', '102,10%', '107,46%', '290,89%', '4,07',\n",
       "       '3,24', '-89,82%', '0,94', '1,34', '5,22', '0,93', '7,93', '3,18',\n",
       "       '-0,39', '-', '1,46', '120,43%', '1,5', '1,93', '0,29', 1.22,\n",
       "       '189,22%', '514,27%', '29,72%', '0,75', '1,91', '104,82%', '0,2',\n",
       "       '48,65%', '1,56', '-400,95%', '3,73', '-3,14%', '156,06%', '0,61',\n",
       "       '3,6', '5,41', '483,89%', '-0,47', '2,49', '130,00%', '0,88',\n",
       "       '0,4', '1,22', '74,16%', '22,57%', '1,14', '0,17', '82,81%',\n",
       "       '3,53', '77,94%', '122,60%', '1,03', '56,72%', '2,2', '76,10%',\n",
       "       '2,89', '-0,27', '1,85', '147,36%', '0,26', '49,94%', '57,93%',\n",
       "       0.51, '379,83%', '2,02', '-59,11%', '1,01', '88,27%', '202,33%',\n",
       "       0.63, '2,52', '-16,61%', '163,81%', '148,53%', '-50,61%',\n",
       "       '190,45%', '9,77%', '-619,38%', '30,98%', '50,94%', '54,01%',\n",
       "       '-12,98%', '64,23%', '-69,68%', '1,21', '988,16%', '-154,36%',\n",
       "       '-30,32%', '1,92%', '-3,64%', '-85,04%', '53,85%', '131,96%',\n",
       "       '-75,00%', '14,26%', '211,75%', '237,86%', '72,45%', '0,22',\n",
       "       '53,61%', '41,25%', '140,14%', '210,83%', '1,51', '17,50%', '1,38',\n",
       "       '-98,27%', '-84,79%', '110,50%', '210,97%', '99,45%', '-59,56%',\n",
       "       '-3,02%', '93,31%', '0,15', '164,29%', '-3,13%', '227,40%',\n",
       "       '87,19%', '0,35', '-0,75%', '50,98%', '181,96%', '319,18%', 1.75,\n",
       "       -102.27, '137,50%', '1,48', '243,05%', -30.97, -86.44, '6,36%',\n",
       "       '83,13%', '55,61%', '2,07', '1,71', '1,82', 0.65, 1.06, 1.3, 0.49,\n",
       "       0.42, 1.59, 1.78, 2.17, 2.2, 2.21, 1.25, 0.13, -0.42, ' -352,36%',\n",
       "       0.38, 3.9, 1.86], dtype=object)"
      ]
     },
     "execution_count": 64,
     "metadata": {},
     "output_type": "execute_result"
    }
   ],
   "source": [
    "reduced_df['Dettes Nettes / Fonds propres 16'].unique()"
   ]
  },
  {
   "cell_type": "code",
   "execution_count": 65,
   "metadata": {},
   "outputs": [],
   "source": [
    "reduced_df['DettesNettes_Fonds_propres_16_corr']= reduced_df['Dettes Nettes / Fonds propres 16'].str.replace('\\xa0','').str.strip().str.replace('\\s+','').str.replace(',','.').str.replace('%','').str.extract(r\"([-+]?\\d*\\.*\\d+|\\d+)\")\n",
    "reduced_df['DettesNettes_Fonds_propres_16_corr']= pd.to_numeric(reduced_df['DettesNettes_Fonds_propres_16_corr'], errors='coerce')"
   ]
  },
  {
   "cell_type": "code",
   "execution_count": 66,
   "metadata": {},
   "outputs": [
    {
     "data": {
      "text/plain": [
       "array([ 1.25880e+02,  2.15100e+01,  2.87000e+03,          nan,\n",
       "       -2.20000e-01,  4.55510e+02,  7.55600e+01,  1.25690e+02,\n",
       "        1.92000e+00,  6.33500e+01, -2.11900e+01, -1.78600e+01,\n",
       "        3.15460e+02, -1.23289e+03,  1.23610e+02,  2.50470e+02,\n",
       "        9.10900e+01,  5.26490e+02,  1.20920e+02,  4.99000e+01,\n",
       "       -5.50000e-01,  3.81200e+01,  2.19400e+01,  2.84250e+02,\n",
       "        4.39000e+00, -2.93330e+02,  1.93200e+02, -7.95000e+00,\n",
       "       -4.18100e+01, -2.09700e+01, -5.46900e+01,  1.10000e-01,\n",
       "       -1.58300e+01,  2.78750e+02,  3.91000e+00,  1.97000e+00,\n",
       "       -4.72910e+02,  8.10200e+01, -3.89000e+01,  8.07100e+01,\n",
       "       -3.82000e+00,  5.77780e+02, -6.23500e+01,  2.77120e+02,\n",
       "        1.39000e+00, -1.61540e+02,  2.40800e+01, -8.29300e+01,\n",
       "        9.49600e+01, -8.92000e+01,  9.24100e+01,  4.14800e+01,\n",
       "        6.96400e+01, -1.41770e+02, -1.75840e+02, -6.77800e+01,\n",
       "        3.20010e+02,  1.92670e+02,  1.15000e+00,  6.62400e+01,\n",
       "        8.20000e-01,  1.02030e+02,  9.10400e+01,  6.16700e+01,\n",
       "        1.82340e+02,  7.82800e+01,  2.64900e+01, -2.70800e+01,\n",
       "        1.19660e+02,  3.95000e+00,  1.42420e+02,  4.45110e+02,\n",
       "        2.92000e+00,  2.95000e+00,  4.52000e+00,  2.69990e+02,\n",
       "        1.03060e+02, -8.00000e-01,  2.43490e+02,  7.28910e+02,\n",
       "        2.33900e+01,  9.30000e-01,  2.12000e+00, -5.25900e+01,\n",
       "        8.74900e+01,  5.67460e+02,  2.31820e+02,  2.09000e+00,\n",
       "        2.42000e+01, -6.97100e+01, -8.37000e+00, -2.45400e+01,\n",
       "        8.72800e+01, -9.28000e+00,  1.30600e+02, -3.26900e+02,\n",
       "       -5.96000e+00,  8.66300e+01,  8.29800e+01,  2.10700e+01,\n",
       "        7.49600e+01, -5.85600e+01,  8.98400e+01,  1.42750e+02,\n",
       "        7.57600e+01, -5.68600e+01, -7.71000e+00,  3.85800e+01,\n",
       "        1.67500e+01,  1.16900e+01,  9.42500e+01,  2.92820e+02,\n",
       "       -3.56100e+01,  1.62300e+02, -3.44600e+01, -7.18100e+01,\n",
       "       -1.57500e+01,  1.09800e+02, -8.48800e+01,  5.47300e+01,\n",
       "        1.94200e+01,  1.09180e+02,  4.49000e+01,  1.72100e+01,\n",
       "        5.45900e+01,  7.08300e+01, -4.78000e+01,  9.60500e+01,\n",
       "        2.38300e+01,  3.32000e+00,  1.34200e+01, -1.69290e+02,\n",
       "        5.88000e+01,  2.92500e+01,  6.65300e+01,  3.92200e+01,\n",
       "        8.32500e+01, -6.61900e+01, -1.86550e+02,  1.71430e+02,\n",
       "        6.50900e+01, -8.02200e+01,  5.87000e+00, -1.09860e+02,\n",
       "       -2.45700e+01,  8.53300e+01,  6.55400e+01,  2.94100e+01,\n",
       "        8.46900e+01, -3.59100e+01, -2.00600e+01,  1.90400e+01,\n",
       "       -1.25000e+02, -2.08000e+00, -3.56600e+01,  4.20300e+01,\n",
       "       -2.01800e+01, -1.32650e+02, -2.02100e+01, -2.40000e-01,\n",
       "        5.41400e+01,  7.21000e+00, -3.65000e+00,  1.61140e+02,\n",
       "        7.31800e+01,  3.25190e+02,  1.09100e+01,  2.71310e+02,\n",
       "       -5.75000e+01,  3.81000e+00, -1.64410e+02,  5.27100e+01,\n",
       "        3.34500e+01,  9.90000e+02,  3.91660e+02, -3.72600e+01,\n",
       "        1.61780e+02,  2.34020e+02,  7.44300e+01,  9.38300e+01,\n",
       "        1.65000e+00,  3.13700e+01,  8.66800e+01, -3.70000e+00,\n",
       "        2.37000e+00, -2.83000e+00,  2.05130e+02,  6.19000e+01,\n",
       "       -8.64000e+00, -5.90200e+01,  1.72510e+02,  1.09980e+02,\n",
       "        2.49910e+02,  5.03600e+01,  5.07910e+02,  2.93700e+01,\n",
       "       -8.11800e+01,  4.84380e+02,  9.27900e+01,  4.31000e+00,\n",
       "        1.01740e+02,  4.78000e+00,  4.26700e+01,  7.07300e+01,\n",
       "        2.93800e+01, -8.40000e-01,  1.91900e+01,  5.85700e+01,\n",
       "        5.09900e+01,  7.16000e+00,  8.43400e+01,  9.32100e+01,\n",
       "        2.98750e+02, -2.94600e+01,  4.37150e+02,  1.27910e+02,\n",
       "        1.17080e+02, -5.98000e+00,  8.29400e+01,  2.83290e+02,\n",
       "        4.90900e+01,  4.33000e+01,  9.45000e+00, -3.28000e+00,\n",
       "        6.70600e+02,  5.82200e+01, -3.75000e+01,  1.25940e+02,\n",
       "        2.25000e+02,  1.25290e+02,  2.97510e+02,  8.64000e+01,\n",
       "        1.64320e+02, -4.62400e+01, -8.29400e+01, -1.07300e+01,\n",
       "       -6.34600e+01, -1.03940e+02, -5.88900e+01,  1.39330e+02,\n",
       "        8.92300e+01,  5.09590e+02,  2.77300e+01, -1.85700e+01,\n",
       "        1.71080e+02,  5.59800e+01,  7.89100e+01,  9.64100e+01,\n",
       "        5.80900e+01,  1.79400e+01,  4.79900e+01, -9.27000e+00,\n",
       "        8.65400e+01,  1.96250e+02,  1.30380e+02,  1.02100e+02,\n",
       "        1.07460e+02,  2.90890e+02,  4.07000e+00,  3.24000e+00,\n",
       "       -8.98200e+01,  9.40000e-01,  1.34000e+00,  5.22000e+00,\n",
       "        7.93000e+00,  3.18000e+00, -3.90000e-01,  1.46000e+00,\n",
       "        1.20430e+02,  1.50000e+00,  1.93000e+00,  2.90000e-01,\n",
       "        1.89220e+02,  5.14270e+02,  2.97200e+01,  7.50000e-01,\n",
       "        1.91000e+00,  1.04820e+02,  2.00000e-01,  4.86500e+01,\n",
       "        1.56000e+00, -4.00950e+02,  3.73000e+00, -3.14000e+00,\n",
       "        1.56060e+02,  6.10000e-01,  3.60000e+00,  5.41000e+00,\n",
       "        4.83890e+02, -4.70000e-01,  2.49000e+00,  1.30000e+02,\n",
       "        8.80000e-01,  4.00000e-01,  1.22000e+00,  7.41600e+01,\n",
       "        2.25700e+01,  1.14000e+00,  1.70000e-01,  8.28100e+01,\n",
       "        3.53000e+00,  7.79400e+01,  1.22600e+02,  1.03000e+00,\n",
       "        5.67200e+01,  2.20000e+00,  7.61000e+01,  2.89000e+00,\n",
       "       -2.70000e-01,  1.85000e+00,  1.47360e+02,  2.60000e-01,\n",
       "        4.99400e+01,  5.79300e+01,  3.79830e+02,  2.02000e+00,\n",
       "       -5.91100e+01,  1.01000e+00,  8.82700e+01,  2.02330e+02,\n",
       "        2.52000e+00, -1.66100e+01,  1.63810e+02,  1.48530e+02,\n",
       "       -5.06100e+01,  1.90450e+02,  9.77000e+00, -6.19380e+02,\n",
       "        3.09800e+01,  5.09400e+01,  5.40100e+01, -1.29800e+01,\n",
       "        6.42300e+01, -6.96800e+01,  1.21000e+00,  9.88160e+02,\n",
       "       -1.54360e+02, -3.03200e+01, -3.64000e+00, -8.50400e+01,\n",
       "        5.38500e+01,  1.31960e+02, -7.50000e+01,  1.42600e+01,\n",
       "        2.11750e+02,  2.37860e+02,  7.24500e+01,  2.20000e-01,\n",
       "        5.36100e+01,  4.12500e+01,  1.40140e+02,  2.10830e+02,\n",
       "        1.51000e+00,  1.75000e+01,  1.38000e+00, -9.82700e+01,\n",
       "       -8.47900e+01,  1.10500e+02,  2.10970e+02,  9.94500e+01,\n",
       "       -5.95600e+01, -3.02000e+00,  9.33100e+01,  1.50000e-01,\n",
       "        1.64290e+02, -3.13000e+00,  2.27400e+02,  8.71900e+01,\n",
       "        3.50000e-01, -7.50000e-01,  5.09800e+01,  1.81960e+02,\n",
       "        3.19180e+02,  1.37500e+02,  1.48000e+00,  2.43050e+02,\n",
       "        6.36000e+00,  8.31300e+01,  5.56100e+01,  2.07000e+00,\n",
       "        1.71000e+00,  1.82000e+00, -3.52360e+02])"
      ]
     },
     "execution_count": 66,
     "metadata": {},
     "output_type": "execute_result"
    }
   ],
   "source": [
    "reduced_df['DettesNettes_Fonds_propres_16_corr'].unique()"
   ]
  },
  {
   "cell_type": "markdown",
   "metadata": {},
   "source": []
  }
 ],
 "metadata": {
  "kernelspec": {
   "display_name": "Python 3",
   "language": "python",
   "name": "python3"
  },
  "language_info": {
   "codemirror_mode": {
    "name": "ipython",
    "version": 3
   },
   "file_extension": ".py",
   "mimetype": "text/x-python",
   "name": "python",
   "nbconvert_exporter": "python",
   "pygments_lexer": "ipython3",
   "version": "3.7.6"
  }
 },
 "nbformat": 4,
 "nbformat_minor": 4
}
