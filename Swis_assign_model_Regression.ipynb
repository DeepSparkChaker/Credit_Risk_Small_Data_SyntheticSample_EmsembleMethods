{
 "cells": [
  {
   "cell_type": "markdown",
   "metadata": {},
   "source": [
    "# Load the librarys"
   ]
  },
  {
   "cell_type": "code",
   "execution_count": 220,
   "metadata": {},
   "outputs": [],
   "source": [
    "#Load the librarys\n",
    "import pandas as pd #To work with dataset\n",
    "import numpy as np #Math library\n",
    "import seaborn as sns #Graph library that use matplot in background\n",
    "import matplotlib.pyplot as plt #to plot some parameters in seaborn\n",
    "import warnings\n",
    "from sklearn.preprocessing import LabelEncoder\n",
    "from sklearn.neighbors import KNeighborsClassifier\n",
    "# Import StandardScaler from scikit-learn\n",
    "from sklearn.preprocessing import StandardScaler\n",
    "from sklearn.impute import SimpleImputer\n",
    "from sklearn.preprocessing import OneHotEncoder\n",
    "from sklearn.feature_extraction.text import CountVectorizer\n",
    "from sklearn.compose import make_column_transformer\n",
    "from sklearn.pipeline import make_pipeline, Pipeline\n",
    "from sklearn.preprocessing import FunctionTransformer\n",
    "from sklearn.manifold import TSNE\n",
    "from sklearn.model_selection import GridSearchCV\n",
    "# Import train_test_split()\n",
    "from sklearn.model_selection import train_test_split\n",
    "from sklearn.model_selection import KFold\n",
    "from sklearn.metrics import mean_squared_error\n",
    "from datetime import datetime, date\n",
    "from sklearn.linear_model import ElasticNet, Lasso,  BayesianRidge, LassoLarsIC\n",
    "from sklearn.model_selection import cross_val_score\n",
    "import lightgbm as lgbm\n",
    "import  tensorflow as tf \n",
    "from tensorflow.keras import layers\n",
    "from tensorflow.keras.callbacks import EarlyStopping\n",
    "import smogn\n",
    "from sklearn.base import BaseEstimator, TransformerMixin, RegressorMixin, clone\n",
    "from sklearn.kernel_ridge import KernelRidge\n",
    "from sklearn.ensemble import GradientBoostingRegressor\n",
    "import lightgbm as lgb\n",
    "from sklearn.neighbors import KNeighborsRegressor \n",
    "#import smong \n",
    "from sklearn.linear_model import LinearRegression, RidgeCV\n",
    "warnings.filterwarnings('ignore')"
   ]
  },
  {
   "cell_type": "markdown",
   "metadata": {},
   "source": [
    "# Load Data"
   ]
  },
  {
   "cell_type": "code",
   "execution_count": 117,
   "metadata": {},
   "outputs": [],
   "source": [
    "# Read spreadsheet and assign it to swiss_loan\n",
    "swiss_loan= pd.read_excel('C:/Users/rzouga/Desktop/ALLINHERE/Assignement/ATUCE_Case_study_data_2021.xlsx')"
   ]
  },
  {
   "cell_type": "markdown",
   "metadata": {},
   "source": [
    "# Preprocess Pipeline (preprocessing ,cleaning , features eng, features selection)"
   ]
  },
  {
   "cell_type": "code",
   "execution_count": 118,
   "metadata": {},
   "outputs": [],
   "source": [
    "# Create a boolean mask on whether each feature less than 40% missing values.\n",
    "mask = swiss_loan.isna().sum() / len(swiss_loan) < 0.4\n",
    "# Create a reduced dataset by applying the mask\n",
    "reduced_df =swiss_loan.loc[:, mask]\n",
    "\n",
    "# drop ID\n",
    "reduced_df.drop('ID', axis=1, inplace=True)\n",
    "reduced_df['Pays_corr']=reduced_df['Pays'].str.strip()\n",
    "reduced_df['Taux_corr']=reduced_df['Taux'].str.replace('%','').str.strip().str.replace(',','.').str.extract(r'(\\d+.\\d+)')\n",
    "reduced_df['Taux_corr'] = np.where(reduced_df['Taux_corr'].isnull(), 0.1, reduced_df['Taux_corr'])\n",
    "reduced_df['Taux_corr'] = pd.to_numeric(reduced_df['Taux_corr'], errors='coerce')\n",
    "# Specify the boundaries of the bins\n",
    "bins = [0.001,5.5,  6.5, 10]\n",
    "# Bin labels\n",
    "labels = [ 'Low', 'Medium', 'High']\n",
    "# Bin the continuous variable ConvertedSalary using these boundaries\n",
    "reduced_df['Taux_corr_binned'] = pd.cut(reduced_df['Taux_corr'], \n",
    "                                         bins=bins,labels=labels )\n",
    "# Print the first 5 rows of the boundary_binned column\n",
    "reduced_df['Montant_corr']=reduced_df['Montant'].str.replace('€','').str.replace('\\xa0','').str.strip().str.replace('\\s+','')\n",
    "reduced_df['Montant_corr'] = np.where(reduced_df['Montant_corr'].isnull(), 0.1, reduced_df['Montant_corr'])\n",
    "reduced_df['Montant_corr'] = pd.to_numeric(reduced_df['Montant_corr'], errors='coerce')\n",
    "reduced_df['Niveau_risque_corr']=reduced_df['Niveau de risque'].str.rstrip().str.replace('\\s+','')\n",
    "Emprunteurs = reduced_df['Emprunteur']\n",
    "\n",
    "\n",
    "Emprunteurs_counts = Emprunteurs.value_counts()\n",
    "\n",
    "# Create a mask for only categories that occur less than 5 times\n",
    "mask = Emprunteurs.isin(Emprunteurs_counts[Emprunteurs_counts<5].index)\n",
    "# Label all other categories as Other\n",
    "reduced_df['Emprunteur'][mask] = 'Other'\n",
    "reduced_df['capital_social_corr']=reduced_df['capital social'].str.replace('€','').str.replace('\\xa0','').str.strip().str.replace('\\s+','')\n",
    "reduced_df['capital_social_corr'] = np.where(reduced_df['capital_social_corr'].isnull(), 0.1, reduced_df['capital_social_corr'])\n",
    "reduced_df['capital_social_corr'] = pd.to_numeric(reduced_df['capital_social_corr'], errors='coerce')\n",
    "\n",
    "reduced_df['Effectifse_corr']=reduced_df['effectifs'].str.rstrip().str.replace('\\s+','')\n",
    "reduced_df['Effectifse_corr'][reduced_df['Effectifse_corr'] == '-'] = np.nan\n",
    "\n",
    "reduced_df['Nombre_mois_période16_corr']=reduced_df['Nombre de mois de la période 16'].str.rstrip().str.replace('mois','').str.replace(',','.').str.replace('\\s+','').str.extract(r\"(\\d+\\.\\d+|\\d+)\")\n",
    "reduced_df['Nombre_mois_période16_corr'][reduced_df['Nombre_mois_période16_corr'] == '-'] = np.nan\n",
    "reduced_df['Nombre_mois_période16_corr'] = pd.to_numeric(reduced_df['Nombre_mois_période16_corr'], errors='coerce')\n",
    "\n",
    "reduced_df['Chiffre_Affaires_16_corr']=reduced_df.iloc[:,12].str.replace('\\xa0','').str.strip().str.replace('\\s+','')\n",
    "reduced_df['Chiffre_Affaires_16_corr'] = pd.to_numeric(reduced_df['Chiffre_Affaires_16_corr'], errors='coerce')\n",
    "\n",
    "reduced_df['Total_Bilan_16_corr']= reduced_df['Total Bilan 16'].str.replace('\\xa0','').str.strip().str.replace('\\s+','').str.extract(r\"([-+]?\\d*\\.*\\d+|\\d+)\")\n",
    "reduced_df['Total_Bilan_16_corr']= pd.to_numeric(reduced_df['Total_Bilan_16_corr'], errors='coerce')\n",
    "\n",
    "reduced_df['Capacité_remboursement_FCCR_16_corr']= reduced_df['Capacité de remboursement (FCCR) 16'].str.replace('\\xa0','').str.strip().str.replace('\\s+','').str.replace(',','.').str.extract(r\"([-+]?\\d*\\.*\\d+|\\d+)\")\n",
    "reduced_df['Capacité_remboursement_FCCR_16_corr']= pd.to_numeric(reduced_df['Capacité_remboursement_FCCR_16_corr'], errors='coerce')\n",
    "\n",
    "\n",
    "reduced_df['Fonds_Propres_16_corr']= reduced_df['Fonds Propres 16'].str.replace('\\xa0','').str.strip().str.replace('\\s+','').str.replace(',','.').str.extract(r\"([-+]?\\d*\\.*\\d+|\\d+)\")\n",
    "reduced_df['Fonds_Propres_16_corr']= pd.to_numeric(reduced_df['Fonds_Propres_16_corr'], errors='coerce')\n",
    "\n",
    "reduced_df['Fonds_Propres_Total_Bilan_corr']= reduced_df['Fonds Propres / Total Bilan 16'].str.replace('\\xa0','').str.strip().str.replace('\\s+','').str.replace(',','.').str.replace('%','').str.extract(r\"([-+]?\\d*\\.*\\d+|\\d+)\")\n",
    "reduced_df['Fonds_Propres_Total_Bilan_corr']= pd.to_numeric(reduced_df['Fonds_Propres_Total_Bilan_corr'], errors='coerce')\n",
    "\n",
    "reduced_df['Dettes_Nettes_EBE_16_corr']= reduced_df['Dettes Nettes / EBE(* années) 16'].str.replace('\\xa0','').str.strip().str.replace('\\s+','').str.replace(',','.').str.replace('*','').str.extract(r\"([-+]?\\d*\\.*\\d+|\\d+)\")\n",
    "reduced_df['Dettes_Nettes_EBE_16_corr']= pd.to_numeric(reduced_df['Dettes_Nettes_EBE_16_corr'], errors='coerce')\n",
    "\n",
    "reduced_df['DettesNettes_Fonds_propres_16_corr']= reduced_df['Dettes Nettes / Fonds propres 16'].str.replace('\\xa0','').str.strip().str.replace('\\s+','').str.replace(',','.').str.replace('%','').str.extract(r\"([-+]?\\d*\\.*\\d+|\\d+)\")\n",
    "reduced_df['DettesNettes_Fonds_propres_16_corr']= pd.to_numeric(reduced_df['DettesNettes_Fonds_propres_16_corr'], errors='coerce')\n",
    "\n",
    "\n",
    "# Apply the log normalization function \n",
    "reduced_df['Montant_corr_log'] = np.log(reduced_df['Montant_corr'])\n",
    "\n",
    "# Apply the log normalization function \n",
    "reduced_df['Chiffre_Affaires_16_corr_log'] = np.log(reduced_df['Chiffre_Affaires_16_corr'])\n",
    "# Apply the log normalization function t\n",
    "reduced_df['capital_social_corr_log'] = np.log(reduced_df['capital_social_corr']+1)\n",
    "# This function converts given date to age\n",
    "def age(creation):\n",
    "    born = int(creation)\n",
    "    today = date.today()\n",
    "    return today.year - born\n",
    "  \n",
    "reduced_df['Age'] = reduced_df['année de création'].apply(age)"
   ]
  },
  {
   "cell_type": "code",
   "execution_count": 119,
   "metadata": {},
   "outputs": [
    {
     "data": {
      "text/plain": [
       "(688, 39)"
      ]
     },
     "execution_count": 119,
     "metadata": {},
     "output_type": "execute_result"
    }
   ],
   "source": [
    "reduced_df.shape"
   ]
  },
  {
   "cell_type": "markdown",
   "metadata": {},
   "source": [
    "# Keep Clean Columns"
   ]
  },
  {
   "cell_type": "code",
   "execution_count": 120,
   "metadata": {},
   "outputs": [
    {
     "data": {
      "text/plain": [
       "Index(['Pays', 'Taux', 'Mois', 'Montant', 'Niveau de risque', 'Emprunteur',\n",
       "       'capital social', 'année de création', 'Antériorité', 'effectifs',\n",
       "       'Nombre de mois de la période 16', 'Chiffre d'Affaires 16',\n",
       "       'EBE(retraité des loyers de leasing) 16', 'Resultat Net 16',\n",
       "       'Total Bilan 16', 'Capacité de remboursement (FCCR) 16',\n",
       "       'Fonds Propres 16', 'Fonds Propres / Total Bilan 16',\n",
       "       'Dettes Nettes / EBE(* années) 16', 'Dettes Nettes / Fonds propres 16',\n",
       "       'Pays_corr', 'Taux_corr', 'Taux_corr_binned', 'Montant_corr',\n",
       "       'Niveau_risque_corr', 'capital_social_corr', 'Effectifse_corr',\n",
       "       'Nombre_mois_période16_corr', 'Chiffre_Affaires_16_corr',\n",
       "       'Total_Bilan_16_corr', 'Capacité_remboursement_FCCR_16_corr',\n",
       "       'Fonds_Propres_16_corr', 'Fonds_Propres_Total_Bilan_corr',\n",
       "       'Dettes_Nettes_EBE_16_corr', 'DettesNettes_Fonds_propres_16_corr',\n",
       "       'Montant_corr_log', 'Chiffre_Affaires_16_corr_log',\n",
       "       'capital_social_corr_log', 'Age'],\n",
       "      dtype='object')"
      ]
     },
     "execution_count": 120,
     "metadata": {},
     "output_type": "execute_result"
    }
   ],
   "source": [
    "reduced_df.columns"
   ]
  },
  {
   "cell_type": "code",
   "execution_count": 121,
   "metadata": {},
   "outputs": [
    {
     "data": {
      "text/plain": [
       "(688, 18)"
      ]
     },
     "execution_count": 121,
     "metadata": {},
     "output_type": "execute_result"
    }
   ],
   "source": [
    "list_to_keep= [ 'Pays_corr','Mois','Age' ,'Taux_corr', 'Taux_corr_binned', 'Montant_corr_log',\n",
    "       'Niveau_risque_corr','Emprunteur', 'capital_social_corr_log', 'Effectifse_corr',\n",
    "       'Nombre_mois_période16_corr', 'Capacité_remboursement_FCCR_16_corr','Total_Bilan_16_corr',\n",
    "       'Fonds_Propres_16_corr', 'Fonds_Propres_Total_Bilan_corr',\n",
    "       'Dettes_Nettes_EBE_16_corr', 'DettesNettes_Fonds_propres_16_corr','Chiffre_Affaires_16_corr_log']\n",
    "clean_reduced_df= reduced_df[list_to_keep].copy()\n",
    "clean_reduced_df.shape"
   ]
  },
  {
   "cell_type": "markdown",
   "metadata": {},
   "source": [
    "# Model 1 : REGRESSION : predict \"Taux_corr\"\n",
    "## Extract X and y"
   ]
  },
  {
   "cell_type": "code",
   "execution_count": 122,
   "metadata": {},
   "outputs": [
    {
     "name": "stdout",
     "output_type": "stream",
     "text": [
      "69 rows in test set vs. 619 in training set. 16 Features.\n"
     ]
    }
   ],
   "source": [
    "# Create arrays for the features and the response variable\n",
    "colonne_cible = \"Taux_corr\"\n",
    "\n",
    "Data_regression =clean_reduced_df.drop(['Taux_corr_binned'], axis=1).copy()\n",
    "X = Data_regression.drop(['Taux_corr'], axis=1)\n",
    "y= Data_regression['Taux_corr']\n",
    "# Split the dataset and labels into training and test sets\n",
    "X_train, X_test, y_train, y_test = train_test_split(X, y, test_size=0.1)\n",
    "print(\"{} rows in test set vs. {} in training set. {} Features.\".format(X_test.shape[0], X_train.shape[0], X_test.shape[1]))"
   ]
  },
  {
   "cell_type": "markdown",
   "metadata": {},
   "source": [
    "# What should we do for each colmun "
   ]
  },
  {
   "cell_type": "code",
   "execution_count": 123,
   "metadata": {},
   "outputs": [],
   "source": [
    "# select the float columns\n",
    "num_columns = X.select_dtypes(include=['int64','float64']).columns\n",
    "# select non-numeric columns\n",
    "cat_columns = X.select_dtypes(exclude=['int64','float64']).columns\n"
   ]
  },
  {
   "cell_type": "markdown",
   "metadata": {},
   "source": [
    "# check that we have all column "
   ]
  },
  {
   "cell_type": "code",
   "execution_count": 124,
   "metadata": {},
   "outputs": [
    {
     "name": "stdout",
     "output_type": "stream",
     "text": [
      "Ok\n"
     ]
    }
   ],
   "source": [
    "num_columns=['Mois', 'Age', 'Montant_corr_log', 'capital_social_corr_log',\n",
    "       'Nombre_mois_période16_corr', 'Capacité_remboursement_FCCR_16_corr',\n",
    "       'Fonds_Propres_16_corr', 'Fonds_Propres_Total_Bilan_corr',\n",
    "       'Dettes_Nettes_EBE_16_corr', 'DettesNettes_Fonds_propres_16_corr',\n",
    "       'Chiffre_Affaires_16_corr_log']\n",
    "cat_columns=['Pays_corr', 'Niveau_risque_corr', 'Emprunteur',\n",
    "       'Effectifse_corr']\n",
    "all_columns = (num_columns\n",
    "               +cat_columns)\n",
    "\n",
    "if set(all_columns) == set(X1.columns):\n",
    "    print('Ok')\n",
    "else:\n",
    "    # Alors je veux voir les différences\n",
    "    print('dans all_columns mais pas dans X1.columns   :', set(all_columns) - set(X1.columns))\n",
    "    print('dans X.columns   mais pas dans all_columns :', set(X1.columns) - set(all_columns))"
   ]
  },
  {
   "cell_type": "code",
   "execution_count": 125,
   "metadata": {},
   "outputs": [
    {
     "data": {
      "text/plain": [
       "'==>i have just create Taux_corr_binned in  order to do a classifcation task '"
      ]
     },
     "execution_count": 125,
     "metadata": {},
     "output_type": "execute_result"
    }
   ],
   "source": [
    "\"==>i have just create Taux_corr_binned in  order to do a classifcation task \""
   ]
  },
  {
   "cell_type": "markdown",
   "metadata": {},
   "source": [
    "# Create complexe transformer  in order to  put all transformations in the same pipe \n",
    "In our case :\n",
    "\n",
    "    'num_columns' :Cleaning->Valeur Manquante -> Standar_Scaler\n",
    "    'cat_columns' : Cleaning -> Valeur Manquante -> Categorique [One Hot]\n",
    "**==> Cleaning is done by pandas , in the future this step sould be intergeted the pipe using \"custumer Function\" like this Example:**\n",
    "\n",
    "    fill_missing_then_Standar_scaler = make_pipeline( SimpleImputer(strategy='median',add_indicator=True),\n",
    "        StandardScaler()\n",
    "    )\n",
    "\n",
    "    \"Write a pattern to extract numbers and decimals\"\n",
    "    def return_number(string):\n",
    "        pattern = re.compile(r\"\\d+\\.\\d+\")\n",
    "        # Search the text for matches\n",
    "        number = re.match(pattern, string)\n",
    "        # If a value is returned, use group(0) to return the found value\n",
    "        if number is not None:\n",
    "            return float(number.group(0))\n",
    "\n",
    "    extraire_number_then_imput_then_scale = make_pipeline(\n",
    "        FunctionTransformer(extract_number),\n",
    "        fill_missing_then_Standar_scaler,\n",
    "    )    \n"
   ]
  },
  {
   "cell_type": "markdown",
   "metadata": {},
   "source": [
    "# Pipe Cat columns : \n"
   ]
  },
  {
   "cell_type": "code",
   "execution_count": 126,
   "metadata": {},
   "outputs": [],
   "source": [
    "fill_missing_then_one_hot_encoder = make_pipeline(\n",
    "    SimpleImputer(strategy='constant', fill_value='manquante',add_indicator=True),\n",
    "    OneHotEncoder(handle_unknown='ignore')\n",
    ")"
   ]
  },
  {
   "cell_type": "markdown",
   "metadata": {},
   "source": [
    "# Pipe Numeric Columns : "
   ]
  },
  {
   "cell_type": "code",
   "execution_count": 127,
   "metadata": {},
   "outputs": [],
   "source": [
    " fill_missing_then_StandardScaler = make_pipeline( SimpleImputer(strategy='median',add_indicator=True),\n",
    "    StandardScaler()\n",
    ")"
   ]
  },
  {
   "cell_type": "markdown",
   "metadata": {},
   "source": [
    "# Compose num+cat : ColumnTransformer"
   ]
  },
  {
   "cell_type": "code",
   "execution_count": 128,
   "metadata": {},
   "outputs": [],
   "source": [
    "data_preprocess = make_column_transformer(\n",
    "    ( fill_missing_then_one_hot_encoder , cat_columns),\n",
    "    ( fill_missing_then_StandardScaler, num_columns)\n",
    ")\n"
   ]
  },
  {
   "cell_type": "markdown",
   "metadata": {},
   "source": [
    "## Check "
   ]
  },
  {
   "cell_type": "code",
   "execution_count": 129,
   "metadata": {
    "scrolled": true
   },
   "outputs": [
    {
     "name": "stdout",
     "output_type": "stream",
     "text": [
      "Ok , Every thing is well \n"
     ]
    }
   ],
   "source": [
    "data_preprocess.fit(X)\n",
    "data_preprocess.transform(X)\n",
    "data_preprocess.transform(X_test)\n",
    "\n",
    "print(\"Ok , Every thing is well \")"
   ]
  },
  {
   "cell_type": "markdown",
   "metadata": {},
   "source": [
    "# Find Best Pipe\n",
    "## Step 1: Cross-Validation"
   ]
  },
  {
   "cell_type": "code",
   "execution_count": 130,
   "metadata": {},
   "outputs": [
    {
     "data": {
      "text/plain": [
       "KFold(n_splits=5, random_state=77, shuffle=True)"
      ]
     },
     "execution_count": 130,
     "metadata": {},
     "output_type": "execute_result"
    }
   ],
   "source": [
    "cross_validation_design = KFold(n_splits=5,\n",
    "                                shuffle=True,\n",
    "                                random_state=77)\n",
    "\n",
    "cross_validation_design"
   ]
  },
  {
   "cell_type": "markdown",
   "metadata": {},
   "source": [
    "### KNN pipe"
   ]
  },
  {
   "cell_type": "code",
   "execution_count": 151,
   "metadata": {},
   "outputs": [
    {
     "data": {
      "text/plain": [
       "GridSearchCV(cv=KFold(n_splits=5, random_state=77, shuffle=True),\n",
       "             estimator=Pipeline(steps=[('data_process',\n",
       "                                        ColumnTransformer(transformers=[('pipeline-1',\n",
       "                                                                         Pipeline(steps=[('simpleimputer',\n",
       "                                                                                          SimpleImputer(add_indicator=True,\n",
       "                                                                                                        fill_value='manquante',\n",
       "                                                                                                        strategy='constant')),\n",
       "                                                                                         ('onehotencoder',\n",
       "                                                                                          OneHotEncoder(handle_unknown='ignore'))]),\n",
       "                                                                         ['Pays_corr',\n",
       "                                                                          'Niveau_risque_c...\n",
       "                                                                          'Fonds_Propres_16_corr',\n",
       "                                                                          'Fonds_Propres_Total_Bilan_corr',\n",
       "                                                                          'Dettes_Nettes_EBE_16_corr',\n",
       "                                                                          'DettesNettes_Fonds_propres_16_corr',\n",
       "                                                                          'Chiffre_Affaires_16_corr_log'])])),\n",
       "                                       ('knn', KNeighborsRegressor())]),\n",
       "             param_grid={'knn__metric': ['euclidean', 'manhattan', 'minkowski'],\n",
       "                         'knn__n_neighbors': [1, 3, 5, 8, 9, 10, 11, 15, 20, 21,\n",
       "                                              51],\n",
       "                         'knn__weights': ['uniform', 'distance']},\n",
       "             scoring='r2')"
      ]
     },
     "execution_count": 151,
     "metadata": {},
     "output_type": "execute_result"
    }
   ],
   "source": [
    "from sklearn.neighbors import KNeighborsRegressor as KNN\n",
    "\n",
    "# params = {'n_neighbors':[2,3,4,5,6,7,8,9]}\n",
    "\n",
    "\n",
    "KNN_MODEL = {}\n",
    "\n",
    "# Définir la pipeline\n",
    "KNN_MODEL['pipeline'] = Pipeline([\n",
    "                                  ('data_process', data_preprocess),\n",
    "                                  ('knn', KNN())\n",
    "                                  ])\n",
    "\n",
    "# Définir la grille\n",
    "KNN_MODEL['hyperparams'] = {}\n",
    "KNN_MODEL['hyperparams']['knn__n_neighbors'] = [1, 3,5,8, 9,10,11,15, 20,21, 51]\n",
    "KNN_MODEL['hyperparams']['knn__weights'] = ['uniform','distance']\n",
    "KNN_MODEL['hyperparams']['knn__metric'] = ['euclidean', 'manhattan', 'minkowski']\n",
    "\n",
    "# Effectuer la GridSearch\n",
    "KNN_MODEL['gridsearch'] = GridSearchCV(\n",
    "    estimator=KNN_MODEL['pipeline'],\n",
    "    param_grid=KNN_MODEL['hyperparams'],\n",
    "    cv=cross_validation_design,\n",
    "    scoring='r2'\n",
    "    )\n",
    "\n",
    "KNN_MODEL['gridsearch'].fit(X_train, y_train)"
   ]
  },
  {
   "cell_type": "code",
   "execution_count": 152,
   "metadata": {},
   "outputs": [
    {
     "data": {
      "text/plain": [
       "{'knn__metric': 'manhattan',\n",
       " 'knn__n_neighbors': 51,\n",
       " 'knn__weights': 'distance'}"
      ]
     },
     "execution_count": 152,
     "metadata": {},
     "output_type": "execute_result"
    }
   ],
   "source": [
    "KNN_MODEL['gridsearch'].best_params_"
   ]
  },
  {
   "cell_type": "code",
   "execution_count": 153,
   "metadata": {},
   "outputs": [
    {
     "data": {
      "text/plain": [
       "0.07611574307552002"
      ]
     },
     "execution_count": 153,
     "metadata": {},
     "output_type": "execute_result"
    }
   ],
   "source": [
    "KNN_MODEL['gridsearch'].best_score_"
   ]
  },
  {
   "cell_type": "markdown",
   "metadata": {},
   "source": [
    "### LR pipe"
   ]
  },
  {
   "cell_type": "code",
   "execution_count": 154,
   "metadata": {},
   "outputs": [
    {
     "data": {
      "text/plain": [
       "GridSearchCV(cv=KFold(n_splits=5, random_state=77, shuffle=True),\n",
       "             estimator=Pipeline(steps=[('data_cleaning',\n",
       "                                        ColumnTransformer(transformers=[('pipeline-1',\n",
       "                                                                         Pipeline(steps=[('simpleimputer',\n",
       "                                                                                          SimpleImputer(add_indicator=True,\n",
       "                                                                                                        fill_value='manquante',\n",
       "                                                                                                        strategy='constant')),\n",
       "                                                                                         ('onehotencoder',\n",
       "                                                                                          OneHotEncoder(handle_unknown='ignore'))]),\n",
       "                                                                         ['Pays_corr',\n",
       "                                                                          'Niveau_risque_...\n",
       "                                                                                          StandardScaler())]),\n",
       "                                                                         ['Mois',\n",
       "                                                                          'Age',\n",
       "                                                                          'Montant_corr_log',\n",
       "                                                                          'capital_social_corr_log',\n",
       "                                                                          'Nombre_mois_période16_corr',\n",
       "                                                                          'Capacité_remboursement_FCCR_16_corr',\n",
       "                                                                          'Fonds_Propres_16_corr',\n",
       "                                                                          'Fonds_Propres_Total_Bilan_corr',\n",
       "                                                                          'Dettes_Nettes_EBE_16_corr',\n",
       "                                                                          'DettesNettes_Fonds_propres_16_corr',\n",
       "                                                                          'Chiffre_Affaires_16_corr_log'])])),\n",
       "                                       ('reg', LinearRegression())]),\n",
       "             param_grid={}, scoring='r2')"
      ]
     },
     "execution_count": 154,
     "metadata": {},
     "output_type": "execute_result"
    }
   ],
   "source": [
    "from sklearn.linear_model import LinearRegression\n",
    "\n",
    "# Définir la pipeline\n",
    "REGRESSION_MODEL = {}\n",
    "REGRESSION_MODEL['pipeline'] = Pipeline([\n",
    "                                        ('data_cleaning', data_preprocess ),\n",
    "                                        ('reg', LinearRegression())\n",
    "])\n",
    "\n",
    "# Définir la grille\n",
    "REGRESSION_MODEL['hyperparams'] = {}\n",
    "#REGRESSION_MODEL['hyperparams']['reg__alpha'] = np.arange(.1, 10., .1)\n",
    "\n",
    "# Faire la recherche\n",
    "REGRESSION_MODEL['gridsearch'] = GridSearchCV(\n",
    "                                      estimator=REGRESSION_MODEL['pipeline'],\n",
    "                                      param_grid=REGRESSION_MODEL['hyperparams'],\n",
    "                                      cv=cross_validation_design,\n",
    "                                      scoring='r2'\n",
    "                                      )\n",
    "\n",
    "REGRESSION_MODEL['gridsearch'].fit(X_train, y_train)"
   ]
  },
  {
   "cell_type": "markdown",
   "metadata": {},
   "source": [
    "#### you can obtain the coefficient of determination (𝑅²) with .score() called on model"
   ]
  },
  {
   "cell_type": "code",
   "execution_count": 155,
   "metadata": {},
   "outputs": [
    {
     "name": "stdout",
     "output_type": "stream",
     "text": [
      "coefficient of determination: 0.11939354183583073\n"
     ]
    }
   ],
   "source": [
    "model = REGRESSION_MODEL['gridsearch'].fit(X_train, y_train)\n",
    "r_sq = model.score(X_train, y_train)\n",
    "print('coefficient of determination:', r_sq)"
   ]
  },
  {
   "cell_type": "code",
   "execution_count": null,
   "metadata": {},
   "outputs": [],
   "source": [
    "y_pred = model.predict(X_test)\n",
    "df_LR = pd.DataFrame({'Actual': y_test, 'Predicted': y_pred})\n",
    "df_LR.tail()"
   ]
  },
  {
   "cell_type": "code",
   "execution_count": 156,
   "metadata": {},
   "outputs": [
    {
     "name": "stdout",
     "output_type": "stream",
     "text": [
      "Mean Absolute Error: 3.011946114911504\n",
      "Mean Squared Error: 31.908159717606434\n",
      "Root Mean Squared Error: 5.648730805907326\n"
     ]
    }
   ],
   "source": [
    "from sklearn import metrics\n",
    "print('Mean Absolute Error:', metrics.mean_absolute_error(y_test, y_pred))\n",
    "print('Mean Squared Error:', metrics.mean_squared_error(y_test, y_pred))\n",
    "print('Root Mean Squared Error:', np.sqrt(metrics.mean_squared_error(y_test, y_pred)))"
   ]
  },
  {
   "cell_type": "code",
   "execution_count": 157,
   "metadata": {},
   "outputs": [
    {
     "data": {
      "text/plain": [
       "-18.733354517544875"
      ]
     },
     "execution_count": 157,
     "metadata": {},
     "output_type": "execute_result"
    }
   ],
   "source": [
    "REGRESSION_MODEL['gridsearch'].best_score_"
   ]
  },
  {
   "cell_type": "code",
   "execution_count": 265,
   "metadata": {},
   "outputs": [
    {
     "name": "stdout",
     "output_type": "stream",
     "text": [
      "coefficient of determination: 0.11830695095531307\n"
     ]
    }
   ],
   "source": [
    "# instantiate linear regression object\n",
    "ridge = RidgeCV()\n",
    "ridge_MODEL = Pipeline([\n",
    "                                        ('data_cleaning', data_preprocess ),\n",
    "                                        ('reg', ridge)\n",
    "])\n",
    "# fit or train the linear regression model on the training set and store parameters\n",
    "ridge_MODEL.fit(X_train, y_train)\n",
    "\n",
    "r_sq = ridge_MODEL.score(X_train, y_train)\n",
    "print('coefficient of determination:', r_sq)"
   ]
  },
  {
   "cell_type": "code",
   "execution_count": 266,
   "metadata": {
    "scrolled": true
   },
   "outputs": [
    {
     "name": "stdout",
     "output_type": "stream",
     "text": [
      "RMSE on training data:  2.827170972169815\n"
     ]
    },
    {
     "data": {
      "text/html": [
       "<div>\n",
       "<style scoped>\n",
       "    .dataframe tbody tr th:only-of-type {\n",
       "        vertical-align: middle;\n",
       "    }\n",
       "\n",
       "    .dataframe tbody tr th {\n",
       "        vertical-align: top;\n",
       "    }\n",
       "\n",
       "    .dataframe thead th {\n",
       "        text-align: right;\n",
       "    }\n",
       "</style>\n",
       "<table border=\"1\" class=\"dataframe\">\n",
       "  <thead>\n",
       "    <tr style=\"text-align: right;\">\n",
       "      <th></th>\n",
       "      <th>Actual</th>\n",
       "      <th>Predicted</th>\n",
       "    </tr>\n",
       "  </thead>\n",
       "  <tbody>\n",
       "    <tr>\n",
       "      <th>439</th>\n",
       "      <td>5.35</td>\n",
       "      <td>4.850579</td>\n",
       "    </tr>\n",
       "    <tr>\n",
       "      <th>90</th>\n",
       "      <td>5.50</td>\n",
       "      <td>4.085489</td>\n",
       "    </tr>\n",
       "    <tr>\n",
       "      <th>315</th>\n",
       "      <td>7.25</td>\n",
       "      <td>4.909013</td>\n",
       "    </tr>\n",
       "    <tr>\n",
       "      <th>5</th>\n",
       "      <td>6.75</td>\n",
       "      <td>5.296130</td>\n",
       "    </tr>\n",
       "    <tr>\n",
       "      <th>678</th>\n",
       "      <td>7.50</td>\n",
       "      <td>4.049366</td>\n",
       "    </tr>\n",
       "  </tbody>\n",
       "</table>\n",
       "</div>"
      ],
      "text/plain": [
       "     Actual  Predicted\n",
       "439    5.35   4.850579\n",
       "90     5.50   4.085489\n",
       "315    7.25   4.909013\n",
       "5      6.75   5.296130\n",
       "678    7.50   4.049366"
      ]
     },
     "execution_count": 266,
     "metadata": {},
     "output_type": "execute_result"
    }
   ],
   "source": [
    "# use trained RidgeCV regression model to predict interest rates of training and test data\n",
    "\n",
    "y_pred = ridge_MODEL.predict(X_test)\n",
    "df_Ridge = pd.DataFrame({'Actual': y_test, 'Predicted': y_pred})\n",
    "\n",
    "# print RMSE of training predictions\n",
    "print('RMSE on training data: ', np.sqrt(mean_squared_error(y_test, y_pred)))\n",
    "df_Ridge.head()"
   ]
  },
  {
   "cell_type": "markdown",
   "metadata": {},
   "source": [
    "# SVR pipe "
   ]
  },
  {
   "cell_type": "code",
   "execution_count": 188,
   "metadata": {},
   "outputs": [
    {
     "name": "stdout",
     "output_type": "stream",
     "text": [
      "Support Vector Classifier Accuracy :  -0.14699522888219851\n"
     ]
    }
   ],
   "source": [
    "from sklearn.svm import SVR\n",
    "regressor = SVR()\n",
    "SVR_MODEL = {}\n",
    "\n",
    "# Définir la pipeline\n",
    "SVR_MODEL['pipeline'] = Pipeline([\n",
    "                                  ('data_process', data_preprocess),\n",
    "                                  ('SVR', regressor)\n",
    "                                  ])\n",
    "\n",
    "# Définir la grille\n",
    "SVR_MODEL['hyperparams'] = {}\n",
    "SVR_MODEL['hyperparams']['SVR__kernel'] = ['linear', 'poly', 'rbf', 'sigmoid', 'precomputed']\n",
    "SVR_MODEL['hyperparams']['SVR__degree'] = [0,1,2, 3, 4,5,6,7,8,9]\n",
    "SVR_MODEL['hyperparams']['SVR__gamma'] = ['scale', 'auto',1, 0.1, 0.01, 0.001, 0.0001]\n",
    "SVR_MODEL['hyperparams']['SVR__C'] = [50, 10, 1.0, 0.1, 0.01,100]\n",
    "\n",
    "# Effectuer la GridSearch\n",
    "SVR_MODEL['gridsearch'] = GridSearchCV(\n",
    "    estimator=SVR_MODEL['pipeline'],\n",
    "    param_grid=SVR_MODEL['hyperparams'],\n",
    "    cv=cross_validation_design,\n",
    "    scoring='r2'\n",
    "    )\n",
    "\n",
    "#Define SVR classifier\n",
    "SVR_MODEL['gridsearch'].fit(X_train, y_train)\n",
    "svr_accuracy = SVR_MODEL['gridsearch'].score(X_test, y_test)\n",
    "\n",
    "print('Support Vector Classifier Accuracy : ', svr_accuracy)"
   ]
  },
  {
   "cell_type": "code",
   "execution_count": 163,
   "metadata": {},
   "outputs": [
    {
     "data": {
      "text/plain": [
       "dict_keys(['C', 'cache_size', 'coef0', 'degree', 'epsilon', 'gamma', 'kernel', 'max_iter', 'shrinking', 'tol', 'verbose'])"
      ]
     },
     "execution_count": 163,
     "metadata": {},
     "output_type": "execute_result"
    }
   ],
   "source": [
    "regressor.get_params().keys()"
   ]
  },
  {
   "cell_type": "code",
   "execution_count": 189,
   "metadata": {
    "scrolled": true
   },
   "outputs": [
    {
     "data": {
      "text/plain": [
       "{'SVR__C': 10, 'SVR__degree': 0, 'SVR__gamma': 1, 'SVR__kernel': 'rbf'}"
      ]
     },
     "execution_count": 189,
     "metadata": {},
     "output_type": "execute_result"
    }
   ],
   "source": [
    "SVR_MODEL['gridsearch'].best_params_"
   ]
  },
  {
   "cell_type": "code",
   "execution_count": null,
   "metadata": {},
   "outputs": [],
   "source": [
    "\"\"\"{'SVR__C': 10, 'SVR__degree': 0, 'SVR__gamma': 1, 'SVR__kernel': 'rbf'}\"\"\""
   ]
  },
  {
   "cell_type": "markdown",
   "metadata": {},
   "source": [
    "##  XGBOOST Regressor  pipe :\n"
   ]
  },
  {
   "cell_type": "code",
   "execution_count": 195,
   "metadata": {},
   "outputs": [
    {
     "name": "stdout",
     "output_type": "stream",
     "text": [
      "[13:29:48] WARNING: src/objective/regression_obj.cu:152: reg:linear is now deprecated in favor of reg:squarederror.\n",
      "[13:29:49] WARNING: src/objective/regression_obj.cu:152: reg:linear is now deprecated in favor of reg:squarederror.\n",
      "[13:29:49] WARNING: src/objective/regression_obj.cu:152: reg:linear is now deprecated in favor of reg:squarederror.\n",
      "[13:29:49] WARNING: src/objective/regression_obj.cu:152: reg:linear is now deprecated in favor of reg:squarederror.\n",
      "[13:29:50] WARNING: src/objective/regression_obj.cu:152: reg:linear is now deprecated in favor of reg:squarederror.\n",
      "[13:29:50] WARNING: src/objective/regression_obj.cu:152: reg:linear is now deprecated in favor of reg:squarederror.\n",
      "SXGBR Accuracy :  -0.05835190821407488\n"
     ]
    }
   ],
   "source": [
    "from xgboost import XGBRegressor\n",
    "XGBR = XGBRegressor()\n",
    "XGBR_MODEL = {}\n",
    "# Définir la pipeline\n",
    "XGBR_MODEL['pipeline'] = Pipeline([\n",
    "                                  ('data_process', data_preprocess),\n",
    "                                  ('XGBR', XGBR)\n",
    "                                  ])\n",
    "\n",
    "# Définir la grille\n",
    "XGBR_MODEL['hyperparams'] = {}\n",
    "#XGBR_MODEL['hyperparams']['XGBR__n_estimators'] = [10,20]\n",
    "#XGBR_MODEL['hyperparams']['XGBR__colsample_bytree'] = [0.7, 0.8]\n",
    "#XGBR_MODEL['hyperparams']['XGBR__max_depth'] = [5,7,15]\n",
    "#XGBR_MODEL['hyperparams']['XGBR__reg_alpha'] = [1.1, 1.2 ]\n",
    "#XGBR_MODEL['hyperparams']['XGBR__reg_lambda'] = [1.1, 1.2, 1.3]\n",
    "#XGBR_MODEL['hyperparams']['XGBR__subsample'] = [0.7, 0.8, 0.9]\n",
    "# Effectuer la GridSearch\n",
    "XGBR_MODEL['gridsearch'] = GridSearchCV(\n",
    "    estimator=XGBR_MODEL['pipeline'],\n",
    "    param_grid=XGBR_MODEL['hyperparams'],\n",
    "    cv=cross_validation_design,\n",
    "    scoring='r2'\n",
    "    )\n",
    "#Define SVR classifier\n",
    "XGBR_MODEL['gridsearch'].fit(X_train, y_train)\n",
    "XGBR_accuracy = XGBR_MODEL['gridsearch'].score(X_test, y_test)\n",
    "print('SXGBR Accuracy : ', XGBR_accuracy)"
   ]
  },
  {
   "cell_type": "code",
   "execution_count": 194,
   "metadata": {},
   "outputs": [
    {
     "data": {
      "text/plain": [
       "{'XGBR__colsample_bytree': 0.7,\n",
       " 'XGBR__max_depth': 5,\n",
       " 'XGBR__n_estimators': 20,\n",
       " 'XGBR__reg_alpha': 1.2,\n",
       " 'XGBR__reg_lambda': 1.2,\n",
       " 'XGBR__subsample': 0.7}"
      ]
     },
     "execution_count": 194,
     "metadata": {},
     "output_type": "execute_result"
    }
   ],
   "source": [
    "XGBR_MODEL['gridsearch'].best_params_"
   ]
  },
  {
   "cell_type": "markdown",
   "metadata": {},
   "source": [
    "# Model Stacking\n",
    "Improve your Predictive Model’s Score using a Stacking Regressor\n",
    "\n",
    "      “The whole is greater than the sum of its parts.” – Aristotle\n",
    "## Type 1: Simplest Stacking Regressor approach: Averaging Base models\n",
    "\n",
    "We begin with this simple approach of averaging base models. Build a new class to extend scikit-learn with our model and also to leverage encapsulation and code reuse.\n",
    "\n",
    "### Averaged base models class"
   ]
  },
  {
   "cell_type": "code",
   "execution_count": 222,
   "metadata": {
    "scrolled": true
   },
   "outputs": [
    {
     "name": "stdout",
     "output_type": "stream",
     "text": [
      "[14:23:19] WARNING: src/objective/regression_obj.cu:152: reg:linear is now deprecated in favor of reg:squarederror.\n",
      "[14:23:21] WARNING: src/objective/regression_obj.cu:152: reg:linear is now deprecated in favor of reg:squarederror.\n",
      "[14:23:22] WARNING: src/objective/regression_obj.cu:152: reg:linear is now deprecated in favor of reg:squarederror.\n",
      "[14:23:23] WARNING: src/objective/regression_obj.cu:152: reg:linear is now deprecated in favor of reg:squarederror.\n",
      "[14:23:24] WARNING: src/objective/regression_obj.cu:152: reg:linear is now deprecated in favor of reg:squarederror.\n",
      "[14:23:25] WARNING: src/objective/regression_obj.cu:152: reg:linear is now deprecated in favor of reg:squarederror.\n",
      "[14:23:26] WARNING: src/objective/regression_obj.cu:152: reg:linear is now deprecated in favor of reg:squarederror.\n",
      "[14:23:27] WARNING: src/objective/regression_obj.cu:152: reg:linear is now deprecated in favor of reg:squarederror.\n",
      "[14:23:28] WARNING: src/objective/regression_obj.cu:152: reg:linear is now deprecated in favor of reg:squarederror.\n",
      "[14:23:28] WARNING: src/objective/regression_obj.cu:152: reg:linear is now deprecated in favor of reg:squarederror.\n",
      " Averaged RMSE base models score: 3.2030\n",
      " Averaged R2 base models score: nan\n"
     ]
    }
   ],
   "source": [
    "class AveragingModels(BaseEstimator, RegressorMixin, TransformerMixin):\n",
    "    def __init__(self, models):\n",
    "        self.models = models\n",
    "    # we define clones of the original models to fit the data in\n",
    "    def fit(self, X, y):\n",
    "        self.models_ = [clone(x) for x in self.models]\n",
    "        # Train cloned base models\n",
    "        for model in self.models_:\n",
    "            model.fit(X, y)\n",
    "        return self\n",
    "    #Now we do the predictions for cloned models and average them\n",
    "    def predict(self, X):\n",
    "        predictions = np.column_stack([\n",
    "            model.predict(X) for model in self.models_\n",
    "        ])\n",
    "        return np.mean(predictions, axis=1)\n",
    "ENet = ElasticNet()\n",
    "lasso = Lasso()  \n",
    "KRR = KernelRidge()\n",
    "GBoost = GradientBoostingRegressor()\n",
    "model_xgb = xgb.XGBRegressor()\n",
    "model_lgb = lgb.LGBMRegressor()\n",
    "averaged_models = AveragingModels(models = (ENet,model_lgb,model_xgb, GBoost, KRR, lasso))\n",
    "averaged_models_pipe = Pipeline([('data_cleaning', data_preprocess),\n",
    "                        ('Stack_reg1', averaged_models)\n",
    "                        ])\n",
    "def rmse_cv(model):\n",
    "    rmse= np.sqrt(-cross_val_score(averaged_models_pipe,X_train, y_train, scoring=\"neg_mean_squared_error\", cv = cross_validation_design))\n",
    "    return(rmse)\n",
    "def r2_cv(model):\n",
    "    rmse= np.sqrt(-cross_val_score(averaged_models_pipe,X_train, y_train, scoring=\"r2\", cv = cross_validation_design))\n",
    "    return(rmse)\n",
    "score = rmse_cv(averaged_models)\n",
    "r2_score = r2_cv(averaged_models)\n",
    "print(\" Averaged RMSE base models score: {:.4f}\".format(score.mean()))\n",
    "print(\" Averaged R2 base models score: {:.4f}\".format(r2_score.mean()))"
   ]
  },
  {
   "cell_type": "markdown",
   "metadata": {},
   "source": [
    "## Type 2: Adding a Meta-model\n",
    "The meta-model is used to find the pattern between the base model predictions as features and actual predictions as the target variables.\n",
    "## First Stacking Model :"
   ]
  },
  {
   "cell_type": "code",
   "execution_count": 223,
   "metadata": {},
   "outputs": [
    {
     "name": "stdout",
     "output_type": "stream",
     "text": [
      "[14:24:11] WARNING: src/objective/regression_obj.cu:152: reg:linear is now deprecated in favor of reg:squarederror.\n",
      "[14:24:12] WARNING: src/objective/regression_obj.cu:152: reg:linear is now deprecated in favor of reg:squarederror.\n",
      "[14:24:12] WARNING: src/objective/regression_obj.cu:152: reg:linear is now deprecated in favor of reg:squarederror.\n",
      "[14:24:13] WARNING: src/objective/regression_obj.cu:152: reg:linear is now deprecated in favor of reg:squarederror.\n",
      "[14:24:13] WARNING: src/objective/regression_obj.cu:152: reg:linear is now deprecated in favor of reg:squarederror.\n",
      "[14:24:13] WARNING: src/objective/regression_obj.cu:152: reg:linear is now deprecated in favor of reg:squarederror.\n",
      "Mean Squared Error: 7.4952\n",
      "Variance Score: -0.0116\n"
     ]
    }
   ],
   "source": [
    "from sklearn.datasets import load_diabetes\n",
    "from sklearn.linear_model import RidgeCV\n",
    "from sklearn.svm import LinearSVR\n",
    "from sklearn.ensemble import RandomForestRegressor\n",
    "from sklearn.ensemble import StackingRegressor\n",
    "\n",
    "\n",
    "estimators = [('Ridge', RidgeCV()),\n",
    "    ('svr', LinearSVR(random_state=42)) ,\n",
    "    ('XGBR',XGBRegressor()),\n",
    "    ('KNN',KNeighborsRegressor())]\n",
    "     \n",
    "Stack_reg1 = StackingRegressor(estimators=estimators,final_estimator=RandomForestRegressor(n_estimators=10, random_state=42))\n",
    "Stack_reg1_pipe = Pipeline([('data_cleaning', data_preprocess),\n",
    "                        ('Stack_reg1', Stack_reg1)\n",
    "                        ])\n",
    "\n",
    "Stack_reg1_pipe.fit(X_train, y_train)    \n",
    "print(\"Mean Squared Error: %.4f\"% np.mean((Stack_reg1_pipe.predict(X_test) - y_test) ** 2))\n",
    "print('Variance Score: %.4f' % Stack_reg1_pipe.score(X_test, y_test))"
   ]
  },
  {
   "cell_type": "markdown",
   "metadata": {},
   "source": [
    "### Second Stacking Model : "
   ]
  },
  {
   "cell_type": "code",
   "execution_count": 225,
   "metadata": {},
   "outputs": [
    {
     "name": "stdout",
     "output_type": "stream",
     "text": [
      "Mean Squared Error: 9.7030\n",
      "Variance Score: -0.3096\n"
     ]
    }
   ],
   "source": [
    "from mlxtend.regressor import StackingRegressor\n",
    "from mlxtend.data import boston_housing_data\n",
    "from sklearn.linear_model import LinearRegression\n",
    "from sklearn.linear_model import Ridge\n",
    "from sklearn.svm import SVR\n",
    "# Initializing models\n",
    "\n",
    "lr = LinearRegression()\n",
    "svr_lin = SVR(kernel='linear')\n",
    "ridge = Ridge(random_state=1)\n",
    "svr_rbf = SVR(kernel='rbf')\n",
    "\n",
    "Stack_reg2= StackingRegressor(regressors=[svr_lin, lr, ridge], \n",
    "                           meta_regressor=svr_rbf)\n",
    "\n",
    "# Training the stacking classifier\n",
    "\n",
    "Stack_reg2_pipe = Pipeline([('data_cleaning', data_preprocess),\n",
    "                        ('Stack_reg2', Stack_reg2)\n",
    "                        ])\n",
    "\n",
    "Stack_reg2_pipe.fit(X_train, y_train)    \n",
    "print(\"Mean Squared Error: %.4f\"% np.mean((Stack_reg2_pipe.predict(X_test) - y_test) ** 2))\n",
    "print('Variance Score: %.4f' % Stack_reg2_pipe.score(X_test, y_test)) "
   ]
  },
  {
   "cell_type": "markdown",
   "metadata": {},
   "source": [
    "##  Third Stacking Model  "
   ]
  },
  {
   "cell_type": "code",
   "execution_count": 231,
   "metadata": {},
   "outputs": [
    {
     "name": "stdout",
     "output_type": "stream",
     "text": [
      "Mean Squared Error: 9.7083\n",
      "Variance Score in test : -0.3103\n"
     ]
    }
   ],
   "source": [
    "from mlxtend.regressor import StackingRegressor\n",
    "from sklearn.linear_model import LinearRegression\n",
    "from sklearn.linear_model import Ridge\n",
    "from sklearn.svm import SVR\n",
    "import numpy as np\n",
    "import warnings\n",
    "from sklearn.model_selection import GridSearchCV\n",
    "from sklearn.linear_model import Lasso\n",
    "\n",
    "# Initializing models\n",
    "\n",
    "lr = LinearRegression()\n",
    "svr_lin = SVR(kernel='linear')\n",
    "ridge = Ridge(random_state=1)\n",
    "lasso = Lasso(random_state=1)\n",
    "svr_rbf = SVR(kernel='rbf')\n",
    "regressors = [svr_lin, lr, ridge, lasso]\n",
    "stregr3 = StackingRegressor(regressors=regressors, \n",
    "                           meta_regressor=svr_rbf)\n",
    "\n",
    "\n",
    "#params = {'lasso__alpha': [0.1, 1.0, 10.0],\n",
    "          #'ridge__alpha': [0.1, 1.0, 10.0],\n",
    "          #'svr__C': [0.1, 1.0, 10.0],\n",
    "          #'meta_regressor__C': [0.1, 1.0, 10.0, 100.0],\n",
    "          #'meta_regressor__gamma': [0.1, 1.0, 10.0]}\n",
    "\n",
    "Stack_reg3_pipe = Pipeline([('data_cleaning', data_preprocess),\n",
    "                        ('Stack_reg3', stregr3)\n",
    "                        ])\n",
    "\n",
    "#grid_reg3_pipe = GridSearchCV(estimator=Stack_reg3_pipe, param_grid=params, cv=cross_validation_design, refit=True)\n",
    "\n",
    "Stack_reg3_pipe.fit(X_train, y_train)    \n",
    "print(\"Mean Squared Error: %.4f\"% np.mean((Stack_reg3_pipe.predict(X_test) - y_test) ** 2))\n",
    "print('Variance Score in test : %.4f' % Stack_reg3_pipe.score(X_test, y_test))\n",
    "\n",
    "#print(\"Best score o, training : %f using %s\" % (grid_reg3_pipe.best_score_, grid_reg3_pipe.best_params_))"
   ]
  },
  {
   "cell_type": "markdown",
   "metadata": {},
   "source": [
    "# Deep Learning Approch :\n",
    "## Step Model Life-Cycle\n",
    "A model has a life-cycle,modeling a dataset and understanding the tf.keras API.\n",
    "The five steps in the life-cycle are as follows:\n",
    "   - Define the model.\n",
    "   - Compile the model.\n",
    "   - Fit the model.\n",
    "   - Evaluate the model.\n",
    "   - Make predictions.\n",
    "\n"
   ]
  },
  {
   "cell_type": "code",
   "execution_count": 258,
   "metadata": {
    "scrolled": true
   },
   "outputs": [
    {
     "name": "stdout",
     "output_type": "stream",
     "text": [
      "Model: \"sequential_5\"\n",
      "_________________________________________________________________\n",
      "Layer (type)                 Output Shape              Param #   \n",
      "=================================================================\n",
      "dense_20 (Dense)             (None, 30)                1290      \n",
      "_________________________________________________________________\n",
      "dropout_15 (Dropout)         (None, 30)                0         \n",
      "_________________________________________________________________\n",
      "dense_21 (Dense)             (None, 20)                620       \n",
      "_________________________________________________________________\n",
      "dropout_16 (Dropout)         (None, 20)                0         \n",
      "_________________________________________________________________\n",
      "dense_22 (Dense)             (None, 10)                210       \n",
      "_________________________________________________________________\n",
      "dropout_17 (Dropout)         (None, 10)                0         \n",
      "_________________________________________________________________\n",
      "dense_23 (Dense)             (None, 1)                 11        \n",
      "=================================================================\n",
      "Total params: 2,131\n",
      "Trainable params: 2,131\n",
      "Non-trainable params: 0\n",
      "_________________________________________________________________\n"
     ]
    }
   ],
   "source": [
    "def build_model():\n",
    "    model1 = tf.keras.Sequential()\n",
    "    model1.add( layers.Dense(30, activation='relu',\n",
    "                             kernel_regularizer=tf.keras.regularizers.l1_l2(l1=0.01, l2=0.01),\n",
    "                             input_shape=[X_pre.shape[1]]))\n",
    "    model1.add(layers.Dropout(0.2))\n",
    "    model1.add(layers.Dense(20, activation='relu',kernel_regularizer=tf.keras.regularizers.l2(0.001)))\n",
    "    model1.add(layers.Dropout(0.2))\n",
    "    model1.add(layers.Dense(10, activation='relu',kernel_regularizer=tf.keras.regularizers.l2(0.001)))\n",
    "    model1.add(layers.Dropout(0.1))\n",
    "    model1.add(layers.Dense(1,activation='relu'))  \n",
    "    #optimizer='adam'\n",
    "    optimizer =tf.keras.optimizers.Adam()\n",
    "    #optimizer = tf.keras.optimizers.RMSprop(0.001)\n",
    "     ## Compile model\n",
    "    #epochs = 50\n",
    "    #learning_rate = 0.1\n",
    "    #decay_rate = learning_rate / epochs\n",
    "    #momentum = 0.8\n",
    "    #sgd = SGD(lr=learning_rate, momentum=momentum, decay=decay_rate, nesterov=False)\n",
    "    #https://machinelearningmastery.com/tensorflow-tutorial-deep-learning-with-tf-keras/\n",
    "    #optimizer=sgd\n",
    "    model1.compile(loss='mse',\n",
    "                optimizer=optimizer,\n",
    "                metrics=['mae', 'mse'])\n",
    "    return model1\n",
    "\n",
    "MLP = build_model()\n",
    "MLP.summary()"
   ]
  },
  {
   "cell_type": "markdown",
   "metadata": {},
   "source": [
    "# Train Model :"
   ]
  },
  {
   "cell_type": "code",
   "execution_count": 259,
   "metadata": {},
   "outputs": [],
   "source": [
    "EPOCHS =1000\n",
    "# configure early stopping\n",
    "es = EarlyStopping(monitor='val_loss',min_delta=0.0000000000001, patience=5)\n",
    "#batch_size=1000\n",
    "#MLP_pipe = Pipeline([('data_cleaning', data_preprocess),('MLP', MLP)])\n",
    "X = Data_regression.drop(['Taux_corr'], axis=1)\n",
    "y_pre= Data_regression['Taux_corr'].to_numpy()\n",
    "X_pre=data_preprocess.fit_transform(X)\n",
    "history = MLP.fit(X_pre,y_pre,batch_size=32,epochs=EPOCHS, validation_split = 0.1, verbose=0 ,callbacks=[es])"
   ]
  },
  {
   "cell_type": "code",
   "execution_count": null,
   "metadata": {},
   "outputs": [],
   "source": [
    "MLP.save('my_modelMLP.h5') "
   ]
  },
  {
   "cell_type": "code",
   "execution_count": 260,
   "metadata": {},
   "outputs": [
    {
     "data": {
      "image/png": "[encoded data removed]",
      "text/plain": [
       "<Figure size 432x288 with 1 Axes>"
      ]
     },
     "metadata": {
      "needs_background": "light"
     },
     "output_type": "display_data"
    }
   ],
   "source": [
    "#Let’s see what this looks like when we plot our respective losses:\n",
    "# \"Loss\"\n",
    "plt.plot(history.history['loss'])\n",
    "plt.plot(history.history['val_loss'])\n",
    "plt.title('model loss')\n",
    "plt.ylabel('loss')\n",
    "plt.xlabel('epoch')\n",
    "plt.legend(['train', 'validation'], loc='upper left')\n",
    "plt.show()"
   ]
  },
  {
   "cell_type": "code",
   "execution_count": 263,
   "metadata": {},
   "outputs": [
    {
     "name": "stdout",
     "output_type": "stream",
     "text": [
      "22/22 - 0s - loss: 8.3356 - mae: 2.2938 - mse: 7.0800\n",
      " Mean Abs Error:  7.08 MPG\n"
     ]
    }
   ],
   "source": [
    "# evaluate the keras model\n",
    "loss, mae, mse = MLP.evaluate( X_pre, y_pre, verbose=2)\n",
    "print(\" Mean Abs Error: {:5.2f} MPG\".format(mse))"
   ]
  },
  {
   "cell_type": "markdown",
   "metadata": {},
   "source": [
    "#  Model Selection\n",
    "\n",
    "In machine learning, we usually select our final model after evaluating several candidate models. This process is called model selection. Sometimes the models subject to comparison are fundamentally different in nature (say, decision trees vs. linear models). At other times, we are comparing members of the same class of models that have been trained with different hyperparameter settings.\n",
    "\n",
    "With MLPs, for example, we may wish to compare models with different numbers of hidden layers, different numbers of hidden units, and various choices of the activation functions applied to each hidden layer. In order to determine the best among our candidate models, we will typically employ a validation dataset."
   ]
  },
  {
   "cell_type": "markdown",
   "metadata": {},
   "source": [
    "# Select the best model : retrain on all the data(without cross_val)with the best param \n",
    "\n",
    " This pipline will be used in production "
   ]
  },
  {
   "cell_type": "code",
   "execution_count": 270,
   "metadata": {},
   "outputs": [
    {
     "data": {
      "text/plain": [
       "Pipeline(steps=[('data_cleaning',\n",
       "                 ColumnTransformer(transformers=[('pipeline-1',\n",
       "                                                  Pipeline(steps=[('simpleimputer',\n",
       "                                                                   SimpleImputer(add_indicator=True,\n",
       "                                                                                 fill_value='manquante',\n",
       "                                                                                 strategy='constant')),\n",
       "                                                                  ('onehotencoder',\n",
       "                                                                   OneHotEncoder(handle_unknown='ignore'))]),\n",
       "                                                  ['Pays_corr',\n",
       "                                                   'Niveau_risque_corr',\n",
       "                                                   'Emprunteur',\n",
       "                                                   'Effectifse_corr']),\n",
       "                                                 ('pipeline-2',\n",
       "                                                  Pipeline(steps=[('si...\n",
       "                                                                   StandardScaler())]),\n",
       "                                                  ['Mois', 'Age',\n",
       "                                                   'Montant_corr_log',\n",
       "                                                   'capital_social_corr_log',\n",
       "                                                   'Nombre_mois_période16_corr',\n",
       "                                                   'Capacité_remboursement_FCCR_16_corr',\n",
       "                                                   'Fonds_Propres_16_corr',\n",
       "                                                   'Fonds_Propres_Total_Bilan_corr',\n",
       "                                                   'Dettes_Nettes_EBE_16_corr',\n",
       "                                                   'DettesNettes_Fonds_propres_16_corr',\n",
       "                                                   'Chiffre_Affaires_16_corr_log'])])),\n",
       "                ('ridge', RidgeCV(alphas=array([ 0.1,  1. , 10. ])))])"
      ]
     },
     "execution_count": 270,
     "metadata": {},
     "output_type": "execute_result"
    }
   ],
   "source": [
    "data_preprocess = make_column_transformer(\n",
    "    ( fill_missing_then_one_hot_encoder , cat_columns),\n",
    "    ( fill_missing_then_StandardScaler, num_columns)\n",
    ")\n",
    "\n",
    "model_final = Pipeline([('data_cleaning', data_preprocess),\n",
    "                        ('ridge', ridge\n",
    "                        )])\n",
    "\n",
    "\n",
    "# on fit la meilleur pipe sur toute nos données de train\n",
    "model_final.fit(X, y)"
   ]
  },
  {
   "cell_type": "code",
   "execution_count": 276,
   "metadata": {},
   "outputs": [
    {
     "name": "stdout",
     "output_type": "stream",
     "text": [
      "RMSE on training data:  2.585471066714785\n"
     ]
    },
    {
     "data": {
      "text/html": [
       "<div>\n",
       "<style scoped>\n",
       "    .dataframe tbody tr th:only-of-type {\n",
       "        vertical-align: middle;\n",
       "    }\n",
       "\n",
       "    .dataframe tbody tr th {\n",
       "        vertical-align: top;\n",
       "    }\n",
       "\n",
       "    .dataframe thead th {\n",
       "        text-align: right;\n",
       "    }\n",
       "</style>\n",
       "<table border=\"1\" class=\"dataframe\">\n",
       "  <thead>\n",
       "    <tr style=\"text-align: right;\">\n",
       "      <th></th>\n",
       "      <th>Actual</th>\n",
       "      <th>Predicted</th>\n",
       "    </tr>\n",
       "  </thead>\n",
       "  <tbody>\n",
       "    <tr>\n",
       "      <th>637</th>\n",
       "      <td>7.50</td>\n",
       "      <td>5.649141</td>\n",
       "    </tr>\n",
       "    <tr>\n",
       "      <th>665</th>\n",
       "      <td>6.25</td>\n",
       "      <td>5.309654</td>\n",
       "    </tr>\n",
       "    <tr>\n",
       "      <th>250</th>\n",
       "      <td>0.10</td>\n",
       "      <td>3.402927</td>\n",
       "    </tr>\n",
       "    <tr>\n",
       "      <th>513</th>\n",
       "      <td>6.35</td>\n",
       "      <td>5.655560</td>\n",
       "    </tr>\n",
       "    <tr>\n",
       "      <th>449</th>\n",
       "      <td>7.20</td>\n",
       "      <td>4.297518</td>\n",
       "    </tr>\n",
       "  </tbody>\n",
       "</table>\n",
       "</div>"
      ],
      "text/plain": [
       "     Actual  Predicted\n",
       "637    7.50   5.649141\n",
       "665    6.25   5.309654\n",
       "250    0.10   3.402927\n",
       "513    6.35   5.655560\n",
       "449    7.20   4.297518"
      ]
     },
     "execution_count": 276,
     "metadata": {},
     "output_type": "execute_result"
    }
   ],
   "source": [
    "# use trained RidgeCV regression model to predict interest rates of training and test data\n",
    "\n",
    "y_pred = model_final.predict(X_test)\n",
    "df_model_final = pd.DataFrame({'Actual': y_test, 'Predicted': y_pred})\n",
    "\n",
    "# print RMSE of training predictions\n",
    "print('RMSE on training data: ', np.sqrt(mean_squared_error(y_test, y_pred)))\n",
    "df_model_final.tail()"
   ]
  },
  {
   "cell_type": "markdown",
   "metadata": {},
   "source": [
    "# Sum up :\n",
    "##  Dataset Size\n",
    "\n",
    "The other big consideration to bear in mind is the dataset size. Fixing our model, the fewer samples we have in the training dataset, the more likely (and more severely) we are to encounter overfitting. As we increase the amount of training data, the generalization error typically decreases. Moreover, in general, more data never hurt. For a fixed task and data distribution, there is typically a relationship between model complexity and dataset size. Given more data, we might profitably attempt to fit a more complex model. Absent sufficient data, simpler models may be more difficult to beat. For many tasks, deep learning only outperforms linear models when many thousands of training examples are available. \n",
    "# Underfitting \n",
    "\n",
    "Underfitting is a modeling error which occurs when a function does not fit the data points well enough. It is the result of a simple model with an insufficient number of training points. A model that is under fitted is inaccurate because the trend does not reflect the reality of the data.\n",
    "Handling Underfitting:\n",
    "\n",
    "    Get more training data.\n",
    "    Increase the size or number of parameters in the model.\n",
    "    Increase the complexity of the model.\n",
    "    Increasing the training time, until cost function is minimised.\n",
    "\n",
    "With these techniques, you should be able to improve your models and correct any overfitting or underfitting issues.\n",
    "# Prefer Confidence Intervals to Point Estimates with use of synthetic samples\n",
    "**Regression problem to a Classification problem**"
   ]
  }
 ],
 "metadata": {
  "kernelspec": {
   "display_name": "Python 3",
   "language": "python",
   "name": "python3"
  },
  "language_info": {
   "codemirror_mode": {
    "name": "ipython",
    "version": 3
   },
   "file_extension": ".py",
   "mimetype": "text/x-python",
   "name": "python",
   "nbconvert_exporter": "python",
   "pygments_lexer": "ipython3",
   "version": "3.7.6"
  }
 },
 "nbformat": 4,
 "nbformat_minor": 4
}
